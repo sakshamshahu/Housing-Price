{
 "cells": [
  {
   "cell_type": "code",
   "id": "initial_id",
   "metadata": {
    "collapsed": true,
    "ExecuteTime": {
     "end_time": "2024-04-18T06:07:14.141988Z",
     "start_time": "2024-04-18T06:07:13.844610Z"
    }
   },
   "source": "import pandas as pd\n",
   "outputs": [],
   "execution_count": 1
  },
  {
   "metadata": {
    "ExecuteTime": {
     "end_time": "2024-04-18T06:07:15.811115Z",
     "start_time": "2024-04-18T06:07:15.081772Z"
    }
   },
   "cell_type": "code",
   "source": "data = pd.read_csv('/Users/akshatsharma/UPES/Sem 6/AI_Applications/Housing-Price/data/raw/whole_data/realtor-data.zip.csv')",
   "id": "cce301577cba2fc9",
   "outputs": [],
   "execution_count": 2
  },
  {
   "metadata": {
    "ExecuteTime": {
     "end_time": "2024-04-18T06:07:16.349480Z",
     "start_time": "2024-04-18T06:07:16.343403Z"
    }
   },
   "cell_type": "code",
   "source": "data.shape",
   "id": "f1d4c85dd44dcb34",
   "outputs": [
    {
     "data": {
      "text/plain": [
       "(1401066, 10)"
      ]
     },
     "execution_count": 3,
     "metadata": {},
     "output_type": "execute_result"
    }
   ],
   "execution_count": 3
  },
  {
   "metadata": {
    "ExecuteTime": {
     "end_time": "2024-04-18T06:07:17.676968Z",
     "start_time": "2024-04-18T06:07:17.545874Z"
    }
   },
   "cell_type": "code",
   "source": "data.info()",
   "id": "64a1cd5c7b9fc123",
   "outputs": [
    {
     "name": "stdout",
     "output_type": "stream",
     "text": [
      "<class 'pandas.core.frame.DataFrame'>\n",
      "RangeIndex: 1401066 entries, 0 to 1401065\n",
      "Data columns (total 10 columns):\n",
      " #   Column          Non-Null Count    Dtype  \n",
      "---  ------          --------------    -----  \n",
      " 0   status          1401066 non-null  object \n",
      " 1   bed             1184538 non-null  float64\n",
      " 2   bath            1206853 non-null  float64\n",
      " 3   acre_lot        1043599 non-null  float64\n",
      " 4   city            1400875 non-null  object \n",
      " 5   state           1401066 non-null  object \n",
      " 6   zip_code        1400587 non-null  float64\n",
      " 7   house_size      950954 non-null   float64\n",
      " 8   prev_sold_date  714773 non-null   object \n",
      " 9   price           1400958 non-null  float64\n",
      "dtypes: float64(6), object(4)\n",
      "memory usage: 106.9+ MB\n"
     ]
    }
   ],
   "execution_count": 4
  },
  {
   "metadata": {
    "ExecuteTime": {
     "end_time": "2024-04-17T19:26:52.733175Z",
     "start_time": "2024-04-17T19:26:52.447324Z"
    }
   },
   "cell_type": "code",
   "source": "data.describe()",
   "id": "7155d8e661df8db9",
   "outputs": [
    {
     "data": {
      "text/plain": [
       "                bed          bath      acre_lot      zip_code    house_size  \\\n",
       "count  1.184538e+06  1.206853e+06  1.043599e+06  1.400587e+06  9.509540e+05   \n",
       "mean   3.392347e+00  2.487426e+00  3.215013e+01  8.356641e+03  2.178643e+03   \n",
       "std    2.051858e+00  1.873599e+00  1.249983e+03  4.130465e+03  3.492618e+03   \n",
       "min    1.000000e+00  1.000000e+00  0.000000e+00  6.010000e+02  4.000000e+00   \n",
       "25%    2.000000e+00  2.000000e+00  1.200000e-01  5.652000e+03  1.170000e+03   \n",
       "50%    3.000000e+00  2.000000e+00  3.200000e-01  8.757000e+03  1.700000e+03   \n",
       "75%    4.000000e+00  3.000000e+00  1.340000e+00  1.142600e+04  2.500000e+03   \n",
       "max    1.230000e+02  1.980000e+02  1.000000e+05  9.999900e+04  1.450112e+06   \n",
       "\n",
       "              price  \n",
       "count  1.400958e+06  \n",
       "mean   8.186029e+05  \n",
       "std    2.683069e+06  \n",
       "min    0.000000e+00  \n",
       "25%    2.350000e+05  \n",
       "50%    4.467770e+05  \n",
       "75%    7.950000e+05  \n",
       "max    8.750000e+08  "
      ],
      "text/html": [
       "<div>\n",
       "<style scoped>\n",
       "    .dataframe tbody tr th:only-of-type {\n",
       "        vertical-align: middle;\n",
       "    }\n",
       "\n",
       "    .dataframe tbody tr th {\n",
       "        vertical-align: top;\n",
       "    }\n",
       "\n",
       "    .dataframe thead th {\n",
       "        text-align: right;\n",
       "    }\n",
       "</style>\n",
       "<table border=\"1\" class=\"dataframe\">\n",
       "  <thead>\n",
       "    <tr style=\"text-align: right;\">\n",
       "      <th></th>\n",
       "      <th>bed</th>\n",
       "      <th>bath</th>\n",
       "      <th>acre_lot</th>\n",
       "      <th>zip_code</th>\n",
       "      <th>house_size</th>\n",
       "      <th>price</th>\n",
       "    </tr>\n",
       "  </thead>\n",
       "  <tbody>\n",
       "    <tr>\n",
       "      <th>count</th>\n",
       "      <td>1.184538e+06</td>\n",
       "      <td>1.206853e+06</td>\n",
       "      <td>1.043599e+06</td>\n",
       "      <td>1.400587e+06</td>\n",
       "      <td>9.509540e+05</td>\n",
       "      <td>1.400958e+06</td>\n",
       "    </tr>\n",
       "    <tr>\n",
       "      <th>mean</th>\n",
       "      <td>3.392347e+00</td>\n",
       "      <td>2.487426e+00</td>\n",
       "      <td>3.215013e+01</td>\n",
       "      <td>8.356641e+03</td>\n",
       "      <td>2.178643e+03</td>\n",
       "      <td>8.186029e+05</td>\n",
       "    </tr>\n",
       "    <tr>\n",
       "      <th>std</th>\n",
       "      <td>2.051858e+00</td>\n",
       "      <td>1.873599e+00</td>\n",
       "      <td>1.249983e+03</td>\n",
       "      <td>4.130465e+03</td>\n",
       "      <td>3.492618e+03</td>\n",
       "      <td>2.683069e+06</td>\n",
       "    </tr>\n",
       "    <tr>\n",
       "      <th>min</th>\n",
       "      <td>1.000000e+00</td>\n",
       "      <td>1.000000e+00</td>\n",
       "      <td>0.000000e+00</td>\n",
       "      <td>6.010000e+02</td>\n",
       "      <td>4.000000e+00</td>\n",
       "      <td>0.000000e+00</td>\n",
       "    </tr>\n",
       "    <tr>\n",
       "      <th>25%</th>\n",
       "      <td>2.000000e+00</td>\n",
       "      <td>2.000000e+00</td>\n",
       "      <td>1.200000e-01</td>\n",
       "      <td>5.652000e+03</td>\n",
       "      <td>1.170000e+03</td>\n",
       "      <td>2.350000e+05</td>\n",
       "    </tr>\n",
       "    <tr>\n",
       "      <th>50%</th>\n",
       "      <td>3.000000e+00</td>\n",
       "      <td>2.000000e+00</td>\n",
       "      <td>3.200000e-01</td>\n",
       "      <td>8.757000e+03</td>\n",
       "      <td>1.700000e+03</td>\n",
       "      <td>4.467770e+05</td>\n",
       "    </tr>\n",
       "    <tr>\n",
       "      <th>75%</th>\n",
       "      <td>4.000000e+00</td>\n",
       "      <td>3.000000e+00</td>\n",
       "      <td>1.340000e+00</td>\n",
       "      <td>1.142600e+04</td>\n",
       "      <td>2.500000e+03</td>\n",
       "      <td>7.950000e+05</td>\n",
       "    </tr>\n",
       "    <tr>\n",
       "      <th>max</th>\n",
       "      <td>1.230000e+02</td>\n",
       "      <td>1.980000e+02</td>\n",
       "      <td>1.000000e+05</td>\n",
       "      <td>9.999900e+04</td>\n",
       "      <td>1.450112e+06</td>\n",
       "      <td>8.750000e+08</td>\n",
       "    </tr>\n",
       "  </tbody>\n",
       "</table>\n",
       "</div>"
      ]
     },
     "execution_count": 12,
     "metadata": {},
     "output_type": "execute_result"
    }
   ],
   "execution_count": 12
  },
  {
   "metadata": {
    "ExecuteTime": {
     "end_time": "2024-04-17T19:29:18.275261Z",
     "start_time": "2024-04-17T19:29:18.200559Z"
    }
   },
   "cell_type": "code",
   "source": [
    "print(\"for status\")\n",
    "print(data['status'].nunique())\n",
    "print(data['status'].unique())"
   ],
   "id": "795d7b07dc881555",
   "outputs": [
    {
     "name": "stdout",
     "output_type": "stream",
     "text": [
      "for status\n",
      "2\n",
      "['for_sale' 'ready_to_build']\n"
     ]
    }
   ],
   "execution_count": 13
  },
  {
   "metadata": {
    "ExecuteTime": {
     "end_time": "2024-04-17T19:30:30.493520Z",
     "start_time": "2024-04-17T19:30:30.470240Z"
    }
   },
   "cell_type": "code",
   "source": [
    "print(\"for bed\")\n",
    "print(data['bed'].min())\n",
    "print(data['bed'].max())"
   ],
   "id": "fcd93b37e06aa2f3",
   "outputs": [
    {
     "name": "stdout",
     "output_type": "stream",
     "text": [
      "for bed\n",
      "1.0\n",
      "123.0\n"
     ]
    }
   ],
   "execution_count": 14
  },
  {
   "metadata": {
    "ExecuteTime": {
     "end_time": "2024-04-17T19:31:10.790477Z",
     "start_time": "2024-04-17T19:31:10.759767Z"
    }
   },
   "cell_type": "code",
   "source": [
    "print(\"for bath\")\n",
    "print(data['bath'].min())\n",
    "print(data['bath'].max())"
   ],
   "id": "c6a542f52c1b17bc",
   "outputs": [
    {
     "name": "stdout",
     "output_type": "stream",
     "text": [
      "for bath\n",
      "1.0\n",
      "198.0\n"
     ]
    }
   ],
   "execution_count": 15
  },
  {
   "metadata": {
    "ExecuteTime": {
     "end_time": "2024-04-17T19:33:57.567051Z",
     "start_time": "2024-04-17T19:33:57.528913Z"
    }
   },
   "cell_type": "code",
   "source": [
    "print(\"for house_size\")\n",
    "print(data['house_size'].min())\n",
    "print(data['house_size'].max())"
   ],
   "id": "7b164fe783341d15",
   "outputs": [
    {
     "name": "stdout",
     "output_type": "stream",
     "text": [
      "for house_size\n",
      "4.0\n",
      "1450112.0\n"
     ]
    }
   ],
   "execution_count": 16
  },
  {
   "metadata": {
    "ExecuteTime": {
     "end_time": "2024-04-17T19:34:44.059043Z",
     "start_time": "2024-04-17T19:34:44.025202Z"
    }
   },
   "cell_type": "code",
   "source": [
    "print(\"for acre lot\")\n",
    "print(data['acre_lot'].min())\n",
    "print(data['acre_lot'].max())"
   ],
   "id": "8053917e8f8883d7",
   "outputs": [
    {
     "name": "stdout",
     "output_type": "stream",
     "text": [
      "for acre lot\n",
      "0.0\n",
      "100000.0\n"
     ]
    }
   ],
   "execution_count": 17
  },
  {
   "metadata": {
    "ExecuteTime": {
     "end_time": "2024-04-17T19:57:53.134985Z",
     "start_time": "2024-04-17T19:57:52.996841Z"
    }
   },
   "cell_type": "code",
   "source": [
    "states_to_predict = ['Connecticut', 'Delaware', 'Maine', 'New Hampshire', 'New Jersey', 'New York', 'Pennsylvania', 'Puerto Rico', 'Rhode Island', 'Vermont', 'Virgin Island']\n",
    "\n",
    "data_filtered  = data[data['state'].isin(states_to_predict)]\n",
    "cities_to_predict = data_filtered['city'].unique()\n",
    "print(list(cities_to_predict))"
   ],
   "id": "d3145be4a8c892a4",
   "outputs": [
    {
     "name": "stdout",
     "output_type": "stream",
     "text": [
      "['Adjuntas', 'Juana Diaz', 'Ponce', 'Mayaguez', 'San Sebastian', 'Ciales', 'Las Marias', 'Isabela', 'Lares', 'Utuado', 'Yauco', 'Anasco', 'Moca', 'Coamo', 'Guayanilla', 'Manati', 'Villalba', 'Santa Isabel', 'Penuelas', 'Hatillo', 'Aguada', 'Rincon', 'Aguadilla', 'Maricao', 'Hormigueros', 'Guanica', 'Cabo Rojo', 'San German', 'Lajas', 'Arecibo', 'Camuy', 'Morovis', 'Barceloneta', 'Quebradillas', 'Vega Baja', 'Caguas', 'Dorado', 'Toa Baja', 'Toa Alta', 'Vega Alta', 'Corozal', 'Naranjito', 'Boqueron', 'Carolina', 'Sabana Grande', 'Canovanas', 'Jayuya', 'Trujillo Alto', 'Florida', 'Las Piedras', 'Juncos', 'Orocovis', 'Barranquitas', 'Fajardo', 'Comerio', 'Manatí', 'Aibonito', 'Sabana Hoyos', 'Catano', 'San Juan', 'Guaynabo', 'Guayama', 'Gurabo', 'Aguas Buenas', 'San Lorenzo', 'Bayamon', 'Cayey', 'Cidra', 'Arroyo', 'Patillas', 'Loiza', 'Maunabo', 'Humacao', 'Yabucoa', 'Naguabo', 'Salinas', 'Bayamón', 'Old San Juan', 'Rio Grande', 'Ceiba', 'Santurce', 'Luquillo', 'Vieques', 'Culebra', 'Isla Verde', 'Hato Rey', 'Condado', 'Rio Piedras', 'Willington', 'Coventry', 'East Windsor', 'Vernon', 'Manchester', 'South Windsor', 'Ellington', 'Stafford', 'Enfield', 'Windsor Locks', 'Andover', 'Fitzwilliam', 'Tolland', 'Bolton', 'Somers', 'Hebron', 'Marlborough', 'Granby', 'Readsboro', 'Barkhamsted', 'Winchester', 'East Granby', 'Suffield', 'Norfolk', 'North Canaan', 'Colebrook', 'Goshen', 'Windsor', 'Simsbury', 'Canaan', 'Canton', 'Plainville', 'Avon', 'Farmington', 'New Hartford', 'Bloomfield', 'Burlington', 'Bristol', 'Whitingham', 'Berlin', 'Southington', 'Mansfield', 'Columbia', 'East Hampton', 'East Hartford', 'Storrs', 'Glastonbury', 'Richmond', 'Stafford Springs', 'Troy', 'Union', 'Hinsdale', 'Guilford', 'Stamford', 'Pownal', 'Halifax', 'Eastford', 'Ashford', 'Torrington', 'Brooklyn', 'Woodstock', 'Chaplin', 'Pomfret', 'Thompson', 'Hampton', 'Woodford', 'Searsburg', 'Bennington', 'Putnam', 'Killingly', 'Harwinton', 'West Hartford', 'Hartford', 'Windham', 'Lebanon', 'East Haddam', 'Durham', 'Wethersfield', 'New Britain', 'Newington', 'Middletown', 'Claverack', 'Copake', 'Hillsdale', 'Millerton', 'Salisbury', 'Sharon', 'Austerlitz', 'Nassau', 'Hoosick Falls', 'East Chatham', 'Valatie', 'Watertown', 'Niverville', 'Kinderhook', 'Philmont', 'Bethlehem', 'Litchfield', 'Pittstown', 'Morris', 'Schodack Landing', 'New Lebanon', 'Thomaston', 'Taghkanic', 'Stephentown', 'Grafton', 'Hoosick', 'Craryville', 'Washington', 'Copake Falls', 'Sand Lake', 'Chatham', 'Cornwall', 'Petersburgh', 'Caroga', 'Ancram', 'East Nassau', 'Woodbury', 'Poestenkill', 'White Creek', 'Ghent', 'Chatham Village', 'Warren', 'Ancramdale', 'Nassau Village', 'Winhall', 'Northeast', 'Greenville', 'Spencertown', 'Brunswick', 'Middlebury', 'East Greenbush', 'Old Chatham', 'Hudson', 'Johnsonville', 'Wilmington', 'Colchester', 'Cromwell', 'Portland', 'Wallingford', 'Rocky Hill', 'Haddam', 'Meriden', 'North Branford', 'Middlefield', 'Marlboro', 'Madison', 'Elizaville', 'Wassaic', 'Kent', 'Millbrook', 'Amenia', 'Dover Plains', 'Clinton Corners', 'Red Hook', 'Stanfordville', 'Wingdale', 'Dover', 'Pine Plains', 'Gallatin', 'Milan', 'Stanford', nan, 'Malden On Hudson', 'Salt Point', 'Brattleboro', 'Chesterfield', 'Keene', 'Swanzey', 'Putney', 'Jaffrey', 'Westmoreland', 'Sullivan', 'Gilsum', 'Surry', 'Rindge', 'Dublin', 'Westminster', 'Peterborough', 'Dummerston', 'Harrisville', 'Nelson', 'Newfane', 'Wardsboro', 'Temple', 'Pelham', 'Nashua', 'Hollis', 'New Ipswich', 'Mason', 'Brookline', 'Milford', 'Wilton', 'Londonderry', 'Amherst', 'Bedford', 'Weare', 'Hillsborough', 'Lyndeborough', 'Francestown', 'Antrim', 'Mont Vernon', 'Deering', 'New Boston', 'Hancock', 'Greenfield', 'Merrimack', 'Derry', 'Salem', 'Burrillville', 'Woonsocket', 'North Smithfield', 'Plaistow', 'Lyme', 'Scotland', 'Bozrah', 'Glocester', 'Providence', 'Warwick', 'Cranston', 'East Providence', 'North Providence', 'Johnston', 'Lincoln', 'North Kingstown', 'West Warwick', 'Pawtucket', 'Scituate', 'Cumberland', 'Plainfield', 'Barrington', 'Smithfield', 'West Greenwich', 'Sterling', 'Foster', 'Central Falls', 'East Greenwich', 'Voluntown', 'Hopkinton', 'Jamestown', 'North Stonington', 'Exeter', 'Portsmouth', 'South Kingstown', 'Seabrook', 'Kingston', 'Hampstead', 'Brentwood', 'East Kingston', 'Atkinson', 'Fremont', 'Stratham', 'Danville', 'Raymond', 'Sandown', 'South Hampton', 'Kensington', 'Epping', 'Newton', 'North Hampton', 'Rye', 'Hampton Falls', 'Tiverton', 'Little Compton', 'Newport', 'Narragansett', 'Block Island', 'Westerly', 'Stonington', 'Griswold', 'Groton', 'Ledyard', 'Charlestown', 'Preston', 'Mystic', 'Montauk', 'Southold', 'Norwich', 'Canterbury', 'Lisbon', 'Sprague', 'Auburn', 'Chester', 'Goffstown', 'Hooksett', 'Candia', 'Loudon', 'Allenstown', 'Northwood', 'Nottingham', 'Concord', 'Deerfield', 'Stoddard', 'Henniker', 'Eliot', 'Newmarket', 'Dunbarton', 'Warner', 'Bow', 'Pembroke', 'Epsom', 'Chichester', 'Lee', 'Newfields', 'Sutton', 'New Hampshire 03457', 'Marlow', 'Bradford', 'Webster', 'Madbury', 'Boscawen', 'Strafford', 'Franklin', 'Gilmanton', 'Belmont', 'Northfield', 'Sanbornton', 'Pittsfield', 'Barnstead', 'Tilton', 'Laconia', 'Campton', 'Hill', 'Gilford', 'Waterville Valley', 'Ashland', 'Rumney', 'Plymouth', 'New Hampton', 'Meredith', 'Moultonborough', 'Alton', 'Bridgewater', 'Alexandria', 'New Durham', 'Thornton', 'Tuftonboro', 'Wolfeboro', 'Sandwich', 'Ossipee', 'Danbury', 'New London', 'Grantham', 'Newbury', 'Dorchester', 'Sunapee', 'Croydon', 'Rochester', 'Wilmot', 'Tamworth', 'Holderness', 'Springfield', 'Orange', 'Wentworth', 'Freedom', 'Effingham', 'Haverhill', 'Piermont', 'Benton', 'Cornish', 'Hanover', 'Conway', 'Bartlett', 'Eaton', 'Albany', 'Jackson', 'Hales Location', 'Middleton', 'Milton', 'Lyman', 'Sugar Hill', 'Bath', 'Acworth', 'Walpole', 'Orford', 'Thetford', 'Claremont', 'Unity', 'Easton', 'Franconia', 'Wells River', 'Alstead', 'Fairlee', 'Langdon', 'Lempster', 'Topsham', 'West Fairlee', 'Ryegate', 'Corinth', 'Somersworth', 'Saco', 'Wakefield', 'Berwick', 'Rockingham', 'Weathersfield', 'Rollinsford', 'Acton', 'Littleton', 'Athens', 'Carroll', 'Dalton', 'Whitefield', 'Jefferson', 'Stewartstown', 'Cambridge', 'Errol', 'Millsfield', 'Clarksville', 'Bethel', 'Gorham', 'Dummer', 'Pittsburg', 'Newry', 'Shelburne', 'Northumberland', 'Stark', 'Lancaster', 'Lunenburg', 'Lyndon', 'Waterford', 'Saint Johnsbury', 'Stratford', 'East Haven', 'Randolph', 'Fryeburg', 'Lemington', 'Rangeley', 'Guildhall', 'Barnet', 'Kirby', 'Peacham', 'Walden', 'Marshfield', 'Victory', 'Brighton', 'Newark', 'Warren Gore', 'Averill', 'Cabot', 'Monroe', 'Wheelock', 'West Windsor', 'Hartland', 'Tunbridge', 'Cavendish', 'Baltimore', 'Vershire', 'Royalton', 'Reading', 'Townshend', 'Burke', 'Brookfield', 'Newfield', 'Parsonsfield', 'Brownfield', 'New Castle', 'Kittery', 'South Berwick', 'York', 'Bridgton', 'Stoneham', 'Sweden', 'Lovell', 'North Berwick', 'Waterboro', 'Sanford', 'Shapleigh', 'Limington', 'Wells', 'Ogunquit', 'Kennebunk', 'Hiram', 'Denmark', 'Limerick', 'Baldwin', 'Alfred', 'Springvale', 'Arundel', 'Van Buren', 'Harpswell', 'Cape Elizabeth', 'Georgetown', 'Phippsburg', 'Woolwich', 'Scarborough', 'West Bath', 'South Portland', 'Biddeford', 'Dayton', 'Old Orchard Beach', 'Westbrook', 'Bowdoinham', 'Gardiner', 'Monmouth', 'Hallowell', 'Pittston', 'Lewiston', 'Winthrop', 'Yarmouth', 'Freeport', 'Augusta', 'West Gardiner', 'Standish', 'Sebago', 'Casco', 'Chebeague Island', 'Naples', 'Harrison', 'Frye Island', 'Buxton', 'Sabattus', 'Wales', 'Wiscasset', 'Newcastle', 'Hollis Center', 'New Gloucester', 'Gray', 'Poland', 'Falmouth', 'North Yarmouth', 'Farmingdale', 'Westport Island', 'Edgecomb', 'Dresden', 'Chelsea', 'Bowdoin', 'Kennebunkport', 'Oxford', 'Norway', 'Porter', 'Mechanic Falls', 'Boothbay', 'Turner', 'Paris', 'Boothbay Harbor', 'Southport', 'Greene', 'Minot', 'West Paris', 'Sumner', 'Milton Township', 'Rumford', 'Mexico', 'Peru', 'Buckfield', 'Livermore Falls', 'Livermore', 'New Vineyard', 'Wayne', 'Dixfield', 'Fayette', 'Chesterville', 'Vienna', 'Industry', 'Carthage', 'Jay', 'Weld', 'Mount Vernon', 'Gilead', 'New Sharon', 'Rome', 'Readfield', 'Greenwood', 'Upton', 'Belgrade', 'Starks', 'Leeds', 'Otisfield', 'Byron', 'Sandy River Plt', 'Dallas Plt', 'Rangeley Plt', 'Oakland', 'Sidney', 'Coplin Plt', 'Phillips', 'Madrid Twp', 'Strong', 'Perkins Township', 'Somerville', 'Skowhegan', 'Fairfield', 'Waterville', 'Winslow', 'Anson', 'Norridgewock', 'China', 'Nobleboro', 'South Bristol', 'Damariscotta', 'Vassalboro', 'Clinton', 'Palermo', 'Liberty', 'Waldoboro', 'Appleton', 'Dixmont', 'Bangor', 'Glenburn', 'Hermon', 'Veazie', 'Blanchard Township', 'Abbot', 'Wellington', 'Dexter', 'Dover Foxcroft', 'Garland', 'Monson', 'Parkman', 'Kingsbury Plt', 'East Moxie Township', 'Bowerbank', 'Great Pond', 'Eastbrook', 'Clifton', 'Greenbush', 'Passadumkeag', 'Lamoine', 'Ellsworth', 'Otis', 'Waltham', 'Sorrento', 'Howland', 'Milo', 'Orono', 'Old Town', 'Medford', 'Lake View Plt', 'Charleston', 'Kenduskeag', 'Sebec', 'Etna', 'Bradley', 'Brewer', 'Eddington', 'Dedham', 'Orrington', 'Brookton', 'Forest City Township', 'Weston', 'Topsfield', 'Lakeville', 'Danforth', 'Brownville', 'Ebeemee Township', 'Williamsburg Township', 'Millinocket', 'T3 Indian Purchase Township', 'Northeast Carry Township', 'Montville', 'Greenfield Township', 'T10 Sd', 'Maine', 'Beddington', 'Trenton', 'Holden', 'Lagrange', 'Levant', 'T1 R9 Wels', 'T3 R9 Nwp', 'Orneville Township', 'Stetson', 'Argyle Township', 'Hope', 'Searsmont', 'Cornville', 'Thorndike', 'Brooks', 'Bucksport', 'Verona Island', 'Winn', 'Grand Falls Township', 'Carmel', 'Hampden', 'Frankfort', 'Winterport', 'Castine', 'Lincolnville', 'Belfast', 'Vinalhaven', 'Orland', 'Penobscot', 'Deer Isle', 'Searsport', 'Camden', 'North Haven', 'Blue Hill', 'Islesboro', 'Corinna', 'Saint Albans', 'East Millinocket', 'Medway', 'Woodville', 'Mattawamkeag', 'Detroit', 'Swanville', 'Newburgh', 'Prospect', 'Stockton Springs', 'Morrill', 'Northport', 'Brooksville', 'Rockland', 'Sedgwick', 'Rockport', 'Palmyra', 'Owls Head', 'T3 R12 Wels', 'Beaver Cove', 'Big Moose Township', 'Moosehead Junction Township', 'Rockwood T1 R1 Nbkp', 'Elliottsville Township', 'Maxfield', 'Edinburg', 'Stacyville', 'Kingman Township', 'Macwahoc Plt', 'Patten', 'Island Falls', 'Sherman', 'Crystal', 'Haynesville', 'Calais', 'T3 R1 Nbpp', 'Molunkus Township', 'Grindstone Twp', 'T5 R7 Wels', 'Benedicta', 'Mount Chase', 'Amity', 'Cary Plt', 'Orient', 'Houlton', 'Smyrna Mills', 'Hodgdon', 'Linneus', 'Dyer Brook', 'Monticello', 'Oakfield', 'Kineo Township', 'Northeast Carry', 'Misery Township', 'Tomhegan Twp', 'Upper Enchanted Township', 'Jackman', 'Caratunk', 'Sangerville', 'Harmony', 'Shirley', 'Prentiss Township T7 R3 Nbpp', 'Carroll Plt', 'T6 R1 Nbpp', 'Greenlaw Chopping Twp', 'Grand Lake Stream', 'Grand Lake Stream Plt', 'New Limerick', 'Merrill', 'Brooklin', 'Waite', 'Princeton', 'Baileyville', 'Alexander', 'Lowell', 'Glenwood Plt', 'Ta R2 Wels', 'Arrowsic', 'Alna', 'Cushing', 'Friendship', 'Saint George', 'Bremen', 'South Thomaston', 'Mariaville', 'Addison', 'Gouldsboro', 'Tremont', 'Bar Harbor', 'Swans Island', 'Cranberry Isles', 'Mount Desert', 'Frenchboro', 'Southwest Harbor', 'Cherryfield', 'Harrington', 'Milbridge', 'Steuben', 'Winter Harbor', 'Columbia Falls', 'Jonesport', 'Beals', 'Fletchers Landing Township', 'Cutler', 'Machias', 'East Machias', 'Whitneyville', 'Machiasport', 'Roque Bluffs', 'Jonesboro', 'Lubec', 'Whiting', 'Eastport', 'Trescott Township', 'Isle Au Haut', 'Edmunds Township', 'Dennysville', 'Marion Township', 'Cathance Township', 'Baring Plt', 'Cooper', 'Meddybemps', 'Crawford', 'Robbinston', 'Perry', 'Big Lake Township', 'Wesley', 'Masardis', 'Chapman', 'Washburn', 'Eagle Lake', 'Mapleton', 'Winterville Plt', 'Presque Isle', 'Wade', 'Woodland', 'Cross Lake Township', 'Portage Lake', 'Castle Hill', 'Perham', 'Sinclair', 'Westmanland', 'New Sweden', 'Blaine', 'Westfield', 'Mars Hill', 'Caribou', 'Connor Township', 'T13 R8 Wels', 'Limestone', 'Fort Fairfield', 'Fort Kent', 'New Canada', 'Saint John Plt', 'Hersey', 'Caswell', 'Grand Isle', 'Madawaska', 'T11 R4 Wels', 'Frenchville', 'Saint Agatha', 'Wallagrass', 'Hamlin', 'T8 R7 Wels', 'Allagash', 'Saint Francis', 'Silver Ridge Township', 'Herseytown Township', 'Madawaska Lake Township', 'Matinicus Isle Plt', 'Monhegan Island Plt', 'Albion', 'Bingham', 'Solon', 'Moscow', 'Pleasant Ridge Plt', 'Concord Township', 'Carrying Place Town Township', 'Carrabassett Valley', 'New Portland', 'Embden', 'Burnham', 'Kingfield', 'Salem Township', 'Ripley', 'Eustis', 'T3 R4 Bkp Wkr', 'Freeman Township', 'Lexington Township', 'Flagstaff Township', 'Adamstown Township', 'Lincoln Plt', 'Parkertown Township', 'Mercer', 'Stetsontown Township', 'Wyman Township', 'Knox', 'Barnard', 'Stockbridge', 'Killington', 'Mount Holly', 'Ludlow', 'Barre', 'Mendon', 'Shrewsbury', 'Clarendon', 'West Rutland', 'Rutland', 'Rutland Town', 'Montpelier', 'Chittenden', 'Granville', 'Williamstown', 'Fayston', 'Waitsfield', 'Braintree', 'Moretown', 'Middlesex', 'Duxbury', 'East Montpelier', 'Pittsford', 'Waterbury', 'Morristown', 'Hardwick', 'Stannard', 'Worcester', 'Jamaica', 'Stratton', 'Landgrove', 'Danby', 'Greenwich', 'Dorset', 'Middletown Springs', 'Poultney', 'Tinmouth', 'Mount Tabor', 'Sandgate', 'Sunderland', 'Rupert', 'Proctor', 'Arlington', 'Shaftsbury', 'Granville Village', 'Pawlet', 'Jackson Heights', 'Castleton', 'Valley Falls', 'Cambridge Village', 'Fair Haven', 'Whitehall', 'Fort Ann', 'Whitehall Village', 'Argyle', 'Kingsbury', 'Shushan', 'Hudson Falls', 'West Haven', 'South Burlington', 'Winooski', 'Willsboro', 'Essex', 'Jericho', 'Williston', 'Hinesburg', 'South Hero', 'Port Kent', 'Keeseville', 'Underhill', 'Ferrisburgh', 'Panton', 'Schuyler Falls', 'Plattsburgh', 'Alburgh', 'Belvidere', 'Fletcher', 'Enosburg Falls', 'Berkshire', 'Montgomery', 'Fairfax', 'Hyde Park', 'Johnson', 'Charlotte', 'Westport', 'Monkton', 'Richford', 'Bakersfield', 'Eden', 'Sheldon', 'Saint Albans City', 'Georgia', 'Moriah', 'Lewis', 'Vergennes', 'New Haven', 'Starksboro', 'Morrisonville', 'Tupper Lake', 'Clintonville', 'Ausable', 'Westford', 'Saint Albans Town', 'Swanton', 'Chazy', 'Isle La Motte', 'Highgate', 'Port Henry', 'Crown Point', 'Weybridge', 'North Hero', 'Huntington', 'Stowe', 'Mineville', 'Bridport', 'Elizabethtown', 'Witherbee', 'Brandon', 'Sudbury', 'Ticonderoga', 'Shoreham', 'West Chazy', 'Putnam Station', 'Orwell', 'Ripton', 'Benson', 'Leicester', 'Rouses Point', 'Hubbardton', 'Champlain', 'Craftsbury', 'Greensboro', 'Irasburg', 'Glover', 'Sheffield', 'Elmore', 'Wolcott', 'Beekmantown', 'Black Brook', 'Cadyville', 'Orleans', 'Barton', 'Brownington', 'Westmore', 'Schroon Lake', 'Hague', 'Moriah Center', 'North Hudson', 'Derby', 'Newport City', 'Holland', 'Morgan', 'Norton', 'Naugatuck', 'Seymour', 'Branford', 'Woodbridge', 'Hamden', 'Killingworth', 'Deep River', 'Cheshire', 'Bethany', 'Beacon Falls', 'Poughkeepsie', 'Ansonia', 'Shelton', 'East Lyme', 'Old Lyme', 'Uncasville', 'Old Saybrook', 'Greenport', 'East Marion', 'Southbury', 'Mattituck', 'Newtown', 'Bridgeport', 'Trumbull', 'Roxbury', 'New Milford', 'Pawling', 'Patterson', 'Lagrangeville', 'Brewster', 'Poughquag', 'Holmes', 'New Fairfield', 'Hopewell Junction', 'Ridgefield', 'Verbank', 'Redding', 'Newtown Square', 'Staatsburg', 'Ridge', 'Belle Terre', 'Centereach', 'Coram', 'Setauket', 'Miller Place', 'Port Jefferson Station', 'Middle Island', 'Lake Grove', 'Mount Sinai', 'Rocky Point', 'Selden', 'Ronkonkoma', 'Port Jefferson', 'Fishkill', 'Stormville', 'New Windsor', 'Mahopac', 'Putnam Valley', 'Sound Beach', 'Stony Brook', 'Carmel Hamlet', 'South Setauket', 'Old Field', 'Wading River', 'East Setauket', 'Farmingville', 'Riverhead', 'Cos Cob', 'Darien', 'New Canaan', 'Norwalk', 'Old Greenwich', 'Riverside', 'Pound Ridge', 'South Salem', 'Avenel', 'Bayonne', 'Fairfield Twp', 'Rockaway', 'Boonton', 'Boonton Township', 'Par Troy Hills Township', 'Parsippany Troy Hills Township', 'Montville Township', 'West Caldwell', 'Caldwell Boro Township', 'North Caldwell', 'Caldwell', 'Cliffside Park', 'Cranford', 'East Orange', 'Edgewater', 'Fairview', 'Carteret', 'Fort Lee', 'Essex Fells', 'Paterson', 'Union Twp', 'Kearny', 'Dumont', 'Pequannock Township', 'Garfield', 'West Orange', 'Wallington', 'Lincoln Park', 'Montclair', 'Fair Lawn', 'Paramus', 'Saddle Brook', 'Woodland Park', 'City of Orange Township', 'Belleville', 'Fanwood', 'Cedar Grove', 'Middle Village', 'New York City', 'Englewood', 'Bronx', 'Rego Park', 'New York', 'Corona', 'Garwood', 'Irvington', 'Passaic', 'Denville', 'Verona', 'Livingston', 'Florham Park', 'Summit', 'Haworth', 'Hawthorne', 'Little Falls', 'Nutley', 'East Rutherford', 'Township Of Washington', 'Haledon', 'Kinnelon', 'Hillside', 'Lyndhurst', 'Ridgewood Village', 'Hackensack', 'Millburn', 'Old Bridge', 'Lodi', 'Totowa Boro', 'Elmwood Park', 'South Orange Village', 'Teaneck', 'Carlstadt', 'Jersey City', 'Long Island City', 'Union City', 'Glen Rock', 'Maspeth', 'Glendale', 'Manhattan', 'Elmhurst', 'North Bergen', 'West New York', 'Rutherford', 'Tenafly', 'Totowa', 'Queens', 'Woodside', 'Astoria', 'Williamsburg', 'Secaucus', 'Wyckoff', 'Glen Ridge Boro Township', 'Franklin Lakes', 'East Elmhurst', 'Weehawken', 'Hoboken', 'Bed Stuy', 'Bergenfield', 'Guttenberg', 'Ridgefield Park', 'Ridgewood', 'Wood Ridge', 'Sunnyside', 'Midland Park', 'Accord', 'North Haledon', 'North Arlington', 'College Point', 'Rochelle Park', 'Oradell', 'Flushing', 'Cresskill', 'Leonia', 'Prospect Park', 'Mountain Lakes', 'Roseland', 'Little Ferry', 'Crown Heights', 'Moonachie', 'Prosp Leff Gdns', 'Bogota', 'Flatbush', 'Palisades Park', 'Bedstuy Brooklyn', 'Riverdale', 'Pompton Lakes', 'Maywood', 'Glen Ridge', 'Englewood Cliffs', 'River Edge', 'Hasbrouck Heights', 'East Flatbush', 'East Newark', 'South Hackensack', 'East Hanover', 'Waldwick', 'Ridgefield Park Village', 'Stuyvesant Hts', 'Ho Ho Kus', 'Canarsie', 'Parsippany Troy Hills', 'Stuyvesant', 'Westwood', 'Elizabeth City', 'South Orange Village Township', 'Morris Plains', 'Maplewood', 'Hanover Twp', 'Rockaway Boro', 'Morris Twp', 'Emerson', 'Closter', 'Roselle Park', 'Mendham Township', 'Pequannock', 'Elizabeth', 'Chatham Township', 'Hanover Township', 'Jefferson Township', 'Morris Township', 'Kenilworth', 'Linden', 'North Plainfield', 'Port Reading', 'Rahway', 'Clark', 'Colonia', 'Warren Twp', 'Watchung', 'Green Brook', 'Scotch Plains', 'Sewaren', 'South Plainfield', 'Woodhaven', 'Howard Beach', 'Demarest', 'Berkeley Heights Twp', 'Bernards Twp', 'Long Hill Township', 'Staten Island', 'Roselle', 'New Providence', 'Bayville', 'Harding Township', 'Atlantique', 'Brooklyn Heights', 'Mountainside', 'Queens Village North', 'Berkeley Heights', 'Tewksbury Township', 'Basking Ridge', 'South Orange', 'Forest Hills', 'Beechhurst', 'Richmond Hill South', 'Briarwood', 'Kew Gardens Hills', 'Harrington Park', 'Ozone Park', 'Fresh Meadows', 'South Ozone Park', 'Kew Gardens', 'Yonkers', 'Whitestone', 'Bayside', 'Springfield Gardens', 'Old Tappan', 'Norwood', 'Richmond Hill', 'Alpine', 'South Ozone', 'Malba', 'Addisleigh Park', 'River Vale', 'Hillcrest', 'Ny', 'Kew Garden Hills', 'Lindenwood Howard Beach', 'Bronxville', 'Queens Village', 'Douglaston', 'Bloomingdale', 'Oakland Gardens', 'Jamaica Estates', 'Butler', 'Hollis Hills', 'Edison', 'Spotswood', 'North Brunswick Township', 'Franklin Twp', 'East Brunswick', 'Bound Brook', 'South Amboy', 'Piscataway', 'Sayreville', 'Manalapan', 'Hazlet', 'Morganville', 'Woodbridge Proper', 'North Brunswick', 'Somerset', 'Highland Park', 'Laurence Harbor', 'Metuchen', 'New Brunswick', 'Menlo Park Terrace', 'Keyport', 'South Bound Brook', 'Perth Amboy', 'Union Beach', 'Dunellen', 'Milltown', 'Sunset Park', 'Matawan', 'South River', 'Englishtown', 'Fords', 'Holmdel', 'Aberdeen', 'Keasbey', 'Keansburg', 'Bath Beach', 'Piscataway Twp', 'Old Bridge Township', 'Iselin', 'Arden', 'Cliffwood', 'Cliffwood Beach', 'Hopelawn', 'Dunellen Borough', 'Helmetta', 'Jamesburg', 'Monroe Township', 'South Brunswick', 'Huguenot', 'Bridgewater Twp', 'Parlin', 'Dyker Heights', 'Upper Saddle River', 'Saddle River', 'Ramsey', 'Allendale', 'Park Ridge', 'Orangeburg', 'Pearl River', 'Woodcliff Lake', 'Mahwah', 'Montvale', 'Rockaway Beach', 'Rockaway Park', 'Arverne', 'Broad Channel', 'Far Rockaway', 'Belle Harbor', 'Breezy Point', 'Hamburg', 'Hardyston', 'Wanaque', 'West Milford', 'Nyack', 'Nanuet', 'Pomona', 'Landing', 'Mount Arlington', 'Green Township', 'Hopatcong', 'Mount Olive Township', 'Sparta', 'Chester Township', 'Ogdensburg', 'Wantage Township', 'Roxbury Township', 'Byram Township', 'Sandyston', 'Fredon Township', 'Frankford Township', 'Stillwater', 'Ringwood', 'Mine Hill', 'Netcong', 'Stanhope', 'Wharton', 'Frelinghuysen', 'Branchville', 'Lafayette', 'Allamuchy Township', 'Victory Gardens', 'Wantage', 'Sussex', 'Ledgewood', 'Fredon', 'Green Creek', 'Glenwood', 'Tuxedo Park', 'Greenwood Lake', 'Washington Township', 'Pine Island', 'Hillburn', 'Sloatsburg', 'Chester Twp', 'Califon', 'Suffern', 'Sugar Loaf', 'Southfields', 'Harriman', 'Valley Cottage', 'New City', 'Bardonia', 'Palisades', 'West Nyack', 'Dobbs Ferry', 'Croton On Hudson', 'Spring Valley', 'Garnerville', 'Tarrytown', 'Monsey', 'Airmont', 'Blauvelt', 'Stony Point', 'Verplanck', 'Tallman', 'Sparkill', 'Sleepy Hollow', 'Rochdale Village', 'Thiells', 'Ardsley', 'Hastings On Hudson', 'Northvale', 'Chestnut Ridge', 'West Haverstraw', 'Tappan', 'Haverstraw', 'Montebello', 'Congers', 'Rockleigh', 'Montrose', 'Westtown', 'Highland Mills', 'Washingtonville', 'Blooming Grove', 'Tomkins Cove', 'Salisbury Mills', 'Mountainville', 'Central Valley', 'Mamaroneck', 'Tuckahoe', 'Briarcliff Manor', 'White Plains', 'Hartsdale', 'Scarsdale', 'Purchase', 'North Greenbush', 'Elmsford', 'Eastchester', 'West Harrison', 'Valhalla', 'Pleasantville', 'Thornwood', 'Ossining', 'Larchmont', 'Sands Point', 'New Rochelle', 'Port Washington', 'Great Neck', 'Westchester', 'Williambridge', 'Westchester County', 'Manorhaven', 'Rye Brook', 'Red Bank', 'Port Monmouth', 'Howell', 'Neptune Township', 'Eatontown', 'Brick', 'West Long Branch', 'Monmouth Beach', 'Tinton Falls', 'Brielle', 'Freehold', 'Bradley Beach', 'Colts Neck', 'Sea Girt', 'Asbury Park', 'Long Branch', 'Lakewood', 'West Allenhurst', 'Loch Arbour Village', 'Allenhurst', 'Ocean Township', 'Interlaken', 'Atlantic Highlands', 'Avon By The Sea', 'Belford', 'Wall', 'Belmar', 'West Belmar', 'Lake Como', 'Wall Township', 'Deal', 'Point Pleasant', 'Highlands', 'Point Pleasant Beach', 'Oakhurst', 'Lincroft', 'Shrewsbury Township', 'Little Silver', 'Rumson', 'Mantoloking', 'Neptune', 'Manchester Township', 'Allenwood', 'Elberon', 'Ocean Grove', 'Navesink', 'Spring Lake', 'Sea Bright', 'Oceanport', 'Spring Lake Heights', 'Manasquan', 'Neptune City', 'Bay Head', 'Leonardo', 'Point Pleasant Boro', 'New Monmouth', 'Locust', 'Middletown Township', 'Brick Township', 'Toms River', 'North Middletown', 'Marlboro Township', 'Brighton Beach', 'Old Mill Basin', 'Neponsit', 'Hazlet Township', 'Sheepshead Bay', 'Liberty Township', 'Hackettstown', 'Independence Township', 'Blairstown', 'Knowlton', 'Hardwick Twp', 'Montague', 'Budd Lake', 'Bedminster Twp', 'East Stroudsburg', 'Liberty Corner', 'Lower Mt Bethel Township', 'Stroudsburg', 'White Township', 'Stroud Township', 'Upper Mt Bethel Township', 'Bushkill', 'Greeley', 'Long Valley', 'Bernardsville', 'Mendham', 'Peapack Gladstone Boro', 'Dingmans Ferry', 'Shohola', 'Lords Valley', 'Lehman', 'Port Jervis', 'Matamoras', 'Yulan', 'Hawley', 'Lackawaxen', 'Eldred', 'Glen Spey', 'Port Murray', 'Middle Smithfield Township', 'Tamiment', 'Sparrow Bush', 'Mount Bethel', 'Delaware Township', 'Highland Lake', 'Smallwood', 'White Lake', 'Pond Eddy', 'Narrowsburg', 'Pike County', 'Barryville', 'Wildwood Way', 'Delaware Water Gap', 'Kauneonga Lake', 'Cuddebackville', 'Far Hills', 'Morris Plains Boroug', 'East Bangor', 'Harmony Township', 'Glen Gardner', 'High Bridge', 'Clinton Township', 'Bethlehem Township', 'Readington Twp', 'Hillsborough Twp', 'Manville', 'Montgomery Twp', 'Skillman', 'Raritan', 'Franklin Park', 'Branchburg Township', 'Branchburg', 'Whitehouse Station', 'Readington', 'Belle Mead', 'Plainsboro', 'Flemington', 'Kendall Park', 'Monmouth Junction', 'Millstone', 'Pennington', 'Hamilton', 'Lawrenceville', 'Mount Laurel', 'Pine Hill', 'Fairless Hills', 'Delran', 'Beverly', 'Willingboro', 'Lumberton', 'Stockton', 'Cherry Hill', 'Marlton', 'Alloway', 'Pedricktown', 'Bridgeton', 'Woodstown', 'Pennsville', 'Atco', 'Barnegat', 'Barnegat Light', 'Beach Haven', 'Harvey Cedars', 'Long Beach Township', 'Ship Bottom', 'Surf City', 'Barnegat Township', 'Cherry Hill Township', 'Woolwich Township', 'Quinton', 'Vineland', 'Pittsgrove', 'Mullica Hill', 'Swedesboro', 'Elmer', 'Millville', 'Penns Grove', 'Pilesgrove', 'Bear', 'Carneys Point', 'Cedarville', 'Deepwater', 'Monroeville', 'South Harrison Township', 'Hancocks Bridge', 'Fairton', 'Shiloh', 'Delaware City', 'Elsmere', 'Sicklerville', 'Bensalem', 'Columbus', 'Levittown', 'Yardley', 'Ewing', 'Lambertville', 'Westampton', 'New Hope', 'New Jersey', 'West Berlin', 'Langhorne', 'Ringoes', 'Moorestown', 'Ewing Township', 'Hopewell', 'Princeton Township', 'Delaware', 'Lawrence Township', 'Robbinsville', 'Lindenwold', 'Washington Crossing', 'Hainesport', 'Rancocas', 'Gibbsboro', 'Delanco', 'Philadelphia', 'Hightstown', 'Voorhees', 'Alexandria Township', 'Bordentown', 'East Amwell Township', 'Roebling', 'Princeton Junction', 'Eastampton', 'Feasterville Trevose', 'Titusville', 'Maple Shade', 'Cranbury', 'Edgewater Park', 'Hamilton Township', 'Winslow Township', 'Southampton', 'Morrisville', 'Clementon', 'West Amwell', 'Hopewell Township', 'Burlington Township', 'Upper Holland', 'Florence', 'Waterford Township', 'Lawrence', 'Evesham', 'Cinnaminson', 'Mongaup Valley', 'Lumberton Township', 'Kingwood Township', 'Richboro', 'Trevose', 'East Amwell', 'Voorhees Township', 'Frenchtown', 'Swan Lake', 'Hamilton Square', 'Mercerville', 'Hulmeville', 'Pemberton', 'Narberth', 'Aston', 'Franklinville', 'Collingdale', 'Brooklawn', 'Upper Darby', 'Paulsboro', 'Sewell', 'Pennsauken', 'Secane', 'Darby', 'Oreland', 'Browns Mills', 'Burlington City', 'Chatsworth', 'Manahawkin', 'Tabernacle', 'Egg Harbor City', 'Allentown', 'Galloway Township', 'Egg Harbor Township', 'Berkeley', 'Ventnor', 'Margate', 'Margate City', 'Clarksboro', 'East Greenwich Township', 'Gloucester Township', 'Laurel Springs', 'Brigantine', 'Garnet Valley', 'Claymont', 'Chadds Ford', 'Marcus Hook', 'Gibbstown', 'Glassboro', 'Glendora', 'Gloucester City', 'Blackwood', 'Boothwyn', 'Glen Mills', 'Kennett Square', 'West Chester', 'Avondale', 'Hockessin', 'Landenberg', 'Upper Chichester', 'Linwood', 'Port Penn', 'Toughkenamon', 'Hammonton', 'Port Republic', 'Upper Freehold', 'Eagleswood Township', 'Millstone Township', 'Little Egg Harbor', 'Waterford Works', 'West Creek', 'New Egypt', 'Tuckerton', 'Mays Landing', 'Ventnor Heights', 'Atlantic City', 'Shamong', 'Forked River', 'Waretown', 'Lakehurst', 'Absecon Highlands', 'Little Egg Harbor Township', 'Wrightstown', 'Mullica', 'Beach Haven West', 'Egg Harbor', 'Absecon', 'Pine Beach', 'Cream Ridge', 'Galloway', 'Fieldsboro', 'Beachwood', 'Plumsted', 'Smithville', 'Perrineville', 'Clarksburg', 'Stafford Township', 'Lanoka Harbor', 'Cookstown', 'Brigantine City', 'Folsom', 'Jobstown', 'Ventnor City', 'Toms River Township', 'Corbin City', 'Estell Manor', 'Roosevelt', 'Mystic Island', 'Adelphia', 'Chesilhurst', 'Medford Lakes', 'Laureldale', 'Vincentown', 'West Atlantic City', 'Devonshire', 'Weekstown', 'Lacey', 'Weymouth', 'Juliustown', 'Crosswicks', 'Longport', 'Bass River', 'Sweetwater', 'Audubon', 'Sharon Hill', 'Pitman', 'Haddon Heights', 'Media', 'Gladwyne', 'Clifton Heights', 'Haverford', 'Lansdowne', 'Lafayette Hill', 'Brookhaven', 'Wyncote', 'Thorofare', 'Mantua', 'Bellmawr', 'Westville', 'Glenolden', 'Morton', 'Clayton', 'Oaklyn', 'Wenonah', 'Drexel Hill', 'National Park', 'Havertown', 'Conshohocken', 'Rose Valley', 'Broomall', 'Bryn Mawr', 'Folcroft', 'Glenside', 'Elkins Park', 'Haddon Township', 'Deptford', 'Swarthmore', 'Aldan', 'Ambler', 'Ardmore', 'Mickleton', 'Dresher', 'Collingswood', 'Wynnewood', 'Essington', 'Deptford Township', 'West Deptford', 'Mount Royal', 'Fort Washington', 'Jenkintown', 'Villanova', 'Woodlyn', 'Mount Ephraim', 'Cheltenham', 'Abington', 'Runnemede', 'Crum Lynne', 'Westmont', 'Ridley Park', 'Bala Cynwyd', 'Primos', 'Turnersville', 'Woodbury Heights', 'Maple Glen', 'Merion Station', 'Wyndmoor', 'Milmont Park', 'Willow Grove', 'Eagleville', 'Cheyney', 'Flourtown', 'Plymouth Meeting', 'Penn Valley', 'Rydal', 'Chester Heights', 'Merchantville', 'Haddonfield', 'Erdenheim', 'Yeadon', 'Magnolia', 'Radnor', 'Eddystone', 'West Conshohocken', 'West Collingswood Heights', 'Roslyn', 'West Collingswood', 'Gulph Mills', 'Glen Riddle', 'Somerdale', 'Lawnside', 'Upper Deerfield Township', 'Elk Township', 'Franklin Township', 'Townsend', 'Odessa', 'Berwyn', 'Malvern', 'Malaga', 'Erial', 'Paoli', 'Grenloch', 'Devon', 'Riverton', 'Rockledge', 'Huntingdon Valley', 'Landisville', 'Avalon', 'Avalon Manor', 'Woodlynne', 'Buena Vista', 'Shamong Township', 'Buena Vista Township', 'Buena', 'Minotola', 'Newtonville', 'North Cape May', 'Erma', 'Cape May', 'Lower Township', 'Villas', 'West Cape May', 'Cape May Court House', 'South Dennis', 'Whitesboro', 'Ocean View', 'South Seaville', 'Swainton', 'Cape May Point', 'Wildwood', 'Del Haven', 'Wildwood Crest', 'Stone Harbor', 'North Wildwood', 'Marmora', 'Beesleys Point', 'New Gretna', 'Ocean City', 'Seaville', 'Upper Township', 'Somers Point', 'Sea Isle City', 'Cold Spring', 'Townbank', 'Middle Township', 'West Wildwood', 'Eldora', 'Clermont', 'Woodbine', 'Petersburg', 'Strathmere', 'Milmay', 'Richland', 'Mizpah', 'Cape May Beach', 'Rehoboth Beach', 'Dennisville', 'Dennis Township', 'Diamond Beach', 'Lewes', 'Milroy', 'Burleigh', 'Belleplain', 'Delmont', 'Mauricetown', 'Dorothy', 'Grassy Sound', 'Port Norris', 'Leesburg', 'Port Elizabeth', 'Heislerville', 'Fortescue', 'Blue Anchor', 'East Vineland', 'Smyrna', 'Doylestown', 'Furlong', 'Carversville', 'Solebury', 'Berkeley Township', 'Island Heights', 'Lavallette', 'Ocean Gate', 'Seaside Heights', 'Lacey Township', 'Seaside Park', 'Ortley Beach', 'South Seaside Park', 'Normandy Beach', 'Annandale', 'Holland Township', 'Bloomsbury', 'Pohatcong Township', 'Greenwich Township', 'Phillipsburg', 'Lopatcong', 'Alpha', 'Stewartsville', 'Riegelsville', 'Williams Township', 'Pipersville', 'Lumberville', 'Kingwood', 'Erwinna', 'Cambria Heights', 'Valley Stream', 'Elmont', 'Rosedale', 'Laurelton', 'Bellerose', 'Cedarhurst', 'North Valley Stream', 'North Woodmere', 'Inwood', 'Woodmere', 'Floral Park', 'Little Neck', 'Nyc', 'Glen Oaks', 'Lake Success', 'New Hyde Park', 'East New York', 'Gowanus', 'Manhasset', 'South Floral Park', 'Bellerose village', 'Out Nj', 'Roslyn Harbor', 'Manorville', 'Glen Cove', 'Albertson', 'East Hills', 'Roslyn Heights', 'Glenwood Landing', 'Sea Cliff', 'Brookville', 'North Hills', 'Old Brookville', 'Searingtown', 'Williston Park', 'Greenvale', 'Glen Head', 'Garden City Park', 'Flatlands', 'Oceanside', 'West Hempstead', 'Hempstead', 'Amawalk', 'Cortlandt Manor', 'Chappaqua', 'Peekskill', 'Armonk', 'North Salem', 'Beacon', 'Buchanan', 'Hortontown Rd', 'Cross River', 'Bedford Corners', 'Waccabuc', 'Garrison', 'Jefferson Valley', 'Yorktown Heights', 'Port Chester', 'Mount Kisco', 'Highland Falls', 'Wappingers Falls', 'Katonah', 'East Fishkill', 'Mohegan Lake', 'Bedford Hills', 'Shrub Oak', 'Lincolndale', 'Glenham', 'Lake Peekskill', 'Crompond', 'Millwood', 'Goldens Bridge', 'Croton Falls', 'Granite Springs', 'Purdys', 'Fort Montgomery', 'Rockville Centre', 'Mineola', 'Stewart Manor', 'Uniondale', 'Old Westbury', 'Hewlett', 'Lynbrook', 'Manhasset Hills', 'Hewlett Bay Park', 'Malverne', 'North Baldwin', 'Franklin Square', 'Garden City', 'Carle Place', 'East Williston', 'Hewlett Harbor', 'East Rockaway', 'South Hempstead', 'Garden City South', 'Westbury', 'Lewisboro', 'Wallkill', 'Saratoga', 'Mount Pleasant', 'Rock Tavern', 'Cornwall On Hudson', 'New Hamburg', 'Plattekill', 'Maybrook', 'Campbell Hall', 'Modena', 'Wurtsboro', 'Bloomingburg', 'Pine Bush', 'Thompson Ridge', 'Walker Valley', 'Otisville', 'Circleville', 'Ellenville', 'Slate Hill', 'Mamakating', 'Burlingham', 'Woodridge', 'Rock Hill', 'New Paltz', 'Bullville', 'Godeffroy', 'Westbrookville', 'Fallsburg', 'Wawarsing', 'Kerhonkson', 'Greenfield Park', 'Napanoch', 'Cragsmoor', 'South Fallsburg', 'Woodbourne', 'Mountain Dale', 'Clintondale', 'High Falls', 'Grahamsville', 'Highland', 'Sarine Rd', 'Great Neck Plaza', 'Massapequa', 'Seaford', 'Merrick', 'North Bellmore', 'East Meadow', 'North New Hyde Park', 'Wantagh', 'Syosset', 'Centre Island', 'Greenpoint', 'Amityville', 'Huntingtn Sta', 'Old Bethpage', 'Island Park', 'Oyster Bay', 'Plainview', 'Upper Brookville', 'Bethpage', 'Baldwin Harbor', 'Hicksville', 'South Huntington', 'Bushwick', 'Oyster Bay Cove', 'Mill Neck', 'Melville', 'Locust Valley', 'Bellmore', 'Massapequa Park', 'Roosevelt Island', 'Lloyd Harbor', 'Muttontown', 'Holliswood', 'Huntington Station', 'East Norwich', 'Lattingtown', 'Laurel Hollow', 'Huntington Bay', 'Copiague', 'Cold Spg Hbr', 'North Massapequa', 'East Farmingdale', 'Woodsburgh', 'Lloyd Neck', 'Bedstuy', 'Ocean Hill', 'Gerritsen Beach', 'Gravesend', 'Brooklyn Ny 11220', 'East Atlantic Beach', 'Long Beach', 'Atlantic Beach', 'Point Lookout', 'Lido Beach', 'Bellerose Manor', 'South Richmond Hill', 'City Line', 'Roslyn Estates', 'Jamaica South', 'Queens Village Jamaica', 'Oueens', 'Lindenhurst', 'Deer Park', 'West Babylon', 'Babylon', 'Wheatley Heights', 'North Babylon', 'Amity Harbor', 'Greenlawn', 'Dix Hills', 'Wyandanch', 'West Islip', 'Huntington Sta', 'Matinecock', 'Bay Shore', 'Commack', 'East Northport', 'Centerport', 'Gilgo Beach', 'Edgemere', 'Oak Beach', 'Oak Island', 'Bayport', 'Bellport', 'Bellport village', 'Blue Point', 'Bohemia', 'Brightwaters', 'East Islip', 'Smithtown', 'Islip', 'Brookhaven Hamlet', 'Central Islip', 'Hauppauge', 'Oakdale', 'Sayville', 'Kings Park', 'North Great River', 'Islip Terrace', 'Fort Salonga', 'Ocean Beach', 'Halesite', 'Islandia', 'Cherry Grove', 'Ocean Bay Park', 'Great River', 'Fire Island Pine', 'Nissequogue', 'Cold Spring Hrbr', 'Patchogue', 'Mastic Beach', 'East Patchogue', 'Saint James', 'Lake Ronkonkoma', 'Head of Harbor', 'Holtsville', 'Holbrook', 'Nesconset', 'Fire Island Pines', 'West Sayville', 'Yaphank', 'Mastic', 'Cove Neck', 'Point Jefferson Vil', 'Davis Park', 'Point Jefferson Sta', 'Water Island', 'Northampton', 'Amagansett', 'Bridgehampton', 'Aquebogue', 'Sag Harbor', 'Baiting Hollow', 'Calverton', 'Flanders', 'Jamesport', 'Center Moriches', 'Cutchogue', 'East Moriches', 'Hampton Bays', 'Quogue', 'Laurel', 'Peconic', 'Westhampton', 'Remsenburg', 'East Quogue', 'Moriches', 'Wainscott', 'Sagaponack', 'Shelter Island', 'Shelter Island Heights', 'Water Mill', 'Speonk', 'Watermill', 'Westhampton Bch', 'Westhampton Beach', 'Quiogue', 'South Jamesport', 'New Suffolk', 'Shinnecock Hills', 'Westhampton Dunes', 'Westerlo', 'East Durham', 'Catskill', 'Coeymans', 'Ravena', 'Voorheesville', 'Cairo', 'Guilderland', 'Stockport', 'Hannacroix', 'Greenvile Center', 'Altamont', 'Mechanicville', 'Schenectady', 'Saratoga Springs', 'Ballston Spa', 'Glenville', 'Rotterdam', 'Niskayuna', 'Clifton Park', 'Colonie', 'Malta', 'Inside', 'Halfmoon', 'Amsterdam', 'Charlton', 'Perth', 'Coxsackie', 'Ballston Lake', 'Wynantskill', 'Cohoes', 'Watervliet', 'Berne', 'Castleton On Hudson', 'New Baltimore', 'Broadalbin', 'Broadalbin Village', 'Mayfield', 'Hills Rd', 'Schaghticoke', 'Green Island', 'Waterford Village', 'Rensselaer', 'Green Island Village', 'Princetown', 'Melrose', 'Round Lake', 'Duanesburg', 'Scotia', 'Colonie Village', 'Rexford', 'Stillwater Village', 'Coxsackie Village', 'New Scotland', 'Catskill Village', 'Round Top', 'West Coxsackie', 'Purling', 'Selkirk', 'Acra', 'Rensselaerville', 'Earlton', 'Medusa', 'Cornwallville', 'South Cairo', 'Root', 'Schoharie', 'Canajoharie', 'Cobleskill', 'Delanson', 'Ames', 'Sharon Springs', 'Esperance', 'Roseboom', 'Cherry Valley', 'Seward', 'Wright', 'Caroga Lake', 'Carlisle', 'Central Bridge', 'Richmondville', 'Charlotteville', 'Middleburgh', 'Davenport', 'Maryland', 'Harpersfield', 'Delhi', 'West Fulton', 'Fulton', 'Gilboa', 'Decatur', 'Kortright', 'Preston Hollow', 'Menands', 'Moreau', 'Schuylerville', 'Fort Edward Village', 'Sprakers', 'Sloansville', 'Blenheim', 'Hobart', 'Germantown', 'Andes', 'East Meredith', 'Schenevus', 'Bovina Center', 'Meridale', 'Richmondville Village', 'Margaretville', 'Canajoharie Village', 'Glen', 'Fultonville', 'Palatine Bridge', 'Middleburgh Village', 'Fort Edward', 'Ulster Park', 'Port Ewen', 'Hurley', 'Saugerties', 'Conesville', 'Fonda', 'Mohawk', 'Johnstown', 'Galway', 'Hagaman', 'Fort Johnson', 'Hunter', 'Rhinebeck', 'Esopus', 'Tannersville', 'East Jewett', 'Broome', 'Otsego', 'Cooperstown', 'Hartwick', 'Lexington Dr', 'Lexington', 'Halcott Center', 'Fort Plain', 'Fleischmanns', 'Hardenburgh', 'Prattsville', 'Saint Johnsville', 'Nelliston', 'Arkville', 'Shandaken', 'Ephratah', 'West Kill', 'Denver', 'Gloversville', 'Mayfield Village', 'Bleecker', 'Galway Village', 'Tribes Hill', 'Northville', 'Minden', 'Richfield Springs', 'Springfield Center', 'Stone Ridge', 'Jewett', 'Hunter Village', 'Marbletown', 'Palenville', 'Rosendale', 'Tivoli', 'Cottekill', 'Mount Marion', 'West Hurley', 'Bearsville', 'West Park', 'Tillson', 'Shokan', 'Hensonville', 'Bloomington', 'Lake Katrine', 'Glasco', 'Olive', 'Elka Park', 'Lake Hill', 'Glenford', 'Rifton', 'Rhinecliff', 'Shady', 'Haines Falls', 'Middle Grove', 'South Glens Falls', 'Queensbury', 'Glens Falls', 'Lake Pleasant', 'Speculator', 'Indian Lake', 'Hoffmeister', 'Wells Ny', 'Cold Brook', 'Long Lake', 'Piseco', 'Stony Creek', 'Arietta', 'Morehouse', 'Lake George', 'Oneonta', 'Eleanor Ct', 'Oppenheim', 'Inlet', 'Old Forge', 'Eagle Bay', 'Middleville', 'Big Moose', 'Saint Johnsville Village', 'Dolgeville', 'Salisbury Center', 'Raquette Lake', 'Johnsburg', 'Day', 'Castle Mountain Ln', 'Warrensburg', 'Big Indian', 'Olivebridge', 'Boiceville', 'Hurleyville', 'Samsonville', 'Parksville', 'Forestburgh', 'Sundown', 'Anderson Rd', 'Loch Sheldrake', 'West Shokan', 'Livingston Manor', 'Claryville', 'Willow', 'Ferndale', 'Harris', 'Kiamesha Lake', 'Phoenicia', 'Neversink', 'Mount Tremper', 'Lanesville', 'Pleasant Valley', 'Malden Bridge', 'New Kingston', 'Roscoe', 'Downsville', 'Delancey', 'Ruby', 'Allaben', 'Kent Lakes', 'Callicoon', 'Callicoon Center', 'East Branch', 'Fremont Center', 'Jeffersonville', 'North Branch', 'Cochecton', 'Lake Huntington', 'Frendale', 'Unionville', 'White Sulphur Springs', 'Kenoza Lake', 'East Branch Ny', 'Long Eddy', 'Hortonville', 'Hankins', 'Starlight', 'Beach Lake', 'Damascus', 'Honesdale', 'Equinunk', 'Tusten', 'Youngsville', 'Preston Park', 'Rowland', 'Laporte', 'Ridge Dr', 'Deposit', 'Milanville', 'Tyler Hill', 'Duane', 'Walton', 'Pleasant Mount', 'Tompkins', 'Starrucca', 'Union Dale', 'Scott Township', 'Horicon', 'Pottersville', 'Minerva', 'Thurman', 'Lake Luzerne', 'Bolton Landing', 'Lake Placid', 'Chestertown', 'Kattskill Bay', 'Lake George Village', 'Newcomb', 'Hadley', 'Corinth Village', 'Saranac Lake', 'Piercefield', 'Ray Brook', 'Cranberry Lake', 'Santa Clara', 'Saranac Inn', 'North Elba', 'Harrietstown', 'Lake Clear', 'Paul Smiths', 'Altona', 'Ellenburg Center', 'Mooers Forks', 'Lyon Mountain', 'Mooers', 'Saranac', 'Au Sable Forks', 'Saint Armand', 'Loon Lake', 'Vermontville', 'Bombay', 'Brasher Falls', 'Brushton', 'Constable', 'Fort Covington', 'Massena', 'Malone', 'North Bangor', 'Upper Jay', 'Chateaugay', 'Churubusco', 'Dannemora', 'Helena', 'Moira', 'North Lawrence', 'Ellenburg Depot', 'Redford', 'Ellenburg', 'Mountain View', 'Dickinson', 'Waddington', 'Gabriels', 'Rainbow Lake', 'Upper Saint Regis', 'Onchiota', 'Childwold', 'Colton', 'Potsdam', 'Saint Regis Falls', 'Nicholville', 'Fine', 'Oswegatchie', 'Russell', 'Route 189', 'Star Lake', 'South Colton', 'Parishville', 'Palmer Rd', 'Dickinson Center', 'Madrid', 'Chase Mills', 'Town of Webb', 'Merrillsville', 'Waverly', 'Hannawa Falls', 'Apulia Station', 'Nedrow', 'Owasco', 'Marcellus', 'Seneca Falls', 'Camillus', 'Skaneateles', 'Aurora', 'Venice Center', 'Moravia', 'King Ferry', 'Waterloo', 'Baldwinsville', 'Lysander', 'Bernhards Bay', 'Constantia', 'Syracuse', 'Liverpool', 'Fayetteville', 'North Syracuse', 'West Monroe', 'Clay', 'Altmar', 'Cicero', 'Solvay', 'Manlius', 'Parish', 'Jamesville', 'Redfield', 'Brewerton', 'Black River', 'Pulaski', 'East Syracuse', 'Chittenango', 'Cleveland', 'Amboy', 'West Leyden', 'Kirkville', 'Sandy Creek', 'Central Square', 'La Fayette', 'Taberg', 'Mattydale', 'Schroeppel', 'Lacona', 'Canastota', 'Hastings', 'Minoa', 'Blossvale', 'Pennellville', 'Cazenovia', 'Phoenix', 'Warners', 'Cayuga', 'Locke', 'Ithaca', 'Lansing', 'Torrey', 'Geneva', 'Hector', 'Port Byron', 'Trumansburg', 'Phelps', 'Cortland', 'Romulus', 'Genoa', 'Union Springs', 'Penn Yan', 'Elbridge', 'Weedsport', 'Montezuma', 'Ovid', 'DeRuyter', 'Tully', 'Fabius', 'Taylor', 'Otselic', 'Homer', 'Preble', 'Marietta', 'Cincinnatus', 'Pitcher', 'South Otselic', 'Cuyler', 'McGraw', 'Little York', 'Cato', 'Sodus Point', 'Clyde', 'Willet', 'German Flatts', 'Virgil', 'Pompey', 'Truxton', 'Lisle', 'Sylvan Beach', 'Binghamton', 'Johnson City', 'Dryden', 'Durhamville', 'Clark Mills', 'Munnsville', 'Sherrill', 'Oneida', 'Deansboro', 'Freeville', 'Oswego', 'Red Creek', 'North Rose', 'Savannah', 'Lyons', 'New Woodstock', 'McDonough', 'Vestal', 'Oriskany', 'Ava', 'Lee Center', 'Westernville', 'Oriskany Falls', 'Vernon Center', 'Annsville', 'Floyd', 'Wampsville', 'Verona Beach', 'Knoxboro', 'Triangle', 'Chenango Forks', 'Pharsalia', 'Whitney Point', 'Barker', 'Fenton', 'Earlville', 'Endwell', 'Castle Creek', 'Marathon', 'Sherburne', 'Port Crane', 'Endicott', 'Erieville', 'North Norwich', 'Cortlandville', 'Smithville Flats', 'Chenango Bridge', 'Galen', 'Ulysses', 'Memphis', 'Willseyville', 'McLean', 'Hannibal', 'Burdett', 'Jordan', 'Volney', 'Scriba', 'Slaterville Springs', 'Owego', 'Spencer', 'Brooktondale', 'Harford', 'Cayuta', 'Minetto', 'Nanticoke', 'Newark Valley', 'Glen Aubrey', 'Mannsville', 'Lorraine', 'Sodus', 'Alder Creek', 'Remsen', 'Boonville', 'Forestport', 'Port Leyden', 'Holland Patent', 'Barneveld', 'Woodgate', 'Remsen Village', 'Otter Lake', 'Utica', 'Marcy', 'New York Mills', 'Glenfield', 'Lowville', 'Castorland', 'Croghan', 'Sangerfield', 'Brantingham', 'Constableville', 'Turin', 'Lyons Falls', 'Cassville', 'West Winfield', 'Leonardsville', 'West Edmeston', 'Edmeston', 'Burlington Flats', 'West Burlington', 'Sauquoit', 'Ilion', 'Chadwicks', 'Clayville', 'Herkimer', 'Yorkville', 'New Berlin', 'Hubbardsville', 'Thendara', 'Richfield', 'Fly Creek', 'Martinsburg', 'Schuyler', 'New Lisbon', 'Stittville', 'Ohio', 'Russia', 'Deferiet', 'Natural Bridge', 'Laurens', 'Otego', 'Masonville', 'Unadilla', 'Copenhagen', 'Diana', 'Butternuts', 'Steam Mill Rd', 'Gilbertsville', 'Bainbridge', 'South New Berlin', 'Mount Vision', 'Danube', 'Hinckley', 'Trout Creek', 'Sidney Center', 'Adams Center', 'Adams', 'Ellisburg', 'Sackets Harbor', 'Evans Mills', 'Antwerp', 'Henderson Harbor', 'Alexandria Bay', 'La Fargeville', 'Wellesley Island', 'Theresa', 'Gouverneur', 'Hammond', 'Rensselaer Falls', 'De Peyster', 'Heuvelton', 'Redwood', 'Chaumont', 'Calcium', 'Henderson', 'Richville', 'Glen Park', 'Cape Vincent', 'Three Mile Bay', 'Plessis', 'DeKalb Junction', 'Edwards', 'Depauville', 'Louisville', 'Fineview', 'Fishers Landing', 'Afton', 'Apalachin', 'Tioga Center', 'Candor', 'Sayre', 'Lowman', 'Elmira', 'Little Meadows', 'Gillett', 'Lockwood', 'Chemung', 'Wysox', 'Wellsburg', 'Harpursville', 'Kirkwood', 'Conklin', 'Brackney', 'Colesville', 'Sanitaria Springs', 'Spisak Rd', 'Sanford Ny', 'Hallstead', 'Nineveh', 'Friendsville', 'Nichols', 'Van Etten', 'Ulster', 'Tioga', 'Erin', 'Warren Center', 'Columbia Cross Roads', 'Wyalusing', 'Le Raysville', 'Susquehanna', 'Lanesboro', 'Lawton', 'Clifford Township', 'Forest City', 'Waymart', 'Ararat', 'Clifford', 'Prompton', 'Browndale', 'South Gibson', 'Great Bend', 'Vandling', 'Akron', 'Middleport', 'Alden', 'Angola', 'Arcade', 'Attica', 'Alabama', 'Basom', 'Corfu', 'Holley', 'Batavia', 'Clarence', 'Lockport', 'Medina', 'East Amherst', 'Boston', 'Bliss', 'Wales Center', 'Portageville', 'Angelica', 'Castile', 'Delevan', 'Warsaw', 'Strykersville', 'Gainesville', 'Caneadea', 'Ischua', 'Yorkshire', 'Bowmansville', 'North Tonawanda', 'Buffalo', 'Tonawanda', 'Cheektowaga', 'Williamsville', 'West Seneca', 'Kenmore', 'Depew', 'Burt', 'Chaffee', 'Colden', 'Springville', 'Orchard Park', 'Gasport', 'Wilson', 'Lyndonville', 'Clarence Center', 'Getzville', 'Olcott', 'Sanborn', 'Youngstown', 'Ransomville', 'Wyoming', 'Fillmore', 'Swain', 'Varysburg', 'Java Center', 'Hunt', 'Cowlesville', 'Silver Springs', 'Rushford', 'Cuba', 'Nunda', 'Farmersville Station', 'East Aurora', 'Ellicottville', 'West Valley', 'West Falls', 'South Wales', 'North Collins', 'Collins', 'Elma', 'Little Valley', 'Marilla', 'East Otto', 'Sloan', 'Lackawanna', 'Eggertsville', 'Grand Island', 'South Cheektowaga', 'Houghton', 'Darien Center', 'Elba', 'East Bethany', 'Knowlesville', 'Waterport', 'South Byron', 'Blasdell', 'Lakeview', 'Perrysburg', 'Irving', 'Silver Creek', 'Gowanda', 'Forestville', 'Cattaraugus', 'Brant', 'Lawtons', 'Pavilion', 'Vl Chick Rd Darien Center', 'Vl Corner Tinkham', 'Great Valley', 'Frewsburg', 'Gerry', 'Salamanca', 'Kennedy', 'Falconer', 'Dunkirk', 'Caledonia', 'Le Roy', 'Churchville', 'South Dayton', 'Cherry Creek', 'Villenova', 'Mumford', 'Brockport', 'Murray Isle', 'Bergen', 'Mount Morris', 'East Concord', 'Brocton']\n"
     ]
    }
   ],
   "execution_count": 22
  },
  {
   "metadata": {
    "ExecuteTime": {
     "end_time": "2024-04-17T20:05:02.144619Z",
     "start_time": "2024-04-17T20:05:02.139363Z"
    }
   },
   "cell_type": "code",
   "source": [
    "with open('cities.txt' , 'w') as file:\n",
    "    for city in cities_to_predict:\n",
    "        file.write(f\"{city}\\n\")"
   ],
   "id": "77eeb28c47468f0b",
   "outputs": [],
   "execution_count": 23
  },
  {
   "metadata": {
    "ExecuteTime": {
     "end_time": "2024-04-17T20:32:45.688156Z",
     "start_time": "2024-04-17T20:32:45.577483Z"
    }
   },
   "cell_type": "code",
   "source": [
    "data_filtered = data[data['city'].isin(cities_to_predict)]\n",
    "zip_to_predict = data_filtered['zip_code'].unique()\n",
    "print(list(zip_to_predict))"
   ],
   "id": "95e04489cca9024b",
   "outputs": [
    {
     "name": "stdout",
     "output_type": "stream",
     "text": [
      "[601.0, 795.0, 731.0, 680.0, 612.0, 639.0, 730.0, 670.0, 662.0, 669.0, 641.0, 698.0, 728.0, 685.0, 610.0, 676.0, 769.0, 716.0, 656.0, 766.0, 717.0, 757.0, 624.0, 659.0, 602.0, 603.0, 606.0, 660.0, 653.0, 623.0, 682.0, 683.0, 677.0, 667.0, 674.0, 687.0, 617.0, 678.0, 693.0, 727.0, 627.0, 95000.0, 646.0, 949.0, 953.0, 692.0, 783.0, 719.0, 622.0, 636.0, 987.0, 637.0, 638.0, nan, 729.0, 664.0, 976.0, 650.0, 652.0, 962.0, 873.0, 777.0, 647.0, 661.0, 715.0, 720.0, 972.0, 963.0, 613.0, 794.0, 725.0, 765.0, 738.0, 782.0, 951.0, 694.0, 605.0, 705.0, 688.0, 965.0, 921.0, 784.0, 969.0, 924.0, 926.0, 703.0, 754.0, 778.0, 956.0, 920.0, 927.0, 737.0, 966.0, 736.0, 739.0, 714.0, 723.0, 961.0, 982.0, 957.0, 772.0, 985.0, 959.0, 907.0, 912.0, 995.0, 707.0, 791.0, 767.0, 718.0, 771.0, 741.0, 726.0, 971.0, 751.0, 901.0, 911.0, 918.0, 970.0, 915.0, 983.0, 925.0, 928.0, 917.0, 967.0, 745.0, 979.0, 909.0, 735.0, 958.0, 960.0, 923.0, 910.0, 796.0, 968.0, 946.0, 929.0, 913.0, 974.0, 954.0, 792.0, 630.0, 773.0, 721.0, 775.0, 780.0, 906.0, 936.0, 1002.0, 1341.0, 1033.0, 1301.0, 1062.0, 1376.0, 1151.0, 1375.0, 1035.0, 1104.0, 1056.0, 1364.0, 1073.0, 1060.0, 1005.0, 1032.0, 1038.0, 1342.0, 1053.0, 1373.0, 1027.0, 1351.0, 1096.0, 1069.0, 1085.0, 1370.0, 1012.0, 6279.0, 6238.0, 1109.0, 6016.0, 6066.0, 6040.0, 6042.0, 6074.0, 1108.0, 6029.0, 1105.0, 1057.0, 6076.0, 1118.0, 6082.0, 1129.0, 1011.0, 1034.0, 1253.0, 6096.0, 1031.0, 1220.0, 1050.0, 6232.0, 6088.0, 1083.0, 3447.0, 6084.0, 6043.0, 6071.0, 6231.0, 1036.0, 1081.0, 1037.0, 6248.0, 6447.0, 1071.0, 1247.0, 1070.0, 1270.0, 6060.0, 1235.0, 5350.0, 1223.0, 1225.0, 1243.0, 1226.0, 1350.0, 1101.0, 1201.0, 6035.0, 1267.0, 6063.0, 1257.0, 6098.0, 6026.0, 6090.0, 6078.0, 6058.0, 6018.0, 6021.0, 6756.0, 1107.0, 6093.0, 6095.0, 1222.0, 1238.0, 6070.0, 1262.0, 6031.0, 6019.0, 1367.0, 6081.0, 6024.0, 1339.0, 1103.0, 1541.0, 1473.0, 1543.0, 1082.0, 1092.0, 6062.0, 6001.0, 6032.0, 6057.0, 6002.0, 1237.0, 6013.0, 6092.0, 6085.0, 6010.0, 8016.0, 5361.0, 12022.0, 6489.0, 6089.0, 1119.0, 1128.0, 6250.0, 1337.0, 6237.0, 6424.0, 6118.0, 6108.0, 6268.0, 6033.0, 3470.0, 1521.0, 3465.0, 6073.0, 1378.0, 1501.0, 3451.0, 5301.0, 5354.0, 5352.0, 5261.0, 1562.0, 1507.0, 1590.0, 1524.0, 1604.0, 1537.0, 1602.0, 1540.0, 1610.0, 1611.0, 1607.0, 1506.0, 1605.0, 1603.0, 1606.0, 1522.0, 1520.0, 1592.0, 1560.0, 1609.0, 1545.0, 1542.0, 1536.0, 1608.0, 5358.0, 1585.0, 6242.0, 6278.0, 6790.0, 6234.0, 6281.0, 6235.0, 6259.0, 6282.0, 6255.0, 6247.0, 6262.0, 5201.0, 5363.0, 6260.0, 6277.0, 1570.0, 6241.0, 6791.0, 6117.0, 6120.0, 6112.0, 6226.0, 6249.0, 6106.0, 6105.0, 6119.0, 6103.0, 6114.0, 6107.0, 6604.0, 6469.0, 6422.0, 6109.0, 6053.0, 6111.0, 6457.0, 12521.0, 12516.0, 12517.0, 12529.0, 12546.0, 6039.0, 6069.0, 1254.0, 12017.0, 12029.0, 12123.0, 12090.0, 12060.0, 12184.0, 6795.0, 12130.0, 12106.0, 12565.0, 6751.0, 6759.0, 12513.0, 12185.0, 6763.0, 12212.0, 6787.0, 12168.0, 12138.0, 12028.0, 12094.0, 6794.0, 12125.0, 6068.0, 12958.0, 12153.0, 12018.0, 12037.0, 6796.0, 12024.0, 13452.0, 12503.0, 12169.0, 12062.0, 6798.0, 12140.0, 12057.0, 99999.0, 12136.0, 12075.0, 5257.0, 12816.0, 6754.0, 12082.0, 6777.0, 12063.0, 6750.0, 12180.0, 6753.0, 12033.0, 12502.0, 12061.0, 12534.0, 12165.0, 6793.0, 6779.0, 12132.0, 12089.0, 5340.0, 12405.0, 12115.0, 6778.0, 12196.0, 6762.0, 12052.0, 12528.0, 6415.0, 6416.0, 6037.0, 6480.0, 6492.0, 6051.0, 6441.0, 5342.0, 6437.0, 6052.0, 6450.0, 6067.0, 6110.0, 6423.0, 6472.0, 6451.0, 6455.0, 6438.0, 5344.0, 6443.0, 6481.0, 12523.0, 12592.0, 6785.0, 12545.0, 12501.0, 12522.0, 12514.0, 12571.0, 6757.0, 12581.0, 12594.0, 12567.0, 12453.0, 12504.0, 12578.0, 5356.0, 3462.0, 3431.0, 3443.0, 3446.0, 3469.0, 5346.0, 3452.0, 3467.0, 3445.0, 3448.0, 3455.0, 3461.0, 3466.0, 3444.0, 3458.0, 3450.0, 5158.0, 3457.0, 5351.0, 5341.0, 5355.0, 5345.0, 1749.0, 3084.0, 1720.0, 1741.0, 1450.0, 1564.0, 1503.0, 1523.0, 1776.0, 1886.0, 3076.0, 1852.0, 3062.0, 1464.0, 1854.0, 1462.0, 1510.0, 1740.0, 1752.0, 3051.0, 1851.0, 3049.0, 3060.0, 1460.0, 1850.0, 1718.0, 1742.0, 1469.0, 1474.0, 3071.0, 3048.0, 3064.0, 3033.0, 2493.0, 3055.0, 1803.0, 2453.0, 3086.0, 3053.0, 3031.0, 3110.0, 3281.0, 3244.0, 3082.0, 3043.0, 3440.0, 3057.0, 3442.0, 3070.0, 3449.0, 3063.0, 3047.0, 3103.0, 3054.0, 3038.0, 3109.0, 3052.0, 1568.0, 1519.0, 1746.0, 1748.0, 1721.0, 1757.0, 1773.0, 1730.0, 2421.0, 2452.0, 2420.0, 2451.0, 1890.0, 2476.0, 3079.0, 3087.0, 1810.0, 1756.0, 2830.0, 2895.0, 2896.0, 6420.0, 1529.0, 2859.0, 2858.0, 2839.0, 6371.0, 6280.0, 6266.0, 6256.0, 6264.0, 6336.0, 2814.0, 2909.0, 2888.0, 2921.0, 2905.0, 2914.0, 2915.0, 2911.0, 2919.0, 2838.0, 2852.0, 2893.0, 2857.0, 2861.0, 2831.0, 2864.0, 6354.0, 2842.0, 2038.0, 2056.0, 2053.0, 2865.0, 2762.0, 2802.0, 2030.0, 2908.0, 2816.0, 2806.0, 2917.0, 2910.0, 2860.0, 2920.0, 2904.0, 2889.0, 2907.0, 2906.0, 2817.0, 2885.0, 6239.0, 6377.0, 2828.0, 2825.0, 6373.0, 2892.0, 2874.0, 2863.0, 2818.0, 6384.0, 2832.0, 2886.0, 2903.0, 2827.0, 2835.0, 6374.0, 2809.0, 2829.0, 6359.0, 2822.0, 2872.0, 2898.0, 2916.0, 2873.0, 2871.0, 2812.0, 2048.0, 2180.0, 2466.0, 2144.0, 2445.0, 2132.0, 2135.0, 2130.0, 2115.0, 2131.0, 2458.0, 2459.0, 2118.0, 2176.0, 2465.0, 2199.0, 2129.0, 2824.0, 1841.0, 1843.0, 2155.0, 2472.0, 2446.0, 2143.0, 2116.0, 2766.0, 2081.0, 2134.0, 2474.0, 2467.0, 2108.0, 2141.0, 2215.0, 2478.0, 2460.0, 1880.0, 2138.0, 1867.0, 2114.0, 2145.0, 2140.0, 1887.0, 2150.0, 2139.0, 2120.0, 2468.0, 2461.0, 2462.0, 2119.0, 2026.0, 1949.0, 2121.0, 2090.0, 1833.0, 2464.0, 2067.0, 2062.0, 2124.0, 2021.0, 2122.0, 2127.0, 2186.0, 2128.0, 2111.0, 1830.0, 2125.0, 2110.0, 2109.0, 2210.0, 2136.0, 2126.0, 2113.0, 2316.0, 2368.0, 2032.0, 2356.0, 2375.0, 1832.0, 1835.0, 1840.0, 3865.0, 3874.0, 1952.0, 3848.0, 3826.0, 3833.0, 3827.0, 1951.0, 3811.0, 1915.0, 1983.0, 1982.0, 3044.0, 3885.0, 3819.0, 3842.0, 3077.0, 3873.0, 3841.0, 1922.0, 3042.0, 3858.0, 1970.0, 2188.0, 2184.0, 2066.0, 2189.0, 2343.0, 1929.0, 1944.0, 2190.0, 2050.0, 1966.0, 2152.0, 2191.0, 2351.0, 2339.0, 2370.0, 3862.0, 3870.0, 3844.0, 2338.0, 2364.0, 2359.0, 2332.0, 2360.0, 2322.0, 2324.0, 2347.0, 2726.0, 2770.0, 2576.0, 2362.0, 2563.0, 2537.0, 2536.0, 2540.0, 2673.0, 2644.0, 2556.0, 2633.0, 2631.0, 2664.0, 2675.0, 2660.0, 2653.0, 2790.0, 2725.0, 2878.0, 2837.0, 2760.0, 2840.0, 2879.0, 2882.0, 2791.0, 2804.0, 2807.0, 2808.0, 6379.0, 6351.0, 6340.0, 6378.0, 6339.0, 2891.0, 6355.0, 2813.0, 2881.0, 2823.0, 2836.0, 2833.0, 2875.0, 6365.0, 11954.0, 6390.0, 6335.0, 6360.0, 6331.0, 6380.0, 6330.0, 2894.0, 3032.0, 3036.0, 3229.0, 3045.0, 3106.0, 3034.0, 3307.0, 3104.0, 3102.0, 3275.0, 3261.0, 3825.0, 3290.0, 3301.0, 3037.0, 3464.0, 3242.0, 3820.0, 3903.0, 3857.0, 3046.0, 3278.0, 3303.0, 3304.0, 3234.0, 3258.0, 5059.0, 3861.0, 3801.0, 3824.0, 3856.0, 3260.0, 3280.0, 3014.0, 3456.0, 3221.0, 3273.0, 3823.0, 3882.0, 3224.0, 3884.0, 3235.0, 3216.0, 3237.0, 3220.0, 3269.0, 3276.0, 3263.0, 3225.0, 3218.0, 3268.0, 3246.0, 3223.0, 3249.0, 3243.0, 3837.0, 3215.0, 3217.0, 3266.0, 3264.0, 3256.0, 3253.0, 3254.0, 3222.0, 3809.0, 3855.0, 3226.0, 3285.0, 3816.0, 3894.0, 3227.0, 3864.0, 3251.0, 3262.0, 3814.0, 3230.0, 3240.0, 3748.0, 3257.0, 3741.0, 3753.0, 3255.0, 3810.0, 3835.0, 3782.0, 3773.0, 3839.0, 3287.0, 3241.0, 3886.0, 3293.0, 3245.0, 3284.0, 3282.0, 3279.0, 3850.0, 3259.0, 3883.0, 3890.0, 3836.0, 3817.0, 3853.0, 3774.0, 3785.0, 3779.0, 3780.0, 3765.0, 3745.0, 3755.0, 3849.0, 3813.0, 3818.0, 3838.0, 3845.0, 3812.0, 3860.0, 3846.0, 3887.0, 3851.0, 3766.0, 3750.0, 3770.0, 3781.0, 3585.0, 3586.0, 3768.0, 3784.0, 5033.0, 3740.0, 3607.0, 3608.0, 3777.0, 5055.0, 5045.0, 5051.0, 5075.0, 3743.0, 5089.0, 3580.0, 5081.0, 3601.0, 3602.0, 3603.0, 3752.0, 5074.0, 5054.0, 3605.0, 5086.0, 5083.0, 5042.0, 5046.0, 5085.0, 5069.0, 5039.0, 5001.0, 5088.0, 3867.0, 3868.0, 3878.0, 4027.0, 5156.0, 3609.0, 3872.0, 3901.0, 5101.0, 5159.0, 5154.0, 3869.0, 3852.0, 4001.0, 5151.0, 3561.0, 3570.0, 5143.0, 5030.0, 5150.0, 3574.0, 3575.0, 3598.0, 3595.0, 3583.0, 3576.0, 3579.0, 3592.0, 3588.0, 3597.0, 4217.0, 3581.0, 4261.0, 3582.0, 3584.0, 3593.0, 5906.0, 5851.0, 5819.0, 3590.0, 5837.0, 5903.0, 5905.0, 4037.0, 5824.0, 4970.0, 5828.0, 5821.0, 5862.0, 5873.0, 5658.0, 5838.0, 5849.0, 5858.0, 5846.0, 5871.0, 5901.0, 5647.0, 5832.0, 5050.0, 5831.0, 3771.0, 5037.0, 5071.0, 5068.0, 5091.0, 5048.0, 5047.0, 5077.0, 5142.0, 5153.0, 5076.0, 5065.0, 5070.0, 5079.0, 5072.0, 5053.0, 5034.0, 5056.0, 5062.0, 5035.0, 5353.0, 5146.0, 3830.0, 4095.0, 4047.0, 4010.0, 3854.0, 3904.0, 3908.0, 3832.0, 3905.0, 3909.0, 4009.0, 4231.0, 4040.0, 4051.0, 3906.0, 4061.0, 4073.0, 4076.0, 4087.0, 4049.0, 4090.0, 3907.0, 4002.0, 3902.0, 4083.0, 4043.0, 4020.0, 4041.0, 4030.0, 4022.0, 4048.0, 4091.0, 4046.0, 4079.0, 4530.0, 4107.0, 4548.0, 4562.0, 4066.0, 4579.0, 4074.0, 4011.0, 4106.0, 4108.0, 4005.0, 4006.0, 4103.0, 4072.0, 4064.0, 4092.0, 4038.0, 4102.0, 4101.0, 4008.0, 4353.0, 4345.0, 4252.0, 4259.0, 4347.0, 4240.0, 4222.0, 4364.0, 4096.0, 4032.0, 4330.0, 4348.0, 4086.0, 4351.0, 4085.0, 4084.0, 4029.0, 4015.0, 4017.0, 4055.0, 4088.0, 4062.0, 4071.0, 4093.0, 4350.0, 4363.0, 4280.0, 4357.0, 4578.0, 4553.0, 4024.0, 4042.0, 4021.0, 4260.0, 4039.0, 4069.0, 4274.0, 4250.0, 4105.0, 4097.0, 4265.0, 4344.0, 4346.0, 4359.0, 4556.0, 4342.0, 4287.0, 4270.0, 4268.0, 4056.0, 4068.0, 4210.0, 4256.0, 4063.0, 4537.0, 4282.0, 4281.0, 4238.0, 4538.0, 4576.0, 4236.0, 4258.0, 4289.0, 4216.0, 4292.0, 4219.0, 4276.0, 4257.0, 4290.0, 4220.0, 4221.0, 4254.0, 4253.0, 4956.0, 4284.0, 4224.0, 4294.0, 4349.0, 4938.0, 4360.0, 4227.0, 4239.0, 4285.0, 4352.0, 4955.0, 4237.0, 4963.0, 4355.0, 4255.0, 4917.0, 4911.0, 4263.0, 4271.0, 4275.0, 4966.0, 4983.0, 4343.0, 4976.0, 4924.0, 4937.0, 4901.0, 4957.0, 4950.0, 4358.0, 4555.0, 4568.0, 4543.0, 4989.0, 4927.0, 4958.0, 4574.0, 4354.0, 4539.0, 4544.0, 4949.0, 4554.0, 4572.0, 4558.0, 4862.0, 4921.0, 4932.0, 4988.0, 4401.0, 4406.0, 4443.0, 4930.0, 4426.0, 4942.0, 4939.0, 4441.0, 4464.0, 4985.0, 4408.0, 4634.0, 4664.0, 4428.0, 4418.0, 4475.0, 4461.0, 4457.0, 4605.0, 4640.0, 4677.0, 4410.0, 4435.0, 4448.0, 4463.0, 4473.0, 4468.0, 4427.0, 4422.0, 4450.0, 4481.0, 4434.0, 4411.0, 4412.0, 4429.0, 4474.0, 4413.0, 4424.0, 4490.0, 4487.0, 4414.0, 4462.0, 4941.0, 4455.0, 4493.0, 4622.0, 4456.0, 4453.0, 4488.0, 4449.0, 4864.0, 4847.0, 4973.0, 4912.0, 4987.0, 4986.0, 4416.0, 4417.0, 4495.0, 4419.0, 4444.0, 4438.0, 4496.0, 4421.0, 4849.0, 4915.0, 4684.0, 4863.0, 4952.0, 4472.0, 4476.0, 4627.0, 4974.0, 4843.0, 4853.0, 4614.0, 4848.0, 4928.0, 4971.0, 4430.0, 4460.0, 4459.0, 4967.0, 4929.0, 4981.0, 4953.0, 4642.0, 4841.0, 4673.0, 4681.0, 4969.0, 4676.0, 4856.0, 4617.0, 4965.0, 4951.0, 4854.0, 4442.0, 4478.0, 4777.0, 4451.0, 4765.0, 4747.0, 4776.0, 4497.0, 4619.0, 4733.0, 4471.0, 4730.0, 4780.0, 4760.0, 4763.0, 4945.0, 4925.0, 4479.0, 4485.0, 4668.0, 4761.0, 4943.0, 4616.0, 4492.0, 4694.0, 4535.0, 4861.0, 4563.0, 4547.0, 4859.0, 4860.0, 4551.0, 4858.0, 4564.0, 4606.0, 4607.0, 4612.0, 4609.0, 4685.0, 4625.0, 4660.0, 4635.0, 4675.0, 4674.0, 4679.0, 4643.0, 4658.0, 4680.0, 4693.0, 4654.0, 4623.0, 4649.0, 4611.0, 4626.0, 4630.0, 4655.0, 4648.0, 4662.0, 4652.0, 4691.0, 4631.0, 4629.0, 4645.0, 4628.0, 4650.0, 4637.0, 4657.0, 4666.0, 4671.0, 4667.0, 4669.0, 4686.0, 4732.0, 4757.0, 4786.0, 4739.0, 4769.0, 4736.0, 4779.0, 4768.0, 4766.0, 4783.0, 4762.0, 4734.0, 4787.0, 4758.0, 4740.0, 4750.0, 4742.0, 4743.0, 4785.0, 4746.0, 4756.0, 4745.0, 4781.0, 4772.0, 4774.0, 4851.0, 4852.0, 4910.0, 4920.0, 4979.0, 4947.0, 4961.0, 4922.0, 4923.0, 4918.0, 4936.0, 4982.0, 4964.0, 4978.0, 4984.0, 5031.0, 5762.0, 5772.0, 5067.0, 5746.0, 5032.0, 5663.0, 5751.0, 5758.0, 5149.0, 5654.0, 5060.0, 5674.0, 5767.0, 5701.0, 5738.0, 5641.0, 5038.0, 5759.0, 5777.0, 5036.0, 5602.0, 5667.0, 5675.0, 5737.0, 5747.0, 5679.0, 5733.0, 5061.0, 5673.0, 5742.0, 5660.0, 5678.0, 5676.0, 5651.0, 5664.0, 5649.0, 5730.0, 5748.0, 5757.0, 5443.0, 5763.0, 5677.0, 5661.0, 5843.0, 5650.0, 5842.0, 5681.0, 5680.0, 5682.0, 5343.0, 5148.0, 5161.0, 5155.0, 5360.0, 5773.0, 5739.0, 5359.0, 5255.0, 5152.0, 6830.0, 5251.0, 5253.0, 5764.0, 5774.0, 5250.0, 5768.0, 5765.0, 12832.0, 12837.0, 5254.0, 5262.0, 5761.0, 5776.0, 5252.0, 5775.0, 12873.0, 12865.0, 12834.0, 5735.0, 14534.0, 12121.0, 12154.0, 5743.0, 12887.0, 12838.0, 12819.0, 12849.0, 5732.0, 12827.0, 12809.0, 12839.0, 12821.0, 12841.0, 12828.0, 5401.0, 5403.0, 5404.0, 12996.0, 5468.0, 5452.0, 5465.0, 5408.0, 5446.0, 5495.0, 5461.0, 5482.0, 5486.0, 12972.0, 5489.0, 12975.0, 12944.0, 5477.0, 12901.0, 5456.0, 5491.0, 5458.0, 30228.0, 12985.0, 5440.0, 5442.0, 5444.0, 5450.0, 5476.0, 5471.0, 5454.0, 5464.0, 5655.0, 5859.0, 5656.0, 5470.0, 5874.0, 5868.0, 5492.0, 5447.0, 5445.0, 12993.0, 5469.0, 5457.0, 5847.0, 5872.0, 5441.0, 5652.0, 5653.0, 5829.0, 95652.0, 5483.0, 5857.0, 5478.0, 12960.0, 12950.0, 12956.0, 5472.0, 5487.0, 5473.0, 12936.0, 12962.0, 12924.0, 12988.0, 12903.0, 5494.0, 5488.0, 12921.0, 5463.0, 5459.0, 12974.0, 12928.0, 5753.0, 5474.0, 12862.0, 5462.0, 5672.0, 5481.0, 12998.0, 5734.0, 12932.0, 12883.0, 5770.0, 12992.0, 12861.0, 5760.0, 5766.0, 5778.0, 5744.0, 5769.0, 12979.0, 5740.0, 5731.0, 12919.0, 5841.0, 5845.0, 5839.0, 5643.0, 5866.0, 5657.0, 12918.0, 5827.0, 5820.0, 5826.0, 5875.0, 5860.0, 5822.0, 5825.0, 12870.0, 12836.0, 12961.0, 12855.0, 12885.0, 5867.0, 5855.0, 5830.0, 5853.0, 5907.0, 6770.0, 6483.0, 6710.0, 6708.0, 6712.0, 6705.0, 6704.0, 6023.0, 6473.0, 6405.0, 6413.0, 6511.0, 6479.0, 6525.0, 6027.0, 6514.0, 6419.0, 6518.0, 6513.0, 6716.0, 6517.0, 6786.0, 6471.0, 6515.0, 6512.0, 6417.0, 6410.0, 6524.0, 6510.0, 6706.0, 6498.0, 6412.0, 6403.0, 6701.0, 12603.0, 6702.0, 6782.0, 6065.0, 6418.0, 6401.0, 6484.0, 6478.0, 6382.0, 6426.0, 6320.0, 6333.0, 6357.0, 6370.0, 6334.0, 6385.0, 6375.0, 6389.0, 6254.0, 6353.0, 6409.0, 6442.0, 6475.0, 6350.0, 11957.0, 11944.0, 11939.0, 6414.0, 6488.0, 11952.0, 6460.0, 6461.0, 6468.0, 6470.0, 11971.0, 6477.0, 6482.0, 6516.0, 6519.0, 6606.0, 6615.0, 6610.0, 6614.0, 6608.0, 6607.0, 6605.0, 6611.0, 6825.0, 604.0, 6612.0, 6783.0, 6752.0, 6776.0, 6755.0, 12564.0, 6801.0, 12563.0, 12540.0, 6811.0, 6810.0, 10509.0, 6784.0, 6804.0, 12570.0, 12531.0, 6812.0, 12533.0, 6877.0, 12585.0, 6896.0, 19073.0, 12580.0, 10512.0, 6824.0, 11961.0, 11786.0, 11777.0, 11720.0, 11727.0, 11733.0, 11764.0, 11776.0, 11953.0, 11755.0, 11766.0, 11778.0, 11784.0, 11779.0, 12582.0, 14477.0, 10541.0, 10579.0, 11789.0, 11790.0, 11792.0, 11738.0, 6807.0, 6820.0, 6831.0, 6840.0, 6851.0, 6853.0, 6854.0, 6897.0, 6850.0, 6883.0, 6902.0, 6905.0, 6880.0, 6855.0, 6870.0, 6829.0, 6878.0, 6890.0, 6903.0, 6901.0, 6906.0, 6907.0, 10576.0, 10590.0, 7001.0, 7002.0, 7003.0, 7004.0, 7005.0, 7006.0, 7010.0, 7011.0, 7012.0, 7013.0, 7016.0, 7017.0, 7018.0, 7020.0, 7022.0, 7008.0, 7024.0, 7021.0, 7502.0, 7112.0, 7083.0, 7108.0, 7032.0, 7950.0, 7628.0, 7444.0, 7026.0, 7052.0, 7057.0, 7035.0, 7042.0, 7410.0, 7103.0, 7522.0, 7652.0, 7663.0, 7866.0, 7424.0, 7050.0, 7524.0, 7109.0, 7023.0, 7009.0, 7014.0, 11379.0, 10028.0, 10013.0, 7631.0, 11225.0, 10466.0, 10468.0, 11374.0, 11372.0, 10471.0, 10022.0, 10021.0, 10463.0, 10128.0, 10452.0, 10023.0, 11221.0, 10011.0, 11201.0, 11368.0, 10012.0, 11226.0, 10001.0, 11205.0, 10025.0, 10016.0, 10010.0, 10014.0, 10009.0, 7027.0, 7111.0, 7055.0, 7034.0, 7045.0, 7104.0, 7834.0, 7044.0, 7039.0, 7932.0, 7940.0, 7901.0, 7641.0, 7506.0, 7106.0, 7107.0, 7029.0, 7114.0, 7501.0, 7079.0, 7110.0, 7058.0, 7073.0, 7676.0, 7508.0, 7405.0, 7928.0, 7205.0, 7054.0, 7071.0, 7450.0, 7601.0, 7078.0, 7644.0, 7512.0, 7801.0, 7082.0, 7081.0, 7407.0, 7470.0, 7105.0, 7666.0, 11236.0, 7072.0, 7306.0, 11106.0, 10005.0, 10065.0, 10075.0, 11230.0, 7307.0, 10031.0, 10033.0, 7514.0, 7087.0, 7452.0, 11378.0, 11385.0, 10458.0, 11373.0, 7047.0, 10003.0, 11238.0, 7657.0, 10019.0, 11211.0, 10018.0, 10024.0, 11217.0, 11222.0, 11232.0, 7093.0, 7070.0, 7670.0, 11231.0, 10469.0, 10035.0, 11207.0, 7504.0, 10069.0, 11377.0, 11206.0, 7310.0, 10002.0, 11102.0, 10462.0, 11215.0, 11212.0, 10032.0, 10034.0, 10456.0, 7094.0, 7043.0, 7646.0, 7481.0, 10017.0, 11369.0, 7028.0, 10038.0, 7417.0, 11233.0, 7086.0, 11213.0, 7030.0, 10451.0, 11220.0, 10004.0, 10129.0, 10473.0, 7621.0, 10457.0, 7304.0, 10460.0, 10467.0, 11103.0, 11101.0, 11208.0, 7660.0, 10027.0, 10007.0, 10470.0, 11216.0, 7075.0, 11104.0, 7432.0, 7302.0, 11249.0, 7305.0, 7440.0, 10454.0, 11203.0, 7031.0, 11237.0, 10036.0, 10030.0, 11370.0, 10029.0, 10465.0, 10006.0, 11417.0, 11218.0, 11210.0, 11356.0, 7102.0, 10472.0, 10040.0, 7662.0, 10026.0, 7649.0, 11354.0, 7626.0, 7503.0, 7605.0, 10037.0, 10280.0, 11105.0, 7046.0, 7068.0, 7643.0, 10461.0, 10453.0, 7513.0, 10459.0, 11243.0, 7074.0, 7603.0, 10282.0, 7650.0, 11219.0, 11109.0, 7457.0, 7442.0, 7607.0, 10039.0, 10044.0, 7632.0, 7661.0, 10474.0, 7604.0, 7436.0, 7606.0, 7936.0, 7463.0, 11375.0, 7423.0, 12173.0, 7088.0, 7675.0, 7208.0, 7041.0, 7040.0, 7981.0, 7878.0, 7960.0, 7885.0, 7630.0, 7927.0, 7624.0, 7204.0, 24898.0, 7033.0, 7036.0, 7060.0, 7064.0, 7065.0, 7066.0, 7067.0, 7059.0, 7062.0, 7069.0, 7076.0, 7077.0, 7080.0, 11421.0, 11414.0, 11355.0, 7627.0, 7090.0, 7922.0, 7920.0, 7980.0, 10314.0, 7202.0, 10301.0, 10310.0, 10305.0, 11209.0, 7203.0, 7974.0, 8721.0, 10304.0, 10303.0, 10302.0, 7206.0, 7935.0, 11228.0, 7201.0, 11204.0, 11229.0, 7976.0, 7946.0, 7092.0, 7933.0, 8867.0, 8812.0, 11434.0, 11357.0, 11419.0, 11432.0, 11358.0, 11435.0, 11367.0, 7640.0, 11420.0, 11416.0, 11365.0, 10455.0, 11415.0, 10705.0, 11423.0, 10704.0, 11361.0, 10475.0, 11360.0, 11436.0, 11413.0, 11412.0, 11433.0, 7648.0, 11364.0, 7620.0, 10103.0, 11418.0, 7642.0, 11366.0, 10701.0, 10708.0, 11427.0, 11363.0, 7403.0, 11362.0, 11431.0, 11239.0, 11428.0, 8820.0, 8857.0, 8884.0, 8902.0, 10309.0, 8873.0, 8816.0, 7747.0, 8805.0, 11214.0, 8879.0, 10312.0, 8854.0, 7063.0, 10307.0, 8872.0, 7726.0, 10306.0, 7730.0, 7751.0, 7095.0, 8904.0, 10308.0, 7735.0, 8840.0, 8901.0, 8837.0, 8817.0, 8859.0, 8880.0, 8861.0, 8831.0, 8850.0, 8846.0, 11223.0, 8882.0, 8863.0, 7746.0, 7733.0, 8832.0, 7734.0, 8830.0, 7721.0, 11224.0, 8828.0, 8810.0, 8557.0, 8807.0, 11234.0, 7458.0, 7446.0, 7401.0, 7656.0, 10962.0, 10965.0, 7677.0, 7430.0, 7645.0, 11235.0, 11693.0, 11694.0, 11692.0, 11429.0, 11697.0, 7418.0, 7419.0, 7420.0, 7421.0, 7422.0, 10960.0, 10954.0, 10970.0, 7435.0, 7850.0, 7821.0, 7480.0, 7843.0, 7828.0, 7462.0, 7871.0, 7416.0, 7849.0, 7461.0, 10950.0, 7945.0, 7836.0, 10918.0, 7930.0, 7438.0, 7439.0, 7852.0, 7874.0, 7826.0, 7860.0, 7869.0, 7822.0, 7460.0, 7856.0, 7848.0, 7456.0, 7876.0, 7803.0, 7857.0, 7840.0, 7465.0, 7838.0, 7825.0, 7875.0, 10987.0, 10990.0, 10925.0, 7853.0, 10969.0, 10974.0, 7830.0, 10931.0, 10901.0, 10975.0, 10926.0, 10710.0, 10989.0, 10956.0, 10964.0, 10703.0, 10994.0, 10522.0, 10520.0, 10977.0, 10968.0, 10923.0, 10591.0, 10952.0, 10533.0, 10913.0, 10980.0, 10596.0, 10982.0, 10976.0, 10984.0, 10502.0, 10706.0, 7647.0, 10993.0, 10983.0, 10927.0, 10920.0, 10548.0, 10998.0, 10930.0, 10992.0, 10914.0, 10986.0, 12577.0, 10953.0, 10917.0, 10924.0, 10921.0, 10543.0, 10707.0, 10464.0, 10510.0, 10601.0, 10530.0, 10605.0, 10603.0, 10606.0, 10607.0, 10583.0, 10577.0, 12198.0, 10523.0, 10709.0, 10604.0, 10595.0, 10532.0, 10570.0, 10594.0, 10552.0, 10550.0, 10553.0, 10562.0, 10538.0, 11050.0, 10801.0, 10528.0, 10580.0, 10804.0, 10805.0, 10803.0, 11024.0, 11023.0, 10573.0, 7701.0, 7702.0, 7758.0, 7731.0, 7753.0, 7748.0, 7724.0, 8724.0, 7764.0, 7750.0, 7712.0, 8730.0, 7728.0, 7720.0, 7722.0, 8750.0, 7740.0, 8723.0, 8527.0, 8701.0, 7704.0, 7711.0, 7716.0, 7717.0, 7718.0, 7719.0, 7723.0, 8742.0, 7732.0, 7755.0, 7738.0, 7739.0, 7760.0, 8738.0, 7727.0, 8759.0, 8720.0, 7756.0, 7752.0, 7762.0, 7757.0, 8736.0, 7737.0, 8755.0, 8753.0, 8001.0, 8862.0, 7827.0, 7832.0, 10958.0, 18302.0, 7865.0, 7863.0, 18013.0, 18301.0, 7823.0, 7882.0, 18360.0, 18343.0, 18324.0, 7847.0, 18425.0, 18337.0, 7924.0, 7977.0, 18328.0, 18458.0, 18428.0, 12771.0, 18336.0, 12792.0, 12864.0, 12701.0, 18435.0, 12737.0, 12732.0, 18371.0, 7844.0, 12780.0, 12743.0, 12720.0, 12786.0, 12764.0, 12778.0, 12746.0, 18342.0, 12719.0, 10940.0, 12774.0, 18327.0, 12770.0, 12749.0, 12729.0, 7921.0, 8833.0, 7931.0, 7934.0, 8826.0, 8865.0, 8827.0, 8829.0, 8801.0, 8540.0, 8852.0, 8844.0, 8876.0, 8835.0, 8502.0, 8558.0, 8869.0, 8836.0, 8823.0, 8889.0, 8536.0, 8853.0, 8824.0, 8444.0, 8822.0, 8528.0, 8553.0, 8887.0, 8534.0, 8610.0, 8648.0, 8618.0, 8611.0, 8054.0, 8021.0, 19030.0, 8075.0, 8010.0, 8046.0, 8048.0, 8559.0, 8003.0, 8060.0, 8053.0, 8067.0, 8302.0, 8098.0, 8070.0, 8002.0, 8004.0, 8005.0, 8006.0, 8007.0, 8008.0, 8085.0, 19720.0, 8072.0, 8323.0, 8360.0, 8318.0, 8062.0, 8079.0, 19805.0, 19801.0, 8332.0, 8069.0, 19802.0, 19701.0, 8311.0, 8023.0, 8343.0, 8039.0, 19808.0, 8038.0, 19804.0, 8320.0, 8344.0, 19809.0, 8353.0, 19706.0, 19806.0, 19702.0, 8542.0, 8512.0, 8821.0, 8081.0, 19020.0, 8022.0, 19056.0, 19067.0, 8690.0, 8638.0, 8530.0, 18938.0, 18940.0, 8091.0, 19047.0, 8055.0, 8551.0, 8057.0, 8629.0, 19054.0, 8094.0, 8691.0, 8628.0, 8525.0, 8009.0, 18977.0, 19007.0, 19021.0, 8036.0, 8073.0, 8026.0, 18966.0, 19125.0, 8561.0, 8043.0, 8619.0, 8505.0, 8620.0, 8608.0, 8554.0, 8550.0, 8609.0, 8515.0, 19053.0, 19114.0, 19057.0, 8560.0, 8052.0, 8520.0, 19154.0, 8034.0, 8088.0, 19055.0, 19116.0, 8809.0, 8518.0, 8077.0, 12762.0, 8802.0, 8825.0, 18954.0, 12783.0, 8858.0, 8851.0, 8068.0, 8014.0, 8096.0, 19072.0, 19014.0, 8322.0, 19023.0, 8104.0, 19120.0, 19810.0, 19151.0, 8030.0, 19082.0, 19145.0, 19124.0, 19139.0, 8066.0, 8080.0, 19111.0, 19144.0, 8110.0, 19018.0, 19143.0, 19104.0, 19119.0, 19147.0, 19146.0, 19134.0, 19075.0, 19130.0, 8103.0, 8015.0, 8019.0, 8510.0, 8050.0, 8232.0, 8757.0, 8215.0, 8501.0, 8205.0, 8234.0, 8406.0, 8402.0, 8020.0, 19060.0, 19703.0, 19713.0, 19317.0, 19711.0, 19061.0, 19709.0, 8027.0, 8028.0, 8029.0, 8012.0, 19807.0, 19342.0, 19348.0, 19803.0, 19382.0, 19311.0, 19707.0, 19350.0, 19731.0, 19374.0, 8037.0, 8241.0, 8092.0, 8087.0, 8089.0, 8533.0, 8225.0, 8330.0, 8401.0, 8731.0, 8758.0, 8733.0, 8203.0, 8562.0, 8201.0, 8741.0, 8514.0, 8221.0, 8722.0, 8535.0, 8734.0, 8511.0, 8217.0, 8041.0, 8270.0, 8555.0, 7710.0, 8095.0, 8042.0, 8403.0, 19103.0, 8106.0, 19122.0, 19133.0, 19140.0, 19079.0, 19138.0, 19106.0, 8071.0, 19121.0, 8035.0, 19063.0, 19123.0, 19035.0, 19128.0, 19132.0, 19142.0, 19148.0, 19041.0, 19050.0, 19107.0, 19444.0, 19149.0, 19015.0, 19102.0, 19141.0, 19095.0, 8086.0, 8051.0, 19013.0, 8031.0, 8093.0, 19036.0, 19070.0, 8312.0, 19153.0, 19129.0, 8107.0, 19118.0, 8090.0, 19026.0, 8063.0, 19083.0, 19428.0, 19131.0, 19135.0, 19086.0, 19008.0, 8102.0, 19010.0, 8109.0, 19032.0, 19038.0, 19027.0, 19064.0, 19076.0, 19081.0, 19002.0, 19003.0, 19137.0, 8056.0, 19025.0, 8108.0, 19096.0, 8105.0, 19126.0, 19127.0, 19029.0, 19087.0, 19150.0, 19034.0, 8061.0, 19046.0, 19085.0, 19094.0, 8059.0, 19012.0, 19001.0, 8078.0, 19074.0, 19022.0, 19078.0, 19033.0, 19004.0, 8097.0, 19066.0, 19090.0, 19403.0, 19319.0, 19031.0, 19462.0, 19017.0, 8033.0, 8049.0, 19043.0, 19732.0, 8083.0, 8045.0, 19734.0, 19730.0, 19312.0, 19355.0, 8065.0, 8328.0, 19301.0, 8032.0, 19333.0, 19380.0, 19152.0, 19136.0, 8084.0, 19115.0, 19006.0, 8326.0, 8202.0, 8310.0, 8341.0, 8346.0, 8204.0, 8210.0, 8212.0, 8242.0, 8260.0, 8251.0, 8247.0, 8223.0, 8224.0, 8226.0, 8230.0, 8244.0, 8218.0, 8319.0, 8243.0, 8248.0, 8340.0, 8350.0, 8342.0, 8252.0, 19971.0, 8245.0, 19958.0, 17063.0, 8246.0, 8314.0, 8361.0, 8329.0, 8317.0, 8239.0, 8349.0, 8327.0, 8348.0, 8324.0, 8316.0, 8345.0, 8321.0, 19901.0, 19977.0, 18902.0, 18925.0, 18913.0, 8732.0, 8735.0, 8740.0, 8751.0, 8752.0, 8739.0, 8804.0, 18040.0, 8848.0, 8886.0, 18042.0, 18077.0, 18947.0, 18933.0, 18920.0, 11411.0, 11559.0, 11581.0, 11580.0, 11003.0, 11422.0, 11691.0, 11426.0, 11516.0, 11096.0, 11598.0, 11001.0, 11021.0, 11005.0, 11020.0, 11004.0, 11040.0, 11030.0, 11576.0, 11542.0, 11507.0, 11577.0, 11547.0, 11579.0, 11548.0, 11545.0, 11596.0, 11510.0, 11572.0, 11552.0, 11575.0, 11550.0, 10501.0, 10567.0, 12524.0, 10589.0, 10514.0, 10566.0, 10504.0, 10560.0, 12527.0, 10506.0, 10511.0, 10518.0, 10516.0, 10549.0, 12508.0, 10597.0, 10524.0, 10535.0, 10598.0, 10928.0, 12590.0, 10536.0, 10547.0, 10507.0, 10588.0, 10540.0, 10537.0, 10517.0, 10546.0, 10526.0, 10519.0, 10527.0, 10578.0, 10922.0, 11570.0, 11501.0, 11530.0, 11520.0, 11553.0, 11568.0, 11557.0, 11563.0, 11565.0, 11010.0, 11514.0, 11518.0, 11590.0, 12553.0, 12550.0, 12518.0, 11797.0, 12589.0, 12542.0, 12871.0, 12586.0, 6904.0, 12601.0, 12575.0, 12520.0, 12568.0, 12549.0, 12543.0, 10916.0, 12548.0, 12525.0, 11768.0, 10941.0, 12790.0, 12721.0, 12566.0, 12588.0, 10963.0, 10919.0, 12428.0, 10973.0, 12722.0, 12789.0, 12775.0, 12561.0, 12785.0, 12733.0, 12446.0, 12435.0, 12489.0, 12458.0, 12779.0, 12788.0, 12404.0, 12763.0, 12515.0, 12440.0, 12740.0, 10985.0, 12547.0, 11758.0, 11783.0, 11566.0, 11710.0, 11756.0, 11554.0, 11793.0, 11791.0, 11771.0, 11701.0, 11735.0, 11746.0, 11804.0, 11558.0, 11803.0, 11743.0, 11714.0, 11801.0, 11765.0, 11747.0, 11753.0, 11560.0, 11762.0, 11380.0, 11732.0, 11359.0, 11726.0, 11724.0, 11561.0, 11509.0, 11569.0, 11757.0, 11729.0, 11704.0, 11702.0, 11798.0, 11703.0, 11709.0, 11740.0, 11795.0, 11706.0, 11725.0, 11731.0, 11721.0, 4715.0, 11705.0, 11713.0, 11715.0, 11716.0, 11717.0, 11718.0, 11730.0, 11787.0, 11751.0, 11719.0, 11722.0, 11788.0, 11769.0, 11782.0, 11754.0, 11749.0, 11752.0, 11770.0, 11739.0, 11780.0, 11772.0, 11951.0, 11967.0, 11742.0, 11741.0, 11763.0, 11767.0, 11796.0, 11980.0, 11950.0, 11901.0, 11930.0, 11931.0, 11932.0, 11933.0, 11934.0, 11935.0, 11937.0, 11940.0, 11941.0, 11946.0, 11947.0, 11948.0, 11958.0, 11977.0, 11960.0, 11949.0, 11942.0, 11955.0, 11964.0, 11968.0, 11959.0, 11965.0, 11976.0, 11972.0, 11963.0, 11978.0, 11970.0, 11956.0, 11962.0, 11975.0, 12083.0, 12422.0, 12423.0, 12414.0, 12054.0, 12046.0, 12143.0, 12203.0, 12209.0, 12186.0, 12413.0, 12084.0, 12208.0, 12159.0, 12087.0, 12158.0, 12077.0, 12053.0, 12009.0, 12118.0, 12188.0, 12308.0, 12866.0, 12020.0, 12302.0, 12304.0, 12306.0, 12205.0, 12303.0, 12309.0, 12065.0, 12307.0, 12110.0, 12047.0, 12019.0, 12182.0, 12010.0, 12015.0, 12189.0, 12023.0, 12496.0, 12025.0, 12193.0, 12124.0, 12148.0, 12305.0, 12059.0, 12045.0, 12156.0, 12541.0, 12183.0, 12211.0, 12144.0, 12170.0, 12151.0, 12056.0, 12027.0, 12210.0, 12831.0, 12107.0, 12051.0, 12147.0, 12470.0, 12041.0, 12067.0, 12058.0, 12431.0, 12171.0, 12474.0, 12451.0, 12192.0, 12418.0, 12473.0, 12482.0, 12407.0, 12120.0, 12042.0, 12172.0, 12174.0, 12469.0, 12166.0, 12157.0, 13317.0, 12043.0, 13459.0, 12066.0, 13320.0, 13450.0, 12032.0, 12035.0, 12187.0, 12149.0, 12036.0, 12197.0, 12093.0, 12122.0, 13757.0, 12155.0, 12167.0, 13753.0, 12194.0, 13786.0, 12175.0, 13842.0, 13739.0, 12204.0, 12803.0, 12092.0, 12160.0, 12072.0, 12076.0, 13750.0, 12131.0, 13788.0, 12071.0, 12202.0, 12206.0, 12207.0, 12439.0, 12526.0, 13731.0, 12064.0, 12116.0, 13768.0, 13740.0, 12455.0, 13846.0, 12137.0, 12150.0, 13428.0, 13339.0, 12884.0, 12487.0, 12466.0, 12443.0, 12477.0, 13807.0, 12068.0, 12069.0, 12095.0, 12117.0, 12074.0, 12086.0, 12070.0, 12401.0, 12436.0, 12572.0, 12429.0, 12442.0, 12485.0, 12424.0, 12450.0, 13326.0, 12850.0, 12421.0, 12468.0, 12406.0, 12430.0, 12434.0, 12438.0, 12452.0, 12465.0, 13410.0, 12480.0, 12492.0, 12078.0, 12177.0, 12134.0, 12454.0, 13439.0, 13348.0, 12459.0, 13820.0, 13488.0, 13337.0, 13361.0, 13468.0, 13333.0, 12484.0, 12427.0, 12583.0, 12463.0, 12538.0, 12472.0, 12419.0, 12493.0, 12456.0, 12491.0, 12409.0, 12498.0, 12486.0, 12481.0, 12411.0, 12432.0, 12417.0, 12449.0, 12448.0, 12433.0, 12471.0, 12574.0, 12833.0, 12863.0, 12859.0, 12804.0, 12801.0, 12108.0, 13470.0, 12164.0, 12190.0, 12842.0, 13353.0, 13324.0, 12847.0, 12139.0, 12878.0, 13436.0, 12845.0, 12444.0, 13365.0, 12812.0, 12986.0, 13360.0, 13420.0, 13331.0, 13454.0, 13406.0, 13329.0, 13416.0, 12843.0, 12835.0, 12811.0, 12822.0, 12410.0, 12461.0, 12412.0, 13752.0, 12747.0, 12754.0, 12768.0, 12777.0, 12742.0, 12759.0, 12494.0, 12758.0, 12725.0, 12495.0, 12734.0, 12765.0, 12751.0, 12464.0, 12726.0, 12457.0, 12420.0, 12569.0, 12776.0, 13782.0, 13856.0, 13755.0, 12475.0, 12723.0, 12724.0, 12748.0, 13756.0, 12736.0, 13783.0, 13774.0, 12767.0, 12766.0, 10988.0, 12787.0, 12750.0, 12760.0, 12745.0, 12738.0, 12741.0, 18461.0, 18439.0, 18405.0, 18415.0, 18431.0, 13837.0, 18417.0, 18469.0, 18438.0, 12752.0, 18437.0, 18455.0, 18457.0, 18626.0, 13754.0, 18443.0, 12953.0, 17280.0, 18453.0, 18462.0, 18470.0, 18460.0, 12791.0, 12808.0, 12860.0, 12851.0, 12815.0, 12817.0, 12810.0, 12824.0, 12846.0, 12814.0, 12844.0, 12853.0, 12857.0, 12946.0, 12886.0, 12820.0, 12852.0, 12983.0, 12977.0, 12927.0, 12942.0, 12964.0, 12939.0, 12945.0, 12970.0, 12941.0, 12910.0, 12934.0, 12959.0, 12955.0, 12920.0, 12981.0, 12912.0, 12913.0, 12989.0, 12997.0, 12914.0, 13613.0, 12916.0, 12926.0, 12937.0, 13662.0, 12966.0, 10000.0, 12917.0, 12987.0, 12935.0, 12929.0, 13649.0, 12957.0, 12967.0, 12978.0, 12923.0, 12933.0, 12952.0, 12969.0, 12915.0, 12930.0, 12976.0, 12922.0, 13687.0, 13676.0, 12980.0, 12965.0, 13668.0, 13639.0, 13617.0, 13670.0, 13684.0, 13625.0, 13690.0, 13672.0, 13697.0, 13652.0, 12973.0, 13660.0, 12940.0, 13621.0, 13667.0, 13647.0, 13020.0, 13120.0, 13021.0, 13108.0, 13148.0, 13031.0, 13152.0, 13026.0, 13147.0, 13092.0, 13081.0, 13165.0, 13027.0, 13028.0, 13215.0, 13088.0, 13066.0, 13212.0, 13206.0, 13167.0, 13302.0, 13039.0, 13209.0, 13104.0, 13131.0, 13204.0, 13208.0, 13202.0, 13210.0, 13219.0, 13090.0, 13078.0, 13437.0, 13316.0, 13224.0, 13029.0, 13030.0, 13142.0, 13205.0, 13057.0, 13037.0, 13042.0, 13493.0, 13489.0, 13082.0, 13203.0, 13145.0, 13036.0, 13084.0, 13471.0, 13041.0, 13211.0, 13132.0, 13083.0, 13032.0, 13207.0, 13214.0, 13144.0, 13076.0, 13116.0, 13308.0, 13044.0, 13114.0, 13035.0, 13135.0, 13164.0, 13034.0, 13118.0, 14521.0, 14850.0, 14882.0, 14527.0, 14456.0, 14841.0, 14941.0, 13140.0, 14886.0, 14532.0, 14847.0, 13045.0, 14541.0, 13071.0, 13060.0, 13160.0, 13166.0, 13073.0, 13117.0, 14860.0, 14842.0, 13052.0, 13159.0, 13063.0, 13040.0, 13155.0, 13077.0, 13141.0, 13110.0, 13101.0, 13136.0, 13158.0, 13033.0, 14555.0, 14433.0, 13138.0, 13072.0, 13797.0, 13157.0, 13901.0, 13790.0, 13778.0, 13905.0, 13053.0, 13054.0, 13321.0, 13440.0, 13409.0, 13461.0, 13323.0, 13421.0, 13490.0, 13328.0, 13068.0, 13126.0, 14590.0, 13143.0, 14516.0, 13146.0, 14489.0, 13122.0, 13830.0, 13815.0, 13801.0, 13850.0, 13903.0, 13862.0, 13424.0, 13309.0, 13363.0, 13478.0, 13408.0, 13501.0, 13303.0, 13476.0, 13413.0, 13492.0, 13486.0, 13425.0, 13477.0, 13325.0, 13163.0, 13162.0, 13346.0, 13746.0, 13844.0, 13835.0, 13904.0, 13841.0, 13863.0, 13124.0, 13833.0, 13332.0, 13760.0, 13744.0, 13803.0, 13686.0, 13832.0, 13460.0, 13464.0, 13334.0, 13802.0, 13061.0, 13814.0, 13681.0, 14883.0, 13112.0, 13402.0, 13864.0, 13102.0, 13064.0, 13074.0, 13156.0, 13069.0, 14818.0, 13080.0, 14867.0, 14881.0, 13827.0, 14817.0, 14824.0, 13480.0, 13111.0, 13115.0, 13777.0, 13733.0, 13811.0, 14411.0, 13736.0, 13780.0, 13661.0, 13659.0, 14551.0, 13301.0, 13438.0, 13354.0, 13338.0, 13433.0, 13304.0, 13494.0, 13502.0, 13403.0, 13417.0, 13343.0, 13367.0, 13620.0, 13327.0, 13619.0, 13310.0, 13312.0, 13473.0, 13368.0, 13313.0, 13318.0, 13315.0, 13491.0, 13457.0, 13364.0, 13314.0, 13485.0, 13411.0, 13340.0, 13456.0, 13357.0, 13407.0, 13319.0, 13322.0, 13350.0, 13495.0, 13335.0, 13355.0, 13472.0, 11313.0, 13810.0, 13469.0, 13665.0, 13648.0, 13796.0, 13825.0, 13849.0, 13809.0, 13626.0, 13415.0, 13843.0, 13859.0, 13776.0, 13838.0, 13839.0, 13804.0, 13808.0, 13861.0, 13376.0, 13475.0, 12216.0, 13352.0, 13431.0, 13775.0, 13847.0, 13806.0, 13606.0, 13605.0, 13636.0, 13685.0, 13601.0, 13611.0, 13637.0, 13608.0, 13612.0, 13651.0, 13634.0, 13607.0, 13691.0, 13642.0, 13646.0, 13680.0, 13633.0, 13669.0, 13654.0, 13664.0, 13679.0, 13623.0, 13615.0, 13622.0, 13616.0, 13643.0, 13656.0, 13650.0, 13673.0, 13624.0, 13618.0, 13693.0, 13675.0, 13694.0, 13658.0, 13630.0, 13635.0, 13640.0, 13641.0, 13692.0, 13730.0, 13732.0, 13734.0, 18837.0, 13743.0, 14892.0, 18840.0, 14861.0, 14901.0, 18830.0, 13812.0, 18810.0, 16925.0, 18650.0, 14859.0, 14825.0, 18854.0, 14894.0, 13787.0, 13865.0, 13795.0, 13748.0, 18812.0, 18801.0, 13813.0, 18822.0, 18818.0, 13826.0, 14889.0, 18850.0, 14838.0, 18851.0, 16914.0, 18853.0, 18829.0, 13784.0, 18465.0, 18847.0, 18834.0, 18827.0, 18828.0, 18421.0, 18472.0, 18456.0, 18407.0, 13902.0, 18842.0, 18821.0, 18825.0, 14001.0, 14004.0, 14005.0, 14006.0, 14008.0, 14012.0, 14009.0, 14011.0, 14013.0, 14036.0, 14470.0, 14020.0, 14031.0, 14032.0, 14105.0, 14094.0, 14103.0, 14051.0, 14025.0, 14024.0, 14139.0, 14737.0, 14101.0, 14065.0, 14536.0, 14709.0, 14427.0, 14530.0, 14042.0, 14569.0, 14145.0, 14066.0, 14717.0, 14743.0, 14080.0, 14173.0, 14026.0, 14120.0, 14220.0, 14150.0, 14227.0, 14226.0, 14206.0, 14086.0, 14207.0, 14221.0, 14210.0, 14215.0, 14225.0, 14209.0, 14224.0, 14217.0, 14043.0, 14201.0, 14228.0, 14211.0, 14223.0, 14222.0, 14202.0, 14028.0, 14030.0, 14033.0, 14141.0, 14127.0, 14067.0, 14172.0, 14098.0, 14108.0, 14068.0, 14126.0, 14132.0, 14174.0, 14131.0, 14591.0, 14143.0, 14711.0, 14735.0, 14884.0, 14836.0, 14167.0, 14082.0, 14846.0, 14037.0, 14550.0, 14822.0, 14777.0, 14727.0, 14517.0, 14060.0, 14052.0, 14731.0, 14171.0, 14170.0, 14075.0, 14111.0, 14057.0, 14069.0, 14034.0, 14059.0, 14755.0, 14102.0, 14083.0, 14729.0, 14213.0, 14214.0, 14204.0, 14216.0, 14203.0, 14208.0, 14212.0, 14218.0, 14072.0, 14744.0, 14040.0, 14125.0, 14058.0, 14054.0, 14479.0, 14571.0, 14557.0, 14422.0, 14219.0, 14085.0, 14047.0, 14129.0, 14081.0, 14136.0, 14070.0, 14062.0, 14719.0, 14091.0, 14525.0, 14772.0, 14741.0, 14738.0, 14740.0, 14779.0, 14747.0, 14733.0, 14048.0, 14423.0, 14482.0, 14428.0, 14138.0, 14726.0, 14723.0, 28203.0, 14511.0, 14420.0, 14416.0, 14510.0, 14055.0, 14813.0, 14739.0, 14716.0]\n"
     ]
    }
   ],
   "execution_count": 26
  },
  {
   "metadata": {
    "ExecuteTime": {
     "end_time": "2024-04-17T20:33:16.788985Z",
     "start_time": "2024-04-17T20:33:16.785484Z"
    }
   },
   "cell_type": "code",
   "source": [
    "with open('zip_codes.txt' , 'w') as file:\n",
    "    for zip in zip_to_predict:\n",
    "        file.write(f\"{zip}\\n\")"
   ],
   "id": "e4f12893da7381ac",
   "outputs": [],
   "execution_count": 27
  },
  {
   "metadata": {
    "ExecuteTime": {
     "end_time": "2024-04-18T06:07:22.987741Z",
     "start_time": "2024-04-18T06:07:22.901212Z"
    }
   },
   "cell_type": "code",
   "source": [
    "grouped = data.groupby('state')\n",
    "min_price = grouped['price'].min()\n",
    "max_price = grouped['price'].max()\n",
    "\n"
   ],
   "id": "c2e8d245d08ffdad",
   "outputs": [
    {
     "name": "stdout",
     "output_type": "stream",
     "text": [
      "state\n",
      "Connecticut         6000.0\n",
      "Delaware           14900.0\n",
      "Georgia           145000.0\n",
      "Louisiana         875000.0\n",
      "Maine               7000.0\n",
      "Massachusetts          1.0\n",
      "New Hampshire        385.0\n",
      "New Jersey             0.0\n",
      "New York               0.0\n",
      "Pennsylvania        4000.0\n",
      "Puerto Rico        15900.0\n",
      "Rhode Island        5500.0\n",
      "South Carolina     18950.0\n",
      "Tennessee          34900.0\n",
      "Vermont             1500.0\n",
      "Virgin Islands     20000.0\n",
      "Virginia           75000.0\n",
      "West Virginia      62500.0\n",
      "Wyoming           535000.0\n",
      "Name: price, dtype: float64\n",
      "state\n",
      "Connecticut       100000000.0\n",
      "Delaware            3950000.0\n",
      "Georgia              531625.0\n",
      "Louisiana            875000.0\n",
      "Maine               9000000.0\n",
      "Massachusetts      30000000.0\n",
      "New Hampshire      19500000.0\n",
      "New Jersey         25000000.0\n",
      "New York          875000000.0\n",
      "Pennsylvania       34000000.0\n",
      "Puerto Rico        25000000.0\n",
      "Rhode Island       14000000.0\n",
      "South Carolina        18950.0\n",
      "Tennessee             34900.0\n",
      "Vermont            16000000.0\n",
      "Virgin Islands     24500000.0\n",
      "Virginia             755000.0\n",
      "West Virginia         62500.0\n",
      "Wyoming              535000.0\n",
      "Name: price, dtype: float64\n"
     ]
    }
   ],
   "execution_count": 5
  },
  {
   "metadata": {
    "ExecuteTime": {
     "end_time": "2024-04-18T06:07:51.063799Z",
     "start_time": "2024-04-18T06:07:51.060077Z"
    }
   },
   "cell_type": "code",
   "source": [
    "\n",
    "print(min_price)"
   ],
   "id": "b83ec7f15708eae6",
   "outputs": [
    {
     "name": "stdout",
     "output_type": "stream",
     "text": [
      "state\n",
      "Connecticut         6000.0\n",
      "Delaware           14900.0\n",
      "Georgia           145000.0\n",
      "Louisiana         875000.0\n",
      "Maine               7000.0\n",
      "Massachusetts          1.0\n",
      "New Hampshire        385.0\n",
      "New Jersey             0.0\n",
      "New York               0.0\n",
      "Pennsylvania        4000.0\n",
      "Puerto Rico        15900.0\n",
      "Rhode Island        5500.0\n",
      "South Carolina     18950.0\n",
      "Tennessee          34900.0\n",
      "Vermont             1500.0\n",
      "Virgin Islands     20000.0\n",
      "Virginia           75000.0\n",
      "West Virginia      62500.0\n",
      "Wyoming           535000.0\n",
      "Name: price, dtype: float64\n"
     ]
    }
   ],
   "execution_count": 6
  },
  {
   "metadata": {
    "ExecuteTime": {
     "end_time": "2024-04-18T06:07:59.087883Z",
     "start_time": "2024-04-18T06:07:59.085356Z"
    }
   },
   "cell_type": "code",
   "source": "print(max_price)",
   "id": "544a88266aac0915",
   "outputs": [
    {
     "name": "stdout",
     "output_type": "stream",
     "text": [
      "state\n",
      "Connecticut       100000000.0\n",
      "Delaware            3950000.0\n",
      "Georgia              531625.0\n",
      "Louisiana            875000.0\n",
      "Maine               9000000.0\n",
      "Massachusetts      30000000.0\n",
      "New Hampshire      19500000.0\n",
      "New Jersey         25000000.0\n",
      "New York          875000000.0\n",
      "Pennsylvania       34000000.0\n",
      "Puerto Rico        25000000.0\n",
      "Rhode Island       14000000.0\n",
      "South Carolina        18950.0\n",
      "Tennessee             34900.0\n",
      "Vermont            16000000.0\n",
      "Virgin Islands     24500000.0\n",
      "Virginia             755000.0\n",
      "West Virginia         62500.0\n",
      "Wyoming              535000.0\n",
      "Name: price, dtype: float64\n"
     ]
    }
   ],
   "execution_count": 7
  }
 ],
 "metadata": {
  "kernelspec": {
   "display_name": "Python 3",
   "language": "python",
   "name": "python3"
  },
  "language_info": {
   "codemirror_mode": {
    "name": "ipython",
    "version": 2
   },
   "file_extension": ".py",
   "mimetype": "text/x-python",
   "name": "python",
   "nbconvert_exporter": "python",
   "pygments_lexer": "ipython2",
   "version": "2.7.6"
  }
 },
 "nbformat": 4,
 "nbformat_minor": 5
}
