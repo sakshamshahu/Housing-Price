{
 "cells": [
  {
   "cell_type": "code",
<<<<<<< HEAD
   "execution_count": 89,
=======
   "execution_count": 2,
>>>>>>> dev
   "metadata": {},
   "outputs": [],
   "source": [
    "import pandas as pd \n",
    "import numpy as np\n",
    "from sklearn.metrics import r2_score, mean_squared_error, mean_absolute_error\n",
    "from sklearn.preprocessing import OneHotEncoder, StandardScaler, MinMaxScaler\n",
    "from sklearn.model_selection import train_test_split\n",
    "from sklearn.linear_model import LinearRegression\n",
    "from sklearn.tree import DecisionTreeRegressor"
   ]
  },
  {
   "cell_type": "code",
   "execution_count": 90,
   "metadata": {},
   "outputs": [],
   "source": [
    "data_conneticut = pd.read_csv('D:\\DESKTOP\\AML_Project\\Housing-Price\\data\\interim\\Connecticut.csv')"
   ]
  },
  {
   "cell_type": "code",
   "execution_count": 91,
   "metadata": {},
   "outputs": [
    {
     "data": {
      "text/html": [
       "<div>\n",
       "<style scoped>\n",
       "    .dataframe tbody tr th:only-of-type {\n",
       "        vertical-align: middle;\n",
       "    }\n",
       "\n",
       "    .dataframe tbody tr th {\n",
       "        vertical-align: top;\n",
       "    }\n",
       "\n",
       "    .dataframe thead th {\n",
       "        text-align: right;\n",
       "    }\n",
       "</style>\n",
       "<table border=\"1\" class=\"dataframe\">\n",
       "  <thead>\n",
       "    <tr style=\"text-align: right;\">\n",
       "      <th></th>\n",
       "      <th>status</th>\n",
       "      <th>bed</th>\n",
       "      <th>bath</th>\n",
       "      <th>acre_lot</th>\n",
       "      <th>city</th>\n",
       "      <th>state</th>\n",
       "      <th>zip_code</th>\n",
       "      <th>house_size</th>\n",
       "      <th>price</th>\n",
       "    </tr>\n",
       "  </thead>\n",
       "  <tbody>\n",
       "    <tr>\n",
       "      <th>0</th>\n",
       "      <td>for_sale</td>\n",
       "      <td>3.0</td>\n",
       "      <td>1.0</td>\n",
       "      <td>3.930000</td>\n",
       "      <td>Willington</td>\n",
       "      <td>Connecticut</td>\n",
       "      <td>6279.0</td>\n",
       "      <td>1572.0</td>\n",
       "      <td>225000.0</td>\n",
       "    </tr>\n",
       "    <tr>\n",
       "      <th>1</th>\n",
       "      <td>for_sale</td>\n",
       "      <td>4.0</td>\n",
       "      <td>3.0</td>\n",
       "      <td>2.340000</td>\n",
       "      <td>Coventry</td>\n",
       "      <td>Connecticut</td>\n",
       "      <td>6238.0</td>\n",
       "      <td>3320.0</td>\n",
       "      <td>579900.0</td>\n",
       "    </tr>\n",
       "    <tr>\n",
       "      <th>2</th>\n",
       "      <td>for_sale</td>\n",
       "      <td>1.0</td>\n",
       "      <td>1.0</td>\n",
       "      <td>32.156834</td>\n",
       "      <td>Willington</td>\n",
       "      <td>Connecticut</td>\n",
       "      <td>6279.0</td>\n",
       "      <td>680.0</td>\n",
       "      <td>65000.0</td>\n",
       "    </tr>\n",
       "    <tr>\n",
       "      <th>3</th>\n",
       "      <td>for_sale</td>\n",
       "      <td>2.0</td>\n",
       "      <td>1.0</td>\n",
       "      <td>0.910000</td>\n",
       "      <td>East Windsor</td>\n",
       "      <td>Connecticut</td>\n",
       "      <td>6016.0</td>\n",
       "      <td>960.0</td>\n",
       "      <td>215000.0</td>\n",
       "    </tr>\n",
       "    <tr>\n",
       "      <th>4</th>\n",
       "      <td>for_sale</td>\n",
       "      <td>2.0</td>\n",
       "      <td>1.0</td>\n",
       "      <td>0.360000</td>\n",
       "      <td>Vernon</td>\n",
       "      <td>Connecticut</td>\n",
       "      <td>6066.0</td>\n",
       "      <td>860.0</td>\n",
       "      <td>144900.0</td>\n",
       "    </tr>\n",
       "  </tbody>\n",
       "</table>\n",
       "</div>"
      ],
      "text/plain": [
       "     status  bed  bath   acre_lot          city        state  zip_code  \\\n",
       "0  for_sale  3.0   1.0   3.930000    Willington  Connecticut    6279.0   \n",
       "1  for_sale  4.0   3.0   2.340000      Coventry  Connecticut    6238.0   \n",
       "2  for_sale  1.0   1.0  32.156834    Willington  Connecticut    6279.0   \n",
       "3  for_sale  2.0   1.0   0.910000  East Windsor  Connecticut    6016.0   \n",
       "4  for_sale  2.0   1.0   0.360000        Vernon  Connecticut    6066.0   \n",
       "\n",
       "   house_size     price  \n",
       "0      1572.0  225000.0  \n",
       "1      3320.0  579900.0  \n",
       "2       680.0   65000.0  \n",
       "3       960.0  215000.0  \n",
       "4       860.0  144900.0  "
      ]
     },
     "execution_count": 91,
     "metadata": {},
     "output_type": "execute_result"
    }
   ],
   "source": [
    "data_conneticut.head()"
   ]
  },
  {
   "cell_type": "code",
   "execution_count": 92,
   "metadata": {},
   "outputs": [],
   "source": [
    "data_conneticut['house_size'] = StandardScaler().fit_transform(data_conneticut['house_size'].values.reshape(len(data_conneticut), 1))\n",
    "\n",
    "price_scaler_conn = StandardScaler().fit(data_conneticut['price'].values.reshape(-1, 1))  # Assign to a variable\n",
    "data_conneticut['price'] = price_scaler_conn.transform(data_conneticut['price'].values.reshape(-1, 1))\n",
    "\n",
    "data_conneticut['bath'] = MinMaxScaler().fit_transform(data_conneticut['bath'].values.reshape(len(data_conneticut), 1))\n",
    "data_conneticut['bed'] = MinMaxScaler().fit_transform(data_conneticut['bed'].values.reshape(len(data_conneticut), 1))\n",
    "data_conneticut['acre_lot'] = MinMaxScaler().fit_transform(data_conneticut['acre_lot'].values.reshape(len(data_conneticut), 1))"
   ]
  },
  {
   "cell_type": "code",
   "execution_count": 93,
   "metadata": {},
   "outputs": [
    {
     "data": {
      "text/html": [
       "<div>\n",
       "<style scoped>\n",
       "    .dataframe tbody tr th:only-of-type {\n",
       "        vertical-align: middle;\n",
       "    }\n",
       "\n",
       "    .dataframe tbody tr th {\n",
       "        vertical-align: top;\n",
       "    }\n",
       "\n",
       "    .dataframe thead th {\n",
       "        text-align: right;\n",
       "    }\n",
       "</style>\n",
       "<table border=\"1\" class=\"dataframe\">\n",
       "  <thead>\n",
       "    <tr style=\"text-align: right;\">\n",
       "      <th></th>\n",
       "      <th>status</th>\n",
       "      <th>bed</th>\n",
       "      <th>bath</th>\n",
       "      <th>acre_lot</th>\n",
       "      <th>city</th>\n",
       "      <th>state</th>\n",
       "      <th>zip_code</th>\n",
       "      <th>house_size</th>\n",
       "      <th>price</th>\n",
       "    </tr>\n",
       "  </thead>\n",
       "  <tbody>\n",
       "    <tr>\n",
       "      <th>0</th>\n",
       "      <td>for_sale</td>\n",
       "      <td>0.090909</td>\n",
       "      <td>0.000000</td>\n",
       "      <td>0.000039</td>\n",
       "      <td>Willington</td>\n",
       "      <td>Connecticut</td>\n",
       "      <td>6279.0</td>\n",
       "      <td>-0.348938</td>\n",
       "      <td>-0.206817</td>\n",
       "    </tr>\n",
       "    <tr>\n",
       "      <th>1</th>\n",
       "      <td>for_sale</td>\n",
       "      <td>0.136364</td>\n",
       "      <td>0.083333</td>\n",
       "      <td>0.000023</td>\n",
       "      <td>Coventry</td>\n",
       "      <td>Connecticut</td>\n",
       "      <td>6238.0</td>\n",
       "      <td>0.632040</td>\n",
       "      <td>-0.010419</td>\n",
       "    </tr>\n",
       "    <tr>\n",
       "      <th>2</th>\n",
       "      <td>for_sale</td>\n",
       "      <td>0.000000</td>\n",
       "      <td>0.000000</td>\n",
       "      <td>0.000321</td>\n",
       "      <td>Willington</td>\n",
       "      <td>Connecticut</td>\n",
       "      <td>6279.0</td>\n",
       "      <td>-0.849529</td>\n",
       "      <td>-0.295360</td>\n",
       "    </tr>\n",
       "    <tr>\n",
       "      <th>3</th>\n",
       "      <td>for_sale</td>\n",
       "      <td>0.045455</td>\n",
       "      <td>0.000000</td>\n",
       "      <td>0.000009</td>\n",
       "      <td>East Windsor</td>\n",
       "      <td>Connecticut</td>\n",
       "      <td>6016.0</td>\n",
       "      <td>-0.692393</td>\n",
       "      <td>-0.212351</td>\n",
       "    </tr>\n",
       "    <tr>\n",
       "      <th>4</th>\n",
       "      <td>for_sale</td>\n",
       "      <td>0.045455</td>\n",
       "      <td>0.000000</td>\n",
       "      <td>0.000004</td>\n",
       "      <td>Vernon</td>\n",
       "      <td>Connecticut</td>\n",
       "      <td>6066.0</td>\n",
       "      <td>-0.748513</td>\n",
       "      <td>-0.251144</td>\n",
       "    </tr>\n",
       "    <tr>\n",
       "      <th>...</th>\n",
       "      <td>...</td>\n",
       "      <td>...</td>\n",
       "      <td>...</td>\n",
       "      <td>...</td>\n",
       "      <td>...</td>\n",
       "      <td>...</td>\n",
       "      <td>...</td>\n",
       "      <td>...</td>\n",
       "      <td>...</td>\n",
       "    </tr>\n",
       "    <tr>\n",
       "      <th>98807</th>\n",
       "      <td>for_sale</td>\n",
       "      <td>0.090909</td>\n",
       "      <td>0.083333</td>\n",
       "      <td>0.000010</td>\n",
       "      <td>New Milford</td>\n",
       "      <td>Connecticut</td>\n",
       "      <td>6755.0</td>\n",
       "      <td>-0.507758</td>\n",
       "      <td>-0.084573</td>\n",
       "    </tr>\n",
       "    <tr>\n",
       "      <th>98808</th>\n",
       "      <td>for_sale</td>\n",
       "      <td>0.090909</td>\n",
       "      <td>0.083333</td>\n",
       "      <td>0.000038</td>\n",
       "      <td>North Canaan</td>\n",
       "      <td>Connecticut</td>\n",
       "      <td>6018.0</td>\n",
       "      <td>-0.332664</td>\n",
       "      <td>-0.096139</td>\n",
       "    </tr>\n",
       "    <tr>\n",
       "      <th>98809</th>\n",
       "      <td>for_sale</td>\n",
       "      <td>0.090909</td>\n",
       "      <td>0.061979</td>\n",
       "      <td>0.000026</td>\n",
       "      <td>Sherman</td>\n",
       "      <td>Connecticut</td>\n",
       "      <td>6784.0</td>\n",
       "      <td>-0.008438</td>\n",
       "      <td>-0.173061</td>\n",
       "    </tr>\n",
       "    <tr>\n",
       "      <th>98810</th>\n",
       "      <td>for_sale</td>\n",
       "      <td>0.136364</td>\n",
       "      <td>0.125000</td>\n",
       "      <td>0.000012</td>\n",
       "      <td>Salisbury</td>\n",
       "      <td>Connecticut</td>\n",
       "      <td>6039.0</td>\n",
       "      <td>0.546177</td>\n",
       "      <td>0.440651</td>\n",
       "    </tr>\n",
       "    <tr>\n",
       "      <th>98811</th>\n",
       "      <td>for_sale</td>\n",
       "      <td>0.045455</td>\n",
       "      <td>0.083333</td>\n",
       "      <td>0.000006</td>\n",
       "      <td>Sharon</td>\n",
       "      <td>Connecticut</td>\n",
       "      <td>6069.0</td>\n",
       "      <td>-0.296185</td>\n",
       "      <td>0.346574</td>\n",
       "    </tr>\n",
       "  </tbody>\n",
       "</table>\n",
       "<p>98812 rows × 9 columns</p>\n",
       "</div>"
      ],
      "text/plain": [
       "         status       bed      bath  acre_lot          city        state  \\\n",
       "0      for_sale  0.090909  0.000000  0.000039    Willington  Connecticut   \n",
       "1      for_sale  0.136364  0.083333  0.000023      Coventry  Connecticut   \n",
       "2      for_sale  0.000000  0.000000  0.000321    Willington  Connecticut   \n",
       "3      for_sale  0.045455  0.000000  0.000009  East Windsor  Connecticut   \n",
       "4      for_sale  0.045455  0.000000  0.000004        Vernon  Connecticut   \n",
       "...         ...       ...       ...       ...           ...          ...   \n",
       "98807  for_sale  0.090909  0.083333  0.000010   New Milford  Connecticut   \n",
       "98808  for_sale  0.090909  0.083333  0.000038  North Canaan  Connecticut   \n",
       "98809  for_sale  0.090909  0.061979  0.000026       Sherman  Connecticut   \n",
       "98810  for_sale  0.136364  0.125000  0.000012     Salisbury  Connecticut   \n",
       "98811  for_sale  0.045455  0.083333  0.000006        Sharon  Connecticut   \n",
       "\n",
       "       zip_code  house_size     price  \n",
       "0        6279.0   -0.348938 -0.206817  \n",
       "1        6238.0    0.632040 -0.010419  \n",
       "2        6279.0   -0.849529 -0.295360  \n",
       "3        6016.0   -0.692393 -0.212351  \n",
       "4        6066.0   -0.748513 -0.251144  \n",
       "...         ...         ...       ...  \n",
       "98807    6755.0   -0.507758 -0.084573  \n",
       "98808    6018.0   -0.332664 -0.096139  \n",
       "98809    6784.0   -0.008438 -0.173061  \n",
       "98810    6039.0    0.546177  0.440651  \n",
       "98811    6069.0   -0.296185  0.346574  \n",
       "\n",
       "[98812 rows x 9 columns]"
      ]
     },
     "execution_count": 93,
     "metadata": {},
     "output_type": "execute_result"
    }
   ],
   "source": [
    "data_conneticut"
   ]
  },
  {
   "cell_type": "code",
   "execution_count": 94,
   "metadata": {},
   "outputs": [],
   "source": [
    "X = data_conneticut[['bed', 'bath', 'acre_lot', 'zip_code', 'house_size', 'city', 'state']]\n",
    "# hot encode the city and state\n",
    "X = pd.get_dummies(X, columns=['city', 'state'])\n",
    "\n",
    "y = data_conneticut['price']"
   ]
  },
  {
   "cell_type": "code",
   "execution_count": 95,
   "metadata": {},
   "outputs": [
    {
     "data": {
      "text/plain": [
       "0       -0.206817\n",
       "1       -0.010419\n",
       "2       -0.295360\n",
       "3       -0.212351\n",
       "4       -0.251144\n",
       "           ...   \n",
       "98807   -0.084573\n",
       "98808   -0.096139\n",
       "98809   -0.173061\n",
       "98810    0.440651\n",
       "98811    0.346574\n",
       "Name: price, Length: 98812, dtype: float64"
      ]
     },
     "execution_count": 95,
     "metadata": {},
     "output_type": "execute_result"
    }
   ],
   "source": [
    "y"
   ]
  },
  {
   "cell_type": "code",
   "execution_count": 96,
   "metadata": {},
   "outputs": [
    {
     "data": {
      "text/html": [
       "<div>\n",
       "<style scoped>\n",
       "    .dataframe tbody tr th:only-of-type {\n",
       "        vertical-align: middle;\n",
       "    }\n",
       "\n",
       "    .dataframe tbody tr th {\n",
       "        vertical-align: top;\n",
       "    }\n",
       "\n",
       "    .dataframe thead th {\n",
       "        text-align: right;\n",
       "    }\n",
       "</style>\n",
       "<table border=\"1\" class=\"dataframe\">\n",
       "  <thead>\n",
       "    <tr style=\"text-align: right;\">\n",
       "      <th></th>\n",
       "      <th>bed</th>\n",
       "      <th>bath</th>\n",
       "      <th>acre_lot</th>\n",
       "      <th>zip_code</th>\n",
       "      <th>house_size</th>\n",
       "      <th>city_Andover</th>\n",
       "      <th>city_Ansonia</th>\n",
       "      <th>city_Ashford</th>\n",
       "      <th>city_Avon</th>\n",
       "      <th>city_Barkhamsted</th>\n",
       "      <th>...</th>\n",
       "      <th>city_Wilton</th>\n",
       "      <th>city_Winchester</th>\n",
       "      <th>city_Windham</th>\n",
       "      <th>city_Windsor</th>\n",
       "      <th>city_Windsor Locks</th>\n",
       "      <th>city_Wolcott</th>\n",
       "      <th>city_Woodbridge</th>\n",
       "      <th>city_Woodbury</th>\n",
       "      <th>city_Woodstock</th>\n",
       "      <th>state_Connecticut</th>\n",
       "    </tr>\n",
       "  </thead>\n",
       "  <tbody>\n",
       "    <tr>\n",
       "      <th>0</th>\n",
       "      <td>0.090909</td>\n",
       "      <td>0.000000</td>\n",
       "      <td>0.000039</td>\n",
       "      <td>6279.0</td>\n",
       "      <td>-0.348938</td>\n",
       "      <td>0</td>\n",
       "      <td>0</td>\n",
       "      <td>0</td>\n",
       "      <td>0</td>\n",
       "      <td>0</td>\n",
       "      <td>...</td>\n",
       "      <td>0</td>\n",
       "      <td>0</td>\n",
       "      <td>0</td>\n",
       "      <td>0</td>\n",
       "      <td>0</td>\n",
       "      <td>0</td>\n",
       "      <td>0</td>\n",
       "      <td>0</td>\n",
       "      <td>0</td>\n",
       "      <td>1</td>\n",
       "    </tr>\n",
       "    <tr>\n",
       "      <th>1</th>\n",
       "      <td>0.136364</td>\n",
       "      <td>0.083333</td>\n",
       "      <td>0.000023</td>\n",
       "      <td>6238.0</td>\n",
       "      <td>0.632040</td>\n",
       "      <td>0</td>\n",
       "      <td>0</td>\n",
       "      <td>0</td>\n",
       "      <td>0</td>\n",
       "      <td>0</td>\n",
       "      <td>...</td>\n",
       "      <td>0</td>\n",
       "      <td>0</td>\n",
       "      <td>0</td>\n",
       "      <td>0</td>\n",
       "      <td>0</td>\n",
       "      <td>0</td>\n",
       "      <td>0</td>\n",
       "      <td>0</td>\n",
       "      <td>0</td>\n",
       "      <td>1</td>\n",
       "    </tr>\n",
       "    <tr>\n",
       "      <th>2</th>\n",
       "      <td>0.000000</td>\n",
       "      <td>0.000000</td>\n",
       "      <td>0.000321</td>\n",
       "      <td>6279.0</td>\n",
       "      <td>-0.849529</td>\n",
       "      <td>0</td>\n",
       "      <td>0</td>\n",
       "      <td>0</td>\n",
       "      <td>0</td>\n",
       "      <td>0</td>\n",
       "      <td>...</td>\n",
       "      <td>0</td>\n",
       "      <td>0</td>\n",
       "      <td>0</td>\n",
       "      <td>0</td>\n",
       "      <td>0</td>\n",
       "      <td>0</td>\n",
       "      <td>0</td>\n",
       "      <td>0</td>\n",
       "      <td>0</td>\n",
       "      <td>1</td>\n",
       "    </tr>\n",
       "    <tr>\n",
       "      <th>3</th>\n",
       "      <td>0.045455</td>\n",
       "      <td>0.000000</td>\n",
       "      <td>0.000009</td>\n",
       "      <td>6016.0</td>\n",
       "      <td>-0.692393</td>\n",
       "      <td>0</td>\n",
       "      <td>0</td>\n",
       "      <td>0</td>\n",
       "      <td>0</td>\n",
       "      <td>0</td>\n",
       "      <td>...</td>\n",
       "      <td>0</td>\n",
       "      <td>0</td>\n",
       "      <td>0</td>\n",
       "      <td>0</td>\n",
       "      <td>0</td>\n",
       "      <td>0</td>\n",
       "      <td>0</td>\n",
       "      <td>0</td>\n",
       "      <td>0</td>\n",
       "      <td>1</td>\n",
       "    </tr>\n",
       "    <tr>\n",
       "      <th>4</th>\n",
       "      <td>0.045455</td>\n",
       "      <td>0.000000</td>\n",
       "      <td>0.000004</td>\n",
       "      <td>6066.0</td>\n",
       "      <td>-0.748513</td>\n",
       "      <td>0</td>\n",
       "      <td>0</td>\n",
       "      <td>0</td>\n",
       "      <td>0</td>\n",
       "      <td>0</td>\n",
       "      <td>...</td>\n",
       "      <td>0</td>\n",
       "      <td>0</td>\n",
       "      <td>0</td>\n",
       "      <td>0</td>\n",
       "      <td>0</td>\n",
       "      <td>0</td>\n",
       "      <td>0</td>\n",
       "      <td>0</td>\n",
       "      <td>0</td>\n",
       "      <td>1</td>\n",
       "    </tr>\n",
       "  </tbody>\n",
       "</table>\n",
       "<p>5 rows × 182 columns</p>\n",
       "</div>"
      ],
      "text/plain": [
       "        bed      bath  acre_lot  zip_code  house_size  city_Andover  \\\n",
       "0  0.090909  0.000000  0.000039    6279.0   -0.348938             0   \n",
       "1  0.136364  0.083333  0.000023    6238.0    0.632040             0   \n",
       "2  0.000000  0.000000  0.000321    6279.0   -0.849529             0   \n",
       "3  0.045455  0.000000  0.000009    6016.0   -0.692393             0   \n",
       "4  0.045455  0.000000  0.000004    6066.0   -0.748513             0   \n",
       "\n",
       "   city_Ansonia  city_Ashford  city_Avon  city_Barkhamsted  ...  city_Wilton  \\\n",
       "0             0             0          0                 0  ...            0   \n",
       "1             0             0          0                 0  ...            0   \n",
       "2             0             0          0                 0  ...            0   \n",
       "3             0             0          0                 0  ...            0   \n",
       "4             0             0          0                 0  ...            0   \n",
       "\n",
       "   city_Winchester  city_Windham  city_Windsor  city_Windsor Locks  \\\n",
       "0                0             0             0                   0   \n",
       "1                0             0             0                   0   \n",
       "2                0             0             0                   0   \n",
       "3                0             0             0                   0   \n",
       "4                0             0             0                   0   \n",
       "\n",
       "   city_Wolcott  city_Woodbridge  city_Woodbury  city_Woodstock  \\\n",
       "0             0                0              0               0   \n",
       "1             0                0              0               0   \n",
       "2             0                0              0               0   \n",
       "3             0                0              0               0   \n",
       "4             0                0              0               0   \n",
       "\n",
       "   state_Connecticut  \n",
       "0                  1  \n",
       "1                  1  \n",
       "2                  1  \n",
       "3                  1  \n",
       "4                  1  \n",
       "\n",
       "[5 rows x 182 columns]"
      ]
     },
     "execution_count": 96,
     "metadata": {},
     "output_type": "execute_result"
    }
   ],
   "source": [
    "X.head()"
   ]
  },
  {
   "cell_type": "code",
   "execution_count": 97,
   "metadata": {},
   "outputs": [],
   "source": [
    "X_train, X_test, y_train, y_test = train_test_split(X, y, test_size=0.25, random_state=42)"
   ]
  },
  {
   "cell_type": "code",
   "execution_count": 98,
   "metadata": {},
   "outputs": [
    {
     "data": {
      "text/html": [
       "<style>#sk-container-id-4 {color: black;background-color: white;}#sk-container-id-4 pre{padding: 0;}#sk-container-id-4 div.sk-toggleable {background-color: white;}#sk-container-id-4 label.sk-toggleable__label {cursor: pointer;display: block;width: 100%;margin-bottom: 0;padding: 0.3em;box-sizing: border-box;text-align: center;}#sk-container-id-4 label.sk-toggleable__label-arrow:before {content: \"▸\";float: left;margin-right: 0.25em;color: #696969;}#sk-container-id-4 label.sk-toggleable__label-arrow:hover:before {color: black;}#sk-container-id-4 div.sk-estimator:hover label.sk-toggleable__label-arrow:before {color: black;}#sk-container-id-4 div.sk-toggleable__content {max-height: 0;max-width: 0;overflow: hidden;text-align: left;background-color: #f0f8ff;}#sk-container-id-4 div.sk-toggleable__content pre {margin: 0.2em;color: black;border-radius: 0.25em;background-color: #f0f8ff;}#sk-container-id-4 input.sk-toggleable__control:checked~div.sk-toggleable__content {max-height: 200px;max-width: 100%;overflow: auto;}#sk-container-id-4 input.sk-toggleable__control:checked~label.sk-toggleable__label-arrow:before {content: \"▾\";}#sk-container-id-4 div.sk-estimator input.sk-toggleable__control:checked~label.sk-toggleable__label {background-color: #d4ebff;}#sk-container-id-4 div.sk-label input.sk-toggleable__control:checked~label.sk-toggleable__label {background-color: #d4ebff;}#sk-container-id-4 input.sk-hidden--visually {border: 0;clip: rect(1px 1px 1px 1px);clip: rect(1px, 1px, 1px, 1px);height: 1px;margin: -1px;overflow: hidden;padding: 0;position: absolute;width: 1px;}#sk-container-id-4 div.sk-estimator {font-family: monospace;background-color: #f0f8ff;border: 1px dotted black;border-radius: 0.25em;box-sizing: border-box;margin-bottom: 0.5em;}#sk-container-id-4 div.sk-estimator:hover {background-color: #d4ebff;}#sk-container-id-4 div.sk-parallel-item::after {content: \"\";width: 100%;border-bottom: 1px solid gray;flex-grow: 1;}#sk-container-id-4 div.sk-label:hover label.sk-toggleable__label {background-color: #d4ebff;}#sk-container-id-4 div.sk-serial::before {content: \"\";position: absolute;border-left: 1px solid gray;box-sizing: border-box;top: 0;bottom: 0;left: 50%;z-index: 0;}#sk-container-id-4 div.sk-serial {display: flex;flex-direction: column;align-items: center;background-color: white;padding-right: 0.2em;padding-left: 0.2em;position: relative;}#sk-container-id-4 div.sk-item {position: relative;z-index: 1;}#sk-container-id-4 div.sk-parallel {display: flex;align-items: stretch;justify-content: center;background-color: white;position: relative;}#sk-container-id-4 div.sk-item::before, #sk-container-id-4 div.sk-parallel-item::before {content: \"\";position: absolute;border-left: 1px solid gray;box-sizing: border-box;top: 0;bottom: 0;left: 50%;z-index: -1;}#sk-container-id-4 div.sk-parallel-item {display: flex;flex-direction: column;z-index: 1;position: relative;background-color: white;}#sk-container-id-4 div.sk-parallel-item:first-child::after {align-self: flex-end;width: 50%;}#sk-container-id-4 div.sk-parallel-item:last-child::after {align-self: flex-start;width: 50%;}#sk-container-id-4 div.sk-parallel-item:only-child::after {width: 0;}#sk-container-id-4 div.sk-dashed-wrapped {border: 1px dashed gray;margin: 0 0.4em 0.5em 0.4em;box-sizing: border-box;padding-bottom: 0.4em;background-color: white;}#sk-container-id-4 div.sk-label label {font-family: monospace;font-weight: bold;display: inline-block;line-height: 1.2em;}#sk-container-id-4 div.sk-label-container {text-align: center;}#sk-container-id-4 div.sk-container {/* jupyter's `normalize.less` sets `[hidden] { display: none; }` but bootstrap.min.css set `[hidden] { display: none !important; }` so we also need the `!important` here to be able to override the default hidden behavior on the sphinx rendered scikit-learn.org. See: https://github.com/scikit-learn/scikit-learn/issues/21755 */display: inline-block !important;position: relative;}#sk-container-id-4 div.sk-text-repr-fallback {display: none;}</style><div id=\"sk-container-id-4\" class=\"sk-top-container\"><div class=\"sk-text-repr-fallback\"><pre>LinearRegression()</pre><b>In a Jupyter environment, please rerun this cell to show the HTML representation or trust the notebook. <br />On GitHub, the HTML representation is unable to render, please try loading this page with nbviewer.org.</b></div><div class=\"sk-container\" hidden><div class=\"sk-item\"><div class=\"sk-estimator sk-toggleable\"><input class=\"sk-toggleable__control sk-hidden--visually\" id=\"sk-estimator-id-4\" type=\"checkbox\" checked><label for=\"sk-estimator-id-4\" class=\"sk-toggleable__label sk-toggleable__label-arrow\">LinearRegression</label><div class=\"sk-toggleable__content\"><pre>LinearRegression()</pre></div></div></div></div></div>"
      ],
      "text/plain": [
       "LinearRegression()"
      ]
     },
     "execution_count": 98,
     "metadata": {},
     "output_type": "execute_result"
    }
   ],
   "source": [
    "model = LinearRegression()\n",
    "model.fit(X_train, y_train)"
   ]
  },
  {
   "cell_type": "code",
   "execution_count": 99,
   "metadata": {},
   "outputs": [],
   "source": [
    "y_pred = model.predict(X_test)"
   ]
  },
  {
   "cell_type": "code",
   "execution_count": 100,
   "metadata": {},
   "outputs": [],
   "source": [
    "mse = mean_squared_error(y_test, y_pred)\n",
    "rmse = np.sqrt(mse)\n",
    "mae = mean_absolute_error(y_test, y_pred)\n",
    "r2 = r2_score(y_test, y_pred)"
   ]
  },
  {
   "cell_type": "code",
   "execution_count": 101,
   "metadata": {},
   "outputs": [
    {
     "name": "stdout",
     "output_type": "stream",
     "text": [
      "MSE: 0.5931887035155777\n",
      "RMSE: 0.7701874469994806\n",
      "MAE: 0.22994551377862324\n",
      "R2: 0.3729451798255674\n"
     ]
    }
   ],
   "source": [
    "print(f'MSE: {mse}')\n",
    "print(f'RMSE: {rmse}')\n",
    "print(f'MAE: {mae}')\n",
    "print(f'R2: {r2}')\n"
   ]
  },
  {
   "cell_type": "code",
   "execution_count": 102,
   "metadata": {},
   "outputs": [],
   "source": [
    "model_tree = DecisionTreeRegressor()\n",
    "model_tree.fit(X_train, y_train)\n",
    "y_pred_tree = model_tree.predict(X_test)\n"
   ]
  },
  {
   "cell_type": "code",
   "execution_count": 103,
   "metadata": {},
   "outputs": [],
   "source": [
    "mse_tree = mean_squared_error(y_test, y_pred_tree)\n",
    "rmse_tree = np.sqrt(mse_tree)\n",
    "mae_tree = mean_absolute_error(y_test, y_pred_tree)\n",
    "r2_tree = r2_score(y_test, y_pred_tree)"
   ]
  },
  {
   "cell_type": "code",
   "execution_count": 104,
   "metadata": {},
   "outputs": [
    {
     "name": "stdout",
     "output_type": "stream",
     "text": [
      "MSE: 0.0027511114733679244\n",
      "RMSE: 0.0524510388206747\n",
      "MAE: 0.004041464911771258\n",
      "R2: 0.9970918230573363\n"
     ]
    }
   ],
   "source": [
    "print(f'MSE: {mse_tree}')\n",
    "print(f'RMSE: {rmse_tree}')\n",
    "print(f'MAE: {mae_tree}')\n",
    "print(f'R2: {r2_tree}')"
   ]
  },
  {
   "cell_type": "code",
   "execution_count": 124,
   "metadata": {},
   "outputs": [
    {
     "data": {
      "text/plain": [
       "array([1205009.73080667])"
      ]
     },
     "execution_count": 124,
     "metadata": {},
     "output_type": "execute_result"
    }
   ],
   "source": [
    "y_pred_tree_reshaped = y_pred_tree.reshape(-1, 1)\n",
    "original_price_predictions = price_scaler_conn.inverse_transform(y_pred_tree_reshaped)\n",
    "absolute_predictions = np.abs(original_price_predictions)\n",
    "absolute_predictions[89]"
   ]
  },
  {
   "cell_type": "code",
   "execution_count": null,
   "metadata": {},
   "outputs": [],
   "source": []
  },
  {
   "cell_type": "code",
   "execution_count": 106,
   "metadata": {},
   "outputs": [],
   "source": [
    "data_delaware = pd.read_csv('D:\\DESKTOP\\AML_Project\\Housing-Price\\data\\interim\\Delaware.csv')"
   ]
  },
  {
   "cell_type": "code",
   "execution_count": 107,
   "metadata": {},
   "outputs": [],
   "source": [
    "data_delaware['house_size'] = StandardScaler().fit_transform(data_delaware['house_size'].values.reshape(len(data_delaware), 1))\n",
    "\n",
    "price_scaler_del = StandardScaler().fit(data_delaware['price'].values.reshape(-1, 1))  # Assign to a variable\n",
    "data_delaware['price'] = price_scaler_del.transform(data_delaware['price'].values.reshape(-1, 1))\n",
    "\n",
    "data_delaware['bath'] = MinMaxScaler().fit_transform(data_delaware['bath'].values.reshape(len(data_delaware), 1))\n",
    "data_delaware['bed'] = MinMaxScaler().fit_transform(data_delaware['bed'].values.reshape(len(data_delaware), 1))\n",
    "data_delaware['acre_lot'] = MinMaxScaler().fit_transform(data_delaware['acre_lot'].values.reshape(len(data_delaware), 1))"
   ]
  },
  {
   "cell_type": "code",
   "execution_count": 108,
   "metadata": {},
   "outputs": [
    {
     "data": {
      "text/html": [
       "<div>\n",
       "<style scoped>\n",
       "    .dataframe tbody tr th:only-of-type {\n",
       "        vertical-align: middle;\n",
       "    }\n",
       "\n",
       "    .dataframe tbody tr th {\n",
       "        vertical-align: top;\n",
       "    }\n",
       "\n",
       "    .dataframe thead th {\n",
       "        text-align: right;\n",
       "    }\n",
       "</style>\n",
       "<table border=\"1\" class=\"dataframe\">\n",
       "  <thead>\n",
       "    <tr style=\"text-align: right;\">\n",
       "      <th></th>\n",
       "      <th>status</th>\n",
       "      <th>bed</th>\n",
       "      <th>bath</th>\n",
       "      <th>acre_lot</th>\n",
       "      <th>city</th>\n",
       "      <th>state</th>\n",
       "      <th>zip_code</th>\n",
       "      <th>house_size</th>\n",
       "      <th>price</th>\n",
       "    </tr>\n",
       "  </thead>\n",
       "  <tbody>\n",
       "    <tr>\n",
       "      <th>0</th>\n",
       "      <td>for_sale</td>\n",
       "      <td>0.133333</td>\n",
       "      <td>0.000000</td>\n",
       "      <td>0.000143</td>\n",
       "      <td>New Castle</td>\n",
       "      <td>Delaware</td>\n",
       "      <td>19720.0</td>\n",
       "      <td>-0.712780</td>\n",
       "      <td>-1.002163</td>\n",
       "    </tr>\n",
       "    <tr>\n",
       "      <th>1</th>\n",
       "      <td>for_sale</td>\n",
       "      <td>0.200000</td>\n",
       "      <td>0.111111</td>\n",
       "      <td>0.000229</td>\n",
       "      <td>New Castle</td>\n",
       "      <td>Delaware</td>\n",
       "      <td>19720.0</td>\n",
       "      <td>0.043122</td>\n",
       "      <td>-0.527026</td>\n",
       "    </tr>\n",
       "    <tr>\n",
       "      <th>2</th>\n",
       "      <td>for_sale</td>\n",
       "      <td>0.266667</td>\n",
       "      <td>0.165279</td>\n",
       "      <td>0.000057</td>\n",
       "      <td>Wilmington</td>\n",
       "      <td>Delaware</td>\n",
       "      <td>19805.0</td>\n",
       "      <td>0.140811</td>\n",
       "      <td>-0.544799</td>\n",
       "    </tr>\n",
       "    <tr>\n",
       "      <th>3</th>\n",
       "      <td>for_sale</td>\n",
       "      <td>0.333333</td>\n",
       "      <td>0.111111</td>\n",
       "      <td>0.000086</td>\n",
       "      <td>Wilmington</td>\n",
       "      <td>Delaware</td>\n",
       "      <td>19801.0</td>\n",
       "      <td>0.472763</td>\n",
       "      <td>-0.943768</td>\n",
       "    </tr>\n",
       "    <tr>\n",
       "      <th>4</th>\n",
       "      <td>for_sale</td>\n",
       "      <td>0.133333</td>\n",
       "      <td>0.165279</td>\n",
       "      <td>0.000029</td>\n",
       "      <td>Wilmington</td>\n",
       "      <td>Delaware</td>\n",
       "      <td>19802.0</td>\n",
       "      <td>0.144354</td>\n",
       "      <td>-0.998173</td>\n",
       "    </tr>\n",
       "  </tbody>\n",
       "</table>\n",
       "</div>"
      ],
      "text/plain": [
       "     status       bed      bath  acre_lot        city     state  zip_code  \\\n",
       "0  for_sale  0.133333  0.000000  0.000143  New Castle  Delaware   19720.0   \n",
       "1  for_sale  0.200000  0.111111  0.000229  New Castle  Delaware   19720.0   \n",
       "2  for_sale  0.266667  0.165279  0.000057  Wilmington  Delaware   19805.0   \n",
       "3  for_sale  0.333333  0.111111  0.000086  Wilmington  Delaware   19801.0   \n",
       "4  for_sale  0.133333  0.165279  0.000029  Wilmington  Delaware   19802.0   \n",
       "\n",
       "   house_size     price  \n",
       "0   -0.712780 -1.002163  \n",
       "1    0.043122 -0.527026  \n",
       "2    0.140811 -0.544799  \n",
       "3    0.472763 -0.943768  \n",
       "4    0.144354 -0.998173  "
      ]
     },
     "execution_count": 108,
     "metadata": {},
     "output_type": "execute_result"
    }
   ],
   "source": [
    "data_delaware.head()"
   ]
  },
  {
   "cell_type": "code",
   "execution_count": 109,
   "metadata": {},
   "outputs": [],
   "source": [
    "X = data_delaware[['bed', 'bath', 'acre_lot', 'zip_code', 'house_size', 'city', 'state']]\n",
    "X = pd.get_dummies(X, columns=['city', 'state'])\n",
    "y  = data_delaware['price']"
   ]
  },
  {
   "cell_type": "code",
   "execution_count": 110,
   "metadata": {},
   "outputs": [],
   "source": [
    "X_train, X_test, y_train, y_test = train_test_split(X, y, test_size=0.25, random_state=42)"
   ]
  },
  {
   "cell_type": "code",
   "execution_count": 111,
   "metadata": {},
   "outputs": [
    {
     "data": {
      "text/html": [
       "<style>#sk-container-id-5 {color: black;background-color: white;}#sk-container-id-5 pre{padding: 0;}#sk-container-id-5 div.sk-toggleable {background-color: white;}#sk-container-id-5 label.sk-toggleable__label {cursor: pointer;display: block;width: 100%;margin-bottom: 0;padding: 0.3em;box-sizing: border-box;text-align: center;}#sk-container-id-5 label.sk-toggleable__label-arrow:before {content: \"▸\";float: left;margin-right: 0.25em;color: #696969;}#sk-container-id-5 label.sk-toggleable__label-arrow:hover:before {color: black;}#sk-container-id-5 div.sk-estimator:hover label.sk-toggleable__label-arrow:before {color: black;}#sk-container-id-5 div.sk-toggleable__content {max-height: 0;max-width: 0;overflow: hidden;text-align: left;background-color: #f0f8ff;}#sk-container-id-5 div.sk-toggleable__content pre {margin: 0.2em;color: black;border-radius: 0.25em;background-color: #f0f8ff;}#sk-container-id-5 input.sk-toggleable__control:checked~div.sk-toggleable__content {max-height: 200px;max-width: 100%;overflow: auto;}#sk-container-id-5 input.sk-toggleable__control:checked~label.sk-toggleable__label-arrow:before {content: \"▾\";}#sk-container-id-5 div.sk-estimator input.sk-toggleable__control:checked~label.sk-toggleable__label {background-color: #d4ebff;}#sk-container-id-5 div.sk-label input.sk-toggleable__control:checked~label.sk-toggleable__label {background-color: #d4ebff;}#sk-container-id-5 input.sk-hidden--visually {border: 0;clip: rect(1px 1px 1px 1px);clip: rect(1px, 1px, 1px, 1px);height: 1px;margin: -1px;overflow: hidden;padding: 0;position: absolute;width: 1px;}#sk-container-id-5 div.sk-estimator {font-family: monospace;background-color: #f0f8ff;border: 1px dotted black;border-radius: 0.25em;box-sizing: border-box;margin-bottom: 0.5em;}#sk-container-id-5 div.sk-estimator:hover {background-color: #d4ebff;}#sk-container-id-5 div.sk-parallel-item::after {content: \"\";width: 100%;border-bottom: 1px solid gray;flex-grow: 1;}#sk-container-id-5 div.sk-label:hover label.sk-toggleable__label {background-color: #d4ebff;}#sk-container-id-5 div.sk-serial::before {content: \"\";position: absolute;border-left: 1px solid gray;box-sizing: border-box;top: 0;bottom: 0;left: 50%;z-index: 0;}#sk-container-id-5 div.sk-serial {display: flex;flex-direction: column;align-items: center;background-color: white;padding-right: 0.2em;padding-left: 0.2em;position: relative;}#sk-container-id-5 div.sk-item {position: relative;z-index: 1;}#sk-container-id-5 div.sk-parallel {display: flex;align-items: stretch;justify-content: center;background-color: white;position: relative;}#sk-container-id-5 div.sk-item::before, #sk-container-id-5 div.sk-parallel-item::before {content: \"\";position: absolute;border-left: 1px solid gray;box-sizing: border-box;top: 0;bottom: 0;left: 50%;z-index: -1;}#sk-container-id-5 div.sk-parallel-item {display: flex;flex-direction: column;z-index: 1;position: relative;background-color: white;}#sk-container-id-5 div.sk-parallel-item:first-child::after {align-self: flex-end;width: 50%;}#sk-container-id-5 div.sk-parallel-item:last-child::after {align-self: flex-start;width: 50%;}#sk-container-id-5 div.sk-parallel-item:only-child::after {width: 0;}#sk-container-id-5 div.sk-dashed-wrapped {border: 1px dashed gray;margin: 0 0.4em 0.5em 0.4em;box-sizing: border-box;padding-bottom: 0.4em;background-color: white;}#sk-container-id-5 div.sk-label label {font-family: monospace;font-weight: bold;display: inline-block;line-height: 1.2em;}#sk-container-id-5 div.sk-label-container {text-align: center;}#sk-container-id-5 div.sk-container {/* jupyter's `normalize.less` sets `[hidden] { display: none; }` but bootstrap.min.css set `[hidden] { display: none !important; }` so we also need the `!important` here to be able to override the default hidden behavior on the sphinx rendered scikit-learn.org. See: https://github.com/scikit-learn/scikit-learn/issues/21755 */display: inline-block !important;position: relative;}#sk-container-id-5 div.sk-text-repr-fallback {display: none;}</style><div id=\"sk-container-id-5\" class=\"sk-top-container\"><div class=\"sk-text-repr-fallback\"><pre>LinearRegression()</pre><b>In a Jupyter environment, please rerun this cell to show the HTML representation or trust the notebook. <br />On GitHub, the HTML representation is unable to render, please try loading this page with nbviewer.org.</b></div><div class=\"sk-container\" hidden><div class=\"sk-item\"><div class=\"sk-estimator sk-toggleable\"><input class=\"sk-toggleable__control sk-hidden--visually\" id=\"sk-estimator-id-5\" type=\"checkbox\" checked><label for=\"sk-estimator-id-5\" class=\"sk-toggleable__label sk-toggleable__label-arrow\">LinearRegression</label><div class=\"sk-toggleable__content\"><pre>LinearRegression()</pre></div></div></div></div></div>"
      ],
      "text/plain": [
       "LinearRegression()"
      ]
     },
     "execution_count": 111,
     "metadata": {},
     "output_type": "execute_result"
    }
   ],
   "source": [
    "model = LinearRegression()\n",
    "model.fit(X_train, y_train)"
   ]
  },
  {
   "cell_type": "code",
   "execution_count": 125,
   "metadata": {},
   "outputs": [
    {
     "data": {
      "text/plain": [
       "array([300593.96664185])"
      ]
     },
     "execution_count": 125,
     "metadata": {},
     "output_type": "execute_result"
    }
   ],
   "source": [
    "y_pred = model.predict(X_test)\n",
    "y_pred_reshaped = y_pred.reshape(-1, 1)\n",
    "original_price_predictions = price_scaler_del.inverse_transform(y_pred_reshaped)\n",
    "absolute_predictions = np.abs(original_price_predictions)\n",
    "absolute_predictions[89]"
   ]
  },
  {
   "cell_type": "code",
   "execution_count": 113,
   "metadata": {},
   "outputs": [],
   "source": [
    "mse = mean_squared_error(y_test, y_pred)\n",
    "rmse = np.sqrt(mse)\n",
    "mae = mean_absolute_error(y_test, y_pred)\n",
    "r2 = r2_score(y_test, y_pred)"
   ]
  },
  {
   "cell_type": "code",
   "execution_count": 114,
   "metadata": {},
   "outputs": [
    {
     "name": "stdout",
     "output_type": "stream",
     "text": [
      "MSE: 0.5001263651387834\n",
      "RMSE: 0.7071961291882072\n",
      "MAE: 0.3765443499369436\n",
      "R2: 0.5741006940105161\n"
     ]
    }
   ],
   "source": [
    "print(f'MSE: {mse}')\n",
    "print(f'RMSE: {rmse}')\n",
    "print(f'MAE: {mae}')\n",
    "print(f'R2: {r2}')"
   ]
  },
  {
   "cell_type": "code",
   "execution_count": 126,
   "metadata": {},
   "outputs": [],
   "source": [
    "model_tree = DecisionTreeRegressor()\n",
    "model_tree.fit(X_train, y_train)\n",
    "y_pred_tree = model_tree.predict(X_test)\n"
   ]
  },
  {
   "cell_type": "code",
   "execution_count": 116,
   "metadata": {},
   "outputs": [],
   "source": [
    "mse_tree = mean_squared_error(y_test, y_pred_tree)\n",
    "rmse_tree = np.sqrt(mse_tree)\n",
    "mae_tree = mean_absolute_error(y_test, y_pred_tree)\n",
    "r2_tree = r2_score(y_test, y_pred_tree)"
   ]
  },
  {
   "cell_type": "code",
   "execution_count": 117,
   "metadata": {},
   "outputs": [
    {
     "name": "stdout",
     "output_type": "stream",
     "text": [
      "MSE: 0.3054045791501775\n",
      "RMSE: 0.5526342182223043\n",
      "MAE: 0.183612004825363\n",
      "R2: 0.7399225328383225\n"
     ]
    }
   ],
   "source": [
    "print(f'MSE: {mse_tree}')\n",
    "print(f'RMSE: {rmse_tree}')\n",
    "print(f'MAE: {mae_tree}')\n",
    "print(f'R2: {r2_tree}')"
   ]
  },
  {
   "cell_type": "code",
   "execution_count": 19,
   "metadata": {},
   "outputs": [],
   "source": [
    "data_maine= pd.read_csv('/Users/saksham/Projects/Housing-Price/data/interim/Maine.csv')"
   ]
  },
  {
   "cell_type": "code",
   "execution_count": 20,
   "metadata": {},
   "outputs": [
    {
     "data": {
      "text/html": [
       "<div>\n",
       "<style scoped>\n",
       "    .dataframe tbody tr th:only-of-type {\n",
       "        vertical-align: middle;\n",
       "    }\n",
       "\n",
       "    .dataframe tbody tr th {\n",
       "        vertical-align: top;\n",
       "    }\n",
       "\n",
       "    .dataframe thead th {\n",
       "        text-align: right;\n",
       "    }\n",
       "</style>\n",
       "<table border=\"1\" class=\"dataframe\">\n",
       "  <thead>\n",
       "    <tr style=\"text-align: right;\">\n",
       "      <th></th>\n",
       "      <th>status</th>\n",
       "      <th>bed</th>\n",
       "      <th>bath</th>\n",
       "      <th>acre_lot</th>\n",
       "      <th>city</th>\n",
       "      <th>state</th>\n",
       "      <th>zip_code</th>\n",
       "      <th>house_size</th>\n",
       "      <th>price</th>\n",
       "    </tr>\n",
       "  </thead>\n",
       "  <tbody>\n",
       "    <tr>\n",
       "      <th>0</th>\n",
       "      <td>for_sale</td>\n",
       "      <td>4.0</td>\n",
       "      <td>3.0</td>\n",
       "      <td>2.00</td>\n",
       "      <td>Eliot</td>\n",
       "      <td>Maine</td>\n",
       "      <td>3903.0</td>\n",
       "      <td>2628.0</td>\n",
       "      <td>750000.0</td>\n",
       "    </tr>\n",
       "    <tr>\n",
       "      <th>1</th>\n",
       "      <td>for_sale</td>\n",
       "      <td>3.0</td>\n",
       "      <td>4.0</td>\n",
       "      <td>2.97</td>\n",
       "      <td>Eliot</td>\n",
       "      <td>Maine</td>\n",
       "      <td>3903.0</td>\n",
       "      <td>2600.0</td>\n",
       "      <td>549000.0</td>\n",
       "    </tr>\n",
       "    <tr>\n",
       "      <th>2</th>\n",
       "      <td>for_sale</td>\n",
       "      <td>5.0</td>\n",
       "      <td>5.0</td>\n",
       "      <td>0.95</td>\n",
       "      <td>Eliot</td>\n",
       "      <td>Maine</td>\n",
       "      <td>3903.0</td>\n",
       "      <td>3116.0</td>\n",
       "      <td>850000.0</td>\n",
       "    </tr>\n",
       "    <tr>\n",
       "      <th>3</th>\n",
       "      <td>for_sale</td>\n",
       "      <td>3.0</td>\n",
       "      <td>2.0</td>\n",
       "      <td>1.23</td>\n",
       "      <td>Eliot</td>\n",
       "      <td>Maine</td>\n",
       "      <td>3903.0</td>\n",
       "      <td>1116.0</td>\n",
       "      <td>469500.0</td>\n",
       "    </tr>\n",
       "    <tr>\n",
       "      <th>4</th>\n",
       "      <td>for_sale</td>\n",
       "      <td>3.0</td>\n",
       "      <td>3.0</td>\n",
       "      <td>2.01</td>\n",
       "      <td>Saco</td>\n",
       "      <td>Maine</td>\n",
       "      <td>4027.0</td>\n",
       "      <td>2080.0</td>\n",
       "      <td>599990.0</td>\n",
       "    </tr>\n",
       "  </tbody>\n",
       "</table>\n",
       "</div>"
      ],
      "text/plain": [
       "     status  bed  bath  acre_lot   city  state  zip_code  house_size     price\n",
       "0  for_sale  4.0   3.0      2.00  Eliot  Maine    3903.0      2628.0  750000.0\n",
       "1  for_sale  3.0   4.0      2.97  Eliot  Maine    3903.0      2600.0  549000.0\n",
       "2  for_sale  5.0   5.0      0.95  Eliot  Maine    3903.0      3116.0  850000.0\n",
       "3  for_sale  3.0   2.0      1.23  Eliot  Maine    3903.0      1116.0  469500.0\n",
       "4  for_sale  3.0   3.0      2.01   Saco  Maine    4027.0      2080.0  599990.0"
      ]
     },
     "execution_count": 20,
     "metadata": {},
     "output_type": "execute_result"
    }
   ],
   "source": [
    "data_maine.head()"
   ]
  },
  {
   "cell_type": "code",
   "execution_count": 5,
   "metadata": {},
   "outputs": [],
   "source": [
    "data_maine['house_size']= StandardScaler().fit_transform(data_maine['house_size'].values.reshape(len(data_maine), 1))\n",
    "\n",
    "price_scaler_mai= StandardScaler().fit(data_maine['price'].values.reshape(-1, 1))  # Assign to a variable\n",
    "data_maine['price']= price_scaler_mai.transform(data_maine['price'].values.reshape(-1, 1))\n",
    "\n",
    "data_maine['bath']= MinMaxScaler().fit_transform(data_maine['bath'].values.reshape(len(data_maine), 1))\n",
    "data_maine['bed']= MinMaxScaler().fit_transform(data_maine['bed'].values.reshape(len(data_maine), 1))\n",
    "data_maine['acre_lot']= MinMaxScaler().fit_transform(data_maine['acre_lot'].values.reshape(len(data_maine), 1))"
   ]
  },
  {
   "cell_type": "code",
   "execution_count": 5,
   "metadata": {},
   "outputs": [
    {
     "data": {
      "text/html": [
       "<div>\n",
       "<style scoped>\n",
       "    .dataframe tbody tr th:only-of-type {\n",
       "        vertical-align: middle;\n",
       "    }\n",
       "\n",
       "    .dataframe tbody tr th {\n",
       "        vertical-align: top;\n",
       "    }\n",
       "\n",
       "    .dataframe thead th {\n",
       "        text-align: right;\n",
       "    }\n",
       "</style>\n",
       "<table border=\"1\" class=\"dataframe\">\n",
       "  <thead>\n",
       "    <tr style=\"text-align: right;\">\n",
       "      <th></th>\n",
       "      <th>status</th>\n",
       "      <th>bed</th>\n",
       "      <th>bath</th>\n",
       "      <th>acre_lot</th>\n",
       "      <th>city</th>\n",
       "      <th>state</th>\n",
       "      <th>zip_code</th>\n",
       "      <th>house_size</th>\n",
       "      <th>price</th>\n",
       "    </tr>\n",
       "  </thead>\n",
       "  <tbody>\n",
       "    <tr>\n",
       "      <th>0</th>\n",
       "      <td>for_sale</td>\n",
       "      <td>4.0</td>\n",
       "      <td>3.0</td>\n",
       "      <td>2.00</td>\n",
       "      <td>Eliot</td>\n",
       "      <td>Maine</td>\n",
       "      <td>3903.0</td>\n",
       "      <td>2628.0</td>\n",
       "      <td>750000.0</td>\n",
       "    </tr>\n",
       "    <tr>\n",
       "      <th>1</th>\n",
       "      <td>for_sale</td>\n",
       "      <td>3.0</td>\n",
       "      <td>4.0</td>\n",
       "      <td>2.97</td>\n",
       "      <td>Eliot</td>\n",
       "      <td>Maine</td>\n",
       "      <td>3903.0</td>\n",
       "      <td>2600.0</td>\n",
       "      <td>549000.0</td>\n",
       "    </tr>\n",
       "    <tr>\n",
       "      <th>2</th>\n",
       "      <td>for_sale</td>\n",
       "      <td>5.0</td>\n",
       "      <td>5.0</td>\n",
       "      <td>0.95</td>\n",
       "      <td>Eliot</td>\n",
       "      <td>Maine</td>\n",
       "      <td>3903.0</td>\n",
       "      <td>3116.0</td>\n",
       "      <td>850000.0</td>\n",
       "    </tr>\n",
       "    <tr>\n",
       "      <th>3</th>\n",
       "      <td>for_sale</td>\n",
       "      <td>3.0</td>\n",
       "      <td>2.0</td>\n",
       "      <td>1.23</td>\n",
       "      <td>Eliot</td>\n",
       "      <td>Maine</td>\n",
       "      <td>3903.0</td>\n",
       "      <td>1116.0</td>\n",
       "      <td>469500.0</td>\n",
       "    </tr>\n",
       "    <tr>\n",
       "      <th>4</th>\n",
       "      <td>for_sale</td>\n",
       "      <td>3.0</td>\n",
       "      <td>3.0</td>\n",
       "      <td>2.01</td>\n",
       "      <td>Saco</td>\n",
       "      <td>Maine</td>\n",
       "      <td>4027.0</td>\n",
       "      <td>2080.0</td>\n",
       "      <td>599990.0</td>\n",
       "    </tr>\n",
       "  </tbody>\n",
       "</table>\n",
       "</div>"
      ],
      "text/plain": [
       "     status  bed  bath  acre_lot   city  state  zip_code  house_size     price\n",
       "0  for_sale  4.0   3.0      2.00  Eliot  Maine    3903.0      2628.0  750000.0\n",
       "1  for_sale  3.0   4.0      2.97  Eliot  Maine    3903.0      2600.0  549000.0\n",
       "2  for_sale  5.0   5.0      0.95  Eliot  Maine    3903.0      3116.0  850000.0\n",
       "3  for_sale  3.0   2.0      1.23  Eliot  Maine    3903.0      1116.0  469500.0\n",
       "4  for_sale  3.0   3.0      2.01   Saco  Maine    4027.0      2080.0  599990.0"
      ]
     },
     "execution_count": 5,
     "metadata": {},
     "output_type": "execute_result"
    }
   ],
   "source": [
    "data_maine.head( )"
   ]
  },
  {
   "cell_type": "code",
   "execution_count": 7,
   "metadata": {},
   "outputs": [],
   "source": [
    "X= data_maine[['bed', 'bath', 'acre_lot', 'zip_code', 'house_size', 'city', 'state']]\n",
    "X= pd.get_dummies(X, columns=['city', 'state'])\n",
    "y = data_maine['price']"
   ]
  },
  {
   "cell_type": "code",
   "execution_count": 8,
   "metadata": {},
   "outputs": [
    {
     "data": {
      "text/html": [
       "<style>#sk-container-id-1 {color: black;}#sk-container-id-1 pre{padding: 0;}#sk-container-id-1 div.sk-toggleable {background-color: white;}#sk-container-id-1 label.sk-toggleable__label {cursor: pointer;display: block;width: 100%;margin-bottom: 0;padding: 0.3em;box-sizing: border-box;text-align: center;}#sk-container-id-1 label.sk-toggleable__label-arrow:before {content: \"▸\";float: left;margin-right: 0.25em;color: #696969;}#sk-container-id-1 label.sk-toggleable__label-arrow:hover:before {color: black;}#sk-container-id-1 div.sk-estimator:hover label.sk-toggleable__label-arrow:before {color: black;}#sk-container-id-1 div.sk-toggleable__content {max-height: 0;max-width: 0;overflow: hidden;text-align: left;background-color: #f0f8ff;}#sk-container-id-1 div.sk-toggleable__content pre {margin: 0.2em;color: black;border-radius: 0.25em;background-color: #f0f8ff;}#sk-container-id-1 input.sk-toggleable__control:checked~div.sk-toggleable__content {max-height: 200px;max-width: 100%;overflow: auto;}#sk-container-id-1 input.sk-toggleable__control:checked~label.sk-toggleable__label-arrow:before {content: \"▾\";}#sk-container-id-1 div.sk-estimator input.sk-toggleable__control:checked~label.sk-toggleable__label {background-color: #d4ebff;}#sk-container-id-1 div.sk-label input.sk-toggleable__control:checked~label.sk-toggleable__label {background-color: #d4ebff;}#sk-container-id-1 input.sk-hidden--visually {border: 0;clip: rect(1px 1px 1px 1px);clip: rect(1px, 1px, 1px, 1px);height: 1px;margin: -1px;overflow: hidden;padding: 0;position: absolute;width: 1px;}#sk-container-id-1 div.sk-estimator {font-family: monospace;background-color: #f0f8ff;border: 1px dotted black;border-radius: 0.25em;box-sizing: border-box;margin-bottom: 0.5em;}#sk-container-id-1 div.sk-estimator:hover {background-color: #d4ebff;}#sk-container-id-1 div.sk-parallel-item::after {content: \"\";width: 100%;border-bottom: 1px solid gray;flex-grow: 1;}#sk-container-id-1 div.sk-label:hover label.sk-toggleable__label {background-color: #d4ebff;}#sk-container-id-1 div.sk-serial::before {content: \"\";position: absolute;border-left: 1px solid gray;box-sizing: border-box;top: 0;bottom: 0;left: 50%;z-index: 0;}#sk-container-id-1 div.sk-serial {display: flex;flex-direction: column;align-items: center;background-color: white;padding-right: 0.2em;padding-left: 0.2em;position: relative;}#sk-container-id-1 div.sk-item {position: relative;z-index: 1;}#sk-container-id-1 div.sk-parallel {display: flex;align-items: stretch;justify-content: center;background-color: white;position: relative;}#sk-container-id-1 div.sk-item::before, #sk-container-id-1 div.sk-parallel-item::before {content: \"\";position: absolute;border-left: 1px solid gray;box-sizing: border-box;top: 0;bottom: 0;left: 50%;z-index: -1;}#sk-container-id-1 div.sk-parallel-item {display: flex;flex-direction: column;z-index: 1;position: relative;background-color: white;}#sk-container-id-1 div.sk-parallel-item:first-child::after {align-self: flex-end;width: 50%;}#sk-container-id-1 div.sk-parallel-item:last-child::after {align-self: flex-start;width: 50%;}#sk-container-id-1 div.sk-parallel-item:only-child::after {width: 0;}#sk-container-id-1 div.sk-dashed-wrapped {border: 1px dashed gray;margin: 0 0.4em 0.5em 0.4em;box-sizing: border-box;padding-bottom: 0.4em;background-color: white;}#sk-container-id-1 div.sk-label label {font-family: monospace;font-weight: bold;display: inline-block;line-height: 1.2em;}#sk-container-id-1 div.sk-label-container {text-align: center;}#sk-container-id-1 div.sk-container {/* jupyter's `normalize.less` sets `[hidden] { display: none; }` but bootstrap.min.css set `[hidden] { display: none !important; }` so we also need the `!important` here to be able to override the default hidden behavior on the sphinx rendered scikit-learn.org. See: https://github.com/scikit-learn/scikit-learn/issues/21755 */display: inline-block !important;position: relative;}#sk-container-id-1 div.sk-text-repr-fallback {display: none;}</style><div id=\"sk-container-id-1\" class=\"sk-top-container\"><div class=\"sk-text-repr-fallback\"><pre>LinearRegression()</pre><b>In a Jupyter environment, please rerun this cell to show the HTML representation or trust the notebook. <br />On GitHub, the HTML representation is unable to render, please try loading this page with nbviewer.org.</b></div><div class=\"sk-container\" hidden><div class=\"sk-item\"><div class=\"sk-estimator sk-toggleable\"><input class=\"sk-toggleable__control sk-hidden--visually\" id=\"sk-estimator-id-1\" type=\"checkbox\" checked><label for=\"sk-estimator-id-1\" class=\"sk-toggleable__label sk-toggleable__label-arrow\">LinearRegression</label><div class=\"sk-toggleable__content\"><pre>LinearRegression()</pre></div></div></div></div></div>"
      ],
      "text/plain": [
       "LinearRegression()"
      ]
     },
     "execution_count": 8,
     "metadata": {},
     "output_type": "execute_result"
    }
   ],
   "source": [
    "X_train,X_test, y_train, y_test = train_test_split(X, y, test_size=0.25, random_state=42)\n",
    "model=  LinearRegression()\n",
    "model.fit(X_train, y_train )"
   ]
  },
  {
   "cell_type": "code",
   "execution_count": 10,
   "metadata": {},
   "outputs": [
    {
     "data": {
      "text/plain": [
       "array([831124.29282214])"
      ]
     },
     "execution_count": 10,
     "metadata": {},
     "output_type": "execute_result"
    }
   ],
   "source": [
    "y_pred= model.predict(X_test)\n",
    "y_pred_reshaped= y_pred.reshape(-1, 1)\n",
    "original_price_predictions= price_scaler_mai.inverse_transform(y_pred_reshaped)\n",
    "absolute_predictions= np.abs(original_price_predictions)\n",
    "absolute_predictions[89]"
   ]
  },
  {
   "cell_type": "code",
   "execution_count": 11,
   "metadata": {},
   "outputs": [],
   "source": [
    "mse= mean_squared_error(y_test, y_pred)\n",
    "rmse= np.sqrt(mse)\n",
    "mae= mean_absolute_error(y_test, y_pred)\n",
    "r2= r2_score(y_test, y_pred)"
   ]
  },
  {
   "cell_type": "code",
   "execution_count": 12,
   "metadata": {},
   "outputs": [
    {
     "name": "stdout",
     "output_type": "stream",
     "text": [
      "MSE: 0.5406832804480936\n",
      "RMSE: 0.7353116893182737\n",
      "MAE: 0.3750604773147379\n",
      "R2: 0.46492488726687775\n"
     ]
    }
   ],
   "source": [
    "print(f'MSE:  {mse}')\n",
    "print(f'RMSE:  {rmse}')\n",
    "print(f'MAE:  {mae}')\n",
    "print(f'R2:  {r2}')"
   ]
  },
  {
   "cell_type": "code",
   "execution_count": 13,
   "metadata": {},
   "outputs": [],
   "source": [
    "model_tree= DecisionTreeRegressor()\n",
    "model_tree.fit(X_train, y_train )\n",
    "y_pred_tree= model_tree.predict(X_test)\n"
   ]
  },
  {
   "cell_type": "code",
   "execution_count": 14,
   "metadata": {},
   "outputs": [],
   "source": [
    "mse_tree= mean_squared_error(y_test, y_pred_tree)\n",
    "rmse_tree= np.sqrt(mse_tree)\n",
    "mae_tree= mean_absolute_error(y_test, y_pred_tree)\n",
    "r2_tree= r2_score(y_test, y_pred_tree)"
   ]
  },
  {
   "cell_type": "code",
   "execution_count": 15,
   "metadata": {},
   "outputs": [
    {
     "name": "stdout",
     "output_type": "stream",
     "text": [
      "MSE: 0.008383301500668692\n",
      "RMSE: 0.09156037079800787\n",
      "MAE: 0.012860140479179048\n",
      "R2: 0.9917036532148201\n"
     ]
    }
   ],
   "source": [
    "print(f'MSE:  {mse_tree}')\n",
    "print(f'RMSE:  {rmse_tree}')\n",
    "print(f'MAE:  {mae_tree}')\n",
    "print(f'R2:  {r2_tree}')"
   ]
  },
  {
   "cell_type": "code",
   "execution_count": 4,
   "metadata": {},
   "outputs": [],
   "source": [
    "data_massachusetts= pd.read_csv('/Users/saksham/Projects/Housing-Price/data/interim/Massachusetts.csv')"
   ]
  },
  {
   "cell_type": "code",
   "execution_count": 5,
   "metadata": {},
   "outputs": [
    {
     "data": {
      "text/html": [
       "<div>\n",
       "<style scoped>\n",
       "    .dataframe tbody tr th:only-of-type {\n",
       "        vertical-align: middle;\n",
       "    }\n",
       "\n",
       "    .dataframe tbody tr th {\n",
       "        vertical-align: top;\n",
       "    }\n",
       "\n",
       "    .dataframe thead th {\n",
       "        text-align: right;\n",
       "    }\n",
       "</style>\n",
       "<table border=\"1\" class=\"dataframe\">\n",
       "  <thead>\n",
       "    <tr style=\"text-align: right;\">\n",
       "      <th></th>\n",
       "      <th>status</th>\n",
       "      <th>bed</th>\n",
       "      <th>bath</th>\n",
       "      <th>acre_lot</th>\n",
       "      <th>city</th>\n",
       "      <th>state</th>\n",
       "      <th>zip_code</th>\n",
       "      <th>house_size</th>\n",
       "      <th>price</th>\n",
       "    </tr>\n",
       "  </thead>\n",
       "  <tbody>\n",
       "    <tr>\n",
       "      <th>0</th>\n",
       "      <td>for_sale</td>\n",
       "      <td>2.0</td>\n",
       "      <td>1.000000</td>\n",
       "      <td>0.340000</td>\n",
       "      <td>Agawam</td>\n",
       "      <td>Massachusetts</td>\n",
       "      <td>1001.0</td>\n",
       "      <td>676.000000</td>\n",
       "      <td>180000.0</td>\n",
       "    </tr>\n",
       "    <tr>\n",
       "      <th>1</th>\n",
       "      <td>for_sale</td>\n",
       "      <td>3.0</td>\n",
       "      <td>2.487507</td>\n",
       "      <td>3.410000</td>\n",
       "      <td>Agawam</td>\n",
       "      <td>Massachusetts</td>\n",
       "      <td>1001.0</td>\n",
       "      <td>2178.735694</td>\n",
       "      <td>25000.0</td>\n",
       "    </tr>\n",
       "    <tr>\n",
       "      <th>2</th>\n",
       "      <td>for_sale</td>\n",
       "      <td>2.0</td>\n",
       "      <td>2.000000</td>\n",
       "      <td>32.156834</td>\n",
       "      <td>Agawam</td>\n",
       "      <td>Massachusetts</td>\n",
       "      <td>1001.0</td>\n",
       "      <td>892.000000</td>\n",
       "      <td>169900.0</td>\n",
       "    </tr>\n",
       "    <tr>\n",
       "      <th>3</th>\n",
       "      <td>for_sale</td>\n",
       "      <td>2.0</td>\n",
       "      <td>2.000000</td>\n",
       "      <td>32.156834</td>\n",
       "      <td>Agawam</td>\n",
       "      <td>Massachusetts</td>\n",
       "      <td>1001.0</td>\n",
       "      <td>1428.000000</td>\n",
       "      <td>242000.0</td>\n",
       "    </tr>\n",
       "    <tr>\n",
       "      <th>4</th>\n",
       "      <td>for_sale</td>\n",
       "      <td>2.0</td>\n",
       "      <td>2.000000</td>\n",
       "      <td>32.156834</td>\n",
       "      <td>Agawam</td>\n",
       "      <td>Massachusetts</td>\n",
       "      <td>1001.0</td>\n",
       "      <td>1659.000000</td>\n",
       "      <td>299950.0</td>\n",
       "    </tr>\n",
       "  </tbody>\n",
       "</table>\n",
       "</div>"
      ],
      "text/plain": [
       "     status  bed      bath   acre_lot    city          state  zip_code  \\\n",
       "0  for_sale  2.0  1.000000   0.340000  Agawam  Massachusetts    1001.0   \n",
       "1  for_sale  3.0  2.487507   3.410000  Agawam  Massachusetts    1001.0   \n",
       "2  for_sale  2.0  2.000000  32.156834  Agawam  Massachusetts    1001.0   \n",
       "3  for_sale  2.0  2.000000  32.156834  Agawam  Massachusetts    1001.0   \n",
       "4  for_sale  2.0  2.000000  32.156834  Agawam  Massachusetts    1001.0   \n",
       "\n",
       "    house_size     price  \n",
       "0   676.000000  180000.0  \n",
       "1  2178.735694   25000.0  \n",
       "2   892.000000  169900.0  \n",
       "3  1428.000000  242000.0  \n",
       "4  1659.000000  299950.0  "
      ]
     },
     "execution_count": 5,
     "metadata": {},
     "output_type": "execute_result"
    }
   ],
   "source": [
    "data_massachusetts.head()"
   ]
  },
  {
   "cell_type": "code",
   "execution_count": 21,
   "metadata": {},
   "outputs": [],
   "source": [
    "data_massachusetts['house_size']= StandardScaler().fit_transform(data_massachusetts['house_size'].values.reshape(len(data_massachusetts), 1))\n",
    "\n",
    "price_scaler_mas= StandardScaler().fit(data_massachusetts['price'].values.reshape(-1, 1))  # Assign to a variable\n",
    "data_massachusetts['price']= price_scaler_mas.transform(data_massachusetts['price'].values.reshape(-1, 1))\n",
    "data_massachusetts['bath']= MinMaxScaler().fit_transform(data_massachusetts['bath'].values.reshape(len(data_massachusetts), 1))\n",
    "data_massachusetts['bed']= MinMaxScaler().fit_transform(data_massachusetts['bed'].values.reshape(len(data_massachusetts), 1))\n",
    "data_massachusetts['acre_lot']= MinMaxScaler().fit_transform(data_massachusetts['acre_lot'].values.reshape(len(data_massachusetts), 1))"
   ]
  },
  {
   "cell_type": "code",
   "execution_count": 22,
   "metadata": {},
   "outputs": [
    {
     "data": {
      "text/html": [
       "<div>\n",
       "<style scoped>\n",
       "    .dataframe tbody tr th:only-of-type {\n",
       "        vertical-align: middle;\n",
       "    }\n",
       "\n",
       "    .dataframe tbody tr th {\n",
       "        vertical-align: top;\n",
       "    }\n",
       "\n",
       "    .dataframe thead th {\n",
       "        text-align: right;\n",
       "    }\n",
       "</style>\n",
       "<table border=\"1\" class=\"dataframe\">\n",
       "  <thead>\n",
       "    <tr style=\"text-align: right;\">\n",
       "      <th></th>\n",
       "      <th>status</th>\n",
       "      <th>bed</th>\n",
       "      <th>bath</th>\n",
       "      <th>acre_lot</th>\n",
       "      <th>city</th>\n",
       "      <th>state</th>\n",
       "      <th>zip_code</th>\n",
       "      <th>house_size</th>\n",
       "      <th>price</th>\n",
       "    </tr>\n",
       "  </thead>\n",
       "  <tbody>\n",
       "    <tr>\n",
       "      <th>0</th>\n",
       "      <td>for_sale</td>\n",
       "      <td>0.010204</td>\n",
       "      <td>0.000000</td>\n",
       "      <td>0.000038</td>\n",
       "      <td>Agawam</td>\n",
       "      <td>Massachusetts</td>\n",
       "      <td>1001.0</td>\n",
       "      <td>-0.667431</td>\n",
       "      <td>-0.545145</td>\n",
       "    </tr>\n",
       "    <tr>\n",
       "      <th>1</th>\n",
       "      <td>for_sale</td>\n",
       "      <td>0.020408</td>\n",
       "      <td>0.007551</td>\n",
       "      <td>0.000377</td>\n",
       "      <td>Agawam</td>\n",
       "      <td>Massachusetts</td>\n",
       "      <td>1001.0</td>\n",
       "      <td>-0.038161</td>\n",
       "      <td>-0.652000</td>\n",
       "    </tr>\n",
       "    <tr>\n",
       "      <th>2</th>\n",
       "      <td>for_sale</td>\n",
       "      <td>0.010204</td>\n",
       "      <td>0.005076</td>\n",
       "      <td>0.003559</td>\n",
       "      <td>Agawam</td>\n",
       "      <td>Massachusetts</td>\n",
       "      <td>1001.0</td>\n",
       "      <td>-0.576981</td>\n",
       "      <td>-0.552108</td>\n",
       "    </tr>\n",
       "    <tr>\n",
       "      <th>3</th>\n",
       "      <td>for_sale</td>\n",
       "      <td>0.010204</td>\n",
       "      <td>0.005076</td>\n",
       "      <td>0.003559</td>\n",
       "      <td>Agawam</td>\n",
       "      <td>Massachusetts</td>\n",
       "      <td>1001.0</td>\n",
       "      <td>-0.352531</td>\n",
       "      <td>-0.502403</td>\n",
       "    </tr>\n",
       "    <tr>\n",
       "      <th>4</th>\n",
       "      <td>for_sale</td>\n",
       "      <td>0.010204</td>\n",
       "      <td>0.005076</td>\n",
       "      <td>0.003559</td>\n",
       "      <td>Agawam</td>\n",
       "      <td>Massachusetts</td>\n",
       "      <td>1001.0</td>\n",
       "      <td>-0.255800</td>\n",
       "      <td>-0.462453</td>\n",
       "    </tr>\n",
       "  </tbody>\n",
       "</table>\n",
       "</div>"
      ],
      "text/plain": [
       "     status       bed      bath  acre_lot    city          state  zip_code  \\\n",
       "0  for_sale  0.010204  0.000000  0.000038  Agawam  Massachusetts    1001.0   \n",
       "1  for_sale  0.020408  0.007551  0.000377  Agawam  Massachusetts    1001.0   \n",
       "2  for_sale  0.010204  0.005076  0.003559  Agawam  Massachusetts    1001.0   \n",
       "3  for_sale  0.010204  0.005076  0.003559  Agawam  Massachusetts    1001.0   \n",
       "4  for_sale  0.010204  0.005076  0.003559  Agawam  Massachusetts    1001.0   \n",
       "\n",
       "   house_size     price  \n",
       "0   -0.667431 -0.545145  \n",
       "1   -0.038161 -0.652000  \n",
       "2   -0.576981 -0.552108  \n",
       "3   -0.352531 -0.502403  \n",
       "4   -0.255800 -0.462453  "
      ]
     },
     "execution_count": 22,
     "metadata": {},
     "output_type": "execute_result"
    }
   ],
   "source": [
    "data_massachusetts.head()"
   ]
  },
  {
   "cell_type": "code",
   "execution_count": 23,
   "metadata": {},
   "outputs": [],
   "source": [
    "X= data_massachusetts[['bed', 'bath', 'acre_lot', 'zip_code', 'house_size', 'city', 'state']]\n",
    "X= pd.get_dummies(X, columns=['city', 'state'])\n",
    "y = data_massachusetts['price']"
   ]
  },
  {
   "cell_type": "code",
   "execution_count": 24,
   "metadata": {},
   "outputs": [
    {
     "data": {
      "text/html": [
       "<style>#sk-container-id-3 {color: black;}#sk-container-id-3 pre{padding: 0;}#sk-container-id-3 div.sk-toggleable {background-color: white;}#sk-container-id-3 label.sk-toggleable__label {cursor: pointer;display: block;width: 100%;margin-bottom: 0;padding: 0.3em;box-sizing: border-box;text-align: center;}#sk-container-id-3 label.sk-toggleable__label-arrow:before {content: \"▸\";float: left;margin-right: 0.25em;color: #696969;}#sk-container-id-3 label.sk-toggleable__label-arrow:hover:before {color: black;}#sk-container-id-3 div.sk-estimator:hover label.sk-toggleable__label-arrow:before {color: black;}#sk-container-id-3 div.sk-toggleable__content {max-height: 0;max-width: 0;overflow: hidden;text-align: left;background-color: #f0f8ff;}#sk-container-id-3 div.sk-toggleable__content pre {margin: 0.2em;color: black;border-radius: 0.25em;background-color: #f0f8ff;}#sk-container-id-3 input.sk-toggleable__control:checked~div.sk-toggleable__content {max-height: 200px;max-width: 100%;overflow: auto;}#sk-container-id-3 input.sk-toggleable__control:checked~label.sk-toggleable__label-arrow:before {content: \"▾\";}#sk-container-id-3 div.sk-estimator input.sk-toggleable__control:checked~label.sk-toggleable__label {background-color: #d4ebff;}#sk-container-id-3 div.sk-label input.sk-toggleable__control:checked~label.sk-toggleable__label {background-color: #d4ebff;}#sk-container-id-3 input.sk-hidden--visually {border: 0;clip: rect(1px 1px 1px 1px);clip: rect(1px, 1px, 1px, 1px);height: 1px;margin: -1px;overflow: hidden;padding: 0;position: absolute;width: 1px;}#sk-container-id-3 div.sk-estimator {font-family: monospace;background-color: #f0f8ff;border: 1px dotted black;border-radius: 0.25em;box-sizing: border-box;margin-bottom: 0.5em;}#sk-container-id-3 div.sk-estimator:hover {background-color: #d4ebff;}#sk-container-id-3 div.sk-parallel-item::after {content: \"\";width: 100%;border-bottom: 1px solid gray;flex-grow: 1;}#sk-container-id-3 div.sk-label:hover label.sk-toggleable__label {background-color: #d4ebff;}#sk-container-id-3 div.sk-serial::before {content: \"\";position: absolute;border-left: 1px solid gray;box-sizing: border-box;top: 0;bottom: 0;left: 50%;z-index: 0;}#sk-container-id-3 div.sk-serial {display: flex;flex-direction: column;align-items: center;background-color: white;padding-right: 0.2em;padding-left: 0.2em;position: relative;}#sk-container-id-3 div.sk-item {position: relative;z-index: 1;}#sk-container-id-3 div.sk-parallel {display: flex;align-items: stretch;justify-content: center;background-color: white;position: relative;}#sk-container-id-3 div.sk-item::before, #sk-container-id-3 div.sk-parallel-item::before {content: \"\";position: absolute;border-left: 1px solid gray;box-sizing: border-box;top: 0;bottom: 0;left: 50%;z-index: -1;}#sk-container-id-3 div.sk-parallel-item {display: flex;flex-direction: column;z-index: 1;position: relative;background-color: white;}#sk-container-id-3 div.sk-parallel-item:first-child::after {align-self: flex-end;width: 50%;}#sk-container-id-3 div.sk-parallel-item:last-child::after {align-self: flex-start;width: 50%;}#sk-container-id-3 div.sk-parallel-item:only-child::after {width: 0;}#sk-container-id-3 div.sk-dashed-wrapped {border: 1px dashed gray;margin: 0 0.4em 0.5em 0.4em;box-sizing: border-box;padding-bottom: 0.4em;background-color: white;}#sk-container-id-3 div.sk-label label {font-family: monospace;font-weight: bold;display: inline-block;line-height: 1.2em;}#sk-container-id-3 div.sk-label-container {text-align: center;}#sk-container-id-3 div.sk-container {/* jupyter's `normalize.less` sets `[hidden] { display: none; }` but bootstrap.min.css set `[hidden] { display: none !important; }` so we also need the `!important` here to be able to override the default hidden behavior on the sphinx rendered scikit-learn.org. See: https://github.com/scikit-learn/scikit-learn/issues/21755 */display: inline-block !important;position: relative;}#sk-container-id-3 div.sk-text-repr-fallback {display: none;}</style><div id=\"sk-container-id-3\" class=\"sk-top-container\"><div class=\"sk-text-repr-fallback\"><pre>LinearRegression()</pre><b>In a Jupyter environment, please rerun this cell to show the HTML representation or trust the notebook. <br />On GitHub, the HTML representation is unable to render, please try loading this page with nbviewer.org.</b></div><div class=\"sk-container\" hidden><div class=\"sk-item\"><div class=\"sk-estimator sk-toggleable\"><input class=\"sk-toggleable__control sk-hidden--visually\" id=\"sk-estimator-id-3\" type=\"checkbox\" checked><label for=\"sk-estimator-id-3\" class=\"sk-toggleable__label sk-toggleable__label-arrow\">LinearRegression</label><div class=\"sk-toggleable__content\"><pre>LinearRegression()</pre></div></div></div></div></div>"
      ],
      "text/plain": [
       "LinearRegression()"
      ]
     },
     "execution_count": 24,
     "metadata": {},
     "output_type": "execute_result"
    }
   ],
   "source": [
    "X_train,X_test, y_train, y_test = train_test_split(X, y, test_size=0.25, random_state=42)\n",
    "model=  LinearRegression()\n",
    "model.fit(X_train, y_train )"
   ]
  },
  {
   "cell_type": "code",
   "execution_count": 25,
   "metadata": {},
   "outputs": [
    {
     "data": {
      "text/plain": [
       "array([0.07789083])"
      ]
     },
     "execution_count": 25,
     "metadata": {},
     "output_type": "execute_result"
    }
   ],
   "source": [
    "y_pred= model.predict(X_test)\n",
    "y_pred_reshaped= y_pred.reshape(-1, 1)\n",
    "original_price_predictions= price_scaler_mas.inverse_transform(y_pred_reshaped)\n",
    "absolute_predictions= np.abs(original_price_predictions)\n",
    "absolute_predictions[89]"
   ]
  },
  {
   "cell_type": "code",
   "execution_count": 26,
   "metadata": {},
   "outputs": [],
   "source": [
    "mse= mean_squared_error(y_test, y_pred)\n",
    "rmse= np.sqrt(mse)\n",
    "mae= mean_absolute_error(y_test, y_pred)\n",
    "r2= r2_score(y_test, y_pred)"
   ]
  },
  {
   "cell_type": "code",
   "execution_count": 27,
   "metadata": {},
   "outputs": [
    {
     "name": "stdout",
     "output_type": "stream",
     "text": [
      "MSE:  0.5593626317556266\n",
      "RMSE:  0.7479054965405901\n",
      "MAE:  0.3187772905013347\n",
      "R2:  0.45205076266778954\n"
     ]
    }
   ],
   "source": [
    "print(f'MSE:  {mse}')\n",
    "print(f'RMSE:  {rmse}')\n",
    "print(f'MAE:  {mae}')\n",
    "print(f'R2:  {r2}')"
   ]
  },
  {
   "cell_type": "code",
   "execution_count": 28,
   "metadata": {},
   "outputs": [],
   "source": [
    "model_tree= DecisionTreeRegressor()\n",
    "model_tree.fit(X_train, y_train )\n",
    "y_pred_tree= model_tree.predict(X_test)"
   ]
  },
  {
   "cell_type": "code",
   "execution_count": 29,
   "metadata": {},
   "outputs": [
    {
     "name": "stdout",
     "output_type": "stream",
     "text": [
      "MSE:  0.007431541852526753\n",
      "RMSE:  0.08620639101903498\n",
      "MAE:  0.0029933371470617183\n",
      "R2:  0.992720093443651\n"
     ]
    }
   ],
   "source": [
    "mse_tree= mean_squared_error(y_test, y_pred_tree)\n",
    "rmse_tree= np.sqrt(mse_tree)\n",
    "mae_tree= mean_absolute_error(y_test, y_pred_tree)\n",
    "r2_tree= r2_score(y_test, y_pred_tree)\n",
    "\n",
    "print(f'MSE:  {mse_tree}')\n",
    "print(f'RMSE:  {rmse_tree}')\n",
    "print(f'MAE:  {mae_tree}')\n",
    "print(f'R2:  {r2_tree}')"
   ]
  },
  {
   "cell_type": "code",
   "execution_count": 30,
   "metadata": {},
   "outputs": [],
   "source": [
    "data_NewHampshire= pd.read_csv('/Users/saksham/Projects/Housing-Price/data/interim/New_Hampshire.csv')"
   ]
  },
  {
   "cell_type": "code",
   "execution_count": 32,
   "metadata": {},
   "outputs": [
    {
     "data": {
      "text/html": [
       "<div>\n",
       "<style scoped>\n",
       "    .dataframe tbody tr th:only-of-type {\n",
       "        vertical-align: middle;\n",
       "    }\n",
       "\n",
       "    .dataframe tbody tr th {\n",
       "        vertical-align: top;\n",
       "    }\n",
       "\n",
       "    .dataframe thead th {\n",
       "        text-align: right;\n",
       "    }\n",
       "</style>\n",
       "<table border=\"1\" class=\"dataframe\">\n",
       "  <thead>\n",
       "    <tr style=\"text-align: right;\">\n",
       "      <th></th>\n",
       "      <th>status</th>\n",
       "      <th>bed</th>\n",
       "      <th>bath</th>\n",
       "      <th>acre_lot</th>\n",
       "      <th>city</th>\n",
       "      <th>state</th>\n",
       "      <th>zip_code</th>\n",
       "      <th>house_size</th>\n",
       "      <th>price</th>\n",
       "    </tr>\n",
       "  </thead>\n",
       "  <tbody>\n",
       "    <tr>\n",
       "      <th>0</th>\n",
       "      <td>for_sale</td>\n",
       "      <td>3.0</td>\n",
       "      <td>2.487507</td>\n",
       "      <td>16.50</td>\n",
       "      <td>Fitzwilliam</td>\n",
       "      <td>New Hampshire</td>\n",
       "      <td>3447.0</td>\n",
       "      <td>2178.735694</td>\n",
       "      <td>199900.0</td>\n",
       "    </tr>\n",
       "    <tr>\n",
       "      <th>1</th>\n",
       "      <td>for_sale</td>\n",
       "      <td>3.0</td>\n",
       "      <td>2.487507</td>\n",
       "      <td>12.69</td>\n",
       "      <td>Fitzwilliam</td>\n",
       "      <td>New Hampshire</td>\n",
       "      <td>3447.0</td>\n",
       "      <td>2178.735694</td>\n",
       "      <td>150000.0</td>\n",
       "    </tr>\n",
       "    <tr>\n",
       "      <th>2</th>\n",
       "      <td>for_sale</td>\n",
       "      <td>3.0</td>\n",
       "      <td>2.487507</td>\n",
       "      <td>13.93</td>\n",
       "      <td>Fitzwilliam</td>\n",
       "      <td>New Hampshire</td>\n",
       "      <td>3447.0</td>\n",
       "      <td>2178.735694</td>\n",
       "      <td>150000.0</td>\n",
       "    </tr>\n",
       "    <tr>\n",
       "      <th>3</th>\n",
       "      <td>for_sale</td>\n",
       "      <td>3.0</td>\n",
       "      <td>2.487507</td>\n",
       "      <td>12.17</td>\n",
       "      <td>Fitzwilliam</td>\n",
       "      <td>New Hampshire</td>\n",
       "      <td>3447.0</td>\n",
       "      <td>2178.735694</td>\n",
       "      <td>131000.0</td>\n",
       "    </tr>\n",
       "    <tr>\n",
       "      <th>4</th>\n",
       "      <td>for_sale</td>\n",
       "      <td>3.0</td>\n",
       "      <td>2.487507</td>\n",
       "      <td>20.50</td>\n",
       "      <td>Richmond</td>\n",
       "      <td>New Hampshire</td>\n",
       "      <td>3470.0</td>\n",
       "      <td>2178.735694</td>\n",
       "      <td>99900.0</td>\n",
       "    </tr>\n",
       "  </tbody>\n",
       "</table>\n",
       "</div>"
      ],
      "text/plain": [
       "     status  bed      bath  acre_lot         city          state  zip_code  \\\n",
       "0  for_sale  3.0  2.487507     16.50  Fitzwilliam  New Hampshire    3447.0   \n",
       "1  for_sale  3.0  2.487507     12.69  Fitzwilliam  New Hampshire    3447.0   \n",
       "2  for_sale  3.0  2.487507     13.93  Fitzwilliam  New Hampshire    3447.0   \n",
       "3  for_sale  3.0  2.487507     12.17  Fitzwilliam  New Hampshire    3447.0   \n",
       "4  for_sale  3.0  2.487507     20.50     Richmond  New Hampshire    3470.0   \n",
       "\n",
       "    house_size     price  \n",
       "0  2178.735694  199900.0  \n",
       "1  2178.735694  150000.0  \n",
       "2  2178.735694  150000.0  \n",
       "3  2178.735694  131000.0  \n",
       "4  2178.735694   99900.0  "
      ]
     },
     "execution_count": 32,
     "metadata": {},
     "output_type": "execute_result"
    }
   ],
   "source": [
    "data_NewHampshire.head()"
   ]
  },
  {
   "cell_type": "code",
   "execution_count": 33,
   "metadata": {},
   "outputs": [],
   "source": [
    "data_NewHampshire['house_size']= StandardScaler().fit_transform(data_NewHampshire['house_size'].values.reshape(len(data_NewHampshire), 1))\n",
    "price_scaler_NewHampshire= StandardScaler().fit(data_NewHampshire['price'].values.reshape(-1, 1))  # Assign to a variable\n",
    "data_NewHampshire['price']= price_scaler_NewHampshire.transform(data_NewHampshire['price'].values.reshape(-1, 1))\n",
    "data_NewHampshire['bath']= MinMaxScaler().fit_transform(data_NewHampshire['bath'].values.reshape(len(data_NewHampshire), 1))\n",
    "data_NewHampshire['bed']= MinMaxScaler().fit_transform(data_NewHampshire['bed'].values.reshape(len(data_NewHampshire), 1))\n",
    "data_NewHampshire['acre_lot']= MinMaxScaler().fit_transform(data_NewHampshire['acre_lot'].values.reshape(len(data_NewHampshire), 1))"
   ]
  },
  {
   "cell_type": "code",
   "execution_count": 34,
   "metadata": {},
   "outputs": [
    {
     "data": {
      "text/html": [
       "<div>\n",
       "<style scoped>\n",
       "    .dataframe tbody tr th:only-of-type {\n",
       "        vertical-align: middle;\n",
       "    }\n",
       "\n",
       "    .dataframe tbody tr th {\n",
       "        vertical-align: top;\n",
       "    }\n",
       "\n",
       "    .dataframe thead th {\n",
       "        text-align: right;\n",
       "    }\n",
       "</style>\n",
       "<table border=\"1\" class=\"dataframe\">\n",
       "  <thead>\n",
       "    <tr style=\"text-align: right;\">\n",
       "      <th></th>\n",
       "      <th>status</th>\n",
       "      <th>bed</th>\n",
       "      <th>bath</th>\n",
       "      <th>acre_lot</th>\n",
       "      <th>city</th>\n",
       "      <th>state</th>\n",
       "      <th>zip_code</th>\n",
       "      <th>house_size</th>\n",
       "      <th>price</th>\n",
       "    </tr>\n",
       "  </thead>\n",
       "  <tbody>\n",
       "    <tr>\n",
       "      <th>0</th>\n",
       "      <td>for_sale</td>\n",
       "      <td>0.133333</td>\n",
       "      <td>0.053125</td>\n",
       "      <td>0.027484</td>\n",
       "      <td>Fitzwilliam</td>\n",
       "      <td>New Hampshire</td>\n",
       "      <td>3447.0</td>\n",
       "      <td>-0.038605</td>\n",
       "      <td>-0.372857</td>\n",
       "    </tr>\n",
       "    <tr>\n",
       "      <th>1</th>\n",
       "      <td>for_sale</td>\n",
       "      <td>0.133333</td>\n",
       "      <td>0.053125</td>\n",
       "      <td>0.021134</td>\n",
       "      <td>Fitzwilliam</td>\n",
       "      <td>New Hampshire</td>\n",
       "      <td>3447.0</td>\n",
       "      <td>-0.038605</td>\n",
       "      <td>-0.439100</td>\n",
       "    </tr>\n",
       "    <tr>\n",
       "      <th>2</th>\n",
       "      <td>for_sale</td>\n",
       "      <td>0.133333</td>\n",
       "      <td>0.053125</td>\n",
       "      <td>0.023200</td>\n",
       "      <td>Fitzwilliam</td>\n",
       "      <td>New Hampshire</td>\n",
       "      <td>3447.0</td>\n",
       "      <td>-0.038605</td>\n",
       "      <td>-0.439100</td>\n",
       "    </tr>\n",
       "    <tr>\n",
       "      <th>3</th>\n",
       "      <td>for_sale</td>\n",
       "      <td>0.133333</td>\n",
       "      <td>0.053125</td>\n",
       "      <td>0.020267</td>\n",
       "      <td>Fitzwilliam</td>\n",
       "      <td>New Hampshire</td>\n",
       "      <td>3447.0</td>\n",
       "      <td>-0.038605</td>\n",
       "      <td>-0.464323</td>\n",
       "    </tr>\n",
       "    <tr>\n",
       "      <th>4</th>\n",
       "      <td>for_sale</td>\n",
       "      <td>0.133333</td>\n",
       "      <td>0.053125</td>\n",
       "      <td>0.034151</td>\n",
       "      <td>Richmond</td>\n",
       "      <td>New Hampshire</td>\n",
       "      <td>3470.0</td>\n",
       "      <td>-0.038605</td>\n",
       "      <td>-0.505608</td>\n",
       "    </tr>\n",
       "  </tbody>\n",
       "</table>\n",
       "</div>"
      ],
      "text/plain": [
       "     status       bed      bath  acre_lot         city          state  \\\n",
       "0  for_sale  0.133333  0.053125  0.027484  Fitzwilliam  New Hampshire   \n",
       "1  for_sale  0.133333  0.053125  0.021134  Fitzwilliam  New Hampshire   \n",
       "2  for_sale  0.133333  0.053125  0.023200  Fitzwilliam  New Hampshire   \n",
       "3  for_sale  0.133333  0.053125  0.020267  Fitzwilliam  New Hampshire   \n",
       "4  for_sale  0.133333  0.053125  0.034151     Richmond  New Hampshire   \n",
       "\n",
       "   zip_code  house_size     price  \n",
       "0    3447.0   -0.038605 -0.372857  \n",
       "1    3447.0   -0.038605 -0.439100  \n",
       "2    3447.0   -0.038605 -0.439100  \n",
       "3    3447.0   -0.038605 -0.464323  \n",
       "4    3470.0   -0.038605 -0.505608  "
      ]
     },
     "execution_count": 34,
     "metadata": {},
     "output_type": "execute_result"
    }
   ],
   "source": [
    "data_NewHampshire.head()"
   ]
  },
  {
   "cell_type": "code",
   "execution_count": 35,
   "metadata": {},
   "outputs": [
    {
     "data": {
      "text/plain": [
       "array([370810.54796339])"
      ]
     },
     "execution_count": 35,
     "metadata": {},
     "output_type": "execute_result"
    }
   ],
   "source": [
    "X= data_NewHampshire[['bed', 'bath', 'acre_lot', 'zip_code', 'house_size', 'city', 'state']]\n",
    "X= pd.get_dummies(X, columns=['city', 'state'])\n",
    "y = data_NewHampshire['price']\n",
    "\n",
    "X_train,X_test, y_train, y_test = train_test_split(X, y, test_size=0.25, random_state=42)\n",
    "model=  LinearRegression()\n",
    "model.fit(X_train, y_train )\n",
    "\n",
    "y_pred= model.predict(X_test)\n",
    "y_pred_reshaped= y_pred.reshape(-1, 1)\n",
    "original_price_predictions= price_scaler_NewHampshire.inverse_transform(y_pred_reshaped)\n",
    "absolute_predictions= np.abs(original_price_predictions)\n",
    "absolute_predictions[60]"
   ]
  },
  {
   "cell_type": "code",
   "execution_count": 36,
   "metadata": {},
   "outputs": [
    {
     "name": "stdout",
     "output_type": "stream",
     "text": [
      "MSE:  0.49157137811590657\n",
      "RMSE:  0.7011215145150708\n",
      "MAE:  0.3447632976602152\n",
      "R2:  0.46533473777508416\n"
     ]
    }
   ],
   "source": [
    "mse= mean_squared_error(y_test, y_pred)\n",
    "rmse= np.sqrt(mse)\n",
    "mae= mean_absolute_error(y_test, y_pred)\n",
    "r2= r2_score(y_test, y_pred)\n",
    "\n",
    "print(f'MSE:  {mse}')\n",
    "print(f'RMSE:  {rmse}')\n",
    "print(f'MAE:  {mae}')\n",
    "print(f'R2:  {r2}')"
   ]
  },
  {
   "cell_type": "code",
   "execution_count": 37,
   "metadata": {},
   "outputs": [
    {
     "name": "stdout",
     "output_type": "stream",
     "text": [
      "MSE:  0.002761925985933922\n",
      "RMSE:  0.052554029207415885\n",
      "MAE:  0.0030219482160096646\n",
      "R2:  0.9969959482035445\n"
     ]
    }
   ],
   "source": [
    "model_tree= DecisionTreeRegressor()\n",
    "model_tree.fit(X_train, y_train )\n",
    "y_pred_tree= model_tree.predict(X_test)\n",
    "\n",
    "mse_tree= mean_squared_error(y_test, y_pred_tree)\n",
    "rmse_tree= np.sqrt(mse_tree)\n",
    "mae_tree= mean_absolute_error(y_test, y_pred_tree)\n",
    "r2_tree= r2_score(y_test, y_pred_tree)\n",
    "\n",
    "print(f'MSE:  {mse_tree}')\n",
    "print(f'RMSE:  {rmse_tree}')\n",
    "print(f'MAE:  {mae_tree}')\n",
    "print(f'R2:  {r2_tree}')"
   ]
  },
  {
   "cell_type": "code",
   "execution_count": 38,
   "metadata": {},
   "outputs": [
    {
     "data": {
      "text/html": [
       "<div>\n",
       "<style scoped>\n",
       "    .dataframe tbody tr th:only-of-type {\n",
       "        vertical-align: middle;\n",
       "    }\n",
       "\n",
       "    .dataframe tbody tr th {\n",
       "        vertical-align: top;\n",
       "    }\n",
       "\n",
       "    .dataframe thead th {\n",
       "        text-align: right;\n",
       "    }\n",
       "</style>\n",
       "<table border=\"1\" class=\"dataframe\">\n",
       "  <thead>\n",
       "    <tr style=\"text-align: right;\">\n",
       "      <th></th>\n",
       "      <th>status</th>\n",
       "      <th>bed</th>\n",
       "      <th>bath</th>\n",
       "      <th>acre_lot</th>\n",
       "      <th>city</th>\n",
       "      <th>state</th>\n",
       "      <th>zip_code</th>\n",
       "      <th>house_size</th>\n",
       "      <th>price</th>\n",
       "    </tr>\n",
       "  </thead>\n",
       "  <tbody>\n",
       "    <tr>\n",
       "      <th>0</th>\n",
       "      <td>for_sale</td>\n",
       "      <td>3.0</td>\n",
       "      <td>3.0</td>\n",
       "      <td>0.07</td>\n",
       "      <td>Burlington</td>\n",
       "      <td>New Jersey</td>\n",
       "      <td>8016.0</td>\n",
       "      <td>1500.0</td>\n",
       "      <td>333490.0</td>\n",
       "    </tr>\n",
       "    <tr>\n",
       "      <th>1</th>\n",
       "      <td>for_sale</td>\n",
       "      <td>3.0</td>\n",
       "      <td>3.0</td>\n",
       "      <td>0.07</td>\n",
       "      <td>Burlington</td>\n",
       "      <td>New Jersey</td>\n",
       "      <td>8016.0</td>\n",
       "      <td>1500.0</td>\n",
       "      <td>333490.0</td>\n",
       "    </tr>\n",
       "    <tr>\n",
       "      <th>2</th>\n",
       "      <td>for_sale</td>\n",
       "      <td>3.0</td>\n",
       "      <td>3.0</td>\n",
       "      <td>0.07</td>\n",
       "      <td>Burlington</td>\n",
       "      <td>New Jersey</td>\n",
       "      <td>8016.0</td>\n",
       "      <td>1500.0</td>\n",
       "      <td>333490.0</td>\n",
       "    </tr>\n",
       "    <tr>\n",
       "      <th>3</th>\n",
       "      <td>for_sale</td>\n",
       "      <td>3.0</td>\n",
       "      <td>3.0</td>\n",
       "      <td>0.07</td>\n",
       "      <td>Burlington</td>\n",
       "      <td>New Jersey</td>\n",
       "      <td>8016.0</td>\n",
       "      <td>1500.0</td>\n",
       "      <td>333490.0</td>\n",
       "    </tr>\n",
       "    <tr>\n",
       "      <th>4</th>\n",
       "      <td>for_sale</td>\n",
       "      <td>3.0</td>\n",
       "      <td>3.0</td>\n",
       "      <td>0.07</td>\n",
       "      <td>Burlington</td>\n",
       "      <td>New Jersey</td>\n",
       "      <td>8016.0</td>\n",
       "      <td>1500.0</td>\n",
       "      <td>333490.0</td>\n",
       "    </tr>\n",
       "  </tbody>\n",
       "</table>\n",
       "</div>"
      ],
      "text/plain": [
       "     status  bed  bath  acre_lot        city       state  zip_code  \\\n",
       "0  for_sale  3.0   3.0      0.07  Burlington  New Jersey    8016.0   \n",
       "1  for_sale  3.0   3.0      0.07  Burlington  New Jersey    8016.0   \n",
       "2  for_sale  3.0   3.0      0.07  Burlington  New Jersey    8016.0   \n",
       "3  for_sale  3.0   3.0      0.07  Burlington  New Jersey    8016.0   \n",
       "4  for_sale  3.0   3.0      0.07  Burlington  New Jersey    8016.0   \n",
       "\n",
       "   house_size     price  \n",
       "0      1500.0  333490.0  \n",
       "1      1500.0  333490.0  \n",
       "2      1500.0  333490.0  \n",
       "3      1500.0  333490.0  \n",
       "4      1500.0  333490.0  "
      ]
     },
     "execution_count": 38,
     "metadata": {},
     "output_type": "execute_result"
    }
   ],
   "source": [
    "data_NewJersey= pd.read_csv('/Users/saksham/Projects/Housing-Price/data/interim/New_Jersey.csv')\n",
    "data_NewJersey.head()"
   ]
  },
  {
   "cell_type": "code",
   "execution_count": 40,
   "metadata": {},
   "outputs": [
    {
     "data": {
      "text/html": [
       "<div>\n",
       "<style scoped>\n",
       "    .dataframe tbody tr th:only-of-type {\n",
       "        vertical-align: middle;\n",
       "    }\n",
       "\n",
       "    .dataframe tbody tr th {\n",
       "        vertical-align: top;\n",
       "    }\n",
       "\n",
       "    .dataframe thead th {\n",
       "        text-align: right;\n",
       "    }\n",
       "</style>\n",
       "<table border=\"1\" class=\"dataframe\">\n",
       "  <thead>\n",
       "    <tr style=\"text-align: right;\">\n",
       "      <th></th>\n",
       "      <th>status</th>\n",
       "      <th>bed</th>\n",
       "      <th>bath</th>\n",
       "      <th>acre_lot</th>\n",
       "      <th>city</th>\n",
       "      <th>state</th>\n",
       "      <th>zip_code</th>\n",
       "      <th>house_size</th>\n",
       "      <th>price</th>\n",
       "    </tr>\n",
       "  </thead>\n",
       "  <tbody>\n",
       "    <tr>\n",
       "      <th>0</th>\n",
       "      <td>for_sale</td>\n",
       "      <td>0.043478</td>\n",
       "      <td>0.052632</td>\n",
       "      <td>7.000000e-07</td>\n",
       "      <td>Burlington</td>\n",
       "      <td>New Jersey</td>\n",
       "      <td>8016.0</td>\n",
       "      <td>-0.303212</td>\n",
       "      <td>-0.356667</td>\n",
       "    </tr>\n",
       "    <tr>\n",
       "      <th>1</th>\n",
       "      <td>for_sale</td>\n",
       "      <td>0.043478</td>\n",
       "      <td>0.052632</td>\n",
       "      <td>7.000000e-07</td>\n",
       "      <td>Burlington</td>\n",
       "      <td>New Jersey</td>\n",
       "      <td>8016.0</td>\n",
       "      <td>-0.303212</td>\n",
       "      <td>-0.356667</td>\n",
       "    </tr>\n",
       "    <tr>\n",
       "      <th>2</th>\n",
       "      <td>for_sale</td>\n",
       "      <td>0.043478</td>\n",
       "      <td>0.052632</td>\n",
       "      <td>7.000000e-07</td>\n",
       "      <td>Burlington</td>\n",
       "      <td>New Jersey</td>\n",
       "      <td>8016.0</td>\n",
       "      <td>-0.303212</td>\n",
       "      <td>-0.356667</td>\n",
       "    </tr>\n",
       "    <tr>\n",
       "      <th>3</th>\n",
       "      <td>for_sale</td>\n",
       "      <td>0.043478</td>\n",
       "      <td>0.052632</td>\n",
       "      <td>7.000000e-07</td>\n",
       "      <td>Burlington</td>\n",
       "      <td>New Jersey</td>\n",
       "      <td>8016.0</td>\n",
       "      <td>-0.303212</td>\n",
       "      <td>-0.356667</td>\n",
       "    </tr>\n",
       "    <tr>\n",
       "      <th>4</th>\n",
       "      <td>for_sale</td>\n",
       "      <td>0.043478</td>\n",
       "      <td>0.052632</td>\n",
       "      <td>7.000000e-07</td>\n",
       "      <td>Burlington</td>\n",
       "      <td>New Jersey</td>\n",
       "      <td>8016.0</td>\n",
       "      <td>-0.303212</td>\n",
       "      <td>-0.356667</td>\n",
       "    </tr>\n",
       "  </tbody>\n",
       "</table>\n",
       "</div>"
      ],
      "text/plain": [
       "     status       bed      bath      acre_lot        city       state  \\\n",
       "0  for_sale  0.043478  0.052632  7.000000e-07  Burlington  New Jersey   \n",
       "1  for_sale  0.043478  0.052632  7.000000e-07  Burlington  New Jersey   \n",
       "2  for_sale  0.043478  0.052632  7.000000e-07  Burlington  New Jersey   \n",
       "3  for_sale  0.043478  0.052632  7.000000e-07  Burlington  New Jersey   \n",
       "4  for_sale  0.043478  0.052632  7.000000e-07  Burlington  New Jersey   \n",
       "\n",
       "   zip_code  house_size     price  \n",
       "0    8016.0   -0.303212 -0.356667  \n",
       "1    8016.0   -0.303212 -0.356667  \n",
       "2    8016.0   -0.303212 -0.356667  \n",
       "3    8016.0   -0.303212 -0.356667  \n",
       "4    8016.0   -0.303212 -0.356667  "
      ]
     },
     "execution_count": 40,
     "metadata": {},
     "output_type": "execute_result"
    }
   ],
   "source": [
    "data_NewJersey['house_size']= StandardScaler().fit_transform(data_NewJersey['house_size'].values.reshape(len(data_NewJersey), 1))\n",
    "price_scaler_NewJersey= StandardScaler().fit(data_NewJersey['price'].values.reshape(-1, 1))  # Assign to a variable\n",
    "data_NewJersey['price']= price_scaler_NewJersey.transform(data_NewJersey['price'].values.reshape(-1, 1))\n",
    "data_NewJersey['bath']= MinMaxScaler().fit_transform(data_NewJersey['bath'].values.reshape(len(data_NewJersey), 1))\n",
    "data_NewJersey['bed']= MinMaxScaler().fit_transform(data_NewJersey['bed'].values.reshape(len(data_NewJersey), 1))\n",
    "data_NewJersey['acre_lot']= MinMaxScaler().fit_transform(data_NewJersey['acre_lot'].values.reshape(len(data_NewJersey), 1))\n",
    "data_NewJersey.head()"
   ]
  },
  {
   "cell_type": "code",
   "execution_count": 41,
   "metadata": {},
   "outputs": [
    {
     "data": {
      "text/plain": [
       "array([0.01233015])"
      ]
     },
     "execution_count": 41,
     "metadata": {},
     "output_type": "execute_result"
    }
   ],
   "source": [
    "X= data_NewJersey[['bed', 'bath', 'acre_lot', 'zip_code', 'house_size', 'city', 'state']]\n",
    "X= pd.get_dummies(X, columns=['city', 'state'])\n",
    "y = data_NewJersey['price']\n",
    "\n",
    "X_train,X_test, y_train, y_test = train_test_split(X, y, test_size=0.25, random_state=42)\n",
    "model=  LinearRegression()\n",
    "model.fit(X_train, y_train )\n",
    "\n",
    "y_pred= model.predict(X_test)\n",
    "y_pred_reshaped= y_pred.reshape(-1, 1)\n",
    "original_price_predictions= price_scaler_NewJersey.inverse_transform(y_pred_reshaped)\n",
    "absolute_predictions= np.abs(original_price_predictions)\n",
    "absolute_predictions[71]\n"
   ]
  },
  {
   "cell_type": "code",
   "execution_count": 42,
   "metadata": {},
   "outputs": [
    {
     "name": "stdout",
     "output_type": "stream",
     "text": [
      "MSE:  0.3989821712267831\n",
      "RMSE:  0.6316503552019765\n",
      "MAE:  0.2927007655972189\n",
      "R2:  0.5643052663021242\n"
     ]
    }
   ],
   "source": [
    "mse= mean_squared_error(y_test, y_pred)\n",
    "rmse= np.sqrt(mse)\n",
    "mae= mean_absolute_error(y_test, y_pred)\n",
    "r2= r2_score(y_test, y_pred)\n",
    "\n",
    "print(f'MSE:  {mse}')\n",
    "print(f'RMSE:  {rmse}')\n",
    "print(f'MAE:  {mae}')\n",
    "print(f'R2:  {r2}')"
   ]
  },
  {
   "cell_type": "code",
   "execution_count": 43,
   "metadata": {},
   "outputs": [
    {
     "name": "stdout",
     "output_type": "stream",
     "text": [
      "MSE:  0.034252845467758745\n",
      "RMSE:  0.18507524271970777\n",
      "MAE:  0.029968861176523726\n",
      "R2:  0.9625953602423329\n"
     ]
    }
   ],
   "source": [
    "model_tree= DecisionTreeRegressor()\n",
    "model_tree.fit(X_train, y_train )\n",
    "y_pred_tree= model_tree.predict(X_test)\n",
    "\n",
    "mse_tree= mean_squared_error(y_test, y_pred_tree)\n",
    "rmse_tree= np.sqrt(mse_tree)\n",
    "mae_tree= mean_absolute_error(y_test, y_pred_tree)\n",
    "r2_tree= r2_score(y_test, y_pred_tree)\n",
    "\n",
    "print(f'MSE:  {mse_tree}')\n",
    "print(f'RMSE:  {rmse_tree}')\n",
    "print(f'MAE:  {mae_tree}')\n",
    "print(f'R2:  {r2_tree}')"
   ]
  },
  {
   "cell_type": "code",
   "execution_count": 44,
   "metadata": {},
   "outputs": [
    {
     "data": {
      "text/html": [
       "<div>\n",
       "<style scoped>\n",
       "    .dataframe tbody tr th:only-of-type {\n",
       "        vertical-align: middle;\n",
       "    }\n",
       "\n",
       "    .dataframe tbody tr th {\n",
       "        vertical-align: top;\n",
       "    }\n",
       "\n",
       "    .dataframe thead th {\n",
       "        text-align: right;\n",
       "    }\n",
       "</style>\n",
       "<table border=\"1\" class=\"dataframe\">\n",
       "  <thead>\n",
       "    <tr style=\"text-align: right;\">\n",
       "      <th></th>\n",
       "      <th>status</th>\n",
       "      <th>bed</th>\n",
       "      <th>bath</th>\n",
       "      <th>acre_lot</th>\n",
       "      <th>city</th>\n",
       "      <th>state</th>\n",
       "      <th>zip_code</th>\n",
       "      <th>house_size</th>\n",
       "      <th>price</th>\n",
       "    </tr>\n",
       "  </thead>\n",
       "  <tbody>\n",
       "    <tr>\n",
       "      <th>0</th>\n",
       "      <td>for_sale</td>\n",
       "      <td>3.0</td>\n",
       "      <td>1.0</td>\n",
       "      <td>60.00</td>\n",
       "      <td>Berlin</td>\n",
       "      <td>New York</td>\n",
       "      <td>12022.0</td>\n",
       "      <td>1176.0</td>\n",
       "      <td>175000.0</td>\n",
       "    </tr>\n",
       "    <tr>\n",
       "      <th>1</th>\n",
       "      <td>for_sale</td>\n",
       "      <td>3.0</td>\n",
       "      <td>2.0</td>\n",
       "      <td>2.02</td>\n",
       "      <td>Claverack</td>\n",
       "      <td>New York</td>\n",
       "      <td>12521.0</td>\n",
       "      <td>1600.0</td>\n",
       "      <td>425000.0</td>\n",
       "    </tr>\n",
       "    <tr>\n",
       "      <th>2</th>\n",
       "      <td>for_sale</td>\n",
       "      <td>4.0</td>\n",
       "      <td>2.0</td>\n",
       "      <td>0.24</td>\n",
       "      <td>Copake</td>\n",
       "      <td>New York</td>\n",
       "      <td>12521.0</td>\n",
       "      <td>1239.0</td>\n",
       "      <td>225000.0</td>\n",
       "    </tr>\n",
       "    <tr>\n",
       "      <th>3</th>\n",
       "      <td>for_sale</td>\n",
       "      <td>3.0</td>\n",
       "      <td>3.0</td>\n",
       "      <td>1.90</td>\n",
       "      <td>Copake</td>\n",
       "      <td>New York</td>\n",
       "      <td>12516.0</td>\n",
       "      <td>1800.0</td>\n",
       "      <td>419000.0</td>\n",
       "    </tr>\n",
       "    <tr>\n",
       "      <th>4</th>\n",
       "      <td>for_sale</td>\n",
       "      <td>3.0</td>\n",
       "      <td>2.0</td>\n",
       "      <td>2.00</td>\n",
       "      <td>Copake</td>\n",
       "      <td>New York</td>\n",
       "      <td>12517.0</td>\n",
       "      <td>1482.0</td>\n",
       "      <td>365000.0</td>\n",
       "    </tr>\n",
       "  </tbody>\n",
       "</table>\n",
       "</div>"
      ],
      "text/plain": [
       "     status  bed  bath  acre_lot       city     state  zip_code  house_size  \\\n",
       "0  for_sale  3.0   1.0     60.00     Berlin  New York   12022.0      1176.0   \n",
       "1  for_sale  3.0   2.0      2.02  Claverack  New York   12521.0      1600.0   \n",
       "2  for_sale  4.0   2.0      0.24     Copake  New York   12521.0      1239.0   \n",
       "3  for_sale  3.0   3.0      1.90     Copake  New York   12516.0      1800.0   \n",
       "4  for_sale  3.0   2.0      2.00     Copake  New York   12517.0      1482.0   \n",
       "\n",
       "      price  \n",
       "0  175000.0  \n",
       "1  425000.0  \n",
       "2  225000.0  \n",
       "3  419000.0  \n",
       "4  365000.0  "
      ]
     },
     "execution_count": 44,
     "metadata": {},
     "output_type": "execute_result"
    }
   ],
   "source": [
    "data_NewYork= pd.read_csv('/Users/saksham/Projects/Housing-Price/data/interim/New_York.csv')\n",
    "data_NewYork.head()"
   ]
  },
  {
   "cell_type": "code",
   "execution_count": 45,
   "metadata": {},
   "outputs": [],
   "source": [
    "data_NewYork['house_size']= StandardScaler().fit_transform(data_NewYork['house_size'].values.reshape(len(data_NewYork), 1))\n",
    "price_scaler_NewYork= StandardScaler().fit(data_NewYork['price'].values.reshape(-1, 1))\n",
    "data_NewYork['price']= price_scaler_NewYork.transform(data_NewYork['price'].values.reshape(-1, 1))\n",
    "data_NewYork['bath']= MinMaxScaler().fit_transform(data_NewYork['bath'].values.reshape(len(data_NewYork), 1))\n",
    "data_NewYork['bed']= MinMaxScaler().fit_transform(data_NewYork['bed'].values.reshape(len(data_NewYork), 1))\n",
    "data_NewYork['acre_lot']= MinMaxScaler().fit_transform(data_NewYork['acre_lot'].values.reshape(len(data_NewYork), 1))\n"
   ]
  },
  {
   "cell_type": "code",
   "execution_count": 46,
   "metadata": {},
   "outputs": [
    {
     "data": {
      "text/plain": [
       "array([134773.90506365])"
      ]
     },
     "execution_count": 46,
     "metadata": {},
     "output_type": "execute_result"
    }
   ],
   "source": [
    "X= data_NewYork[['bed', 'bath', 'acre_lot', 'zip_code', 'house_size', 'city', 'state']]\n",
    "X= pd.get_dummies(X, columns=['city', 'state'])\n",
    "y = data_NewYork['price']\n",
    "\n",
    "X_train,X_test, y_train, y_test = train_test_split(X, y, test_size=0.25, random_state=42)\n",
    "model=  LinearRegression()\n",
    "model.fit(X_train, y_train )\n",
    "\n",
    "y_pred= model.predict(X_test)\n",
    "y_pred_reshaped= y_pred.reshape(-1, 1)\n",
    "original_price_predictions= price_scaler_NewYork.inverse_transform(y_pred_reshaped)\n",
    "absolute_predictions= np.abs(original_price_predictions)\n",
    "absolute_predictions[89]"
   ]
  },
  {
   "cell_type": "code",
   "execution_count": 47,
   "metadata": {},
   "outputs": [
    {
     "name": "stdout",
     "output_type": "stream",
     "text": [
      "MSE:  0.2478637724409851\n",
      "RMSE:  0.4978591893708351\n",
      "MAE:  0.1940717687634382\n",
      "R2:  0.3711574299790563\n"
     ]
    }
   ],
   "source": [
    "mse= mean_squared_error(y_test, y_pred)\n",
    "rmse= np.sqrt(mse)\n",
    "mae= mean_absolute_error(y_test, y_pred)\n",
    "r2= r2_score(y_test, y_pred)\n",
    "\n",
    "print(f'MSE:  {mse}')\n",
    "print(f'RMSE:  {rmse}')\n",
    "print(f'MAE:  {mae}')\n",
    "print(f'R2:  {r2}')"
   ]
  },
  {
   "cell_type": "code",
   "execution_count": 48,
   "metadata": {},
   "outputs": [
    {
     "name": "stdout",
     "output_type": "stream",
     "text": [
      "MSE:  0.027393087817006313\n",
      "RMSE:  0.16550857324322\n",
      "MAE:  0.012395111798558303\n",
      "R2:  0.9305023901879124\n"
     ]
    }
   ],
   "source": [
    "model_tree= DecisionTreeRegressor()\n",
    "model_tree.fit(X_train, y_train )\n",
    "y_pred_tree= model_tree.predict(X_test)\n",
    "\n",
    "mse_tree= mean_squared_error(y_test, y_pred_tree)\n",
    "rmse_tree= np.sqrt(mse_tree)\n",
    "mae_tree= mean_absolute_error(y_test, y_pred_tree)\n",
    "r2_tree= r2_score(y_test, y_pred_tree)\n",
    "\n",
    "print(f'MSE:  {mse_tree}')\n",
    "print(f'RMSE:  {rmse_tree}')\n",
    "print(f'MAE:  {mae_tree}')\n",
    "print(f'R2:  {r2_tree}')"
   ]
  },
  {
   "cell_type": "code",
   "execution_count": 49,
   "metadata": {},
   "outputs": [
    {
     "data": {
      "text/html": [
       "<div>\n",
       "<style scoped>\n",
       "    .dataframe tbody tr th:only-of-type {\n",
       "        vertical-align: middle;\n",
       "    }\n",
       "\n",
       "    .dataframe tbody tr th {\n",
       "        vertical-align: top;\n",
       "    }\n",
       "\n",
       "    .dataframe thead th {\n",
       "        text-align: right;\n",
       "    }\n",
       "</style>\n",
       "<table border=\"1\" class=\"dataframe\">\n",
       "  <thead>\n",
       "    <tr style=\"text-align: right;\">\n",
       "      <th></th>\n",
       "      <th>status</th>\n",
       "      <th>bed</th>\n",
       "      <th>bath</th>\n",
       "      <th>acre_lot</th>\n",
       "      <th>city</th>\n",
       "      <th>state</th>\n",
       "      <th>zip_code</th>\n",
       "      <th>house_size</th>\n",
       "      <th>price</th>\n",
       "    </tr>\n",
       "  </thead>\n",
       "  <tbody>\n",
       "    <tr>\n",
       "      <th>0</th>\n",
       "      <td>for_sale</td>\n",
       "      <td>5.0</td>\n",
       "      <td>5.0</td>\n",
       "      <td>0.920000</td>\n",
       "      <td>Newtown Square</td>\n",
       "      <td>Pennsylvania</td>\n",
       "      <td>19073.0</td>\n",
       "      <td>4953.000000</td>\n",
       "      <td>1470000.0</td>\n",
       "    </tr>\n",
       "    <tr>\n",
       "      <th>1</th>\n",
       "      <td>for_sale</td>\n",
       "      <td>5.0</td>\n",
       "      <td>5.0</td>\n",
       "      <td>0.920000</td>\n",
       "      <td>Newtown Square</td>\n",
       "      <td>Pennsylvania</td>\n",
       "      <td>19073.0</td>\n",
       "      <td>4953.000000</td>\n",
       "      <td>1445000.0</td>\n",
       "    </tr>\n",
       "    <tr>\n",
       "      <th>2</th>\n",
       "      <td>for_sale</td>\n",
       "      <td>5.0</td>\n",
       "      <td>5.0</td>\n",
       "      <td>32.156834</td>\n",
       "      <td>Newtown Square</td>\n",
       "      <td>Pennsylvania</td>\n",
       "      <td>19073.0</td>\n",
       "      <td>2178.735694</td>\n",
       "      <td>1445000.0</td>\n",
       "    </tr>\n",
       "    <tr>\n",
       "      <th>3</th>\n",
       "      <td>for_sale</td>\n",
       "      <td>5.0</td>\n",
       "      <td>5.0</td>\n",
       "      <td>0.920000</td>\n",
       "      <td>Newtown Square</td>\n",
       "      <td>Pennsylvania</td>\n",
       "      <td>19073.0</td>\n",
       "      <td>4953.000000</td>\n",
       "      <td>1420000.0</td>\n",
       "    </tr>\n",
       "    <tr>\n",
       "      <th>4</th>\n",
       "      <td>for_sale</td>\n",
       "      <td>5.0</td>\n",
       "      <td>5.0</td>\n",
       "      <td>0.920000</td>\n",
       "      <td>Newtown Square</td>\n",
       "      <td>Pennsylvania</td>\n",
       "      <td>19073.0</td>\n",
       "      <td>4953.000000</td>\n",
       "      <td>1445000.0</td>\n",
       "    </tr>\n",
       "  </tbody>\n",
       "</table>\n",
       "</div>"
      ],
      "text/plain": [
       "     status  bed  bath   acre_lot            city         state  zip_code  \\\n",
       "0  for_sale  5.0   5.0   0.920000  Newtown Square  Pennsylvania   19073.0   \n",
       "1  for_sale  5.0   5.0   0.920000  Newtown Square  Pennsylvania   19073.0   \n",
       "2  for_sale  5.0   5.0  32.156834  Newtown Square  Pennsylvania   19073.0   \n",
       "3  for_sale  5.0   5.0   0.920000  Newtown Square  Pennsylvania   19073.0   \n",
       "4  for_sale  5.0   5.0   0.920000  Newtown Square  Pennsylvania   19073.0   \n",
       "\n",
       "    house_size      price  \n",
       "0  4953.000000  1470000.0  \n",
       "1  4953.000000  1445000.0  \n",
       "2  2178.735694  1445000.0  \n",
       "3  4953.000000  1420000.0  \n",
       "4  4953.000000  1445000.0  "
      ]
     },
     "execution_count": 49,
     "metadata": {},
     "output_type": "execute_result"
    }
   ],
   "source": [
    "data_Pennsylvania= pd.read_csv('/Users/saksham/Projects/Housing-Price/data/interim/Pennsylvania.csv')\n",
    "data_Pennsylvania.head()"
   ]
  },
  {
   "cell_type": "code",
   "execution_count": 50,
   "metadata": {},
   "outputs": [],
   "source": [
    "data_Pennsylvania['house_size']= StandardScaler().fit_transform(data_Pennsylvania['house_size'].values.reshape(len(data_Pennsylvania), 1))\n",
    "price_scaler_Pennsylvania= StandardScaler().fit(data_Pennsylvania['price'].values.reshape(-1, 1))\n",
    "data_Pennsylvania['price']= price_scaler_Pennsylvania.transform(data_Pennsylvania['price'].values.reshape(-1, 1))\n",
    "data_Pennsylvania['bath']= MinMaxScaler().fit_transform(data_Pennsylvania['bath'].values.reshape(len(data_Pennsylvania), 1))\n",
    "data_Pennsylvania['bed']= MinMaxScaler().fit_transform(data_Pennsylvania['bed'].values.reshape(len(data_Pennsylvania), 1))\n",
    "data_Pennsylvania['acre_lot']= MinMaxScaler().fit_transform(data_Pennsylvania['acre_lot'].values.reshape(len(data_Pennsylvania), 1))"
   ]
  },
  {
   "cell_type": "code",
   "execution_count": 51,
   "metadata": {},
   "outputs": [
    {
     "data": {
      "text/plain": [
       "array([1228643.02764001])"
      ]
     },
     "execution_count": 51,
     "metadata": {},
     "output_type": "execute_result"
    }
   ],
   "source": [
    "X= data_Pennsylvania[['bed', 'bath', 'acre_lot', 'zip_code', 'house_size', 'city', 'state']]\n",
    "X= pd.get_dummies(X, columns=['city', 'state'])\n",
    "y = data_Pennsylvania['price']\n",
    "\n",
    "X_train,X_test, y_train, y_test = train_test_split(X, y, test_size=0.25, random_state=42)\n",
    "model=  LinearRegression()\n",
    "\n",
    "model.fit(X_train, y_train )\n",
    "\n",
    "y_pred= model.predict(X_test)\n",
    "y_pred_reshaped= y_pred.reshape(-1, 1)\n",
    "original_price_predictions= price_scaler_Pennsylvania.inverse_transform(y_pred_reshaped)\n",
    "absolute_predictions= np.abs(original_price_predictions)\n",
    "absolute_predictions[680]"
   ]
  },
  {
   "cell_type": "code",
   "execution_count": 52,
   "metadata": {},
   "outputs": [
    {
     "name": "stdout",
     "output_type": "stream",
     "text": [
      "MSE:  368700496043403.44\n",
      "RMSE:  19201575.35316838\n",
      "MAE:  717382.9577395922\n",
      "R2:  -500415433307196.0\n"
     ]
    }
   ],
   "source": [
    "mse= mean_squared_error(y_test, y_pred)  # seems to be a problem with the prediction\n",
    "rmse= np.sqrt(mse)\n",
    "mae= mean_absolute_error(y_test, y_pred)\n",
    "r2= r2_score(y_test, y_pred)\n",
    "\n",
    "print(f'MSE:  {mse}')\n",
    "print(f'RMSE:  {rmse}')\n",
    "print(f'MAE:  {mae}')\n",
    "print(f'R2:  {r2}')"
   ]
  },
  {
   "cell_type": "code",
   "execution_count": 53,
   "metadata": {},
   "outputs": [
    {
     "name": "stdout",
     "output_type": "stream",
     "text": [
      "MSE:  0.1612042847685874\n",
      "RMSE:  0.40150253395039415\n",
      "MAE:  0.06613979442903867\n",
      "R2:  0.781206933868749\n"
     ]
    }
   ],
   "source": [
    "model_tree= DecisionTreeRegressor()\n",
    "model_tree.fit(X_train, y_train )\n",
    "y_pred_tree= model_tree.predict(X_test)\n",
    "\n",
    "mse_tree= mean_squared_error(y_test, y_pred_tree)\n",
    "rmse_tree= np.sqrt(mse_tree)\n",
    "mae_tree= mean_absolute_error(y_test, y_pred_tree)\n",
    "r2_tree= r2_score(y_test, y_pred_tree)\n",
    "\n",
    "print(f'MSE:  {mse_tree}')\n",
    "print(f'RMSE:  {rmse_tree}')\n",
    "print(f'MAE:  {mae_tree}')\n",
    "print(f'R2:  {r2_tree}')"
   ]
  },
  {
   "cell_type": "code",
   "execution_count": 54,
   "metadata": {},
   "outputs": [
    {
     "data": {
      "text/html": [
       "<div>\n",
       "<style scoped>\n",
       "    .dataframe tbody tr th:only-of-type {\n",
       "        vertical-align: middle;\n",
       "    }\n",
       "\n",
       "    .dataframe tbody tr th {\n",
       "        vertical-align: top;\n",
       "    }\n",
       "\n",
       "    .dataframe thead th {\n",
       "        text-align: right;\n",
       "    }\n",
       "</style>\n",
       "<table border=\"1\" class=\"dataframe\">\n",
       "  <thead>\n",
       "    <tr style=\"text-align: right;\">\n",
       "      <th></th>\n",
       "      <th>status</th>\n",
       "      <th>bed</th>\n",
       "      <th>bath</th>\n",
       "      <th>acre_lot</th>\n",
       "      <th>city</th>\n",
       "      <th>state</th>\n",
       "      <th>zip_code</th>\n",
       "      <th>house_size</th>\n",
       "      <th>price</th>\n",
       "    </tr>\n",
       "  </thead>\n",
       "  <tbody>\n",
       "    <tr>\n",
       "      <th>0</th>\n",
       "      <td>for_sale</td>\n",
       "      <td>3.0</td>\n",
       "      <td>2.0</td>\n",
       "      <td>0.12</td>\n",
       "      <td>Adjuntas</td>\n",
       "      <td>Puerto Rico</td>\n",
       "      <td>601.0</td>\n",
       "      <td>920.000000</td>\n",
       "      <td>105000.0</td>\n",
       "    </tr>\n",
       "    <tr>\n",
       "      <th>1</th>\n",
       "      <td>for_sale</td>\n",
       "      <td>4.0</td>\n",
       "      <td>2.0</td>\n",
       "      <td>0.08</td>\n",
       "      <td>Adjuntas</td>\n",
       "      <td>Puerto Rico</td>\n",
       "      <td>601.0</td>\n",
       "      <td>1527.000000</td>\n",
       "      <td>80000.0</td>\n",
       "    </tr>\n",
       "    <tr>\n",
       "      <th>2</th>\n",
       "      <td>for_sale</td>\n",
       "      <td>2.0</td>\n",
       "      <td>1.0</td>\n",
       "      <td>0.15</td>\n",
       "      <td>Juana Diaz</td>\n",
       "      <td>Puerto Rico</td>\n",
       "      <td>795.0</td>\n",
       "      <td>748.000000</td>\n",
       "      <td>67000.0</td>\n",
       "    </tr>\n",
       "    <tr>\n",
       "      <th>3</th>\n",
       "      <td>for_sale</td>\n",
       "      <td>4.0</td>\n",
       "      <td>2.0</td>\n",
       "      <td>0.10</td>\n",
       "      <td>Ponce</td>\n",
       "      <td>Puerto Rico</td>\n",
       "      <td>731.0</td>\n",
       "      <td>1800.000000</td>\n",
       "      <td>145000.0</td>\n",
       "    </tr>\n",
       "    <tr>\n",
       "      <th>4</th>\n",
       "      <td>for_sale</td>\n",
       "      <td>6.0</td>\n",
       "      <td>2.0</td>\n",
       "      <td>0.05</td>\n",
       "      <td>Mayaguez</td>\n",
       "      <td>Puerto Rico</td>\n",
       "      <td>680.0</td>\n",
       "      <td>2178.735694</td>\n",
       "      <td>65000.0</td>\n",
       "    </tr>\n",
       "  </tbody>\n",
       "</table>\n",
       "</div>"
      ],
      "text/plain": [
       "     status  bed  bath  acre_lot        city        state  zip_code  \\\n",
       "0  for_sale  3.0   2.0      0.12    Adjuntas  Puerto Rico     601.0   \n",
       "1  for_sale  4.0   2.0      0.08    Adjuntas  Puerto Rico     601.0   \n",
       "2  for_sale  2.0   1.0      0.15  Juana Diaz  Puerto Rico     795.0   \n",
       "3  for_sale  4.0   2.0      0.10       Ponce  Puerto Rico     731.0   \n",
       "4  for_sale  6.0   2.0      0.05    Mayaguez  Puerto Rico     680.0   \n",
       "\n",
       "    house_size     price  \n",
       "0   920.000000  105000.0  \n",
       "1  1527.000000   80000.0  \n",
       "2   748.000000   67000.0  \n",
       "3  1800.000000  145000.0  \n",
       "4  2178.735694   65000.0  "
      ]
     },
     "execution_count": 54,
     "metadata": {},
     "output_type": "execute_result"
    }
   ],
   "source": [
    "data_PuertoRico= pd.read_csv('/Users/saksham/Projects/Housing-Price/data/interim/Puerto_Rico.csv')\n",
    "data_PuertoRico.head()"
   ]
  },
  {
   "cell_type": "code",
   "execution_count": 55,
   "metadata": {},
   "outputs": [],
   "source": [
    "data_PuertoRico['house_size']= StandardScaler().fit_transform(data_PuertoRico['house_size'].values.reshape(len(data_PuertoRico), 1))\n",
    "price_scaler_PuertoRico= StandardScaler().fit(data_PuertoRico['price'].values.reshape(-1, 1))\n",
    "data_PuertoRico['price']= price_scaler_PuertoRico.transform(data_PuertoRico['price'].values.reshape(-1, 1))\n",
    "data_PuertoRico['bath']= MinMaxScaler().fit_transform(data_PuertoRico['bath'].values.reshape(len(data_PuertoRico), 1))\n",
    "data_PuertoRico['bed']= MinMaxScaler().fit_transform(data_PuertoRico['bed'].values.reshape(len(data_PuertoRico), 1))\n",
    "data_PuertoRico['acre_lot']= MinMaxScaler().fit_transform(data_PuertoRico['acre_lot'].values.reshape(len(data_PuertoRico), 1))"
   ]
  },
  {
   "cell_type": "code",
   "execution_count": 56,
   "metadata": {},
   "outputs": [
    {
     "data": {
      "text/plain": [
       "array([348604.45960824])"
      ]
     },
     "execution_count": 56,
     "metadata": {},
     "output_type": "execute_result"
    }
   ],
   "source": [
    "X= data_PuertoRico[['bed', 'bath', 'acre_lot', 'zip_code', 'house_size', 'city', 'state']]\n",
    "X= pd.get_dummies(X, columns=['city', 'state'])\n",
    "y = data_PuertoRico['price']\n",
    "\n",
    "X_train,X_test, y_train, y_test = train_test_split(X, y, test_size=0.25, random_state=42)\n",
    "model=  LinearRegression()\n",
    "model.fit(X_train, y_train )\n",
    "\n",
    "y_pred= model.predict(X_test)\n",
    "y_pred_reshaped= y_pred.reshape(-1, 1)\n",
    "original_price_predictions= price_scaler_PuertoRico.inverse_transform(y_pred_reshaped)\n",
    "absolute_predictions= np.abs(original_price_predictions)\n",
    "absolute_predictions[621]"
   ]
  },
  {
   "cell_type": "code",
   "execution_count": 57,
   "metadata": {},
   "outputs": [
    {
     "name": "stdout",
     "output_type": "stream",
     "text": [
      "MSE:  6.962377063872676\n",
      "RMSE:  2.638631665062912\n",
      "MAE:  0.3646397283832958\n",
      "R2:  -6.226864155399009\n"
     ]
    }
   ],
   "source": [
    "mse= mean_squared_error(y_test, y_pred)  \n",
    "rmse= np.sqrt(mse)\n",
    "mae= mean_absolute_error(y_test, y_pred)\n",
    "r2= r2_score(y_test, y_pred)\n",
    "\n",
    "print(f'MSE:  {mse}')\n",
    "print(f'RMSE:  {rmse}')\n",
    "print(f'MAE:  {mae}')\n",
    "print(f'R2:  {r2}')"
   ]
  },
  {
   "cell_type": "code",
   "execution_count": 58,
   "metadata": {},
   "outputs": [
    {
     "name": "stdout",
     "output_type": "stream",
     "text": [
      "MSE:  0.19132471639773083\n",
      "RMSE:  0.43740680881501015\n",
      "MAE:  0.03169471112756221\n",
      "R2:  0.8014072317123893\n"
     ]
    }
   ],
   "source": [
    "model_tree= DecisionTreeRegressor()\n",
    "model_tree.fit(X_train, y_train )\n",
    "y_pred_tree= model_tree.predict(X_test)\n",
    "\n",
    "mse_tree= mean_squared_error(y_test, y_pred_tree)\n",
    "rmse_tree= np.sqrt(mse_tree)\n",
    "mae_tree= mean_absolute_error(y_test, y_pred_tree)\n",
    "r2_tree= r2_score(y_test, y_pred_tree)\n",
    "\n",
    "print(f'MSE:  {mse_tree}')\n",
    "print(f'RMSE:  {rmse_tree}')\n",
    "print(f'MAE:  {mae_tree}')\n",
    "print(f'R2:  {r2_tree}')"
   ]
  },
  {
   "cell_type": "code",
   "execution_count": 59,
   "metadata": {},
   "outputs": [
    {
     "data": {
      "text/html": [
       "<div>\n",
       "<style scoped>\n",
       "    .dataframe tbody tr th:only-of-type {\n",
       "        vertical-align: middle;\n",
       "    }\n",
       "\n",
       "    .dataframe tbody tr th {\n",
       "        vertical-align: top;\n",
       "    }\n",
       "\n",
       "    .dataframe thead th {\n",
       "        text-align: right;\n",
       "    }\n",
       "</style>\n",
       "<table border=\"1\" class=\"dataframe\">\n",
       "  <thead>\n",
       "    <tr style=\"text-align: right;\">\n",
       "      <th></th>\n",
       "      <th>status</th>\n",
       "      <th>bed</th>\n",
       "      <th>bath</th>\n",
       "      <th>acre_lot</th>\n",
       "      <th>city</th>\n",
       "      <th>state</th>\n",
       "      <th>zip_code</th>\n",
       "      <th>house_size</th>\n",
       "      <th>price</th>\n",
       "    </tr>\n",
       "  </thead>\n",
       "  <tbody>\n",
       "    <tr>\n",
       "      <th>0</th>\n",
       "      <td>for_sale</td>\n",
       "      <td>4.0</td>\n",
       "      <td>2.0</td>\n",
       "      <td>2.020000</td>\n",
       "      <td>Burrillville</td>\n",
       "      <td>Rhode Island</td>\n",
       "      <td>2830.0</td>\n",
       "      <td>1512.0</td>\n",
       "      <td>350000.0</td>\n",
       "    </tr>\n",
       "    <tr>\n",
       "      <th>1</th>\n",
       "      <td>for_sale</td>\n",
       "      <td>3.0</td>\n",
       "      <td>3.0</td>\n",
       "      <td>0.210000</td>\n",
       "      <td>Woonsocket</td>\n",
       "      <td>Rhode Island</td>\n",
       "      <td>2895.0</td>\n",
       "      <td>3419.0</td>\n",
       "      <td>399000.0</td>\n",
       "    </tr>\n",
       "    <tr>\n",
       "      <th>2</th>\n",
       "      <td>for_sale</td>\n",
       "      <td>4.0</td>\n",
       "      <td>2.0</td>\n",
       "      <td>0.090000</td>\n",
       "      <td>North Smithfield</td>\n",
       "      <td>Rhode Island</td>\n",
       "      <td>2896.0</td>\n",
       "      <td>3154.0</td>\n",
       "      <td>329000.0</td>\n",
       "    </tr>\n",
       "    <tr>\n",
       "      <th>3</th>\n",
       "      <td>for_sale</td>\n",
       "      <td>3.0</td>\n",
       "      <td>3.0</td>\n",
       "      <td>0.530000</td>\n",
       "      <td>Burrillville</td>\n",
       "      <td>Rhode Island</td>\n",
       "      <td>2830.0</td>\n",
       "      <td>1642.0</td>\n",
       "      <td>399000.0</td>\n",
       "    </tr>\n",
       "    <tr>\n",
       "      <th>4</th>\n",
       "      <td>for_sale</td>\n",
       "      <td>3.0</td>\n",
       "      <td>1.0</td>\n",
       "      <td>32.156834</td>\n",
       "      <td>Woonsocket</td>\n",
       "      <td>Rhode Island</td>\n",
       "      <td>2895.0</td>\n",
       "      <td>1224.0</td>\n",
       "      <td>159900.0</td>\n",
       "    </tr>\n",
       "  </tbody>\n",
       "</table>\n",
       "</div>"
      ],
      "text/plain": [
       "     status  bed  bath   acre_lot              city         state  zip_code  \\\n",
       "0  for_sale  4.0   2.0   2.020000      Burrillville  Rhode Island    2830.0   \n",
       "1  for_sale  3.0   3.0   0.210000        Woonsocket  Rhode Island    2895.0   \n",
       "2  for_sale  4.0   2.0   0.090000  North Smithfield  Rhode Island    2896.0   \n",
       "3  for_sale  3.0   3.0   0.530000      Burrillville  Rhode Island    2830.0   \n",
       "4  for_sale  3.0   1.0  32.156834        Woonsocket  Rhode Island    2895.0   \n",
       "\n",
       "   house_size     price  \n",
       "0      1512.0  350000.0  \n",
       "1      3419.0  399000.0  \n",
       "2      3154.0  329000.0  \n",
       "3      1642.0  399000.0  \n",
       "4      1224.0  159900.0  "
      ]
     },
     "execution_count": 59,
     "metadata": {},
     "output_type": "execute_result"
    }
   ],
   "source": [
    "data_RhodeIsland= pd.read_csv('/Users/saksham/Projects/Housing-Price/data/interim/Rhode_Island.csv')\n",
    "data_RhodeIsland.head()"
   ]
  },
  {
   "cell_type": "code",
   "execution_count": 60,
   "metadata": {},
   "outputs": [],
   "source": [
    "data_RhodeIsland['house_size']= StandardScaler().fit_transform(data_RhodeIsland['house_size'].values.reshape(len(data_RhodeIsland), 1))\n",
    "price_scaler_RhodeIsland= StandardScaler().fit(data_RhodeIsland['price'].values.reshape(-1, 1))\n",
    "data_RhodeIsland['price']= price_scaler_RhodeIsland.transform(data_RhodeIsland['price'].values.reshape(-1, 1))\n",
    "data_RhodeIsland['bath']= MinMaxScaler().fit_transform(data_RhodeIsland['bath'].values.reshape(len(data_RhodeIsland), 1))\n",
    "data_RhodeIsland['bed']= MinMaxScaler().fit_transform(data_RhodeIsland['bed'].values.reshape(len(data_RhodeIsland), 1))\n",
    "data_RhodeIsland['acre_lot']= MinMaxScaler().fit_transform(data_RhodeIsland['acre_lot'].values.reshape(len(data_RhodeIsland), 1))"
   ]
  },
  {
   "cell_type": "code",
   "execution_count": 61,
   "metadata": {},
   "outputs": [
    {
     "data": {
      "text/plain": [
       "array([323194.9160952])"
      ]
     },
     "execution_count": 61,
     "metadata": {},
     "output_type": "execute_result"
    }
   ],
   "source": [
    "X= data_RhodeIsland[['bed', 'bath', 'acre_lot', 'zip_code', 'house_size', 'city', 'state']]\n",
    "X= pd.get_dummies(X, columns=['city', 'state'])\n",
    "y = data_RhodeIsland['price']\n",
    "\n",
    "X_train,X_test, y_train, y_test = train_test_split(X, y, test_size=0.25, random_state=42)\n",
    "model=  LinearRegression()\n",
    "model.fit(X_train, y_train )\n",
    "\n",
    "y_pred= model.predict(X_test)\n",
    "y_pred_reshaped= y_pred.reshape(-1, 1)\n",
    "original_price_predictions= price_scaler_RhodeIsland.inverse_transform(y_pred_reshaped)\n",
    "absolute_predictions= np.abs(original_price_predictions)\n",
    "absolute_predictions[990]"
   ]
  },
  {
   "cell_type": "code",
   "execution_count": 62,
   "metadata": {},
   "outputs": [
    {
     "name": "stdout",
     "output_type": "stream",
     "text": [
      "MSE:  0.5178219712233499\n",
      "RMSE:  0.7195984791697033\n",
      "MAE:  0.38653619460645705\n",
      "R2:  0.4637004841688662\n"
     ]
    }
   ],
   "source": [
    "mse= mean_squared_error(y_test, y_pred)  \n",
    "rmse= np.sqrt(mse)\n",
    "mae= mean_absolute_error(y_test, y_pred)\n",
    "r2= r2_score(y_test, y_pred)\n",
    "\n",
    "print(f'MSE:  {mse}')\n",
    "print(f'RMSE:  {rmse}')\n",
    "print(f'MAE:  {mae}')\n",
    "print(f'R2:  {r2}')"
   ]
  },
  {
   "cell_type": "code",
   "execution_count": 63,
   "metadata": {},
   "outputs": [
    {
     "name": "stdout",
     "output_type": "stream",
     "text": [
      "MSE:  0.07672708795810457\n",
      "RMSE:  0.276996548639337\n",
      "MAE:  0.012705695718564326\n",
      "R2:  0.9205350440695848\n"
     ]
    }
   ],
   "source": [
    "model_tree= DecisionTreeRegressor()\n",
    "model_tree.fit(X_train, y_train )\n",
    "y_pred_tree= model_tree.predict(X_test)\n",
    "\n",
    "mse_tree= mean_squared_error(y_test, y_pred_tree)\n",
    "rmse_tree= np.sqrt(mse_tree)\n",
    "mae_tree= mean_absolute_error(y_test, y_pred_tree)\n",
    "r2_tree= r2_score(y_test, y_pred_tree)\n",
    "\n",
    "print(f'MSE:  {mse_tree}')\n",
    "print(f'RMSE:  {rmse_tree}')\n",
    "print(f'MAE:  {mae_tree}')\n",
    "print(f'R2:  {r2_tree}')"
   ]
  },
  {
   "cell_type": "code",
   "execution_count": 65,
   "metadata": {},
   "outputs": [
    {
     "data": {
      "text/html": [
       "<div>\n",
       "<style scoped>\n",
       "    .dataframe tbody tr th:only-of-type {\n",
       "        vertical-align: middle;\n",
       "    }\n",
       "\n",
       "    .dataframe tbody tr th {\n",
       "        vertical-align: top;\n",
       "    }\n",
       "\n",
       "    .dataframe thead th {\n",
       "        text-align: right;\n",
       "    }\n",
       "</style>\n",
       "<table border=\"1\" class=\"dataframe\">\n",
       "  <thead>\n",
       "    <tr style=\"text-align: right;\">\n",
       "      <th></th>\n",
       "      <th>status</th>\n",
       "      <th>bed</th>\n",
       "      <th>bath</th>\n",
       "      <th>acre_lot</th>\n",
       "      <th>city</th>\n",
       "      <th>state</th>\n",
       "      <th>zip_code</th>\n",
       "      <th>house_size</th>\n",
       "      <th>price</th>\n",
       "    </tr>\n",
       "  </thead>\n",
       "  <tbody>\n",
       "    <tr>\n",
       "      <th>0</th>\n",
       "      <td>for_sale</td>\n",
       "      <td>3.0</td>\n",
       "      <td>2.487507</td>\n",
       "      <td>48.80</td>\n",
       "      <td>Readsboro</td>\n",
       "      <td>Vermont</td>\n",
       "      <td>5350.0</td>\n",
       "      <td>2178.735694</td>\n",
       "      <td>109900.0</td>\n",
       "    </tr>\n",
       "    <tr>\n",
       "      <th>1</th>\n",
       "      <td>for_sale</td>\n",
       "      <td>3.0</td>\n",
       "      <td>2.487507</td>\n",
       "      <td>48.80</td>\n",
       "      <td>Readsboro</td>\n",
       "      <td>Vermont</td>\n",
       "      <td>5350.0</td>\n",
       "      <td>2178.735694</td>\n",
       "      <td>109900.0</td>\n",
       "    </tr>\n",
       "    <tr>\n",
       "      <th>2</th>\n",
       "      <td>for_sale</td>\n",
       "      <td>3.0</td>\n",
       "      <td>2.487507</td>\n",
       "      <td>10.00</td>\n",
       "      <td>Whitingham</td>\n",
       "      <td>Vermont</td>\n",
       "      <td>5361.0</td>\n",
       "      <td>2178.735694</td>\n",
       "      <td>39900.0</td>\n",
       "    </tr>\n",
       "    <tr>\n",
       "      <th>3</th>\n",
       "      <td>for_sale</td>\n",
       "      <td>3.0</td>\n",
       "      <td>1.000000</td>\n",
       "      <td>3.40</td>\n",
       "      <td>Guilford</td>\n",
       "      <td>Vermont</td>\n",
       "      <td>5301.0</td>\n",
       "      <td>1335.000000</td>\n",
       "      <td>200000.0</td>\n",
       "    </tr>\n",
       "    <tr>\n",
       "      <th>4</th>\n",
       "      <td>for_sale</td>\n",
       "      <td>6.0</td>\n",
       "      <td>3.000000</td>\n",
       "      <td>2.56</td>\n",
       "      <td>Vernon</td>\n",
       "      <td>Vermont</td>\n",
       "      <td>5354.0</td>\n",
       "      <td>3108.000000</td>\n",
       "      <td>515000.0</td>\n",
       "    </tr>\n",
       "  </tbody>\n",
       "</table>\n",
       "</div>"
      ],
      "text/plain": [
       "     status  bed      bath  acre_lot        city    state  zip_code  \\\n",
       "0  for_sale  3.0  2.487507     48.80   Readsboro  Vermont    5350.0   \n",
       "1  for_sale  3.0  2.487507     48.80   Readsboro  Vermont    5350.0   \n",
       "2  for_sale  3.0  2.487507     10.00  Whitingham  Vermont    5361.0   \n",
       "3  for_sale  3.0  1.000000      3.40    Guilford  Vermont    5301.0   \n",
       "4  for_sale  6.0  3.000000      2.56      Vernon  Vermont    5354.0   \n",
       "\n",
       "    house_size     price  \n",
       "0  2178.735694  109900.0  \n",
       "1  2178.735694  109900.0  \n",
       "2  2178.735694   39900.0  \n",
       "3  1335.000000  200000.0  \n",
       "4  3108.000000  515000.0  "
      ]
     },
     "execution_count": 65,
     "metadata": {},
     "output_type": "execute_result"
    }
   ],
   "source": [
    "data_Vermont= pd.read_csv('/Users/saksham/Projects/Housing-Price/data/interim/Vermont.csv')\n",
    "data_Vermont.head()"
   ]
  },
  {
   "cell_type": "code",
   "execution_count": 66,
   "metadata": {},
   "outputs": [],
   "source": [
    "data_Vermont['house_size']= StandardScaler().fit_transform(data_Vermont['house_size'].values.reshape(len(data_Vermont), 1))\n",
    "price_scaler_Vermont= StandardScaler().fit(data_Vermont['price'].values.reshape(-1, 1))\n",
    "data_Vermont['price']= price_scaler_Vermont.transform(data_Vermont['price'].values.reshape(-1, 1))\n",
    "data_Vermont['bath']= MinMaxScaler().fit_transform(data_Vermont['bath'].values.reshape(len(data_Vermont), 1))\n",
    "data_Vermont['bed']= MinMaxScaler().fit_transform(data_Vermont['bed'].values.reshape(len(data_Vermont), 1))\n",
    "data_Vermont['acre_lot']= MinMaxScaler().fit_transform(data_Vermont['acre_lot'].values.reshape(len(data_Vermont), 1))"
   ]
  },
  {
   "cell_type": "code",
   "execution_count": 67,
   "metadata": {},
   "outputs": [
    {
     "data": {
      "text/html": [
       "<div>\n",
       "<style scoped>\n",
       "    .dataframe tbody tr th:only-of-type {\n",
       "        vertical-align: middle;\n",
       "    }\n",
       "\n",
       "    .dataframe tbody tr th {\n",
       "        vertical-align: top;\n",
       "    }\n",
       "\n",
       "    .dataframe thead th {\n",
       "        text-align: right;\n",
       "    }\n",
       "</style>\n",
       "<table border=\"1\" class=\"dataframe\">\n",
       "  <thead>\n",
       "    <tr style=\"text-align: right;\">\n",
       "      <th></th>\n",
       "      <th>status</th>\n",
       "      <th>bed</th>\n",
       "      <th>bath</th>\n",
       "      <th>acre_lot</th>\n",
       "      <th>city</th>\n",
       "      <th>state</th>\n",
       "      <th>zip_code</th>\n",
       "      <th>house_size</th>\n",
       "      <th>price</th>\n",
       "    </tr>\n",
       "  </thead>\n",
       "  <tbody>\n",
       "    <tr>\n",
       "      <th>0</th>\n",
       "      <td>for_sale</td>\n",
       "      <td>0.074074</td>\n",
       "      <td>0.053125</td>\n",
       "      <td>0.051348</td>\n",
       "      <td>Readsboro</td>\n",
       "      <td>Vermont</td>\n",
       "      <td>5350.0</td>\n",
       "      <td>-0.091578</td>\n",
       "      <td>-0.494546</td>\n",
       "    </tr>\n",
       "    <tr>\n",
       "      <th>1</th>\n",
       "      <td>for_sale</td>\n",
       "      <td>0.074074</td>\n",
       "      <td>0.053125</td>\n",
       "      <td>0.051348</td>\n",
       "      <td>Readsboro</td>\n",
       "      <td>Vermont</td>\n",
       "      <td>5350.0</td>\n",
       "      <td>-0.091578</td>\n",
       "      <td>-0.494546</td>\n",
       "    </tr>\n",
       "    <tr>\n",
       "      <th>2</th>\n",
       "      <td>for_sale</td>\n",
       "      <td>0.074074</td>\n",
       "      <td>0.053125</td>\n",
       "      <td>0.010505</td>\n",
       "      <td>Whitingham</td>\n",
       "      <td>Vermont</td>\n",
       "      <td>5361.0</td>\n",
       "      <td>-0.091578</td>\n",
       "      <td>-0.594871</td>\n",
       "    </tr>\n",
       "    <tr>\n",
       "      <th>3</th>\n",
       "      <td>for_sale</td>\n",
       "      <td>0.074074</td>\n",
       "      <td>0.000000</td>\n",
       "      <td>0.003558</td>\n",
       "      <td>Guilford</td>\n",
       "      <td>Vermont</td>\n",
       "      <td>5301.0</td>\n",
       "      <td>-0.735346</td>\n",
       "      <td>-0.365413</td>\n",
       "    </tr>\n",
       "    <tr>\n",
       "      <th>4</th>\n",
       "      <td>for_sale</td>\n",
       "      <td>0.185185</td>\n",
       "      <td>0.071429</td>\n",
       "      <td>0.002674</td>\n",
       "      <td>Vernon</td>\n",
       "      <td>Vermont</td>\n",
       "      <td>5354.0</td>\n",
       "      <td>0.617448</td>\n",
       "      <td>0.086050</td>\n",
       "    </tr>\n",
       "  </tbody>\n",
       "</table>\n",
       "</div>"
      ],
      "text/plain": [
       "     status       bed      bath  acre_lot        city    state  zip_code  \\\n",
       "0  for_sale  0.074074  0.053125  0.051348   Readsboro  Vermont    5350.0   \n",
       "1  for_sale  0.074074  0.053125  0.051348   Readsboro  Vermont    5350.0   \n",
       "2  for_sale  0.074074  0.053125  0.010505  Whitingham  Vermont    5361.0   \n",
       "3  for_sale  0.074074  0.000000  0.003558    Guilford  Vermont    5301.0   \n",
       "4  for_sale  0.185185  0.071429  0.002674      Vernon  Vermont    5354.0   \n",
       "\n",
       "   house_size     price  \n",
       "0   -0.091578 -0.494546  \n",
       "1   -0.091578 -0.494546  \n",
       "2   -0.091578 -0.594871  \n",
       "3   -0.735346 -0.365413  \n",
       "4    0.617448  0.086050  "
      ]
     },
     "execution_count": 67,
     "metadata": {},
     "output_type": "execute_result"
    }
   ],
   "source": [
    "data_Vermont.head()"
   ]
  },
  {
   "cell_type": "code",
   "execution_count": 68,
   "metadata": {},
   "outputs": [
    {
     "data": {
      "text/plain": [
       "array([472747.72257842])"
      ]
     },
     "execution_count": 68,
     "metadata": {},
     "output_type": "execute_result"
    }
   ],
   "source": [
    "X= data_Vermont[['bed', 'bath', 'acre_lot', 'zip_code', 'house_size', 'city', 'state']]\n",
    "X= pd.get_dummies(X, columns=['city', 'state'])\n",
    "y = data_Vermont['price']\n",
    "\n",
    "X_train,X_test, y_train, y_test = train_test_split(X, y, test_size=0.25, random_state=42)\n",
    "model=  LinearRegression()\n",
    "model.fit(X_train, y_train )\n",
    "\n",
    "y_pred= model.predict(X_test)\n",
    "y_pred_reshaped= y_pred.reshape(-1, 1)\n",
    "original_price_predictions= price_scaler_Vermont.inverse_transform(y_pred_reshaped)\n",
    "absolute_predictions= np.abs(original_price_predictions)\n",
    "absolute_predictions[4561]"
   ]
  },
  {
   "cell_type": "code",
   "execution_count": 69,
   "metadata": {},
   "outputs": [
    {
     "name": "stdout",
     "output_type": "stream",
     "text": [
      "MSE:  0.5577122247729198\n",
      "RMSE:  0.7468013288505316\n",
      "MAE:  0.40272222392344964\n",
      "R2:  0.46847446324001063\n"
     ]
    }
   ],
   "source": [
    "mse= mean_squared_error(y_test, y_pred)\n",
    "rmse= np.sqrt(mse)\n",
    "mae= mean_absolute_error(y_test, y_pred)\n",
    "r2= r2_score(y_test, y_pred)\n",
    "\n",
    "print(f'MSE:  {mse}')\n",
    "print(f'RMSE:  {rmse}')\n",
    "print(f'MAE:  {mae}')\n",
    "print(f'R2:  {r2}')"
   ]
  },
  {
   "cell_type": "code",
   "execution_count": 70,
   "metadata": {},
   "outputs": [
    {
     "name": "stdout",
     "output_type": "stream",
     "text": [
      "MSE:  0.0015265704542856862\n",
      "RMSE:  0.03907135081214477\n",
      "MAE:  0.0053423184975826595\n",
      "R2:  0.9985451077740917\n"
     ]
    }
   ],
   "source": [
    "model_tree= DecisionTreeRegressor()\n",
    "model_tree.fit(X_train, y_train )\n",
    "y_pred_tree= model_tree.predict(X_test)\n",
    "\n",
    "mse_tree= mean_squared_error(y_test, y_pred_tree)\n",
    "rmse_tree= np.sqrt(mse_tree)\n",
    "mae_tree= mean_absolute_error(y_test, y_pred_tree)\n",
    "r2_tree= r2_score(y_test, y_pred_tree)\n",
    "\n",
    "print(f'MSE:  {mse_tree}')\n",
    "print(f'RMSE:  {rmse_tree}')\n",
    "print(f'MAE:  {mae_tree}')\n",
    "print(f'R2:  {r2_tree}')"
   ]
  },
  {
   "cell_type": "code",
   "execution_count": 71,
   "metadata": {},
   "outputs": [
    {
     "data": {
      "text/html": [
       "<div>\n",
       "<style scoped>\n",
       "    .dataframe tbody tr th:only-of-type {\n",
       "        vertical-align: middle;\n",
       "    }\n",
       "\n",
       "    .dataframe tbody tr th {\n",
       "        vertical-align: top;\n",
       "    }\n",
       "\n",
       "    .dataframe thead th {\n",
       "        text-align: right;\n",
       "    }\n",
       "</style>\n",
       "<table border=\"1\" class=\"dataframe\">\n",
       "  <thead>\n",
       "    <tr style=\"text-align: right;\">\n",
       "      <th></th>\n",
       "      <th>status</th>\n",
       "      <th>bed</th>\n",
       "      <th>bath</th>\n",
       "      <th>acre_lot</th>\n",
       "      <th>city</th>\n",
       "      <th>state</th>\n",
       "      <th>zip_code</th>\n",
       "      <th>house_size</th>\n",
       "      <th>price</th>\n",
       "    </tr>\n",
       "  </thead>\n",
       "  <tbody>\n",
       "    <tr>\n",
       "      <th>0</th>\n",
       "      <td>for_sale</td>\n",
       "      <td>5.0</td>\n",
       "      <td>2.0</td>\n",
       "      <td>0.210000</td>\n",
       "      <td>Saint Thomas</td>\n",
       "      <td>Virgin Islands</td>\n",
       "      <td>802.0</td>\n",
       "      <td>1140.0</td>\n",
       "      <td>175000.0</td>\n",
       "    </tr>\n",
       "    <tr>\n",
       "      <th>1</th>\n",
       "      <td>for_sale</td>\n",
       "      <td>9.0</td>\n",
       "      <td>5.0</td>\n",
       "      <td>0.040000</td>\n",
       "      <td>Saint Thomas</td>\n",
       "      <td>Virgin Islands</td>\n",
       "      <td>802.0</td>\n",
       "      <td>3120.0</td>\n",
       "      <td>100000.0</td>\n",
       "    </tr>\n",
       "    <tr>\n",
       "      <th>2</th>\n",
       "      <td>for_sale</td>\n",
       "      <td>4.0</td>\n",
       "      <td>6.0</td>\n",
       "      <td>1.040000</td>\n",
       "      <td>Saint Thomas</td>\n",
       "      <td>Virgin Islands</td>\n",
       "      <td>802.0</td>\n",
       "      <td>6760.0</td>\n",
       "      <td>1599000.0</td>\n",
       "    </tr>\n",
       "    <tr>\n",
       "      <th>3</th>\n",
       "      <td>for_sale</td>\n",
       "      <td>3.0</td>\n",
       "      <td>1.0</td>\n",
       "      <td>32.156834</td>\n",
       "      <td>Saint Thomas</td>\n",
       "      <td>Virgin Islands</td>\n",
       "      <td>802.0</td>\n",
       "      <td>235.0</td>\n",
       "      <td>115000.0</td>\n",
       "    </tr>\n",
       "    <tr>\n",
       "      <th>4</th>\n",
       "      <td>for_sale</td>\n",
       "      <td>3.0</td>\n",
       "      <td>5.0</td>\n",
       "      <td>0.810000</td>\n",
       "      <td>Saint Thomas</td>\n",
       "      <td>Virgin Islands</td>\n",
       "      <td>802.0</td>\n",
       "      <td>4500.0</td>\n",
       "      <td>925000.0</td>\n",
       "    </tr>\n",
       "  </tbody>\n",
       "</table>\n",
       "</div>"
      ],
      "text/plain": [
       "     status  bed  bath   acre_lot          city           state  zip_code  \\\n",
       "0  for_sale  5.0   2.0   0.210000  Saint Thomas  Virgin Islands     802.0   \n",
       "1  for_sale  9.0   5.0   0.040000  Saint Thomas  Virgin Islands     802.0   \n",
       "2  for_sale  4.0   6.0   1.040000  Saint Thomas  Virgin Islands     802.0   \n",
       "3  for_sale  3.0   1.0  32.156834  Saint Thomas  Virgin Islands     802.0   \n",
       "4  for_sale  3.0   5.0   0.810000  Saint Thomas  Virgin Islands     802.0   \n",
       "\n",
       "   house_size      price  \n",
       "0      1140.0   175000.0  \n",
       "1      3120.0   100000.0  \n",
       "2      6760.0  1599000.0  \n",
       "3       235.0   115000.0  \n",
       "4      4500.0   925000.0  "
      ]
     },
     "execution_count": 71,
     "metadata": {},
     "output_type": "execute_result"
    }
   ],
   "source": [
    "data_VirginIslands = pd.read_csv('/Users/saksham/Projects/Housing-Price/data/interim/Virgin_Islands.csv')\n",
    "data_VirginIslands.head()"
   ]
  },
  {
   "cell_type": "code",
   "execution_count": 72,
   "metadata": {},
   "outputs": [],
   "source": [
    "data_VirginIslands['house_size']= StandardScaler().fit_transform(data_VirginIslands['house_size'].values.reshape(len(data_VirginIslands), 1))\n",
    "price_scaler_VirginIslands= StandardScaler().fit(data_VirginIslands['price'].values.reshape(-1, 1))\n",
    "data_VirginIslands['price']= price_scaler_VirginIslands.transform(data_VirginIslands['price'].values.reshape(-1, 1))\n",
    "data_VirginIslands['bath']= MinMaxScaler().fit_transform(data_VirginIslands['bath'].values.reshape(len(data_VirginIslands), 1))\n",
    "data_VirginIslands['bed']= MinMaxScaler().fit_transform(data_VirginIslands['bed'].values.reshape(len(data_VirginIslands), 1))\n",
    "data_VirginIslands['acre_lot']= MinMaxScaler().fit_transform(data_VirginIslands['acre_lot'].values.reshape(len(data_VirginIslands), 1))"
   ]
  },
  {
   "cell_type": "code",
   "execution_count": 74,
   "metadata": {},
   "outputs": [
    {
     "data": {
      "text/plain": [
       "array([392271.2048091])"
      ]
     },
     "execution_count": 74,
     "metadata": {},
     "output_type": "execute_result"
    }
   ],
   "source": [
    "X= data_VirginIslands[['bed', 'bath', 'acre_lot', 'zip_code', 'house_size', 'city', 'state']]\n",
    "X= pd.get_dummies(X, columns=['city', 'state'])\n",
    "y = data_VirginIslands['price']\n",
    "\n",
    "X_train,X_test, y_train, y_test = train_test_split(X, y, test_size=0.25, random_state=42)\n",
    "model=  LinearRegression()\n",
    "model.fit(X_train, y_train )\n",
    "\n",
    "y_pred= model.predict(X_test)\n",
    "y_pred_reshaped= y_pred.reshape(-1, 1)\n",
    "original_price_predictions= price_scaler_VirginIslands.inverse_transform(y_pred_reshaped)\n",
    "absolute_predictions= np.abs(original_price_predictions)\n",
    "absolute_predictions[410]"
   ]
  },
  {
   "cell_type": "code",
   "execution_count": 75,
   "metadata": {},
   "outputs": [
    {
     "name": "stdout",
     "output_type": "stream",
     "text": [
      "MSE:  0.7554249730747764\n",
      "RMSE:  0.8691518699713972\n",
      "MAE:  0.3006605045441262\n",
      "R2:  -0.1548348603126084\n"
     ]
    }
   ],
   "source": [
    "mse= mean_squared_error(y_test, y_pred)\n",
    "rmse= np.sqrt(mse)\n",
    "mae= mean_absolute_error(y_test, y_pred)\n",
    "r2= r2_score(y_test, y_pred)\n",
    "\n",
    "print(f'MSE:  {mse}')\n",
    "print(f'RMSE:  {rmse}')\n",
    "print(f'MAE:  {mae}')\n",
    "print(f'R2:  {r2}')"
   ]
  },
  {
   "cell_type": "code",
   "execution_count": 76,
   "metadata": {},
   "outputs": [
    {
     "name": "stdout",
     "output_type": "stream",
     "text": [
      "MSE:  0.005237982087262669\n",
      "RMSE:  0.07237390473964127\n",
      "MAE:  0.022196495386028425\n",
      "R2:  0.9919925809608293\n"
     ]
    }
   ],
   "source": [
    "model_tree= DecisionTreeRegressor()\n",
    "model_tree.fit(X_train, y_train )\n",
    "y_pred_tree= model_tree.predict(X_test)\n",
    "\n",
    "mse_tree= mean_squared_error(y_test, y_pred_tree)\n",
    "rmse_tree= np.sqrt(mse_tree)\n",
    "mae_tree= mean_absolute_error(y_test, y_pred_tree)\n",
    "r2_tree= r2_score(y_test, y_pred_tree)\n",
    "\n",
    "print(f'MSE:  {mse_tree}')\n",
    "print(f'RMSE:  {rmse_tree}')\n",
    "print(f'MAE:  {mae_tree}')\n",
    "print(f'R2:  {r2_tree}')"
   ]
  },
  {
   "cell_type": "code",
   "execution_count": null,
   "metadata": {},
   "outputs": [],
   "source": []
  }
 ],
 "metadata": {
  "kernelspec": {
   "display_name": "Python 3",
   "language": "python",
   "name": "python3"
  },
  "language_info": {
   "codemirror_mode": {
    "name": "ipython",
    "version": 3
   },
   "file_extension": ".py",
   "mimetype": "text/x-python",
   "name": "python",
   "nbconvert_exporter": "python",
   "pygments_lexer": "ipython3",
   "version": "3.10.6"
  }
 },
 "nbformat": 4,
 "nbformat_minor": 2
}
