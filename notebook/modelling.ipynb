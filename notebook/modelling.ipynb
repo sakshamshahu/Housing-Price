{
 "cells": [
  {
   "cell_type": "code",
   "metadata": {
    "ExecuteTime": {
     "end_time": "2024-04-17T16:25:49.495770Z",
     "start_time": "2024-04-17T16:25:48.857773Z"
    }
   },
   "source": [
    "import pandas as pd \n",
    "import numpy as np\n",
    "from sklearn.metrics import r2_score, mean_squared_error, mean_absolute_error\n",
    "from sklearn.preprocessing import OneHotEncoder, StandardScaler, MinMaxScaler\n",
    "from sklearn.model_selection import train_test_split\n",
    "from sklearn.linear_model import LinearRegression\n",
    "from sklearn.tree import DecisionTreeRegressor\n",
    "import joblib"
   ],
   "outputs": [],
   "execution_count": 1
  },
  {
   "cell_type": "code",
   "metadata": {
    "ExecuteTime": {
     "end_time": "2024-04-17T16:25:53.380613Z",
     "start_time": "2024-04-17T16:25:53.323243Z"
    }
   },
   "source": "data_conneticut = pd.read_csv('/Users/akshatsharma/UPES/Sem 6/AI_Applications/Housing-Price/data/interim/Connecticut.csv')",
   "outputs": [],
   "execution_count": 2
  },
  {
   "cell_type": "code",
   "metadata": {
    "ExecuteTime": {
     "end_time": "2024-04-17T16:25:55.216710Z",
     "start_time": "2024-04-17T16:25:55.209338Z"
    }
   },
   "source": [
    "data_conneticut.head()"
   ],
   "outputs": [
    {
     "data": {
      "text/plain": [
       "     status  bed  bath   acre_lot          city        state  zip_code  \\\n",
       "0  for_sale  3.0   1.0   3.930000    Willington  Connecticut    6279.0   \n",
       "1  for_sale  4.0   3.0   2.340000      Coventry  Connecticut    6238.0   \n",
       "2  for_sale  1.0   1.0  32.156834    Willington  Connecticut    6279.0   \n",
       "3  for_sale  2.0   1.0   0.910000  East Windsor  Connecticut    6016.0   \n",
       "4  for_sale  2.0   1.0   0.360000        Vernon  Connecticut    6066.0   \n",
       "\n",
       "   house_size     price  \n",
       "0      1572.0  225000.0  \n",
       "1      3320.0  579900.0  \n",
       "2       680.0   65000.0  \n",
       "3       960.0  215000.0  \n",
       "4       860.0  144900.0  "
      ],
      "text/html": [
       "<div>\n",
       "<style scoped>\n",
       "    .dataframe tbody tr th:only-of-type {\n",
       "        vertical-align: middle;\n",
       "    }\n",
       "\n",
       "    .dataframe tbody tr th {\n",
       "        vertical-align: top;\n",
       "    }\n",
       "\n",
       "    .dataframe thead th {\n",
       "        text-align: right;\n",
       "    }\n",
       "</style>\n",
       "<table border=\"1\" class=\"dataframe\">\n",
       "  <thead>\n",
       "    <tr style=\"text-align: right;\">\n",
       "      <th></th>\n",
       "      <th>status</th>\n",
       "      <th>bed</th>\n",
       "      <th>bath</th>\n",
       "      <th>acre_lot</th>\n",
       "      <th>city</th>\n",
       "      <th>state</th>\n",
       "      <th>zip_code</th>\n",
       "      <th>house_size</th>\n",
       "      <th>price</th>\n",
       "    </tr>\n",
       "  </thead>\n",
       "  <tbody>\n",
       "    <tr>\n",
       "      <th>0</th>\n",
       "      <td>for_sale</td>\n",
       "      <td>3.0</td>\n",
       "      <td>1.0</td>\n",
       "      <td>3.930000</td>\n",
       "      <td>Willington</td>\n",
       "      <td>Connecticut</td>\n",
       "      <td>6279.0</td>\n",
       "      <td>1572.0</td>\n",
       "      <td>225000.0</td>\n",
       "    </tr>\n",
       "    <tr>\n",
       "      <th>1</th>\n",
       "      <td>for_sale</td>\n",
       "      <td>4.0</td>\n",
       "      <td>3.0</td>\n",
       "      <td>2.340000</td>\n",
       "      <td>Coventry</td>\n",
       "      <td>Connecticut</td>\n",
       "      <td>6238.0</td>\n",
       "      <td>3320.0</td>\n",
       "      <td>579900.0</td>\n",
       "    </tr>\n",
       "    <tr>\n",
       "      <th>2</th>\n",
       "      <td>for_sale</td>\n",
       "      <td>1.0</td>\n",
       "      <td>1.0</td>\n",
       "      <td>32.156834</td>\n",
       "      <td>Willington</td>\n",
       "      <td>Connecticut</td>\n",
       "      <td>6279.0</td>\n",
       "      <td>680.0</td>\n",
       "      <td>65000.0</td>\n",
       "    </tr>\n",
       "    <tr>\n",
       "      <th>3</th>\n",
       "      <td>for_sale</td>\n",
       "      <td>2.0</td>\n",
       "      <td>1.0</td>\n",
       "      <td>0.910000</td>\n",
       "      <td>East Windsor</td>\n",
       "      <td>Connecticut</td>\n",
       "      <td>6016.0</td>\n",
       "      <td>960.0</td>\n",
       "      <td>215000.0</td>\n",
       "    </tr>\n",
       "    <tr>\n",
       "      <th>4</th>\n",
       "      <td>for_sale</td>\n",
       "      <td>2.0</td>\n",
       "      <td>1.0</td>\n",
       "      <td>0.360000</td>\n",
       "      <td>Vernon</td>\n",
       "      <td>Connecticut</td>\n",
       "      <td>6066.0</td>\n",
       "      <td>860.0</td>\n",
       "      <td>144900.0</td>\n",
       "    </tr>\n",
       "  </tbody>\n",
       "</table>\n",
       "</div>"
      ]
     },
     "execution_count": 3,
     "metadata": {},
     "output_type": "execute_result"
    }
   ],
   "execution_count": 3
  },
  {
   "cell_type": "code",
   "metadata": {
    "ExecuteTime": {
     "end_time": "2024-04-17T16:25:57.693761Z",
     "start_time": "2024-04-17T16:25:57.687009Z"
    }
   },
   "source": [
    "data_conneticut['house_size'] = StandardScaler().fit_transform(data_conneticut['house_size'].values.reshape(len(data_conneticut), 1))\n",
    "\n",
    "price_scaler_conn = StandardScaler().fit(data_conneticut['price'].values.reshape(-1, 1))  # Assign to a variable\n",
    "data_conneticut['price'] = price_scaler_conn.transform(data_conneticut['price'].values.reshape(-1, 1))\n",
    "\n",
    "data_conneticut['bath'] = MinMaxScaler().fit_transform(data_conneticut['bath'].values.reshape(len(data_conneticut), 1))\n",
    "data_conneticut['bed'] = MinMaxScaler().fit_transform(data_conneticut['bed'].values.reshape(len(data_conneticut), 1))\n",
    "data_conneticut['acre_lot'] = MinMaxScaler().fit_transform(data_conneticut['acre_lot'].values.reshape(len(data_conneticut), 1))"
   ],
   "outputs": [],
   "execution_count": 4
  },
  {
   "cell_type": "code",
   "metadata": {
    "ExecuteTime": {
     "end_time": "2024-04-17T16:26:00.428956Z",
     "start_time": "2024-04-17T16:26:00.418563Z"
    }
   },
   "source": [
    "data_conneticut"
   ],
   "outputs": [
    {
     "data": {
      "text/plain": [
       "         status       bed      bath  acre_lot          city        state  \\\n",
       "0      for_sale  0.090909  0.000000  0.000039    Willington  Connecticut   \n",
       "1      for_sale  0.136364  0.083333  0.000023      Coventry  Connecticut   \n",
       "2      for_sale  0.000000  0.000000  0.000321    Willington  Connecticut   \n",
       "3      for_sale  0.045455  0.000000  0.000009  East Windsor  Connecticut   \n",
       "4      for_sale  0.045455  0.000000  0.000004        Vernon  Connecticut   \n",
       "...         ...       ...       ...       ...           ...          ...   \n",
       "98807  for_sale  0.090909  0.083333  0.000010   New Milford  Connecticut   \n",
       "98808  for_sale  0.090909  0.083333  0.000038  North Canaan  Connecticut   \n",
       "98809  for_sale  0.090909  0.061979  0.000026       Sherman  Connecticut   \n",
       "98810  for_sale  0.136364  0.125000  0.000012     Salisbury  Connecticut   \n",
       "98811  for_sale  0.045455  0.083333  0.000006        Sharon  Connecticut   \n",
       "\n",
       "       zip_code  house_size     price  \n",
       "0        6279.0   -0.348938 -0.206817  \n",
       "1        6238.0    0.632040 -0.010419  \n",
       "2        6279.0   -0.849529 -0.295360  \n",
       "3        6016.0   -0.692393 -0.212351  \n",
       "4        6066.0   -0.748513 -0.251144  \n",
       "...         ...         ...       ...  \n",
       "98807    6755.0   -0.507758 -0.084573  \n",
       "98808    6018.0   -0.332664 -0.096139  \n",
       "98809    6784.0   -0.008438 -0.173061  \n",
       "98810    6039.0    0.546177  0.440651  \n",
       "98811    6069.0   -0.296185  0.346574  \n",
       "\n",
       "[98812 rows x 9 columns]"
      ],
      "text/html": [
       "<div>\n",
       "<style scoped>\n",
       "    .dataframe tbody tr th:only-of-type {\n",
       "        vertical-align: middle;\n",
       "    }\n",
       "\n",
       "    .dataframe tbody tr th {\n",
       "        vertical-align: top;\n",
       "    }\n",
       "\n",
       "    .dataframe thead th {\n",
       "        text-align: right;\n",
       "    }\n",
       "</style>\n",
       "<table border=\"1\" class=\"dataframe\">\n",
       "  <thead>\n",
       "    <tr style=\"text-align: right;\">\n",
       "      <th></th>\n",
       "      <th>status</th>\n",
       "      <th>bed</th>\n",
       "      <th>bath</th>\n",
       "      <th>acre_lot</th>\n",
       "      <th>city</th>\n",
       "      <th>state</th>\n",
       "      <th>zip_code</th>\n",
       "      <th>house_size</th>\n",
       "      <th>price</th>\n",
       "    </tr>\n",
       "  </thead>\n",
       "  <tbody>\n",
       "    <tr>\n",
       "      <th>0</th>\n",
       "      <td>for_sale</td>\n",
       "      <td>0.090909</td>\n",
       "      <td>0.000000</td>\n",
       "      <td>0.000039</td>\n",
       "      <td>Willington</td>\n",
       "      <td>Connecticut</td>\n",
       "      <td>6279.0</td>\n",
       "      <td>-0.348938</td>\n",
       "      <td>-0.206817</td>\n",
       "    </tr>\n",
       "    <tr>\n",
       "      <th>1</th>\n",
       "      <td>for_sale</td>\n",
       "      <td>0.136364</td>\n",
       "      <td>0.083333</td>\n",
       "      <td>0.000023</td>\n",
       "      <td>Coventry</td>\n",
       "      <td>Connecticut</td>\n",
       "      <td>6238.0</td>\n",
       "      <td>0.632040</td>\n",
       "      <td>-0.010419</td>\n",
       "    </tr>\n",
       "    <tr>\n",
       "      <th>2</th>\n",
       "      <td>for_sale</td>\n",
       "      <td>0.000000</td>\n",
       "      <td>0.000000</td>\n",
       "      <td>0.000321</td>\n",
       "      <td>Willington</td>\n",
       "      <td>Connecticut</td>\n",
       "      <td>6279.0</td>\n",
       "      <td>-0.849529</td>\n",
       "      <td>-0.295360</td>\n",
       "    </tr>\n",
       "    <tr>\n",
       "      <th>3</th>\n",
       "      <td>for_sale</td>\n",
       "      <td>0.045455</td>\n",
       "      <td>0.000000</td>\n",
       "      <td>0.000009</td>\n",
       "      <td>East Windsor</td>\n",
       "      <td>Connecticut</td>\n",
       "      <td>6016.0</td>\n",
       "      <td>-0.692393</td>\n",
       "      <td>-0.212351</td>\n",
       "    </tr>\n",
       "    <tr>\n",
       "      <th>4</th>\n",
       "      <td>for_sale</td>\n",
       "      <td>0.045455</td>\n",
       "      <td>0.000000</td>\n",
       "      <td>0.000004</td>\n",
       "      <td>Vernon</td>\n",
       "      <td>Connecticut</td>\n",
       "      <td>6066.0</td>\n",
       "      <td>-0.748513</td>\n",
       "      <td>-0.251144</td>\n",
       "    </tr>\n",
       "    <tr>\n",
       "      <th>...</th>\n",
       "      <td>...</td>\n",
       "      <td>...</td>\n",
       "      <td>...</td>\n",
       "      <td>...</td>\n",
       "      <td>...</td>\n",
       "      <td>...</td>\n",
       "      <td>...</td>\n",
       "      <td>...</td>\n",
       "      <td>...</td>\n",
       "    </tr>\n",
       "    <tr>\n",
       "      <th>98807</th>\n",
       "      <td>for_sale</td>\n",
       "      <td>0.090909</td>\n",
       "      <td>0.083333</td>\n",
       "      <td>0.000010</td>\n",
       "      <td>New Milford</td>\n",
       "      <td>Connecticut</td>\n",
       "      <td>6755.0</td>\n",
       "      <td>-0.507758</td>\n",
       "      <td>-0.084573</td>\n",
       "    </tr>\n",
       "    <tr>\n",
       "      <th>98808</th>\n",
       "      <td>for_sale</td>\n",
       "      <td>0.090909</td>\n",
       "      <td>0.083333</td>\n",
       "      <td>0.000038</td>\n",
       "      <td>North Canaan</td>\n",
       "      <td>Connecticut</td>\n",
       "      <td>6018.0</td>\n",
       "      <td>-0.332664</td>\n",
       "      <td>-0.096139</td>\n",
       "    </tr>\n",
       "    <tr>\n",
       "      <th>98809</th>\n",
       "      <td>for_sale</td>\n",
       "      <td>0.090909</td>\n",
       "      <td>0.061979</td>\n",
       "      <td>0.000026</td>\n",
       "      <td>Sherman</td>\n",
       "      <td>Connecticut</td>\n",
       "      <td>6784.0</td>\n",
       "      <td>-0.008438</td>\n",
       "      <td>-0.173061</td>\n",
       "    </tr>\n",
       "    <tr>\n",
       "      <th>98810</th>\n",
       "      <td>for_sale</td>\n",
       "      <td>0.136364</td>\n",
       "      <td>0.125000</td>\n",
       "      <td>0.000012</td>\n",
       "      <td>Salisbury</td>\n",
       "      <td>Connecticut</td>\n",
       "      <td>6039.0</td>\n",
       "      <td>0.546177</td>\n",
       "      <td>0.440651</td>\n",
       "    </tr>\n",
       "    <tr>\n",
       "      <th>98811</th>\n",
       "      <td>for_sale</td>\n",
       "      <td>0.045455</td>\n",
       "      <td>0.083333</td>\n",
       "      <td>0.000006</td>\n",
       "      <td>Sharon</td>\n",
       "      <td>Connecticut</td>\n",
       "      <td>6069.0</td>\n",
       "      <td>-0.296185</td>\n",
       "      <td>0.346574</td>\n",
       "    </tr>\n",
       "  </tbody>\n",
       "</table>\n",
       "<p>98812 rows × 9 columns</p>\n",
       "</div>"
      ]
     },
     "execution_count": 5,
     "metadata": {},
     "output_type": "execute_result"
    }
   ],
   "execution_count": 5
  },
  {
   "cell_type": "code",
   "metadata": {
    "ExecuteTime": {
     "end_time": "2024-04-17T16:26:03.484740Z",
     "start_time": "2024-04-17T16:26:03.415399Z"
    }
   },
   "source": [
    "X = data_conneticut[['bed', 'bath', 'acre_lot', 'zip_code', 'house_size', 'city', 'state']]\n",
    "# hot encode the city and state\n",
    "X = pd.get_dummies(X, columns=['city', 'state'])\n",
    "\n",
    "y = data_conneticut['price']"
   ],
   "outputs": [],
   "execution_count": 6
  },
  {
   "cell_type": "code",
   "metadata": {
    "ExecuteTime": {
     "end_time": "2024-04-17T16:26:05.807051Z",
     "start_time": "2024-04-17T16:26:05.803576Z"
    }
   },
   "source": [
    "y"
   ],
   "outputs": [
    {
     "data": {
      "text/plain": [
       "0       -0.206817\n",
       "1       -0.010419\n",
       "2       -0.295360\n",
       "3       -0.212351\n",
       "4       -0.251144\n",
       "           ...   \n",
       "98807   -0.084573\n",
       "98808   -0.096139\n",
       "98809   -0.173061\n",
       "98810    0.440651\n",
       "98811    0.346574\n",
       "Name: price, Length: 98812, dtype: float64"
      ]
     },
     "execution_count": 7,
     "metadata": {},
     "output_type": "execute_result"
    }
   ],
   "execution_count": 7
  },
  {
   "cell_type": "code",
   "metadata": {
    "ExecuteTime": {
     "end_time": "2024-04-17T16:26:09.507783Z",
     "start_time": "2024-04-17T16:26:09.498897Z"
    }
   },
   "source": [
    "X.head()"
   ],
   "outputs": [
    {
     "data": {
      "text/plain": [
       "        bed      bath  acre_lot  zip_code  house_size  city_Andover  \\\n",
       "0  0.090909  0.000000  0.000039    6279.0   -0.348938         False   \n",
       "1  0.136364  0.083333  0.000023    6238.0    0.632040         False   \n",
       "2  0.000000  0.000000  0.000321    6279.0   -0.849529         False   \n",
       "3  0.045455  0.000000  0.000009    6016.0   -0.692393         False   \n",
       "4  0.045455  0.000000  0.000004    6066.0   -0.748513         False   \n",
       "\n",
       "   city_Ansonia  city_Ashford  city_Avon  city_Barkhamsted  ...  city_Wilton  \\\n",
       "0         False         False      False             False  ...        False   \n",
       "1         False         False      False             False  ...        False   \n",
       "2         False         False      False             False  ...        False   \n",
       "3         False         False      False             False  ...        False   \n",
       "4         False         False      False             False  ...        False   \n",
       "\n",
       "   city_Winchester  city_Windham  city_Windsor  city_Windsor Locks  \\\n",
       "0            False         False         False               False   \n",
       "1            False         False         False               False   \n",
       "2            False         False         False               False   \n",
       "3            False         False         False               False   \n",
       "4            False         False         False               False   \n",
       "\n",
       "   city_Wolcott  city_Woodbridge  city_Woodbury  city_Woodstock  \\\n",
       "0         False            False          False           False   \n",
       "1         False            False          False           False   \n",
       "2         False            False          False           False   \n",
       "3         False            False          False           False   \n",
       "4         False            False          False           False   \n",
       "\n",
       "   state_Connecticut  \n",
       "0               True  \n",
       "1               True  \n",
       "2               True  \n",
       "3               True  \n",
       "4               True  \n",
       "\n",
       "[5 rows x 182 columns]"
      ],
      "text/html": [
       "<div>\n",
       "<style scoped>\n",
       "    .dataframe tbody tr th:only-of-type {\n",
       "        vertical-align: middle;\n",
       "    }\n",
       "\n",
       "    .dataframe tbody tr th {\n",
       "        vertical-align: top;\n",
       "    }\n",
       "\n",
       "    .dataframe thead th {\n",
       "        text-align: right;\n",
       "    }\n",
       "</style>\n",
       "<table border=\"1\" class=\"dataframe\">\n",
       "  <thead>\n",
       "    <tr style=\"text-align: right;\">\n",
       "      <th></th>\n",
       "      <th>bed</th>\n",
       "      <th>bath</th>\n",
       "      <th>acre_lot</th>\n",
       "      <th>zip_code</th>\n",
       "      <th>house_size</th>\n",
       "      <th>city_Andover</th>\n",
       "      <th>city_Ansonia</th>\n",
       "      <th>city_Ashford</th>\n",
       "      <th>city_Avon</th>\n",
       "      <th>city_Barkhamsted</th>\n",
       "      <th>...</th>\n",
       "      <th>city_Wilton</th>\n",
       "      <th>city_Winchester</th>\n",
       "      <th>city_Windham</th>\n",
       "      <th>city_Windsor</th>\n",
       "      <th>city_Windsor Locks</th>\n",
       "      <th>city_Wolcott</th>\n",
       "      <th>city_Woodbridge</th>\n",
       "      <th>city_Woodbury</th>\n",
       "      <th>city_Woodstock</th>\n",
       "      <th>state_Connecticut</th>\n",
       "    </tr>\n",
       "  </thead>\n",
       "  <tbody>\n",
       "    <tr>\n",
       "      <th>0</th>\n",
       "      <td>0.090909</td>\n",
       "      <td>0.000000</td>\n",
       "      <td>0.000039</td>\n",
       "      <td>6279.0</td>\n",
       "      <td>-0.348938</td>\n",
       "      <td>False</td>\n",
       "      <td>False</td>\n",
       "      <td>False</td>\n",
       "      <td>False</td>\n",
       "      <td>False</td>\n",
       "      <td>...</td>\n",
       "      <td>False</td>\n",
       "      <td>False</td>\n",
       "      <td>False</td>\n",
       "      <td>False</td>\n",
       "      <td>False</td>\n",
       "      <td>False</td>\n",
       "      <td>False</td>\n",
       "      <td>False</td>\n",
       "      <td>False</td>\n",
       "      <td>True</td>\n",
       "    </tr>\n",
       "    <tr>\n",
       "      <th>1</th>\n",
       "      <td>0.136364</td>\n",
       "      <td>0.083333</td>\n",
       "      <td>0.000023</td>\n",
       "      <td>6238.0</td>\n",
       "      <td>0.632040</td>\n",
       "      <td>False</td>\n",
       "      <td>False</td>\n",
       "      <td>False</td>\n",
       "      <td>False</td>\n",
       "      <td>False</td>\n",
       "      <td>...</td>\n",
       "      <td>False</td>\n",
       "      <td>False</td>\n",
       "      <td>False</td>\n",
       "      <td>False</td>\n",
       "      <td>False</td>\n",
       "      <td>False</td>\n",
       "      <td>False</td>\n",
       "      <td>False</td>\n",
       "      <td>False</td>\n",
       "      <td>True</td>\n",
       "    </tr>\n",
       "    <tr>\n",
       "      <th>2</th>\n",
       "      <td>0.000000</td>\n",
       "      <td>0.000000</td>\n",
       "      <td>0.000321</td>\n",
       "      <td>6279.0</td>\n",
       "      <td>-0.849529</td>\n",
       "      <td>False</td>\n",
       "      <td>False</td>\n",
       "      <td>False</td>\n",
       "      <td>False</td>\n",
       "      <td>False</td>\n",
       "      <td>...</td>\n",
       "      <td>False</td>\n",
       "      <td>False</td>\n",
       "      <td>False</td>\n",
       "      <td>False</td>\n",
       "      <td>False</td>\n",
       "      <td>False</td>\n",
       "      <td>False</td>\n",
       "      <td>False</td>\n",
       "      <td>False</td>\n",
       "      <td>True</td>\n",
       "    </tr>\n",
       "    <tr>\n",
       "      <th>3</th>\n",
       "      <td>0.045455</td>\n",
       "      <td>0.000000</td>\n",
       "      <td>0.000009</td>\n",
       "      <td>6016.0</td>\n",
       "      <td>-0.692393</td>\n",
       "      <td>False</td>\n",
       "      <td>False</td>\n",
       "      <td>False</td>\n",
       "      <td>False</td>\n",
       "      <td>False</td>\n",
       "      <td>...</td>\n",
       "      <td>False</td>\n",
       "      <td>False</td>\n",
       "      <td>False</td>\n",
       "      <td>False</td>\n",
       "      <td>False</td>\n",
       "      <td>False</td>\n",
       "      <td>False</td>\n",
       "      <td>False</td>\n",
       "      <td>False</td>\n",
       "      <td>True</td>\n",
       "    </tr>\n",
       "    <tr>\n",
       "      <th>4</th>\n",
       "      <td>0.045455</td>\n",
       "      <td>0.000000</td>\n",
       "      <td>0.000004</td>\n",
       "      <td>6066.0</td>\n",
       "      <td>-0.748513</td>\n",
       "      <td>False</td>\n",
       "      <td>False</td>\n",
       "      <td>False</td>\n",
       "      <td>False</td>\n",
       "      <td>False</td>\n",
       "      <td>...</td>\n",
       "      <td>False</td>\n",
       "      <td>False</td>\n",
       "      <td>False</td>\n",
       "      <td>False</td>\n",
       "      <td>False</td>\n",
       "      <td>False</td>\n",
       "      <td>False</td>\n",
       "      <td>False</td>\n",
       "      <td>False</td>\n",
       "      <td>True</td>\n",
       "    </tr>\n",
       "  </tbody>\n",
       "</table>\n",
       "<p>5 rows × 182 columns</p>\n",
       "</div>"
      ]
     },
     "execution_count": 8,
     "metadata": {},
     "output_type": "execute_result"
    }
   ],
   "execution_count": 8
  },
  {
   "cell_type": "code",
   "metadata": {
    "ExecuteTime": {
     "end_time": "2024-04-17T16:26:12.808246Z",
     "start_time": "2024-04-17T16:26:12.780983Z"
    }
   },
   "source": [
    "X_train, X_test, y_train, y_test = train_test_split(X, y, test_size=0.25, random_state=42)"
   ],
   "outputs": [],
   "execution_count": 9
  },
  {
   "cell_type": "code",
   "metadata": {
    "ExecuteTime": {
     "end_time": "2024-04-17T16:26:18.399636Z",
     "start_time": "2024-04-17T16:26:17.272626Z"
    }
   },
   "source": [
    "model = LinearRegression()\n",
    "model.fit(X_train, y_train)"
   ],
   "outputs": [
    {
     "data": {
      "text/plain": [
       "LinearRegression()"
      ],
      "text/html": [
       "<style>#sk-container-id-1 {\n",
       "  /* Definition of color scheme common for light and dark mode */\n",
       "  --sklearn-color-text: black;\n",
       "  --sklearn-color-line: gray;\n",
       "  /* Definition of color scheme for unfitted estimators */\n",
       "  --sklearn-color-unfitted-level-0: #fff5e6;\n",
       "  --sklearn-color-unfitted-level-1: #f6e4d2;\n",
       "  --sklearn-color-unfitted-level-2: #ffe0b3;\n",
       "  --sklearn-color-unfitted-level-3: chocolate;\n",
       "  /* Definition of color scheme for fitted estimators */\n",
       "  --sklearn-color-fitted-level-0: #f0f8ff;\n",
       "  --sklearn-color-fitted-level-1: #d4ebff;\n",
       "  --sklearn-color-fitted-level-2: #b3dbfd;\n",
       "  --sklearn-color-fitted-level-3: cornflowerblue;\n",
       "\n",
       "  /* Specific color for light theme */\n",
       "  --sklearn-color-text-on-default-background: var(--sg-text-color, var(--theme-code-foreground, var(--jp-content-font-color1, black)));\n",
       "  --sklearn-color-background: var(--sg-background-color, var(--theme-background, var(--jp-layout-color0, white)));\n",
       "  --sklearn-color-border-box: var(--sg-text-color, var(--theme-code-foreground, var(--jp-content-font-color1, black)));\n",
       "  --sklearn-color-icon: #696969;\n",
       "\n",
       "  @media (prefers-color-scheme: dark) {\n",
       "    /* Redefinition of color scheme for dark theme */\n",
       "    --sklearn-color-text-on-default-background: var(--sg-text-color, var(--theme-code-foreground, var(--jp-content-font-color1, white)));\n",
       "    --sklearn-color-background: var(--sg-background-color, var(--theme-background, var(--jp-layout-color0, #111)));\n",
       "    --sklearn-color-border-box: var(--sg-text-color, var(--theme-code-foreground, var(--jp-content-font-color1, white)));\n",
       "    --sklearn-color-icon: #878787;\n",
       "  }\n",
       "}\n",
       "\n",
       "#sk-container-id-1 {\n",
       "  color: var(--sklearn-color-text);\n",
       "}\n",
       "\n",
       "#sk-container-id-1 pre {\n",
       "  padding: 0;\n",
       "}\n",
       "\n",
       "#sk-container-id-1 input.sk-hidden--visually {\n",
       "  border: 0;\n",
       "  clip: rect(1px 1px 1px 1px);\n",
       "  clip: rect(1px, 1px, 1px, 1px);\n",
       "  height: 1px;\n",
       "  margin: -1px;\n",
       "  overflow: hidden;\n",
       "  padding: 0;\n",
       "  position: absolute;\n",
       "  width: 1px;\n",
       "}\n",
       "\n",
       "#sk-container-id-1 div.sk-dashed-wrapped {\n",
       "  border: 1px dashed var(--sklearn-color-line);\n",
       "  margin: 0 0.4em 0.5em 0.4em;\n",
       "  box-sizing: border-box;\n",
       "  padding-bottom: 0.4em;\n",
       "  background-color: var(--sklearn-color-background);\n",
       "}\n",
       "\n",
       "#sk-container-id-1 div.sk-container {\n",
       "  /* jupyter's `normalize.less` sets `[hidden] { display: none; }`\n",
       "     but bootstrap.min.css set `[hidden] { display: none !important; }`\n",
       "     so we also need the `!important` here to be able to override the\n",
       "     default hidden behavior on the sphinx rendered scikit-learn.org.\n",
       "     See: https://github.com/scikit-learn/scikit-learn/issues/21755 */\n",
       "  display: inline-block !important;\n",
       "  position: relative;\n",
       "}\n",
       "\n",
       "#sk-container-id-1 div.sk-text-repr-fallback {\n",
       "  display: none;\n",
       "}\n",
       "\n",
       "div.sk-parallel-item,\n",
       "div.sk-serial,\n",
       "div.sk-item {\n",
       "  /* draw centered vertical line to link estimators */\n",
       "  background-image: linear-gradient(var(--sklearn-color-text-on-default-background), var(--sklearn-color-text-on-default-background));\n",
       "  background-size: 2px 100%;\n",
       "  background-repeat: no-repeat;\n",
       "  background-position: center center;\n",
       "}\n",
       "\n",
       "/* Parallel-specific style estimator block */\n",
       "\n",
       "#sk-container-id-1 div.sk-parallel-item::after {\n",
       "  content: \"\";\n",
       "  width: 100%;\n",
       "  border-bottom: 2px solid var(--sklearn-color-text-on-default-background);\n",
       "  flex-grow: 1;\n",
       "}\n",
       "\n",
       "#sk-container-id-1 div.sk-parallel {\n",
       "  display: flex;\n",
       "  align-items: stretch;\n",
       "  justify-content: center;\n",
       "  background-color: var(--sklearn-color-background);\n",
       "  position: relative;\n",
       "}\n",
       "\n",
       "#sk-container-id-1 div.sk-parallel-item {\n",
       "  display: flex;\n",
       "  flex-direction: column;\n",
       "}\n",
       "\n",
       "#sk-container-id-1 div.sk-parallel-item:first-child::after {\n",
       "  align-self: flex-end;\n",
       "  width: 50%;\n",
       "}\n",
       "\n",
       "#sk-container-id-1 div.sk-parallel-item:last-child::after {\n",
       "  align-self: flex-start;\n",
       "  width: 50%;\n",
       "}\n",
       "\n",
       "#sk-container-id-1 div.sk-parallel-item:only-child::after {\n",
       "  width: 0;\n",
       "}\n",
       "\n",
       "/* Serial-specific style estimator block */\n",
       "\n",
       "#sk-container-id-1 div.sk-serial {\n",
       "  display: flex;\n",
       "  flex-direction: column;\n",
       "  align-items: center;\n",
       "  background-color: var(--sklearn-color-background);\n",
       "  padding-right: 1em;\n",
       "  padding-left: 1em;\n",
       "}\n",
       "\n",
       "\n",
       "/* Toggleable style: style used for estimator/Pipeline/ColumnTransformer box that is\n",
       "clickable and can be expanded/collapsed.\n",
       "- Pipeline and ColumnTransformer use this feature and define the default style\n",
       "- Estimators will overwrite some part of the style using the `sk-estimator` class\n",
       "*/\n",
       "\n",
       "/* Pipeline and ColumnTransformer style (default) */\n",
       "\n",
       "#sk-container-id-1 div.sk-toggleable {\n",
       "  /* Default theme specific background. It is overwritten whether we have a\n",
       "  specific estimator or a Pipeline/ColumnTransformer */\n",
       "  background-color: var(--sklearn-color-background);\n",
       "}\n",
       "\n",
       "/* Toggleable label */\n",
       "#sk-container-id-1 label.sk-toggleable__label {\n",
       "  cursor: pointer;\n",
       "  display: block;\n",
       "  width: 100%;\n",
       "  margin-bottom: 0;\n",
       "  padding: 0.5em;\n",
       "  box-sizing: border-box;\n",
       "  text-align: center;\n",
       "}\n",
       "\n",
       "#sk-container-id-1 label.sk-toggleable__label-arrow:before {\n",
       "  /* Arrow on the left of the label */\n",
       "  content: \"▸\";\n",
       "  float: left;\n",
       "  margin-right: 0.25em;\n",
       "  color: var(--sklearn-color-icon);\n",
       "}\n",
       "\n",
       "#sk-container-id-1 label.sk-toggleable__label-arrow:hover:before {\n",
       "  color: var(--sklearn-color-text);\n",
       "}\n",
       "\n",
       "/* Toggleable content - dropdown */\n",
       "\n",
       "#sk-container-id-1 div.sk-toggleable__content {\n",
       "  max-height: 0;\n",
       "  max-width: 0;\n",
       "  overflow: hidden;\n",
       "  text-align: left;\n",
       "  /* unfitted */\n",
       "  background-color: var(--sklearn-color-unfitted-level-0);\n",
       "}\n",
       "\n",
       "#sk-container-id-1 div.sk-toggleable__content.fitted {\n",
       "  /* fitted */\n",
       "  background-color: var(--sklearn-color-fitted-level-0);\n",
       "}\n",
       "\n",
       "#sk-container-id-1 div.sk-toggleable__content pre {\n",
       "  margin: 0.2em;\n",
       "  border-radius: 0.25em;\n",
       "  color: var(--sklearn-color-text);\n",
       "  /* unfitted */\n",
       "  background-color: var(--sklearn-color-unfitted-level-0);\n",
       "}\n",
       "\n",
       "#sk-container-id-1 div.sk-toggleable__content.fitted pre {\n",
       "  /* unfitted */\n",
       "  background-color: var(--sklearn-color-fitted-level-0);\n",
       "}\n",
       "\n",
       "#sk-container-id-1 input.sk-toggleable__control:checked~div.sk-toggleable__content {\n",
       "  /* Expand drop-down */\n",
       "  max-height: 200px;\n",
       "  max-width: 100%;\n",
       "  overflow: auto;\n",
       "}\n",
       "\n",
       "#sk-container-id-1 input.sk-toggleable__control:checked~label.sk-toggleable__label-arrow:before {\n",
       "  content: \"▾\";\n",
       "}\n",
       "\n",
       "/* Pipeline/ColumnTransformer-specific style */\n",
       "\n",
       "#sk-container-id-1 div.sk-label input.sk-toggleable__control:checked~label.sk-toggleable__label {\n",
       "  color: var(--sklearn-color-text);\n",
       "  background-color: var(--sklearn-color-unfitted-level-2);\n",
       "}\n",
       "\n",
       "#sk-container-id-1 div.sk-label.fitted input.sk-toggleable__control:checked~label.sk-toggleable__label {\n",
       "  background-color: var(--sklearn-color-fitted-level-2);\n",
       "}\n",
       "\n",
       "/* Estimator-specific style */\n",
       "\n",
       "/* Colorize estimator box */\n",
       "#sk-container-id-1 div.sk-estimator input.sk-toggleable__control:checked~label.sk-toggleable__label {\n",
       "  /* unfitted */\n",
       "  background-color: var(--sklearn-color-unfitted-level-2);\n",
       "}\n",
       "\n",
       "#sk-container-id-1 div.sk-estimator.fitted input.sk-toggleable__control:checked~label.sk-toggleable__label {\n",
       "  /* fitted */\n",
       "  background-color: var(--sklearn-color-fitted-level-2);\n",
       "}\n",
       "\n",
       "#sk-container-id-1 div.sk-label label.sk-toggleable__label,\n",
       "#sk-container-id-1 div.sk-label label {\n",
       "  /* The background is the default theme color */\n",
       "  color: var(--sklearn-color-text-on-default-background);\n",
       "}\n",
       "\n",
       "/* On hover, darken the color of the background */\n",
       "#sk-container-id-1 div.sk-label:hover label.sk-toggleable__label {\n",
       "  color: var(--sklearn-color-text);\n",
       "  background-color: var(--sklearn-color-unfitted-level-2);\n",
       "}\n",
       "\n",
       "/* Label box, darken color on hover, fitted */\n",
       "#sk-container-id-1 div.sk-label.fitted:hover label.sk-toggleable__label.fitted {\n",
       "  color: var(--sklearn-color-text);\n",
       "  background-color: var(--sklearn-color-fitted-level-2);\n",
       "}\n",
       "\n",
       "/* Estimator label */\n",
       "\n",
       "#sk-container-id-1 div.sk-label label {\n",
       "  font-family: monospace;\n",
       "  font-weight: bold;\n",
       "  display: inline-block;\n",
       "  line-height: 1.2em;\n",
       "}\n",
       "\n",
       "#sk-container-id-1 div.sk-label-container {\n",
       "  text-align: center;\n",
       "}\n",
       "\n",
       "/* Estimator-specific */\n",
       "#sk-container-id-1 div.sk-estimator {\n",
       "  font-family: monospace;\n",
       "  border: 1px dotted var(--sklearn-color-border-box);\n",
       "  border-radius: 0.25em;\n",
       "  box-sizing: border-box;\n",
       "  margin-bottom: 0.5em;\n",
       "  /* unfitted */\n",
       "  background-color: var(--sklearn-color-unfitted-level-0);\n",
       "}\n",
       "\n",
       "#sk-container-id-1 div.sk-estimator.fitted {\n",
       "  /* fitted */\n",
       "  background-color: var(--sklearn-color-fitted-level-0);\n",
       "}\n",
       "\n",
       "/* on hover */\n",
       "#sk-container-id-1 div.sk-estimator:hover {\n",
       "  /* unfitted */\n",
       "  background-color: var(--sklearn-color-unfitted-level-2);\n",
       "}\n",
       "\n",
       "#sk-container-id-1 div.sk-estimator.fitted:hover {\n",
       "  /* fitted */\n",
       "  background-color: var(--sklearn-color-fitted-level-2);\n",
       "}\n",
       "\n",
       "/* Specification for estimator info (e.g. \"i\" and \"?\") */\n",
       "\n",
       "/* Common style for \"i\" and \"?\" */\n",
       "\n",
       ".sk-estimator-doc-link,\n",
       "a:link.sk-estimator-doc-link,\n",
       "a:visited.sk-estimator-doc-link {\n",
       "  float: right;\n",
       "  font-size: smaller;\n",
       "  line-height: 1em;\n",
       "  font-family: monospace;\n",
       "  background-color: var(--sklearn-color-background);\n",
       "  border-radius: 1em;\n",
       "  height: 1em;\n",
       "  width: 1em;\n",
       "  text-decoration: none !important;\n",
       "  margin-left: 1ex;\n",
       "  /* unfitted */\n",
       "  border: var(--sklearn-color-unfitted-level-1) 1pt solid;\n",
       "  color: var(--sklearn-color-unfitted-level-1);\n",
       "}\n",
       "\n",
       ".sk-estimator-doc-link.fitted,\n",
       "a:link.sk-estimator-doc-link.fitted,\n",
       "a:visited.sk-estimator-doc-link.fitted {\n",
       "  /* fitted */\n",
       "  border: var(--sklearn-color-fitted-level-1) 1pt solid;\n",
       "  color: var(--sklearn-color-fitted-level-1);\n",
       "}\n",
       "\n",
       "/* On hover */\n",
       "div.sk-estimator:hover .sk-estimator-doc-link:hover,\n",
       ".sk-estimator-doc-link:hover,\n",
       "div.sk-label-container:hover .sk-estimator-doc-link:hover,\n",
       ".sk-estimator-doc-link:hover {\n",
       "  /* unfitted */\n",
       "  background-color: var(--sklearn-color-unfitted-level-3);\n",
       "  color: var(--sklearn-color-background);\n",
       "  text-decoration: none;\n",
       "}\n",
       "\n",
       "div.sk-estimator.fitted:hover .sk-estimator-doc-link.fitted:hover,\n",
       ".sk-estimator-doc-link.fitted:hover,\n",
       "div.sk-label-container:hover .sk-estimator-doc-link.fitted:hover,\n",
       ".sk-estimator-doc-link.fitted:hover {\n",
       "  /* fitted */\n",
       "  background-color: var(--sklearn-color-fitted-level-3);\n",
       "  color: var(--sklearn-color-background);\n",
       "  text-decoration: none;\n",
       "}\n",
       "\n",
       "/* Span, style for the box shown on hovering the info icon */\n",
       ".sk-estimator-doc-link span {\n",
       "  display: none;\n",
       "  z-index: 9999;\n",
       "  position: relative;\n",
       "  font-weight: normal;\n",
       "  right: .2ex;\n",
       "  padding: .5ex;\n",
       "  margin: .5ex;\n",
       "  width: min-content;\n",
       "  min-width: 20ex;\n",
       "  max-width: 50ex;\n",
       "  color: var(--sklearn-color-text);\n",
       "  box-shadow: 2pt 2pt 4pt #999;\n",
       "  /* unfitted */\n",
       "  background: var(--sklearn-color-unfitted-level-0);\n",
       "  border: .5pt solid var(--sklearn-color-unfitted-level-3);\n",
       "}\n",
       "\n",
       ".sk-estimator-doc-link.fitted span {\n",
       "  /* fitted */\n",
       "  background: var(--sklearn-color-fitted-level-0);\n",
       "  border: var(--sklearn-color-fitted-level-3);\n",
       "}\n",
       "\n",
       ".sk-estimator-doc-link:hover span {\n",
       "  display: block;\n",
       "}\n",
       "\n",
       "/* \"?\"-specific style due to the `<a>` HTML tag */\n",
       "\n",
       "#sk-container-id-1 a.estimator_doc_link {\n",
       "  float: right;\n",
       "  font-size: 1rem;\n",
       "  line-height: 1em;\n",
       "  font-family: monospace;\n",
       "  background-color: var(--sklearn-color-background);\n",
       "  border-radius: 1rem;\n",
       "  height: 1rem;\n",
       "  width: 1rem;\n",
       "  text-decoration: none;\n",
       "  /* unfitted */\n",
       "  color: var(--sklearn-color-unfitted-level-1);\n",
       "  border: var(--sklearn-color-unfitted-level-1) 1pt solid;\n",
       "}\n",
       "\n",
       "#sk-container-id-1 a.estimator_doc_link.fitted {\n",
       "  /* fitted */\n",
       "  border: var(--sklearn-color-fitted-level-1) 1pt solid;\n",
       "  color: var(--sklearn-color-fitted-level-1);\n",
       "}\n",
       "\n",
       "/* On hover */\n",
       "#sk-container-id-1 a.estimator_doc_link:hover {\n",
       "  /* unfitted */\n",
       "  background-color: var(--sklearn-color-unfitted-level-3);\n",
       "  color: var(--sklearn-color-background);\n",
       "  text-decoration: none;\n",
       "}\n",
       "\n",
       "#sk-container-id-1 a.estimator_doc_link.fitted:hover {\n",
       "  /* fitted */\n",
       "  background-color: var(--sklearn-color-fitted-level-3);\n",
       "}\n",
       "</style><div id=\"sk-container-id-1\" class=\"sk-top-container\"><div class=\"sk-text-repr-fallback\"><pre>LinearRegression()</pre><b>In a Jupyter environment, please rerun this cell to show the HTML representation or trust the notebook. <br />On GitHub, the HTML representation is unable to render, please try loading this page with nbviewer.org.</b></div><div class=\"sk-container\" hidden><div class=\"sk-item\"><div class=\"sk-estimator fitted sk-toggleable\"><input class=\"sk-toggleable__control sk-hidden--visually\" id=\"sk-estimator-id-1\" type=\"checkbox\" checked><label for=\"sk-estimator-id-1\" class=\"sk-toggleable__label fitted sk-toggleable__label-arrow fitted\">&nbsp;&nbsp;LinearRegression<a class=\"sk-estimator-doc-link fitted\" rel=\"noreferrer\" target=\"_blank\" href=\"https://scikit-learn.org/1.4/modules/generated/sklearn.linear_model.LinearRegression.html\">?<span>Documentation for LinearRegression</span></a><span class=\"sk-estimator-doc-link fitted\">i<span>Fitted</span></span></label><div class=\"sk-toggleable__content fitted\"><pre>LinearRegression()</pre></div> </div></div></div></div>"
      ]
     },
     "execution_count": 10,
     "metadata": {},
     "output_type": "execute_result"
    }
   ],
   "execution_count": 10
  },
  {
   "cell_type": "code",
   "metadata": {
    "ExecuteTime": {
     "end_time": "2024-04-17T16:26:20.167437Z",
     "start_time": "2024-04-17T16:26:20.115266Z"
    }
   },
   "source": [
    "y_pred = model.predict(X_test)"
   ],
   "outputs": [],
   "execution_count": 11
  },
  {
   "cell_type": "code",
   "metadata": {
    "ExecuteTime": {
     "end_time": "2024-04-17T16:26:22.904238Z",
     "start_time": "2024-04-17T16:26:22.900178Z"
    }
   },
   "source": [
    "mse = mean_squared_error(y_test, y_pred)\n",
    "rmse = np.sqrt(mse)\n",
    "mae = mean_absolute_error(y_test, y_pred)\n",
    "r2 = r2_score(y_test, y_pred)"
   ],
   "outputs": [],
   "execution_count": 12
  },
  {
   "cell_type": "code",
   "metadata": {
    "ExecuteTime": {
     "end_time": "2024-04-17T16:26:25.017200Z",
     "start_time": "2024-04-17T16:26:25.014776Z"
    }
   },
   "source": [
    "print(f'MSE: {mse}')\n",
    "print(f'RMSE: {rmse}')\n",
    "print(f'MAE: {mae}')\n",
    "print(f'R2: {r2}')\n"
   ],
   "outputs": [
    {
     "name": "stdout",
     "output_type": "stream",
     "text": [
      "MSE: 0.5931886801965697\n",
      "RMSE: 0.7701874318609527\n",
      "MAE: 0.2299454205561855\n",
      "R2: 0.37294520447589585\n"
     ]
    }
   ],
   "execution_count": 13
  },
  {
   "cell_type": "code",
   "metadata": {
    "ExecuteTime": {
     "end_time": "2024-04-17T16:26:42.729719Z",
     "start_time": "2024-04-17T16:26:41.899665Z"
    }
   },
   "source": [
    "model_tree = DecisionTreeRegressor()\n",
    "model_tree.fit(X_train, y_train)\n",
    "y_pred_tree = model_tree.predict(X_test)\n"
   ],
   "outputs": [],
   "execution_count": 14
  },
  {
   "cell_type": "code",
   "metadata": {
    "ExecuteTime": {
     "end_time": "2024-04-17T16:26:44.586678Z",
     "start_time": "2024-04-17T16:26:44.581671Z"
    }
   },
   "source": [
    "mse_tree = mean_squared_error(y_test, y_pred_tree)\n",
    "rmse_tree = np.sqrt(mse_tree)\n",
    "mae_tree = mean_absolute_error(y_test, y_pred_tree)\n",
    "r2_tree = r2_score(y_test, y_pred_tree)"
   ],
   "outputs": [],
   "execution_count": 15
  },
  {
   "cell_type": "code",
   "metadata": {
    "ExecuteTime": {
     "end_time": "2024-04-17T16:26:46.443066Z",
     "start_time": "2024-04-17T16:26:46.440465Z"
    }
   },
   "source": [
    "print(f'MSE: {mse_tree}')\n",
    "print(f'RMSE: {rmse_tree}')\n",
    "print(f'MAE: {mae_tree}')\n",
    "print(f'R2: {r2_tree}')"
   ],
   "outputs": [
    {
     "name": "stdout",
     "output_type": "stream",
     "text": [
      "MSE: 0.003624857330025026\n",
      "RMSE: 0.06020678807265029\n",
      "MAE: 0.004359750737144872\n",
      "R2: 0.9961681936156811\n"
     ]
    }
   ],
   "execution_count": 16
  },
  {
   "cell_type": "code",
   "metadata": {
    "ExecuteTime": {
     "end_time": "2024-04-17T16:26:51.617496Z",
     "start_time": "2024-04-17T16:26:51.613146Z"
    }
   },
   "source": [
    "y_pred_tree_reshaped = y_pred_tree.reshape(-1, 1)\n",
    "original_price_predictions = price_scaler_conn.inverse_transform(y_pred_tree_reshaped)\n",
    "absolute_predictions = np.abs(original_price_predictions)\n",
    "absolute_predictions[89]"
   ],
   "outputs": [
    {
     "data": {
      "text/plain": [
       "array([255000.])"
      ]
     },
     "execution_count": 17,
     "metadata": {},
     "output_type": "execute_result"
    }
   ],
   "execution_count": 17
  },
  {
   "cell_type": "code",
   "metadata": {
    "ExecuteTime": {
     "end_time": "2024-04-17T16:27:15.323534Z",
     "start_time": "2024-04-17T16:27:15.318117Z"
    }
   },
   "source": [
    "joblib.dump(model_tree, '../models/primary/connecticut_dt.joblib')\n",
    "joblib.dump(model, '../models/primary/connecticut_lr.joblib')"
   ],
   "outputs": [
    {
     "data": {
      "text/plain": [
       "['../models/primary/connecticut_lr.joblib']"
      ]
     },
     "execution_count": 18,
     "metadata": {},
     "output_type": "execute_result"
    }
   ],
   "execution_count": 18
  },
  {
   "cell_type": "code",
   "metadata": {
    "ExecuteTime": {
     "end_time": "2024-04-17T16:27:26.427741Z",
     "start_time": "2024-04-17T16:27:26.423184Z"
    }
   },
   "source": "data_delaware = pd.read_csv('/Users/akshatsharma/UPES/Sem 6/AI_Applications/Housing-Price/data/interim/Delaware.csv')",
   "outputs": [],
   "execution_count": 19
  },
  {
   "cell_type": "code",
   "metadata": {
    "ExecuteTime": {
     "end_time": "2024-04-17T16:27:29.592055Z",
     "start_time": "2024-04-17T16:27:29.586674Z"
    }
   },
   "source": [
    "data_delaware['house_size'] = StandardScaler().fit_transform(data_delaware['house_size'].values.reshape(len(data_delaware), 1))\n",
    "\n",
    "price_scaler_del = StandardScaler().fit(data_delaware['price'].values.reshape(-1, 1))  # Assign to a variable\n",
    "data_delaware['price'] = price_scaler_del.transform(data_delaware['price'].values.reshape(-1, 1))\n",
    "\n",
    "data_delaware['bath'] = MinMaxScaler().fit_transform(data_delaware['bath'].values.reshape(len(data_delaware), 1))\n",
    "data_delaware['bed'] = MinMaxScaler().fit_transform(data_delaware['bed'].values.reshape(len(data_delaware), 1))\n",
    "data_delaware['acre_lot'] = MinMaxScaler().fit_transform(data_delaware['acre_lot'].values.reshape(len(data_delaware), 1))"
   ],
   "outputs": [],
   "execution_count": 20
  },
  {
   "cell_type": "code",
   "metadata": {
    "ExecuteTime": {
     "end_time": "2024-04-17T16:27:32.711092Z",
     "start_time": "2024-04-17T16:27:32.704723Z"
    }
   },
   "source": [
    "data_delaware.head()"
   ],
   "outputs": [
    {
     "data": {
      "text/plain": [
       "     status       bed      bath  acre_lot        city     state  zip_code  \\\n",
       "0  for_sale  0.133333  0.000000  0.000143  New Castle  Delaware   19720.0   \n",
       "1  for_sale  0.200000  0.111111  0.000229  New Castle  Delaware   19720.0   \n",
       "2  for_sale  0.266667  0.165279  0.000057  Wilmington  Delaware   19805.0   \n",
       "3  for_sale  0.333333  0.111111  0.000086  Wilmington  Delaware   19801.0   \n",
       "4  for_sale  0.133333  0.165279  0.000029  Wilmington  Delaware   19802.0   \n",
       "\n",
       "   house_size     price  \n",
       "0   -0.712780 -1.002163  \n",
       "1    0.043122 -0.527026  \n",
       "2    0.140811 -0.544799  \n",
       "3    0.472763 -0.943768  \n",
       "4    0.144354 -0.998173  "
      ],
      "text/html": [
       "<div>\n",
       "<style scoped>\n",
       "    .dataframe tbody tr th:only-of-type {\n",
       "        vertical-align: middle;\n",
       "    }\n",
       "\n",
       "    .dataframe tbody tr th {\n",
       "        vertical-align: top;\n",
       "    }\n",
       "\n",
       "    .dataframe thead th {\n",
       "        text-align: right;\n",
       "    }\n",
       "</style>\n",
       "<table border=\"1\" class=\"dataframe\">\n",
       "  <thead>\n",
       "    <tr style=\"text-align: right;\">\n",
       "      <th></th>\n",
       "      <th>status</th>\n",
       "      <th>bed</th>\n",
       "      <th>bath</th>\n",
       "      <th>acre_lot</th>\n",
       "      <th>city</th>\n",
       "      <th>state</th>\n",
       "      <th>zip_code</th>\n",
       "      <th>house_size</th>\n",
       "      <th>price</th>\n",
       "    </tr>\n",
       "  </thead>\n",
       "  <tbody>\n",
       "    <tr>\n",
       "      <th>0</th>\n",
       "      <td>for_sale</td>\n",
       "      <td>0.133333</td>\n",
       "      <td>0.000000</td>\n",
       "      <td>0.000143</td>\n",
       "      <td>New Castle</td>\n",
       "      <td>Delaware</td>\n",
       "      <td>19720.0</td>\n",
       "      <td>-0.712780</td>\n",
       "      <td>-1.002163</td>\n",
       "    </tr>\n",
       "    <tr>\n",
       "      <th>1</th>\n",
       "      <td>for_sale</td>\n",
       "      <td>0.200000</td>\n",
       "      <td>0.111111</td>\n",
       "      <td>0.000229</td>\n",
       "      <td>New Castle</td>\n",
       "      <td>Delaware</td>\n",
       "      <td>19720.0</td>\n",
       "      <td>0.043122</td>\n",
       "      <td>-0.527026</td>\n",
       "    </tr>\n",
       "    <tr>\n",
       "      <th>2</th>\n",
       "      <td>for_sale</td>\n",
       "      <td>0.266667</td>\n",
       "      <td>0.165279</td>\n",
       "      <td>0.000057</td>\n",
       "      <td>Wilmington</td>\n",
       "      <td>Delaware</td>\n",
       "      <td>19805.0</td>\n",
       "      <td>0.140811</td>\n",
       "      <td>-0.544799</td>\n",
       "    </tr>\n",
       "    <tr>\n",
       "      <th>3</th>\n",
       "      <td>for_sale</td>\n",
       "      <td>0.333333</td>\n",
       "      <td>0.111111</td>\n",
       "      <td>0.000086</td>\n",
       "      <td>Wilmington</td>\n",
       "      <td>Delaware</td>\n",
       "      <td>19801.0</td>\n",
       "      <td>0.472763</td>\n",
       "      <td>-0.943768</td>\n",
       "    </tr>\n",
       "    <tr>\n",
       "      <th>4</th>\n",
       "      <td>for_sale</td>\n",
       "      <td>0.133333</td>\n",
       "      <td>0.165279</td>\n",
       "      <td>0.000029</td>\n",
       "      <td>Wilmington</td>\n",
       "      <td>Delaware</td>\n",
       "      <td>19802.0</td>\n",
       "      <td>0.144354</td>\n",
       "      <td>-0.998173</td>\n",
       "    </tr>\n",
       "  </tbody>\n",
       "</table>\n",
       "</div>"
      ]
     },
     "execution_count": 21,
     "metadata": {},
     "output_type": "execute_result"
    }
   ],
   "execution_count": 21
  },
  {
   "cell_type": "code",
   "metadata": {
    "ExecuteTime": {
     "end_time": "2024-04-17T16:27:36.125422Z",
     "start_time": "2024-04-17T16:27:36.120346Z"
    }
   },
   "source": [
    "X = data_delaware[['bed', 'bath', 'acre_lot', 'zip_code', 'house_size', 'city', 'state']]\n",
    "X = pd.get_dummies(X, columns=['city', 'state'])\n",
    "y  = data_delaware['price']"
   ],
   "outputs": [],
   "execution_count": 22
  },
  {
   "cell_type": "code",
   "metadata": {
    "ExecuteTime": {
     "end_time": "2024-04-17T16:27:38.690133Z",
     "start_time": "2024-04-17T16:27:38.685454Z"
    }
   },
   "source": [
    "X_train, X_test, y_train, y_test = train_test_split(X, y, test_size=0.25, random_state=42)"
   ],
   "outputs": [],
   "execution_count": 23
  },
  {
   "cell_type": "code",
   "metadata": {
    "ExecuteTime": {
     "end_time": "2024-04-17T16:27:40.501037Z",
     "start_time": "2024-04-17T16:27:40.492077Z"
    }
   },
   "source": [
    "model = LinearRegression()\n",
    "model.fit(X_train, y_train)"
   ],
   "outputs": [
    {
     "data": {
      "text/plain": [
       "LinearRegression()"
      ],
      "text/html": [
       "<style>#sk-container-id-2 {\n",
       "  /* Definition of color scheme common for light and dark mode */\n",
       "  --sklearn-color-text: black;\n",
       "  --sklearn-color-line: gray;\n",
       "  /* Definition of color scheme for unfitted estimators */\n",
       "  --sklearn-color-unfitted-level-0: #fff5e6;\n",
       "  --sklearn-color-unfitted-level-1: #f6e4d2;\n",
       "  --sklearn-color-unfitted-level-2: #ffe0b3;\n",
       "  --sklearn-color-unfitted-level-3: chocolate;\n",
       "  /* Definition of color scheme for fitted estimators */\n",
       "  --sklearn-color-fitted-level-0: #f0f8ff;\n",
       "  --sklearn-color-fitted-level-1: #d4ebff;\n",
       "  --sklearn-color-fitted-level-2: #b3dbfd;\n",
       "  --sklearn-color-fitted-level-3: cornflowerblue;\n",
       "\n",
       "  /* Specific color for light theme */\n",
       "  --sklearn-color-text-on-default-background: var(--sg-text-color, var(--theme-code-foreground, var(--jp-content-font-color1, black)));\n",
       "  --sklearn-color-background: var(--sg-background-color, var(--theme-background, var(--jp-layout-color0, white)));\n",
       "  --sklearn-color-border-box: var(--sg-text-color, var(--theme-code-foreground, var(--jp-content-font-color1, black)));\n",
       "  --sklearn-color-icon: #696969;\n",
       "\n",
       "  @media (prefers-color-scheme: dark) {\n",
       "    /* Redefinition of color scheme for dark theme */\n",
       "    --sklearn-color-text-on-default-background: var(--sg-text-color, var(--theme-code-foreground, var(--jp-content-font-color1, white)));\n",
       "    --sklearn-color-background: var(--sg-background-color, var(--theme-background, var(--jp-layout-color0, #111)));\n",
       "    --sklearn-color-border-box: var(--sg-text-color, var(--theme-code-foreground, var(--jp-content-font-color1, white)));\n",
       "    --sklearn-color-icon: #878787;\n",
       "  }\n",
       "}\n",
       "\n",
       "#sk-container-id-2 {\n",
       "  color: var(--sklearn-color-text);\n",
       "}\n",
       "\n",
       "#sk-container-id-2 pre {\n",
       "  padding: 0;\n",
       "}\n",
       "\n",
       "#sk-container-id-2 input.sk-hidden--visually {\n",
       "  border: 0;\n",
       "  clip: rect(1px 1px 1px 1px);\n",
       "  clip: rect(1px, 1px, 1px, 1px);\n",
       "  height: 1px;\n",
       "  margin: -1px;\n",
       "  overflow: hidden;\n",
       "  padding: 0;\n",
       "  position: absolute;\n",
       "  width: 1px;\n",
       "}\n",
       "\n",
       "#sk-container-id-2 div.sk-dashed-wrapped {\n",
       "  border: 1px dashed var(--sklearn-color-line);\n",
       "  margin: 0 0.4em 0.5em 0.4em;\n",
       "  box-sizing: border-box;\n",
       "  padding-bottom: 0.4em;\n",
       "  background-color: var(--sklearn-color-background);\n",
       "}\n",
       "\n",
       "#sk-container-id-2 div.sk-container {\n",
       "  /* jupyter's `normalize.less` sets `[hidden] { display: none; }`\n",
       "     but bootstrap.min.css set `[hidden] { display: none !important; }`\n",
       "     so we also need the `!important` here to be able to override the\n",
       "     default hidden behavior on the sphinx rendered scikit-learn.org.\n",
       "     See: https://github.com/scikit-learn/scikit-learn/issues/21755 */\n",
       "  display: inline-block !important;\n",
       "  position: relative;\n",
       "}\n",
       "\n",
       "#sk-container-id-2 div.sk-text-repr-fallback {\n",
       "  display: none;\n",
       "}\n",
       "\n",
       "div.sk-parallel-item,\n",
       "div.sk-serial,\n",
       "div.sk-item {\n",
       "  /* draw centered vertical line to link estimators */\n",
       "  background-image: linear-gradient(var(--sklearn-color-text-on-default-background), var(--sklearn-color-text-on-default-background));\n",
       "  background-size: 2px 100%;\n",
       "  background-repeat: no-repeat;\n",
       "  background-position: center center;\n",
       "}\n",
       "\n",
       "/* Parallel-specific style estimator block */\n",
       "\n",
       "#sk-container-id-2 div.sk-parallel-item::after {\n",
       "  content: \"\";\n",
       "  width: 100%;\n",
       "  border-bottom: 2px solid var(--sklearn-color-text-on-default-background);\n",
       "  flex-grow: 1;\n",
       "}\n",
       "\n",
       "#sk-container-id-2 div.sk-parallel {\n",
       "  display: flex;\n",
       "  align-items: stretch;\n",
       "  justify-content: center;\n",
       "  background-color: var(--sklearn-color-background);\n",
       "  position: relative;\n",
       "}\n",
       "\n",
       "#sk-container-id-2 div.sk-parallel-item {\n",
       "  display: flex;\n",
       "  flex-direction: column;\n",
       "}\n",
       "\n",
       "#sk-container-id-2 div.sk-parallel-item:first-child::after {\n",
       "  align-self: flex-end;\n",
       "  width: 50%;\n",
       "}\n",
       "\n",
       "#sk-container-id-2 div.sk-parallel-item:last-child::after {\n",
       "  align-self: flex-start;\n",
       "  width: 50%;\n",
       "}\n",
       "\n",
       "#sk-container-id-2 div.sk-parallel-item:only-child::after {\n",
       "  width: 0;\n",
       "}\n",
       "\n",
       "/* Serial-specific style estimator block */\n",
       "\n",
       "#sk-container-id-2 div.sk-serial {\n",
       "  display: flex;\n",
       "  flex-direction: column;\n",
       "  align-items: center;\n",
       "  background-color: var(--sklearn-color-background);\n",
       "  padding-right: 1em;\n",
       "  padding-left: 1em;\n",
       "}\n",
       "\n",
       "\n",
       "/* Toggleable style: style used for estimator/Pipeline/ColumnTransformer box that is\n",
       "clickable and can be expanded/collapsed.\n",
       "- Pipeline and ColumnTransformer use this feature and define the default style\n",
       "- Estimators will overwrite some part of the style using the `sk-estimator` class\n",
       "*/\n",
       "\n",
       "/* Pipeline and ColumnTransformer style (default) */\n",
       "\n",
       "#sk-container-id-2 div.sk-toggleable {\n",
       "  /* Default theme specific background. It is overwritten whether we have a\n",
       "  specific estimator or a Pipeline/ColumnTransformer */\n",
       "  background-color: var(--sklearn-color-background);\n",
       "}\n",
       "\n",
       "/* Toggleable label */\n",
       "#sk-container-id-2 label.sk-toggleable__label {\n",
       "  cursor: pointer;\n",
       "  display: block;\n",
       "  width: 100%;\n",
       "  margin-bottom: 0;\n",
       "  padding: 0.5em;\n",
       "  box-sizing: border-box;\n",
       "  text-align: center;\n",
       "}\n",
       "\n",
       "#sk-container-id-2 label.sk-toggleable__label-arrow:before {\n",
       "  /* Arrow on the left of the label */\n",
       "  content: \"▸\";\n",
       "  float: left;\n",
       "  margin-right: 0.25em;\n",
       "  color: var(--sklearn-color-icon);\n",
       "}\n",
       "\n",
       "#sk-container-id-2 label.sk-toggleable__label-arrow:hover:before {\n",
       "  color: var(--sklearn-color-text);\n",
       "}\n",
       "\n",
       "/* Toggleable content - dropdown */\n",
       "\n",
       "#sk-container-id-2 div.sk-toggleable__content {\n",
       "  max-height: 0;\n",
       "  max-width: 0;\n",
       "  overflow: hidden;\n",
       "  text-align: left;\n",
       "  /* unfitted */\n",
       "  background-color: var(--sklearn-color-unfitted-level-0);\n",
       "}\n",
       "\n",
       "#sk-container-id-2 div.sk-toggleable__content.fitted {\n",
       "  /* fitted */\n",
       "  background-color: var(--sklearn-color-fitted-level-0);\n",
       "}\n",
       "\n",
       "#sk-container-id-2 div.sk-toggleable__content pre {\n",
       "  margin: 0.2em;\n",
       "  border-radius: 0.25em;\n",
       "  color: var(--sklearn-color-text);\n",
       "  /* unfitted */\n",
       "  background-color: var(--sklearn-color-unfitted-level-0);\n",
       "}\n",
       "\n",
       "#sk-container-id-2 div.sk-toggleable__content.fitted pre {\n",
       "  /* unfitted */\n",
       "  background-color: var(--sklearn-color-fitted-level-0);\n",
       "}\n",
       "\n",
       "#sk-container-id-2 input.sk-toggleable__control:checked~div.sk-toggleable__content {\n",
       "  /* Expand drop-down */\n",
       "  max-height: 200px;\n",
       "  max-width: 100%;\n",
       "  overflow: auto;\n",
       "}\n",
       "\n",
       "#sk-container-id-2 input.sk-toggleable__control:checked~label.sk-toggleable__label-arrow:before {\n",
       "  content: \"▾\";\n",
       "}\n",
       "\n",
       "/* Pipeline/ColumnTransformer-specific style */\n",
       "\n",
       "#sk-container-id-2 div.sk-label input.sk-toggleable__control:checked~label.sk-toggleable__label {\n",
       "  color: var(--sklearn-color-text);\n",
       "  background-color: var(--sklearn-color-unfitted-level-2);\n",
       "}\n",
       "\n",
       "#sk-container-id-2 div.sk-label.fitted input.sk-toggleable__control:checked~label.sk-toggleable__label {\n",
       "  background-color: var(--sklearn-color-fitted-level-2);\n",
       "}\n",
       "\n",
       "/* Estimator-specific style */\n",
       "\n",
       "/* Colorize estimator box */\n",
       "#sk-container-id-2 div.sk-estimator input.sk-toggleable__control:checked~label.sk-toggleable__label {\n",
       "  /* unfitted */\n",
       "  background-color: var(--sklearn-color-unfitted-level-2);\n",
       "}\n",
       "\n",
       "#sk-container-id-2 div.sk-estimator.fitted input.sk-toggleable__control:checked~label.sk-toggleable__label {\n",
       "  /* fitted */\n",
       "  background-color: var(--sklearn-color-fitted-level-2);\n",
       "}\n",
       "\n",
       "#sk-container-id-2 div.sk-label label.sk-toggleable__label,\n",
       "#sk-container-id-2 div.sk-label label {\n",
       "  /* The background is the default theme color */\n",
       "  color: var(--sklearn-color-text-on-default-background);\n",
       "}\n",
       "\n",
       "/* On hover, darken the color of the background */\n",
       "#sk-container-id-2 div.sk-label:hover label.sk-toggleable__label {\n",
       "  color: var(--sklearn-color-text);\n",
       "  background-color: var(--sklearn-color-unfitted-level-2);\n",
       "}\n",
       "\n",
       "/* Label box, darken color on hover, fitted */\n",
       "#sk-container-id-2 div.sk-label.fitted:hover label.sk-toggleable__label.fitted {\n",
       "  color: var(--sklearn-color-text);\n",
       "  background-color: var(--sklearn-color-fitted-level-2);\n",
       "}\n",
       "\n",
       "/* Estimator label */\n",
       "\n",
       "#sk-container-id-2 div.sk-label label {\n",
       "  font-family: monospace;\n",
       "  font-weight: bold;\n",
       "  display: inline-block;\n",
       "  line-height: 1.2em;\n",
       "}\n",
       "\n",
       "#sk-container-id-2 div.sk-label-container {\n",
       "  text-align: center;\n",
       "}\n",
       "\n",
       "/* Estimator-specific */\n",
       "#sk-container-id-2 div.sk-estimator {\n",
       "  font-family: monospace;\n",
       "  border: 1px dotted var(--sklearn-color-border-box);\n",
       "  border-radius: 0.25em;\n",
       "  box-sizing: border-box;\n",
       "  margin-bottom: 0.5em;\n",
       "  /* unfitted */\n",
       "  background-color: var(--sklearn-color-unfitted-level-0);\n",
       "}\n",
       "\n",
       "#sk-container-id-2 div.sk-estimator.fitted {\n",
       "  /* fitted */\n",
       "  background-color: var(--sklearn-color-fitted-level-0);\n",
       "}\n",
       "\n",
       "/* on hover */\n",
       "#sk-container-id-2 div.sk-estimator:hover {\n",
       "  /* unfitted */\n",
       "  background-color: var(--sklearn-color-unfitted-level-2);\n",
       "}\n",
       "\n",
       "#sk-container-id-2 div.sk-estimator.fitted:hover {\n",
       "  /* fitted */\n",
       "  background-color: var(--sklearn-color-fitted-level-2);\n",
       "}\n",
       "\n",
       "/* Specification for estimator info (e.g. \"i\" and \"?\") */\n",
       "\n",
       "/* Common style for \"i\" and \"?\" */\n",
       "\n",
       ".sk-estimator-doc-link,\n",
       "a:link.sk-estimator-doc-link,\n",
       "a:visited.sk-estimator-doc-link {\n",
       "  float: right;\n",
       "  font-size: smaller;\n",
       "  line-height: 1em;\n",
       "  font-family: monospace;\n",
       "  background-color: var(--sklearn-color-background);\n",
       "  border-radius: 1em;\n",
       "  height: 1em;\n",
       "  width: 1em;\n",
       "  text-decoration: none !important;\n",
       "  margin-left: 1ex;\n",
       "  /* unfitted */\n",
       "  border: var(--sklearn-color-unfitted-level-1) 1pt solid;\n",
       "  color: var(--sklearn-color-unfitted-level-1);\n",
       "}\n",
       "\n",
       ".sk-estimator-doc-link.fitted,\n",
       "a:link.sk-estimator-doc-link.fitted,\n",
       "a:visited.sk-estimator-doc-link.fitted {\n",
       "  /* fitted */\n",
       "  border: var(--sklearn-color-fitted-level-1) 1pt solid;\n",
       "  color: var(--sklearn-color-fitted-level-1);\n",
       "}\n",
       "\n",
       "/* On hover */\n",
       "div.sk-estimator:hover .sk-estimator-doc-link:hover,\n",
       ".sk-estimator-doc-link:hover,\n",
       "div.sk-label-container:hover .sk-estimator-doc-link:hover,\n",
       ".sk-estimator-doc-link:hover {\n",
       "  /* unfitted */\n",
       "  background-color: var(--sklearn-color-unfitted-level-3);\n",
       "  color: var(--sklearn-color-background);\n",
       "  text-decoration: none;\n",
       "}\n",
       "\n",
       "div.sk-estimator.fitted:hover .sk-estimator-doc-link.fitted:hover,\n",
       ".sk-estimator-doc-link.fitted:hover,\n",
       "div.sk-label-container:hover .sk-estimator-doc-link.fitted:hover,\n",
       ".sk-estimator-doc-link.fitted:hover {\n",
       "  /* fitted */\n",
       "  background-color: var(--sklearn-color-fitted-level-3);\n",
       "  color: var(--sklearn-color-background);\n",
       "  text-decoration: none;\n",
       "}\n",
       "\n",
       "/* Span, style for the box shown on hovering the info icon */\n",
       ".sk-estimator-doc-link span {\n",
       "  display: none;\n",
       "  z-index: 9999;\n",
       "  position: relative;\n",
       "  font-weight: normal;\n",
       "  right: .2ex;\n",
       "  padding: .5ex;\n",
       "  margin: .5ex;\n",
       "  width: min-content;\n",
       "  min-width: 20ex;\n",
       "  max-width: 50ex;\n",
       "  color: var(--sklearn-color-text);\n",
       "  box-shadow: 2pt 2pt 4pt #999;\n",
       "  /* unfitted */\n",
       "  background: var(--sklearn-color-unfitted-level-0);\n",
       "  border: .5pt solid var(--sklearn-color-unfitted-level-3);\n",
       "}\n",
       "\n",
       ".sk-estimator-doc-link.fitted span {\n",
       "  /* fitted */\n",
       "  background: var(--sklearn-color-fitted-level-0);\n",
       "  border: var(--sklearn-color-fitted-level-3);\n",
       "}\n",
       "\n",
       ".sk-estimator-doc-link:hover span {\n",
       "  display: block;\n",
       "}\n",
       "\n",
       "/* \"?\"-specific style due to the `<a>` HTML tag */\n",
       "\n",
       "#sk-container-id-2 a.estimator_doc_link {\n",
       "  float: right;\n",
       "  font-size: 1rem;\n",
       "  line-height: 1em;\n",
       "  font-family: monospace;\n",
       "  background-color: var(--sklearn-color-background);\n",
       "  border-radius: 1rem;\n",
       "  height: 1rem;\n",
       "  width: 1rem;\n",
       "  text-decoration: none;\n",
       "  /* unfitted */\n",
       "  color: var(--sklearn-color-unfitted-level-1);\n",
       "  border: var(--sklearn-color-unfitted-level-1) 1pt solid;\n",
       "}\n",
       "\n",
       "#sk-container-id-2 a.estimator_doc_link.fitted {\n",
       "  /* fitted */\n",
       "  border: var(--sklearn-color-fitted-level-1) 1pt solid;\n",
       "  color: var(--sklearn-color-fitted-level-1);\n",
       "}\n",
       "\n",
       "/* On hover */\n",
       "#sk-container-id-2 a.estimator_doc_link:hover {\n",
       "  /* unfitted */\n",
       "  background-color: var(--sklearn-color-unfitted-level-3);\n",
       "  color: var(--sklearn-color-background);\n",
       "  text-decoration: none;\n",
       "}\n",
       "\n",
       "#sk-container-id-2 a.estimator_doc_link.fitted:hover {\n",
       "  /* fitted */\n",
       "  background-color: var(--sklearn-color-fitted-level-3);\n",
       "}\n",
       "</style><div id=\"sk-container-id-2\" class=\"sk-top-container\"><div class=\"sk-text-repr-fallback\"><pre>LinearRegression()</pre><b>In a Jupyter environment, please rerun this cell to show the HTML representation or trust the notebook. <br />On GitHub, the HTML representation is unable to render, please try loading this page with nbviewer.org.</b></div><div class=\"sk-container\" hidden><div class=\"sk-item\"><div class=\"sk-estimator fitted sk-toggleable\"><input class=\"sk-toggleable__control sk-hidden--visually\" id=\"sk-estimator-id-2\" type=\"checkbox\" checked><label for=\"sk-estimator-id-2\" class=\"sk-toggleable__label fitted sk-toggleable__label-arrow fitted\">&nbsp;&nbsp;LinearRegression<a class=\"sk-estimator-doc-link fitted\" rel=\"noreferrer\" target=\"_blank\" href=\"https://scikit-learn.org/1.4/modules/generated/sklearn.linear_model.LinearRegression.html\">?<span>Documentation for LinearRegression</span></a><span class=\"sk-estimator-doc-link fitted\">i<span>Fitted</span></span></label><div class=\"sk-toggleable__content fitted\"><pre>LinearRegression()</pre></div> </div></div></div></div>"
      ]
     },
     "execution_count": 24,
     "metadata": {},
     "output_type": "execute_result"
    }
   ],
   "execution_count": 24
  },
  {
   "cell_type": "code",
   "metadata": {
    "ExecuteTime": {
     "end_time": "2024-04-17T16:27:45.586767Z",
     "start_time": "2024-04-17T16:27:45.529289Z"
    }
   },
   "source": [
    "y_pred = model.predict(X_test)\n",
    "y_pred_reshaped = y_pred.reshape(-1, 1)\n",
    "original_price_predictions = price_scaler_del.inverse_transform(y_pred_reshaped)\n",
    "absolute_predictions = np.abs(original_price_predictions)\n",
    "absolute_predictions[89]"
   ],
   "outputs": [
    {
     "data": {
      "text/plain": [
       "array([300593.96664187])"
      ]
     },
     "execution_count": 25,
     "metadata": {},
     "output_type": "execute_result"
    }
   ],
   "execution_count": 25
  },
  {
   "cell_type": "code",
   "metadata": {
    "ExecuteTime": {
     "end_time": "2024-04-17T16:27:49.195545Z",
     "start_time": "2024-04-17T16:27:49.191541Z"
    }
   },
   "source": [
    "mse = mean_squared_error(y_test, y_pred)\n",
    "rmse = np.sqrt(mse)\n",
    "mae = mean_absolute_error(y_test, y_pred)\n",
    "r2 = r2_score(y_test, y_pred)"
   ],
   "outputs": [],
   "execution_count": 26
  },
  {
   "cell_type": "code",
   "metadata": {
    "ExecuteTime": {
     "end_time": "2024-04-17T16:27:51.102513Z",
     "start_time": "2024-04-17T16:27:51.099936Z"
    }
   },
   "source": [
    "print(f'MSE: {mse}')\n",
    "print(f'RMSE: {rmse}')\n",
    "print(f'MAE: {mae}')\n",
    "print(f'R2: {r2}')"
   ],
   "outputs": [
    {
     "name": "stdout",
     "output_type": "stream",
     "text": [
      "MSE: 0.5001263651387725\n",
      "RMSE: 0.7071961291881995\n",
      "MAE: 0.3765443499369424\n",
      "R2: 0.5741006940105253\n"
     ]
    }
   ],
   "execution_count": 27
  },
  {
   "cell_type": "code",
   "metadata": {
    "ExecuteTime": {
     "end_time": "2024-04-17T16:27:54.339803Z",
     "start_time": "2024-04-17T16:27:54.330548Z"
    }
   },
   "source": [
    "model_tree = DecisionTreeRegressor()\n",
    "model_tree.fit(X_train, y_train)\n",
    "y_pred_tree = model_tree.predict(X_test)\n"
   ],
   "outputs": [],
   "execution_count": 28
  },
  {
   "cell_type": "code",
   "metadata": {
    "ExecuteTime": {
     "end_time": "2024-04-17T16:27:56.381887Z",
     "start_time": "2024-04-17T16:27:56.378062Z"
    }
   },
   "source": [
    "mse_tree = mean_squared_error(y_test, y_pred_tree)\n",
    "rmse_tree = np.sqrt(mse_tree)\n",
    "mae_tree = mean_absolute_error(y_test, y_pred_tree)\n",
    "r2_tree = r2_score(y_test, y_pred_tree)"
   ],
   "outputs": [],
   "execution_count": 29
  },
  {
   "cell_type": "code",
   "metadata": {
    "ExecuteTime": {
     "end_time": "2024-04-17T16:27:59.089667Z",
     "start_time": "2024-04-17T16:27:59.087127Z"
    }
   },
   "source": [
    "print(f'MSE: {mse_tree}')\n",
    "print(f'RMSE: {rmse_tree}')\n",
    "print(f'MAE: {mae_tree}')\n",
    "print(f'R2: {r2_tree}')"
   ],
   "outputs": [
    {
     "name": "stdout",
     "output_type": "stream",
     "text": [
      "MSE: 0.3429934670908027\n",
      "RMSE: 0.5856564411758849\n",
      "MAE: 0.19138662311508634\n",
      "R2: 0.7079124601792133\n"
     ]
    }
   ],
   "execution_count": 30
  },
  {
   "metadata": {
    "ExecuteTime": {
     "end_time": "2024-04-17T16:28:27.723339Z",
     "start_time": "2024-04-17T16:28:27.717165Z"
    }
   },
   "cell_type": "code",
   "source": [
    "joblib.dump(model_tree, '../models/primary/delaware_dt.joblib')\n",
    "joblib.dump(model, '../models/primary/delaware_lr.joblib')"
   ],
   "outputs": [
    {
     "data": {
      "text/plain": [
       "['../models/primary/delaware_lr.joblib']"
      ]
     },
     "execution_count": 31,
     "metadata": {},
     "output_type": "execute_result"
    }
   ],
   "execution_count": 31
  },
  {
   "cell_type": "code",
   "metadata": {
    "ExecuteTime": {
     "end_time": "2024-04-17T16:29:08.137158Z",
     "start_time": "2024-04-17T16:29:08.111712Z"
    }
   },
   "source": "data_maine= pd.read_csv('/Users/akshatsharma/UPES/Sem 6/AI_Applications/Housing-Price/data/interim/Maine.csv')",
   "outputs": [],
   "execution_count": 32
  },
  {
   "cell_type": "code",
   "metadata": {
    "ExecuteTime": {
     "end_time": "2024-04-17T16:29:10.122321Z",
     "start_time": "2024-04-17T16:29:10.115726Z"
    }
   },
   "source": [
    "data_maine.head()"
   ],
   "outputs": [
    {
     "data": {
      "text/plain": [
       "     status  bed  bath  acre_lot   city  state  zip_code  house_size     price\n",
       "0  for_sale  4.0   3.0      2.00  Eliot  Maine    3903.0      2628.0  750000.0\n",
       "1  for_sale  3.0   4.0      2.97  Eliot  Maine    3903.0      2600.0  549000.0\n",
       "2  for_sale  5.0   5.0      0.95  Eliot  Maine    3903.0      3116.0  850000.0\n",
       "3  for_sale  3.0   2.0      1.23  Eliot  Maine    3903.0      1116.0  469500.0\n",
       "4  for_sale  3.0   3.0      2.01   Saco  Maine    4027.0      2080.0  599990.0"
      ],
      "text/html": [
       "<div>\n",
       "<style scoped>\n",
       "    .dataframe tbody tr th:only-of-type {\n",
       "        vertical-align: middle;\n",
       "    }\n",
       "\n",
       "    .dataframe tbody tr th {\n",
       "        vertical-align: top;\n",
       "    }\n",
       "\n",
       "    .dataframe thead th {\n",
       "        text-align: right;\n",
       "    }\n",
       "</style>\n",
       "<table border=\"1\" class=\"dataframe\">\n",
       "  <thead>\n",
       "    <tr style=\"text-align: right;\">\n",
       "      <th></th>\n",
       "      <th>status</th>\n",
       "      <th>bed</th>\n",
       "      <th>bath</th>\n",
       "      <th>acre_lot</th>\n",
       "      <th>city</th>\n",
       "      <th>state</th>\n",
       "      <th>zip_code</th>\n",
       "      <th>house_size</th>\n",
       "      <th>price</th>\n",
       "    </tr>\n",
       "  </thead>\n",
       "  <tbody>\n",
       "    <tr>\n",
       "      <th>0</th>\n",
       "      <td>for_sale</td>\n",
       "      <td>4.0</td>\n",
       "      <td>3.0</td>\n",
       "      <td>2.00</td>\n",
       "      <td>Eliot</td>\n",
       "      <td>Maine</td>\n",
       "      <td>3903.0</td>\n",
       "      <td>2628.0</td>\n",
       "      <td>750000.0</td>\n",
       "    </tr>\n",
       "    <tr>\n",
       "      <th>1</th>\n",
       "      <td>for_sale</td>\n",
       "      <td>3.0</td>\n",
       "      <td>4.0</td>\n",
       "      <td>2.97</td>\n",
       "      <td>Eliot</td>\n",
       "      <td>Maine</td>\n",
       "      <td>3903.0</td>\n",
       "      <td>2600.0</td>\n",
       "      <td>549000.0</td>\n",
       "    </tr>\n",
       "    <tr>\n",
       "      <th>2</th>\n",
       "      <td>for_sale</td>\n",
       "      <td>5.0</td>\n",
       "      <td>5.0</td>\n",
       "      <td>0.95</td>\n",
       "      <td>Eliot</td>\n",
       "      <td>Maine</td>\n",
       "      <td>3903.0</td>\n",
       "      <td>3116.0</td>\n",
       "      <td>850000.0</td>\n",
       "    </tr>\n",
       "    <tr>\n",
       "      <th>3</th>\n",
       "      <td>for_sale</td>\n",
       "      <td>3.0</td>\n",
       "      <td>2.0</td>\n",
       "      <td>1.23</td>\n",
       "      <td>Eliot</td>\n",
       "      <td>Maine</td>\n",
       "      <td>3903.0</td>\n",
       "      <td>1116.0</td>\n",
       "      <td>469500.0</td>\n",
       "    </tr>\n",
       "    <tr>\n",
       "      <th>4</th>\n",
       "      <td>for_sale</td>\n",
       "      <td>3.0</td>\n",
       "      <td>3.0</td>\n",
       "      <td>2.01</td>\n",
       "      <td>Saco</td>\n",
       "      <td>Maine</td>\n",
       "      <td>4027.0</td>\n",
       "      <td>2080.0</td>\n",
       "      <td>599990.0</td>\n",
       "    </tr>\n",
       "  </tbody>\n",
       "</table>\n",
       "</div>"
      ]
     },
     "execution_count": 33,
     "metadata": {},
     "output_type": "execute_result"
    }
   ],
   "execution_count": 33
  },
  {
   "cell_type": "code",
   "metadata": {
    "ExecuteTime": {
     "end_time": "2024-04-17T16:29:13.963233Z",
     "start_time": "2024-04-17T16:29:13.956568Z"
    }
   },
   "source": [
    "data_maine['house_size']= StandardScaler().fit_transform(data_maine['house_size'].values.reshape(len(data_maine), 1))\n",
    "\n",
    "price_scaler_mai= StandardScaler().fit(data_maine['price'].values.reshape(-1, 1))  # Assign to a variable\n",
    "data_maine['price']= price_scaler_mai.transform(data_maine['price'].values.reshape(-1, 1))\n",
    "\n",
    "data_maine['bath']= MinMaxScaler().fit_transform(data_maine['bath'].values.reshape(len(data_maine), 1))\n",
    "data_maine['bed']= MinMaxScaler().fit_transform(data_maine['bed'].values.reshape(len(data_maine), 1))\n",
    "data_maine['acre_lot']= MinMaxScaler().fit_transform(data_maine['acre_lot'].values.reshape(len(data_maine), 1))"
   ],
   "outputs": [],
   "execution_count": 34
  },
  {
   "cell_type": "code",
   "metadata": {
    "ExecuteTime": {
     "end_time": "2024-04-17T16:29:15.873009Z",
     "start_time": "2024-04-17T16:29:15.866999Z"
    }
   },
   "source": [
    "data_maine.head( )"
   ],
   "outputs": [
    {
     "data": {
      "text/plain": [
       "     status       bed      bath  acre_lot   city  state  zip_code  house_size  \\\n",
       "0  for_sale  0.103448  0.105263  0.000145  Eliot  Maine    3903.0    0.283693   \n",
       "1  for_sale  0.068966  0.157895  0.000216  Eliot  Maine    3903.0    0.266974   \n",
       "2  for_sale  0.137931  0.210526  0.000069  Eliot  Maine    3903.0    0.575076   \n",
       "3  for_sale  0.068966  0.052632  0.000089  Eliot  Maine    3903.0   -0.619115   \n",
       "4  for_sale  0.068966  0.105263  0.000146   Saco  Maine    4027.0   -0.043515   \n",
       "\n",
       "      price  \n",
       "0  0.501779  \n",
       "1  0.196141  \n",
       "2  0.653838  \n",
       "3  0.075254  \n",
       "4  0.273675  "
      ],
      "text/html": [
       "<div>\n",
       "<style scoped>\n",
       "    .dataframe tbody tr th:only-of-type {\n",
       "        vertical-align: middle;\n",
       "    }\n",
       "\n",
       "    .dataframe tbody tr th {\n",
       "        vertical-align: top;\n",
       "    }\n",
       "\n",
       "    .dataframe thead th {\n",
       "        text-align: right;\n",
       "    }\n",
       "</style>\n",
       "<table border=\"1\" class=\"dataframe\">\n",
       "  <thead>\n",
       "    <tr style=\"text-align: right;\">\n",
       "      <th></th>\n",
       "      <th>status</th>\n",
       "      <th>bed</th>\n",
       "      <th>bath</th>\n",
       "      <th>acre_lot</th>\n",
       "      <th>city</th>\n",
       "      <th>state</th>\n",
       "      <th>zip_code</th>\n",
       "      <th>house_size</th>\n",
       "      <th>price</th>\n",
       "    </tr>\n",
       "  </thead>\n",
       "  <tbody>\n",
       "    <tr>\n",
       "      <th>0</th>\n",
       "      <td>for_sale</td>\n",
       "      <td>0.103448</td>\n",
       "      <td>0.105263</td>\n",
       "      <td>0.000145</td>\n",
       "      <td>Eliot</td>\n",
       "      <td>Maine</td>\n",
       "      <td>3903.0</td>\n",
       "      <td>0.283693</td>\n",
       "      <td>0.501779</td>\n",
       "    </tr>\n",
       "    <tr>\n",
       "      <th>1</th>\n",
       "      <td>for_sale</td>\n",
       "      <td>0.068966</td>\n",
       "      <td>0.157895</td>\n",
       "      <td>0.000216</td>\n",
       "      <td>Eliot</td>\n",
       "      <td>Maine</td>\n",
       "      <td>3903.0</td>\n",
       "      <td>0.266974</td>\n",
       "      <td>0.196141</td>\n",
       "    </tr>\n",
       "    <tr>\n",
       "      <th>2</th>\n",
       "      <td>for_sale</td>\n",
       "      <td>0.137931</td>\n",
       "      <td>0.210526</td>\n",
       "      <td>0.000069</td>\n",
       "      <td>Eliot</td>\n",
       "      <td>Maine</td>\n",
       "      <td>3903.0</td>\n",
       "      <td>0.575076</td>\n",
       "      <td>0.653838</td>\n",
       "    </tr>\n",
       "    <tr>\n",
       "      <th>3</th>\n",
       "      <td>for_sale</td>\n",
       "      <td>0.068966</td>\n",
       "      <td>0.052632</td>\n",
       "      <td>0.000089</td>\n",
       "      <td>Eliot</td>\n",
       "      <td>Maine</td>\n",
       "      <td>3903.0</td>\n",
       "      <td>-0.619115</td>\n",
       "      <td>0.075254</td>\n",
       "    </tr>\n",
       "    <tr>\n",
       "      <th>4</th>\n",
       "      <td>for_sale</td>\n",
       "      <td>0.068966</td>\n",
       "      <td>0.105263</td>\n",
       "      <td>0.000146</td>\n",
       "      <td>Saco</td>\n",
       "      <td>Maine</td>\n",
       "      <td>4027.0</td>\n",
       "      <td>-0.043515</td>\n",
       "      <td>0.273675</td>\n",
       "    </tr>\n",
       "  </tbody>\n",
       "</table>\n",
       "</div>"
      ]
     },
     "execution_count": 35,
     "metadata": {},
     "output_type": "execute_result"
    }
   ],
   "execution_count": 35
  },
  {
   "cell_type": "code",
   "metadata": {
    "ExecuteTime": {
     "end_time": "2024-04-17T16:29:19.983714Z",
     "start_time": "2024-04-17T16:29:19.919731Z"
    }
   },
   "source": [
    "X= data_maine[['bed', 'bath', 'acre_lot', 'zip_code', 'house_size', 'city', 'state']]\n",
    "X= pd.get_dummies(X, columns=['city', 'state'])\n",
    "y = data_maine['price']"
   ],
   "outputs": [],
   "execution_count": 36
  },
  {
   "cell_type": "code",
   "metadata": {
    "ExecuteTime": {
     "end_time": "2024-04-17T16:29:23.623130Z",
     "start_time": "2024-04-17T16:29:22.005394Z"
    }
   },
   "source": [
    "X_train,X_test, y_train, y_test = train_test_split(X, y, test_size=0.25, random_state=42)\n",
    "model=  LinearRegression()\n",
    "model.fit(X_train, y_train )"
   ],
   "outputs": [
    {
     "data": {
      "text/plain": [
       "LinearRegression()"
      ],
      "text/html": [
       "<style>#sk-container-id-3 {\n",
       "  /* Definition of color scheme common for light and dark mode */\n",
       "  --sklearn-color-text: black;\n",
       "  --sklearn-color-line: gray;\n",
       "  /* Definition of color scheme for unfitted estimators */\n",
       "  --sklearn-color-unfitted-level-0: #fff5e6;\n",
       "  --sklearn-color-unfitted-level-1: #f6e4d2;\n",
       "  --sklearn-color-unfitted-level-2: #ffe0b3;\n",
       "  --sklearn-color-unfitted-level-3: chocolate;\n",
       "  /* Definition of color scheme for fitted estimators */\n",
       "  --sklearn-color-fitted-level-0: #f0f8ff;\n",
       "  --sklearn-color-fitted-level-1: #d4ebff;\n",
       "  --sklearn-color-fitted-level-2: #b3dbfd;\n",
       "  --sklearn-color-fitted-level-3: cornflowerblue;\n",
       "\n",
       "  /* Specific color for light theme */\n",
       "  --sklearn-color-text-on-default-background: var(--sg-text-color, var(--theme-code-foreground, var(--jp-content-font-color1, black)));\n",
       "  --sklearn-color-background: var(--sg-background-color, var(--theme-background, var(--jp-layout-color0, white)));\n",
       "  --sklearn-color-border-box: var(--sg-text-color, var(--theme-code-foreground, var(--jp-content-font-color1, black)));\n",
       "  --sklearn-color-icon: #696969;\n",
       "\n",
       "  @media (prefers-color-scheme: dark) {\n",
       "    /* Redefinition of color scheme for dark theme */\n",
       "    --sklearn-color-text-on-default-background: var(--sg-text-color, var(--theme-code-foreground, var(--jp-content-font-color1, white)));\n",
       "    --sklearn-color-background: var(--sg-background-color, var(--theme-background, var(--jp-layout-color0, #111)));\n",
       "    --sklearn-color-border-box: var(--sg-text-color, var(--theme-code-foreground, var(--jp-content-font-color1, white)));\n",
       "    --sklearn-color-icon: #878787;\n",
       "  }\n",
       "}\n",
       "\n",
       "#sk-container-id-3 {\n",
       "  color: var(--sklearn-color-text);\n",
       "}\n",
       "\n",
       "#sk-container-id-3 pre {\n",
       "  padding: 0;\n",
       "}\n",
       "\n",
       "#sk-container-id-3 input.sk-hidden--visually {\n",
       "  border: 0;\n",
       "  clip: rect(1px 1px 1px 1px);\n",
       "  clip: rect(1px, 1px, 1px, 1px);\n",
       "  height: 1px;\n",
       "  margin: -1px;\n",
       "  overflow: hidden;\n",
       "  padding: 0;\n",
       "  position: absolute;\n",
       "  width: 1px;\n",
       "}\n",
       "\n",
       "#sk-container-id-3 div.sk-dashed-wrapped {\n",
       "  border: 1px dashed var(--sklearn-color-line);\n",
       "  margin: 0 0.4em 0.5em 0.4em;\n",
       "  box-sizing: border-box;\n",
       "  padding-bottom: 0.4em;\n",
       "  background-color: var(--sklearn-color-background);\n",
       "}\n",
       "\n",
       "#sk-container-id-3 div.sk-container {\n",
       "  /* jupyter's `normalize.less` sets `[hidden] { display: none; }`\n",
       "     but bootstrap.min.css set `[hidden] { display: none !important; }`\n",
       "     so we also need the `!important` here to be able to override the\n",
       "     default hidden behavior on the sphinx rendered scikit-learn.org.\n",
       "     See: https://github.com/scikit-learn/scikit-learn/issues/21755 */\n",
       "  display: inline-block !important;\n",
       "  position: relative;\n",
       "}\n",
       "\n",
       "#sk-container-id-3 div.sk-text-repr-fallback {\n",
       "  display: none;\n",
       "}\n",
       "\n",
       "div.sk-parallel-item,\n",
       "div.sk-serial,\n",
       "div.sk-item {\n",
       "  /* draw centered vertical line to link estimators */\n",
       "  background-image: linear-gradient(var(--sklearn-color-text-on-default-background), var(--sklearn-color-text-on-default-background));\n",
       "  background-size: 2px 100%;\n",
       "  background-repeat: no-repeat;\n",
       "  background-position: center center;\n",
       "}\n",
       "\n",
       "/* Parallel-specific style estimator block */\n",
       "\n",
       "#sk-container-id-3 div.sk-parallel-item::after {\n",
       "  content: \"\";\n",
       "  width: 100%;\n",
       "  border-bottom: 2px solid var(--sklearn-color-text-on-default-background);\n",
       "  flex-grow: 1;\n",
       "}\n",
       "\n",
       "#sk-container-id-3 div.sk-parallel {\n",
       "  display: flex;\n",
       "  align-items: stretch;\n",
       "  justify-content: center;\n",
       "  background-color: var(--sklearn-color-background);\n",
       "  position: relative;\n",
       "}\n",
       "\n",
       "#sk-container-id-3 div.sk-parallel-item {\n",
       "  display: flex;\n",
       "  flex-direction: column;\n",
       "}\n",
       "\n",
       "#sk-container-id-3 div.sk-parallel-item:first-child::after {\n",
       "  align-self: flex-end;\n",
       "  width: 50%;\n",
       "}\n",
       "\n",
       "#sk-container-id-3 div.sk-parallel-item:last-child::after {\n",
       "  align-self: flex-start;\n",
       "  width: 50%;\n",
       "}\n",
       "\n",
       "#sk-container-id-3 div.sk-parallel-item:only-child::after {\n",
       "  width: 0;\n",
       "}\n",
       "\n",
       "/* Serial-specific style estimator block */\n",
       "\n",
       "#sk-container-id-3 div.sk-serial {\n",
       "  display: flex;\n",
       "  flex-direction: column;\n",
       "  align-items: center;\n",
       "  background-color: var(--sklearn-color-background);\n",
       "  padding-right: 1em;\n",
       "  padding-left: 1em;\n",
       "}\n",
       "\n",
       "\n",
       "/* Toggleable style: style used for estimator/Pipeline/ColumnTransformer box that is\n",
       "clickable and can be expanded/collapsed.\n",
       "- Pipeline and ColumnTransformer use this feature and define the default style\n",
       "- Estimators will overwrite some part of the style using the `sk-estimator` class\n",
       "*/\n",
       "\n",
       "/* Pipeline and ColumnTransformer style (default) */\n",
       "\n",
       "#sk-container-id-3 div.sk-toggleable {\n",
       "  /* Default theme specific background. It is overwritten whether we have a\n",
       "  specific estimator or a Pipeline/ColumnTransformer */\n",
       "  background-color: var(--sklearn-color-background);\n",
       "}\n",
       "\n",
       "/* Toggleable label */\n",
       "#sk-container-id-3 label.sk-toggleable__label {\n",
       "  cursor: pointer;\n",
       "  display: block;\n",
       "  width: 100%;\n",
       "  margin-bottom: 0;\n",
       "  padding: 0.5em;\n",
       "  box-sizing: border-box;\n",
       "  text-align: center;\n",
       "}\n",
       "\n",
       "#sk-container-id-3 label.sk-toggleable__label-arrow:before {\n",
       "  /* Arrow on the left of the label */\n",
       "  content: \"▸\";\n",
       "  float: left;\n",
       "  margin-right: 0.25em;\n",
       "  color: var(--sklearn-color-icon);\n",
       "}\n",
       "\n",
       "#sk-container-id-3 label.sk-toggleable__label-arrow:hover:before {\n",
       "  color: var(--sklearn-color-text);\n",
       "}\n",
       "\n",
       "/* Toggleable content - dropdown */\n",
       "\n",
       "#sk-container-id-3 div.sk-toggleable__content {\n",
       "  max-height: 0;\n",
       "  max-width: 0;\n",
       "  overflow: hidden;\n",
       "  text-align: left;\n",
       "  /* unfitted */\n",
       "  background-color: var(--sklearn-color-unfitted-level-0);\n",
       "}\n",
       "\n",
       "#sk-container-id-3 div.sk-toggleable__content.fitted {\n",
       "  /* fitted */\n",
       "  background-color: var(--sklearn-color-fitted-level-0);\n",
       "}\n",
       "\n",
       "#sk-container-id-3 div.sk-toggleable__content pre {\n",
       "  margin: 0.2em;\n",
       "  border-radius: 0.25em;\n",
       "  color: var(--sklearn-color-text);\n",
       "  /* unfitted */\n",
       "  background-color: var(--sklearn-color-unfitted-level-0);\n",
       "}\n",
       "\n",
       "#sk-container-id-3 div.sk-toggleable__content.fitted pre {\n",
       "  /* unfitted */\n",
       "  background-color: var(--sklearn-color-fitted-level-0);\n",
       "}\n",
       "\n",
       "#sk-container-id-3 input.sk-toggleable__control:checked~div.sk-toggleable__content {\n",
       "  /* Expand drop-down */\n",
       "  max-height: 200px;\n",
       "  max-width: 100%;\n",
       "  overflow: auto;\n",
       "}\n",
       "\n",
       "#sk-container-id-3 input.sk-toggleable__control:checked~label.sk-toggleable__label-arrow:before {\n",
       "  content: \"▾\";\n",
       "}\n",
       "\n",
       "/* Pipeline/ColumnTransformer-specific style */\n",
       "\n",
       "#sk-container-id-3 div.sk-label input.sk-toggleable__control:checked~label.sk-toggleable__label {\n",
       "  color: var(--sklearn-color-text);\n",
       "  background-color: var(--sklearn-color-unfitted-level-2);\n",
       "}\n",
       "\n",
       "#sk-container-id-3 div.sk-label.fitted input.sk-toggleable__control:checked~label.sk-toggleable__label {\n",
       "  background-color: var(--sklearn-color-fitted-level-2);\n",
       "}\n",
       "\n",
       "/* Estimator-specific style */\n",
       "\n",
       "/* Colorize estimator box */\n",
       "#sk-container-id-3 div.sk-estimator input.sk-toggleable__control:checked~label.sk-toggleable__label {\n",
       "  /* unfitted */\n",
       "  background-color: var(--sklearn-color-unfitted-level-2);\n",
       "}\n",
       "\n",
       "#sk-container-id-3 div.sk-estimator.fitted input.sk-toggleable__control:checked~label.sk-toggleable__label {\n",
       "  /* fitted */\n",
       "  background-color: var(--sklearn-color-fitted-level-2);\n",
       "}\n",
       "\n",
       "#sk-container-id-3 div.sk-label label.sk-toggleable__label,\n",
       "#sk-container-id-3 div.sk-label label {\n",
       "  /* The background is the default theme color */\n",
       "  color: var(--sklearn-color-text-on-default-background);\n",
       "}\n",
       "\n",
       "/* On hover, darken the color of the background */\n",
       "#sk-container-id-3 div.sk-label:hover label.sk-toggleable__label {\n",
       "  color: var(--sklearn-color-text);\n",
       "  background-color: var(--sklearn-color-unfitted-level-2);\n",
       "}\n",
       "\n",
       "/* Label box, darken color on hover, fitted */\n",
       "#sk-container-id-3 div.sk-label.fitted:hover label.sk-toggleable__label.fitted {\n",
       "  color: var(--sklearn-color-text);\n",
       "  background-color: var(--sklearn-color-fitted-level-2);\n",
       "}\n",
       "\n",
       "/* Estimator label */\n",
       "\n",
       "#sk-container-id-3 div.sk-label label {\n",
       "  font-family: monospace;\n",
       "  font-weight: bold;\n",
       "  display: inline-block;\n",
       "  line-height: 1.2em;\n",
       "}\n",
       "\n",
       "#sk-container-id-3 div.sk-label-container {\n",
       "  text-align: center;\n",
       "}\n",
       "\n",
       "/* Estimator-specific */\n",
       "#sk-container-id-3 div.sk-estimator {\n",
       "  font-family: monospace;\n",
       "  border: 1px dotted var(--sklearn-color-border-box);\n",
       "  border-radius: 0.25em;\n",
       "  box-sizing: border-box;\n",
       "  margin-bottom: 0.5em;\n",
       "  /* unfitted */\n",
       "  background-color: var(--sklearn-color-unfitted-level-0);\n",
       "}\n",
       "\n",
       "#sk-container-id-3 div.sk-estimator.fitted {\n",
       "  /* fitted */\n",
       "  background-color: var(--sklearn-color-fitted-level-0);\n",
       "}\n",
       "\n",
       "/* on hover */\n",
       "#sk-container-id-3 div.sk-estimator:hover {\n",
       "  /* unfitted */\n",
       "  background-color: var(--sklearn-color-unfitted-level-2);\n",
       "}\n",
       "\n",
       "#sk-container-id-3 div.sk-estimator.fitted:hover {\n",
       "  /* fitted */\n",
       "  background-color: var(--sklearn-color-fitted-level-2);\n",
       "}\n",
       "\n",
       "/* Specification for estimator info (e.g. \"i\" and \"?\") */\n",
       "\n",
       "/* Common style for \"i\" and \"?\" */\n",
       "\n",
       ".sk-estimator-doc-link,\n",
       "a:link.sk-estimator-doc-link,\n",
       "a:visited.sk-estimator-doc-link {\n",
       "  float: right;\n",
       "  font-size: smaller;\n",
       "  line-height: 1em;\n",
       "  font-family: monospace;\n",
       "  background-color: var(--sklearn-color-background);\n",
       "  border-radius: 1em;\n",
       "  height: 1em;\n",
       "  width: 1em;\n",
       "  text-decoration: none !important;\n",
       "  margin-left: 1ex;\n",
       "  /* unfitted */\n",
       "  border: var(--sklearn-color-unfitted-level-1) 1pt solid;\n",
       "  color: var(--sklearn-color-unfitted-level-1);\n",
       "}\n",
       "\n",
       ".sk-estimator-doc-link.fitted,\n",
       "a:link.sk-estimator-doc-link.fitted,\n",
       "a:visited.sk-estimator-doc-link.fitted {\n",
       "  /* fitted */\n",
       "  border: var(--sklearn-color-fitted-level-1) 1pt solid;\n",
       "  color: var(--sklearn-color-fitted-level-1);\n",
       "}\n",
       "\n",
       "/* On hover */\n",
       "div.sk-estimator:hover .sk-estimator-doc-link:hover,\n",
       ".sk-estimator-doc-link:hover,\n",
       "div.sk-label-container:hover .sk-estimator-doc-link:hover,\n",
       ".sk-estimator-doc-link:hover {\n",
       "  /* unfitted */\n",
       "  background-color: var(--sklearn-color-unfitted-level-3);\n",
       "  color: var(--sklearn-color-background);\n",
       "  text-decoration: none;\n",
       "}\n",
       "\n",
       "div.sk-estimator.fitted:hover .sk-estimator-doc-link.fitted:hover,\n",
       ".sk-estimator-doc-link.fitted:hover,\n",
       "div.sk-label-container:hover .sk-estimator-doc-link.fitted:hover,\n",
       ".sk-estimator-doc-link.fitted:hover {\n",
       "  /* fitted */\n",
       "  background-color: var(--sklearn-color-fitted-level-3);\n",
       "  color: var(--sklearn-color-background);\n",
       "  text-decoration: none;\n",
       "}\n",
       "\n",
       "/* Span, style for the box shown on hovering the info icon */\n",
       ".sk-estimator-doc-link span {\n",
       "  display: none;\n",
       "  z-index: 9999;\n",
       "  position: relative;\n",
       "  font-weight: normal;\n",
       "  right: .2ex;\n",
       "  padding: .5ex;\n",
       "  margin: .5ex;\n",
       "  width: min-content;\n",
       "  min-width: 20ex;\n",
       "  max-width: 50ex;\n",
       "  color: var(--sklearn-color-text);\n",
       "  box-shadow: 2pt 2pt 4pt #999;\n",
       "  /* unfitted */\n",
       "  background: var(--sklearn-color-unfitted-level-0);\n",
       "  border: .5pt solid var(--sklearn-color-unfitted-level-3);\n",
       "}\n",
       "\n",
       ".sk-estimator-doc-link.fitted span {\n",
       "  /* fitted */\n",
       "  background: var(--sklearn-color-fitted-level-0);\n",
       "  border: var(--sklearn-color-fitted-level-3);\n",
       "}\n",
       "\n",
       ".sk-estimator-doc-link:hover span {\n",
       "  display: block;\n",
       "}\n",
       "\n",
       "/* \"?\"-specific style due to the `<a>` HTML tag */\n",
       "\n",
       "#sk-container-id-3 a.estimator_doc_link {\n",
       "  float: right;\n",
       "  font-size: 1rem;\n",
       "  line-height: 1em;\n",
       "  font-family: monospace;\n",
       "  background-color: var(--sklearn-color-background);\n",
       "  border-radius: 1rem;\n",
       "  height: 1rem;\n",
       "  width: 1rem;\n",
       "  text-decoration: none;\n",
       "  /* unfitted */\n",
       "  color: var(--sklearn-color-unfitted-level-1);\n",
       "  border: var(--sklearn-color-unfitted-level-1) 1pt solid;\n",
       "}\n",
       "\n",
       "#sk-container-id-3 a.estimator_doc_link.fitted {\n",
       "  /* fitted */\n",
       "  border: var(--sklearn-color-fitted-level-1) 1pt solid;\n",
       "  color: var(--sklearn-color-fitted-level-1);\n",
       "}\n",
       "\n",
       "/* On hover */\n",
       "#sk-container-id-3 a.estimator_doc_link:hover {\n",
       "  /* unfitted */\n",
       "  background-color: var(--sklearn-color-unfitted-level-3);\n",
       "  color: var(--sklearn-color-background);\n",
       "  text-decoration: none;\n",
       "}\n",
       "\n",
       "#sk-container-id-3 a.estimator_doc_link.fitted:hover {\n",
       "  /* fitted */\n",
       "  background-color: var(--sklearn-color-fitted-level-3);\n",
       "}\n",
       "</style><div id=\"sk-container-id-3\" class=\"sk-top-container\"><div class=\"sk-text-repr-fallback\"><pre>LinearRegression()</pre><b>In a Jupyter environment, please rerun this cell to show the HTML representation or trust the notebook. <br />On GitHub, the HTML representation is unable to render, please try loading this page with nbviewer.org.</b></div><div class=\"sk-container\" hidden><div class=\"sk-item\"><div class=\"sk-estimator fitted sk-toggleable\"><input class=\"sk-toggleable__control sk-hidden--visually\" id=\"sk-estimator-id-3\" type=\"checkbox\" checked><label for=\"sk-estimator-id-3\" class=\"sk-toggleable__label fitted sk-toggleable__label-arrow fitted\">&nbsp;&nbsp;LinearRegression<a class=\"sk-estimator-doc-link fitted\" rel=\"noreferrer\" target=\"_blank\" href=\"https://scikit-learn.org/1.4/modules/generated/sklearn.linear_model.LinearRegression.html\">?<span>Documentation for LinearRegression</span></a><span class=\"sk-estimator-doc-link fitted\">i<span>Fitted</span></span></label><div class=\"sk-toggleable__content fitted\"><pre>LinearRegression()</pre></div> </div></div></div></div>"
      ]
     },
     "execution_count": 37,
     "metadata": {},
     "output_type": "execute_result"
    }
   ],
   "execution_count": 37
  },
  {
   "cell_type": "code",
   "metadata": {
    "ExecuteTime": {
     "end_time": "2024-04-17T16:29:25.122049Z",
     "start_time": "2024-04-17T16:29:25.083091Z"
    }
   },
   "source": [
    "y_pred= model.predict(X_test)\n",
    "y_pred_reshaped= y_pred.reshape(-1, 1)\n",
    "original_price_predictions= price_scaler_mai.inverse_transform(y_pred_reshaped)\n",
    "absolute_predictions= np.abs(original_price_predictions)\n",
    "absolute_predictions[89]"
   ],
   "outputs": [
    {
     "data": {
      "text/plain": [
       "array([831124.29282096])"
      ]
     },
     "execution_count": 38,
     "metadata": {},
     "output_type": "execute_result"
    }
   ],
   "execution_count": 38
  },
  {
   "cell_type": "code",
   "metadata": {
    "ExecuteTime": {
     "end_time": "2024-04-17T16:29:28.211960Z",
     "start_time": "2024-04-17T16:29:28.207412Z"
    }
   },
   "source": [
    "mse= mean_squared_error(y_test, y_pred)\n",
    "rmse= np.sqrt(mse)\n",
    "mae= mean_absolute_error(y_test, y_pred)\n",
    "r2= r2_score(y_test, y_pred)"
   ],
   "outputs": [],
   "execution_count": 39
  },
  {
   "cell_type": "code",
   "metadata": {
    "ExecuteTime": {
     "end_time": "2024-04-17T16:29:30.114597Z",
     "start_time": "2024-04-17T16:29:30.112609Z"
    }
   },
   "source": [
    "print(f'MSE:  {mse}')\n",
    "print(f'RMSE:  {rmse}')\n",
    "print(f'MAE:  {mae}')\n",
    "print(f'R2:  {r2}')"
   ],
   "outputs": [
    {
     "name": "stdout",
     "output_type": "stream",
     "text": [
      "MSE:  0.5406832804480621\n",
      "RMSE:  0.7353116893182524\n",
      "MAE:  0.37506047731475084\n",
      "R2:  0.46492488726690884\n"
     ]
    }
   ],
   "execution_count": 40
  },
  {
   "cell_type": "code",
   "metadata": {
    "ExecuteTime": {
     "end_time": "2024-04-17T16:29:35.282422Z",
     "start_time": "2024-04-17T16:29:34.728367Z"
    }
   },
   "source": [
    "model_tree= DecisionTreeRegressor()\n",
    "model_tree.fit(X_train, y_train )\n",
    "y_pred_tree= model_tree.predict(X_test)\n"
   ],
   "outputs": [],
   "execution_count": 41
  },
  {
   "cell_type": "code",
   "metadata": {
    "ExecuteTime": {
     "end_time": "2024-04-17T16:29:37.705041Z",
     "start_time": "2024-04-17T16:29:37.700882Z"
    }
   },
   "source": [
    "mse_tree= mean_squared_error(y_test, y_pred_tree)\n",
    "rmse_tree= np.sqrt(mse_tree)\n",
    "mae_tree= mean_absolute_error(y_test, y_pred_tree)\n",
    "r2_tree= r2_score(y_test, y_pred_tree)"
   ],
   "outputs": [],
   "execution_count": 42
  },
  {
   "cell_type": "code",
   "metadata": {
    "ExecuteTime": {
     "end_time": "2024-04-17T16:29:40.160636Z",
     "start_time": "2024-04-17T16:29:40.158138Z"
    }
   },
   "source": [
    "print(f'MSE:  {mse_tree}')\n",
    "print(f'RMSE:  {rmse_tree}')\n",
    "print(f'MAE:  {mae_tree}')\n",
    "print(f'R2:  {r2_tree}')"
   ],
   "outputs": [
    {
     "name": "stdout",
     "output_type": "stream",
     "text": [
      "MSE:  0.00846854627306582\n",
      "RMSE:  0.09202470468882701\n",
      "MAE:  0.01272680979484548\n",
      "R2:  0.9916192926328496\n"
     ]
    }
   ],
   "execution_count": 43
  },
  {
   "metadata": {
    "ExecuteTime": {
     "end_time": "2024-04-17T16:29:58.266676Z",
     "start_time": "2024-04-17T16:29:58.261809Z"
    }
   },
   "cell_type": "code",
   "source": [
    "joblib.dump(model_tree, '../models/primary/maine_dt.joblib')\n",
    "joblib.dump(model, '../models/primary/maine_lr.joblib')"
   ],
   "outputs": [
    {
     "data": {
      "text/plain": [
       "['../models/primary/maine_lr.joblib']"
      ]
     },
     "execution_count": 44,
     "metadata": {},
     "output_type": "execute_result"
    }
   ],
   "execution_count": 44
  },
  {
   "cell_type": "code",
   "metadata": {
    "ExecuteTime": {
     "end_time": "2024-04-17T16:30:19.273290Z",
     "start_time": "2024-04-17T16:30:19.158356Z"
    }
   },
   "source": "data_massachusetts= pd.read_csv('/Users/akshatsharma/UPES/Sem 6/AI_Applications/Housing-Price/data/interim/Massachusetts.csv')",
   "outputs": [],
   "execution_count": 45
  },
  {
   "cell_type": "code",
   "metadata": {
    "ExecuteTime": {
     "end_time": "2024-04-17T16:30:21.287704Z",
     "start_time": "2024-04-17T16:30:21.281469Z"
    }
   },
   "source": [
    "data_massachusetts.head()"
   ],
   "outputs": [
    {
     "data": {
      "text/plain": [
       "     status  bed      bath   acre_lot    city          state  zip_code  \\\n",
       "0  for_sale  2.0  1.000000   0.340000  Agawam  Massachusetts    1001.0   \n",
       "1  for_sale  3.0  2.487507   3.410000  Agawam  Massachusetts    1001.0   \n",
       "2  for_sale  2.0  2.000000  32.156834  Agawam  Massachusetts    1001.0   \n",
       "3  for_sale  2.0  2.000000  32.156834  Agawam  Massachusetts    1001.0   \n",
       "4  for_sale  2.0  2.000000  32.156834  Agawam  Massachusetts    1001.0   \n",
       "\n",
       "    house_size     price  \n",
       "0   676.000000  180000.0  \n",
       "1  2178.735694   25000.0  \n",
       "2   892.000000  169900.0  \n",
       "3  1428.000000  242000.0  \n",
       "4  1659.000000  299950.0  "
      ],
      "text/html": [
       "<div>\n",
       "<style scoped>\n",
       "    .dataframe tbody tr th:only-of-type {\n",
       "        vertical-align: middle;\n",
       "    }\n",
       "\n",
       "    .dataframe tbody tr th {\n",
       "        vertical-align: top;\n",
       "    }\n",
       "\n",
       "    .dataframe thead th {\n",
       "        text-align: right;\n",
       "    }\n",
       "</style>\n",
       "<table border=\"1\" class=\"dataframe\">\n",
       "  <thead>\n",
       "    <tr style=\"text-align: right;\">\n",
       "      <th></th>\n",
       "      <th>status</th>\n",
       "      <th>bed</th>\n",
       "      <th>bath</th>\n",
       "      <th>acre_lot</th>\n",
       "      <th>city</th>\n",
       "      <th>state</th>\n",
       "      <th>zip_code</th>\n",
       "      <th>house_size</th>\n",
       "      <th>price</th>\n",
       "    </tr>\n",
       "  </thead>\n",
       "  <tbody>\n",
       "    <tr>\n",
       "      <th>0</th>\n",
       "      <td>for_sale</td>\n",
       "      <td>2.0</td>\n",
       "      <td>1.000000</td>\n",
       "      <td>0.340000</td>\n",
       "      <td>Agawam</td>\n",
       "      <td>Massachusetts</td>\n",
       "      <td>1001.0</td>\n",
       "      <td>676.000000</td>\n",
       "      <td>180000.0</td>\n",
       "    </tr>\n",
       "    <tr>\n",
       "      <th>1</th>\n",
       "      <td>for_sale</td>\n",
       "      <td>3.0</td>\n",
       "      <td>2.487507</td>\n",
       "      <td>3.410000</td>\n",
       "      <td>Agawam</td>\n",
       "      <td>Massachusetts</td>\n",
       "      <td>1001.0</td>\n",
       "      <td>2178.735694</td>\n",
       "      <td>25000.0</td>\n",
       "    </tr>\n",
       "    <tr>\n",
       "      <th>2</th>\n",
       "      <td>for_sale</td>\n",
       "      <td>2.0</td>\n",
       "      <td>2.000000</td>\n",
       "      <td>32.156834</td>\n",
       "      <td>Agawam</td>\n",
       "      <td>Massachusetts</td>\n",
       "      <td>1001.0</td>\n",
       "      <td>892.000000</td>\n",
       "      <td>169900.0</td>\n",
       "    </tr>\n",
       "    <tr>\n",
       "      <th>3</th>\n",
       "      <td>for_sale</td>\n",
       "      <td>2.0</td>\n",
       "      <td>2.000000</td>\n",
       "      <td>32.156834</td>\n",
       "      <td>Agawam</td>\n",
       "      <td>Massachusetts</td>\n",
       "      <td>1001.0</td>\n",
       "      <td>1428.000000</td>\n",
       "      <td>242000.0</td>\n",
       "    </tr>\n",
       "    <tr>\n",
       "      <th>4</th>\n",
       "      <td>for_sale</td>\n",
       "      <td>2.0</td>\n",
       "      <td>2.000000</td>\n",
       "      <td>32.156834</td>\n",
       "      <td>Agawam</td>\n",
       "      <td>Massachusetts</td>\n",
       "      <td>1001.0</td>\n",
       "      <td>1659.000000</td>\n",
       "      <td>299950.0</td>\n",
       "    </tr>\n",
       "  </tbody>\n",
       "</table>\n",
       "</div>"
      ]
     },
     "execution_count": 46,
     "metadata": {},
     "output_type": "execute_result"
    }
   ],
   "execution_count": 46
  },
  {
   "cell_type": "code",
   "metadata": {
    "ExecuteTime": {
     "end_time": "2024-04-17T16:30:24.563724Z",
     "start_time": "2024-04-17T16:30:24.554807Z"
    }
   },
   "source": [
    "data_massachusetts['house_size']= StandardScaler().fit_transform(data_massachusetts['house_size'].values.reshape(len(data_massachusetts), 1))\n",
    "\n",
    "price_scaler_mas= StandardScaler().fit(data_massachusetts['price'].values.reshape(-1, 1))  # Assign to a variable\n",
    "data_massachusetts['price']= price_scaler_mas.transform(data_massachusetts['price'].values.reshape(-1, 1))\n",
    "data_massachusetts['bath']= MinMaxScaler().fit_transform(data_massachusetts['bath'].values.reshape(len(data_massachusetts), 1))\n",
    "data_massachusetts['bed']= MinMaxScaler().fit_transform(data_massachusetts['bed'].values.reshape(len(data_massachusetts), 1))\n",
    "data_massachusetts['acre_lot']= MinMaxScaler().fit_transform(data_massachusetts['acre_lot'].values.reshape(len(data_massachusetts), 1))"
   ],
   "outputs": [],
   "execution_count": 47
  },
  {
   "cell_type": "code",
   "metadata": {
    "ExecuteTime": {
     "end_time": "2024-04-17T16:30:28.236994Z",
     "start_time": "2024-04-17T16:30:28.230891Z"
    }
   },
   "source": [
    "data_massachusetts.head()"
   ],
   "outputs": [
    {
     "data": {
      "text/plain": [
       "     status       bed      bath  acre_lot    city          state  zip_code  \\\n",
       "0  for_sale  0.010204  0.000000  0.000038  Agawam  Massachusetts    1001.0   \n",
       "1  for_sale  0.020408  0.007551  0.000377  Agawam  Massachusetts    1001.0   \n",
       "2  for_sale  0.010204  0.005076  0.003559  Agawam  Massachusetts    1001.0   \n",
       "3  for_sale  0.010204  0.005076  0.003559  Agawam  Massachusetts    1001.0   \n",
       "4  for_sale  0.010204  0.005076  0.003559  Agawam  Massachusetts    1001.0   \n",
       "\n",
       "   house_size     price  \n",
       "0   -0.667431 -0.545145  \n",
       "1   -0.038161 -0.652000  \n",
       "2   -0.576981 -0.552108  \n",
       "3   -0.352531 -0.502403  \n",
       "4   -0.255800 -0.462453  "
      ],
      "text/html": [
       "<div>\n",
       "<style scoped>\n",
       "    .dataframe tbody tr th:only-of-type {\n",
       "        vertical-align: middle;\n",
       "    }\n",
       "\n",
       "    .dataframe tbody tr th {\n",
       "        vertical-align: top;\n",
       "    }\n",
       "\n",
       "    .dataframe thead th {\n",
       "        text-align: right;\n",
       "    }\n",
       "</style>\n",
       "<table border=\"1\" class=\"dataframe\">\n",
       "  <thead>\n",
       "    <tr style=\"text-align: right;\">\n",
       "      <th></th>\n",
       "      <th>status</th>\n",
       "      <th>bed</th>\n",
       "      <th>bath</th>\n",
       "      <th>acre_lot</th>\n",
       "      <th>city</th>\n",
       "      <th>state</th>\n",
       "      <th>zip_code</th>\n",
       "      <th>house_size</th>\n",
       "      <th>price</th>\n",
       "    </tr>\n",
       "  </thead>\n",
       "  <tbody>\n",
       "    <tr>\n",
       "      <th>0</th>\n",
       "      <td>for_sale</td>\n",
       "      <td>0.010204</td>\n",
       "      <td>0.000000</td>\n",
       "      <td>0.000038</td>\n",
       "      <td>Agawam</td>\n",
       "      <td>Massachusetts</td>\n",
       "      <td>1001.0</td>\n",
       "      <td>-0.667431</td>\n",
       "      <td>-0.545145</td>\n",
       "    </tr>\n",
       "    <tr>\n",
       "      <th>1</th>\n",
       "      <td>for_sale</td>\n",
       "      <td>0.020408</td>\n",
       "      <td>0.007551</td>\n",
       "      <td>0.000377</td>\n",
       "      <td>Agawam</td>\n",
       "      <td>Massachusetts</td>\n",
       "      <td>1001.0</td>\n",
       "      <td>-0.038161</td>\n",
       "      <td>-0.652000</td>\n",
       "    </tr>\n",
       "    <tr>\n",
       "      <th>2</th>\n",
       "      <td>for_sale</td>\n",
       "      <td>0.010204</td>\n",
       "      <td>0.005076</td>\n",
       "      <td>0.003559</td>\n",
       "      <td>Agawam</td>\n",
       "      <td>Massachusetts</td>\n",
       "      <td>1001.0</td>\n",
       "      <td>-0.576981</td>\n",
       "      <td>-0.552108</td>\n",
       "    </tr>\n",
       "    <tr>\n",
       "      <th>3</th>\n",
       "      <td>for_sale</td>\n",
       "      <td>0.010204</td>\n",
       "      <td>0.005076</td>\n",
       "      <td>0.003559</td>\n",
       "      <td>Agawam</td>\n",
       "      <td>Massachusetts</td>\n",
       "      <td>1001.0</td>\n",
       "      <td>-0.352531</td>\n",
       "      <td>-0.502403</td>\n",
       "    </tr>\n",
       "    <tr>\n",
       "      <th>4</th>\n",
       "      <td>for_sale</td>\n",
       "      <td>0.010204</td>\n",
       "      <td>0.005076</td>\n",
       "      <td>0.003559</td>\n",
       "      <td>Agawam</td>\n",
       "      <td>Massachusetts</td>\n",
       "      <td>1001.0</td>\n",
       "      <td>-0.255800</td>\n",
       "      <td>-0.462453</td>\n",
       "    </tr>\n",
       "  </tbody>\n",
       "</table>\n",
       "</div>"
      ]
     },
     "execution_count": 48,
     "metadata": {},
     "output_type": "execute_result"
    }
   ],
   "execution_count": 48
  },
  {
   "cell_type": "code",
   "metadata": {
    "ExecuteTime": {
     "end_time": "2024-04-17T16:30:32.401362Z",
     "start_time": "2024-04-17T16:30:32.209175Z"
    }
   },
   "source": [
    "X= data_massachusetts[['bed', 'bath', 'acre_lot', 'zip_code', 'house_size', 'city', 'state']]\n",
    "X= pd.get_dummies(X, columns=['city', 'state'])\n",
    "y = data_massachusetts['price']"
   ],
   "outputs": [],
   "execution_count": 49
  },
  {
   "cell_type": "code",
   "metadata": {
    "ExecuteTime": {
     "end_time": "2024-04-17T16:30:37.304431Z",
     "start_time": "2024-04-17T16:30:33.809769Z"
    }
   },
   "source": [
    "X_train,X_test, y_train, y_test = train_test_split(X, y, test_size=0.25, random_state=42)\n",
    "model=  LinearRegression()\n",
    "model.fit(X_train, y_train )"
   ],
   "outputs": [
    {
     "data": {
      "text/plain": [
       "LinearRegression()"
      ],
      "text/html": [
       "<style>#sk-container-id-4 {\n",
       "  /* Definition of color scheme common for light and dark mode */\n",
       "  --sklearn-color-text: black;\n",
       "  --sklearn-color-line: gray;\n",
       "  /* Definition of color scheme for unfitted estimators */\n",
       "  --sklearn-color-unfitted-level-0: #fff5e6;\n",
       "  --sklearn-color-unfitted-level-1: #f6e4d2;\n",
       "  --sklearn-color-unfitted-level-2: #ffe0b3;\n",
       "  --sklearn-color-unfitted-level-3: chocolate;\n",
       "  /* Definition of color scheme for fitted estimators */\n",
       "  --sklearn-color-fitted-level-0: #f0f8ff;\n",
       "  --sklearn-color-fitted-level-1: #d4ebff;\n",
       "  --sklearn-color-fitted-level-2: #b3dbfd;\n",
       "  --sklearn-color-fitted-level-3: cornflowerblue;\n",
       "\n",
       "  /* Specific color for light theme */\n",
       "  --sklearn-color-text-on-default-background: var(--sg-text-color, var(--theme-code-foreground, var(--jp-content-font-color1, black)));\n",
       "  --sklearn-color-background: var(--sg-background-color, var(--theme-background, var(--jp-layout-color0, white)));\n",
       "  --sklearn-color-border-box: var(--sg-text-color, var(--theme-code-foreground, var(--jp-content-font-color1, black)));\n",
       "  --sklearn-color-icon: #696969;\n",
       "\n",
       "  @media (prefers-color-scheme: dark) {\n",
       "    /* Redefinition of color scheme for dark theme */\n",
       "    --sklearn-color-text-on-default-background: var(--sg-text-color, var(--theme-code-foreground, var(--jp-content-font-color1, white)));\n",
       "    --sklearn-color-background: var(--sg-background-color, var(--theme-background, var(--jp-layout-color0, #111)));\n",
       "    --sklearn-color-border-box: var(--sg-text-color, var(--theme-code-foreground, var(--jp-content-font-color1, white)));\n",
       "    --sklearn-color-icon: #878787;\n",
       "  }\n",
       "}\n",
       "\n",
       "#sk-container-id-4 {\n",
       "  color: var(--sklearn-color-text);\n",
       "}\n",
       "\n",
       "#sk-container-id-4 pre {\n",
       "  padding: 0;\n",
       "}\n",
       "\n",
       "#sk-container-id-4 input.sk-hidden--visually {\n",
       "  border: 0;\n",
       "  clip: rect(1px 1px 1px 1px);\n",
       "  clip: rect(1px, 1px, 1px, 1px);\n",
       "  height: 1px;\n",
       "  margin: -1px;\n",
       "  overflow: hidden;\n",
       "  padding: 0;\n",
       "  position: absolute;\n",
       "  width: 1px;\n",
       "}\n",
       "\n",
       "#sk-container-id-4 div.sk-dashed-wrapped {\n",
       "  border: 1px dashed var(--sklearn-color-line);\n",
       "  margin: 0 0.4em 0.5em 0.4em;\n",
       "  box-sizing: border-box;\n",
       "  padding-bottom: 0.4em;\n",
       "  background-color: var(--sklearn-color-background);\n",
       "}\n",
       "\n",
       "#sk-container-id-4 div.sk-container {\n",
       "  /* jupyter's `normalize.less` sets `[hidden] { display: none; }`\n",
       "     but bootstrap.min.css set `[hidden] { display: none !important; }`\n",
       "     so we also need the `!important` here to be able to override the\n",
       "     default hidden behavior on the sphinx rendered scikit-learn.org.\n",
       "     See: https://github.com/scikit-learn/scikit-learn/issues/21755 */\n",
       "  display: inline-block !important;\n",
       "  position: relative;\n",
       "}\n",
       "\n",
       "#sk-container-id-4 div.sk-text-repr-fallback {\n",
       "  display: none;\n",
       "}\n",
       "\n",
       "div.sk-parallel-item,\n",
       "div.sk-serial,\n",
       "div.sk-item {\n",
       "  /* draw centered vertical line to link estimators */\n",
       "  background-image: linear-gradient(var(--sklearn-color-text-on-default-background), var(--sklearn-color-text-on-default-background));\n",
       "  background-size: 2px 100%;\n",
       "  background-repeat: no-repeat;\n",
       "  background-position: center center;\n",
       "}\n",
       "\n",
       "/* Parallel-specific style estimator block */\n",
       "\n",
       "#sk-container-id-4 div.sk-parallel-item::after {\n",
       "  content: \"\";\n",
       "  width: 100%;\n",
       "  border-bottom: 2px solid var(--sklearn-color-text-on-default-background);\n",
       "  flex-grow: 1;\n",
       "}\n",
       "\n",
       "#sk-container-id-4 div.sk-parallel {\n",
       "  display: flex;\n",
       "  align-items: stretch;\n",
       "  justify-content: center;\n",
       "  background-color: var(--sklearn-color-background);\n",
       "  position: relative;\n",
       "}\n",
       "\n",
       "#sk-container-id-4 div.sk-parallel-item {\n",
       "  display: flex;\n",
       "  flex-direction: column;\n",
       "}\n",
       "\n",
       "#sk-container-id-4 div.sk-parallel-item:first-child::after {\n",
       "  align-self: flex-end;\n",
       "  width: 50%;\n",
       "}\n",
       "\n",
       "#sk-container-id-4 div.sk-parallel-item:last-child::after {\n",
       "  align-self: flex-start;\n",
       "  width: 50%;\n",
       "}\n",
       "\n",
       "#sk-container-id-4 div.sk-parallel-item:only-child::after {\n",
       "  width: 0;\n",
       "}\n",
       "\n",
       "/* Serial-specific style estimator block */\n",
       "\n",
       "#sk-container-id-4 div.sk-serial {\n",
       "  display: flex;\n",
       "  flex-direction: column;\n",
       "  align-items: center;\n",
       "  background-color: var(--sklearn-color-background);\n",
       "  padding-right: 1em;\n",
       "  padding-left: 1em;\n",
       "}\n",
       "\n",
       "\n",
       "/* Toggleable style: style used for estimator/Pipeline/ColumnTransformer box that is\n",
       "clickable and can be expanded/collapsed.\n",
       "- Pipeline and ColumnTransformer use this feature and define the default style\n",
       "- Estimators will overwrite some part of the style using the `sk-estimator` class\n",
       "*/\n",
       "\n",
       "/* Pipeline and ColumnTransformer style (default) */\n",
       "\n",
       "#sk-container-id-4 div.sk-toggleable {\n",
       "  /* Default theme specific background. It is overwritten whether we have a\n",
       "  specific estimator or a Pipeline/ColumnTransformer */\n",
       "  background-color: var(--sklearn-color-background);\n",
       "}\n",
       "\n",
       "/* Toggleable label */\n",
       "#sk-container-id-4 label.sk-toggleable__label {\n",
       "  cursor: pointer;\n",
       "  display: block;\n",
       "  width: 100%;\n",
       "  margin-bottom: 0;\n",
       "  padding: 0.5em;\n",
       "  box-sizing: border-box;\n",
       "  text-align: center;\n",
       "}\n",
       "\n",
       "#sk-container-id-4 label.sk-toggleable__label-arrow:before {\n",
       "  /* Arrow on the left of the label */\n",
       "  content: \"▸\";\n",
       "  float: left;\n",
       "  margin-right: 0.25em;\n",
       "  color: var(--sklearn-color-icon);\n",
       "}\n",
       "\n",
       "#sk-container-id-4 label.sk-toggleable__label-arrow:hover:before {\n",
       "  color: var(--sklearn-color-text);\n",
       "}\n",
       "\n",
       "/* Toggleable content - dropdown */\n",
       "\n",
       "#sk-container-id-4 div.sk-toggleable__content {\n",
       "  max-height: 0;\n",
       "  max-width: 0;\n",
       "  overflow: hidden;\n",
       "  text-align: left;\n",
       "  /* unfitted */\n",
       "  background-color: var(--sklearn-color-unfitted-level-0);\n",
       "}\n",
       "\n",
       "#sk-container-id-4 div.sk-toggleable__content.fitted {\n",
       "  /* fitted */\n",
       "  background-color: var(--sklearn-color-fitted-level-0);\n",
       "}\n",
       "\n",
       "#sk-container-id-4 div.sk-toggleable__content pre {\n",
       "  margin: 0.2em;\n",
       "  border-radius: 0.25em;\n",
       "  color: var(--sklearn-color-text);\n",
       "  /* unfitted */\n",
       "  background-color: var(--sklearn-color-unfitted-level-0);\n",
       "}\n",
       "\n",
       "#sk-container-id-4 div.sk-toggleable__content.fitted pre {\n",
       "  /* unfitted */\n",
       "  background-color: var(--sklearn-color-fitted-level-0);\n",
       "}\n",
       "\n",
       "#sk-container-id-4 input.sk-toggleable__control:checked~div.sk-toggleable__content {\n",
       "  /* Expand drop-down */\n",
       "  max-height: 200px;\n",
       "  max-width: 100%;\n",
       "  overflow: auto;\n",
       "}\n",
       "\n",
       "#sk-container-id-4 input.sk-toggleable__control:checked~label.sk-toggleable__label-arrow:before {\n",
       "  content: \"▾\";\n",
       "}\n",
       "\n",
       "/* Pipeline/ColumnTransformer-specific style */\n",
       "\n",
       "#sk-container-id-4 div.sk-label input.sk-toggleable__control:checked~label.sk-toggleable__label {\n",
       "  color: var(--sklearn-color-text);\n",
       "  background-color: var(--sklearn-color-unfitted-level-2);\n",
       "}\n",
       "\n",
       "#sk-container-id-4 div.sk-label.fitted input.sk-toggleable__control:checked~label.sk-toggleable__label {\n",
       "  background-color: var(--sklearn-color-fitted-level-2);\n",
       "}\n",
       "\n",
       "/* Estimator-specific style */\n",
       "\n",
       "/* Colorize estimator box */\n",
       "#sk-container-id-4 div.sk-estimator input.sk-toggleable__control:checked~label.sk-toggleable__label {\n",
       "  /* unfitted */\n",
       "  background-color: var(--sklearn-color-unfitted-level-2);\n",
       "}\n",
       "\n",
       "#sk-container-id-4 div.sk-estimator.fitted input.sk-toggleable__control:checked~label.sk-toggleable__label {\n",
       "  /* fitted */\n",
       "  background-color: var(--sklearn-color-fitted-level-2);\n",
       "}\n",
       "\n",
       "#sk-container-id-4 div.sk-label label.sk-toggleable__label,\n",
       "#sk-container-id-4 div.sk-label label {\n",
       "  /* The background is the default theme color */\n",
       "  color: var(--sklearn-color-text-on-default-background);\n",
       "}\n",
       "\n",
       "/* On hover, darken the color of the background */\n",
       "#sk-container-id-4 div.sk-label:hover label.sk-toggleable__label {\n",
       "  color: var(--sklearn-color-text);\n",
       "  background-color: var(--sklearn-color-unfitted-level-2);\n",
       "}\n",
       "\n",
       "/* Label box, darken color on hover, fitted */\n",
       "#sk-container-id-4 div.sk-label.fitted:hover label.sk-toggleable__label.fitted {\n",
       "  color: var(--sklearn-color-text);\n",
       "  background-color: var(--sklearn-color-fitted-level-2);\n",
       "}\n",
       "\n",
       "/* Estimator label */\n",
       "\n",
       "#sk-container-id-4 div.sk-label label {\n",
       "  font-family: monospace;\n",
       "  font-weight: bold;\n",
       "  display: inline-block;\n",
       "  line-height: 1.2em;\n",
       "}\n",
       "\n",
       "#sk-container-id-4 div.sk-label-container {\n",
       "  text-align: center;\n",
       "}\n",
       "\n",
       "/* Estimator-specific */\n",
       "#sk-container-id-4 div.sk-estimator {\n",
       "  font-family: monospace;\n",
       "  border: 1px dotted var(--sklearn-color-border-box);\n",
       "  border-radius: 0.25em;\n",
       "  box-sizing: border-box;\n",
       "  margin-bottom: 0.5em;\n",
       "  /* unfitted */\n",
       "  background-color: var(--sklearn-color-unfitted-level-0);\n",
       "}\n",
       "\n",
       "#sk-container-id-4 div.sk-estimator.fitted {\n",
       "  /* fitted */\n",
       "  background-color: var(--sklearn-color-fitted-level-0);\n",
       "}\n",
       "\n",
       "/* on hover */\n",
       "#sk-container-id-4 div.sk-estimator:hover {\n",
       "  /* unfitted */\n",
       "  background-color: var(--sklearn-color-unfitted-level-2);\n",
       "}\n",
       "\n",
       "#sk-container-id-4 div.sk-estimator.fitted:hover {\n",
       "  /* fitted */\n",
       "  background-color: var(--sklearn-color-fitted-level-2);\n",
       "}\n",
       "\n",
       "/* Specification for estimator info (e.g. \"i\" and \"?\") */\n",
       "\n",
       "/* Common style for \"i\" and \"?\" */\n",
       "\n",
       ".sk-estimator-doc-link,\n",
       "a:link.sk-estimator-doc-link,\n",
       "a:visited.sk-estimator-doc-link {\n",
       "  float: right;\n",
       "  font-size: smaller;\n",
       "  line-height: 1em;\n",
       "  font-family: monospace;\n",
       "  background-color: var(--sklearn-color-background);\n",
       "  border-radius: 1em;\n",
       "  height: 1em;\n",
       "  width: 1em;\n",
       "  text-decoration: none !important;\n",
       "  margin-left: 1ex;\n",
       "  /* unfitted */\n",
       "  border: var(--sklearn-color-unfitted-level-1) 1pt solid;\n",
       "  color: var(--sklearn-color-unfitted-level-1);\n",
       "}\n",
       "\n",
       ".sk-estimator-doc-link.fitted,\n",
       "a:link.sk-estimator-doc-link.fitted,\n",
       "a:visited.sk-estimator-doc-link.fitted {\n",
       "  /* fitted */\n",
       "  border: var(--sklearn-color-fitted-level-1) 1pt solid;\n",
       "  color: var(--sklearn-color-fitted-level-1);\n",
       "}\n",
       "\n",
       "/* On hover */\n",
       "div.sk-estimator:hover .sk-estimator-doc-link:hover,\n",
       ".sk-estimator-doc-link:hover,\n",
       "div.sk-label-container:hover .sk-estimator-doc-link:hover,\n",
       ".sk-estimator-doc-link:hover {\n",
       "  /* unfitted */\n",
       "  background-color: var(--sklearn-color-unfitted-level-3);\n",
       "  color: var(--sklearn-color-background);\n",
       "  text-decoration: none;\n",
       "}\n",
       "\n",
       "div.sk-estimator.fitted:hover .sk-estimator-doc-link.fitted:hover,\n",
       ".sk-estimator-doc-link.fitted:hover,\n",
       "div.sk-label-container:hover .sk-estimator-doc-link.fitted:hover,\n",
       ".sk-estimator-doc-link.fitted:hover {\n",
       "  /* fitted */\n",
       "  background-color: var(--sklearn-color-fitted-level-3);\n",
       "  color: var(--sklearn-color-background);\n",
       "  text-decoration: none;\n",
       "}\n",
       "\n",
       "/* Span, style for the box shown on hovering the info icon */\n",
       ".sk-estimator-doc-link span {\n",
       "  display: none;\n",
       "  z-index: 9999;\n",
       "  position: relative;\n",
       "  font-weight: normal;\n",
       "  right: .2ex;\n",
       "  padding: .5ex;\n",
       "  margin: .5ex;\n",
       "  width: min-content;\n",
       "  min-width: 20ex;\n",
       "  max-width: 50ex;\n",
       "  color: var(--sklearn-color-text);\n",
       "  box-shadow: 2pt 2pt 4pt #999;\n",
       "  /* unfitted */\n",
       "  background: var(--sklearn-color-unfitted-level-0);\n",
       "  border: .5pt solid var(--sklearn-color-unfitted-level-3);\n",
       "}\n",
       "\n",
       ".sk-estimator-doc-link.fitted span {\n",
       "  /* fitted */\n",
       "  background: var(--sklearn-color-fitted-level-0);\n",
       "  border: var(--sklearn-color-fitted-level-3);\n",
       "}\n",
       "\n",
       ".sk-estimator-doc-link:hover span {\n",
       "  display: block;\n",
       "}\n",
       "\n",
       "/* \"?\"-specific style due to the `<a>` HTML tag */\n",
       "\n",
       "#sk-container-id-4 a.estimator_doc_link {\n",
       "  float: right;\n",
       "  font-size: 1rem;\n",
       "  line-height: 1em;\n",
       "  font-family: monospace;\n",
       "  background-color: var(--sklearn-color-background);\n",
       "  border-radius: 1rem;\n",
       "  height: 1rem;\n",
       "  width: 1rem;\n",
       "  text-decoration: none;\n",
       "  /* unfitted */\n",
       "  color: var(--sklearn-color-unfitted-level-1);\n",
       "  border: var(--sklearn-color-unfitted-level-1) 1pt solid;\n",
       "}\n",
       "\n",
       "#sk-container-id-4 a.estimator_doc_link.fitted {\n",
       "  /* fitted */\n",
       "  border: var(--sklearn-color-fitted-level-1) 1pt solid;\n",
       "  color: var(--sklearn-color-fitted-level-1);\n",
       "}\n",
       "\n",
       "/* On hover */\n",
       "#sk-container-id-4 a.estimator_doc_link:hover {\n",
       "  /* unfitted */\n",
       "  background-color: var(--sklearn-color-unfitted-level-3);\n",
       "  color: var(--sklearn-color-background);\n",
       "  text-decoration: none;\n",
       "}\n",
       "\n",
       "#sk-container-id-4 a.estimator_doc_link.fitted:hover {\n",
       "  /* fitted */\n",
       "  background-color: var(--sklearn-color-fitted-level-3);\n",
       "}\n",
       "</style><div id=\"sk-container-id-4\" class=\"sk-top-container\"><div class=\"sk-text-repr-fallback\"><pre>LinearRegression()</pre><b>In a Jupyter environment, please rerun this cell to show the HTML representation or trust the notebook. <br />On GitHub, the HTML representation is unable to render, please try loading this page with nbviewer.org.</b></div><div class=\"sk-container\" hidden><div class=\"sk-item\"><div class=\"sk-estimator fitted sk-toggleable\"><input class=\"sk-toggleable__control sk-hidden--visually\" id=\"sk-estimator-id-4\" type=\"checkbox\" checked><label for=\"sk-estimator-id-4\" class=\"sk-toggleable__label fitted sk-toggleable__label-arrow fitted\">&nbsp;&nbsp;LinearRegression<a class=\"sk-estimator-doc-link fitted\" rel=\"noreferrer\" target=\"_blank\" href=\"https://scikit-learn.org/1.4/modules/generated/sklearn.linear_model.LinearRegression.html\">?<span>Documentation for LinearRegression</span></a><span class=\"sk-estimator-doc-link fitted\">i<span>Fitted</span></span></label><div class=\"sk-toggleable__content fitted\"><pre>LinearRegression()</pre></div> </div></div></div></div>"
      ]
     },
     "execution_count": 50,
     "metadata": {},
     "output_type": "execute_result"
    }
   ],
   "execution_count": 50
  },
  {
   "cell_type": "code",
   "metadata": {
    "ExecuteTime": {
     "end_time": "2024-04-17T16:30:39.439770Z",
     "start_time": "2024-04-17T16:30:39.338920Z"
    }
   },
   "source": [
    "y_pred= model.predict(X_test)\n",
    "y_pred_reshaped= y_pred.reshape(-1, 1)\n",
    "original_price_predictions= price_scaler_mas.inverse_transform(y_pred_reshaped)\n",
    "absolute_predictions= np.abs(original_price_predictions)\n",
    "absolute_predictions[89]"
   ],
   "outputs": [
    {
     "data": {
      "text/plain": [
       "array([857782.17700072])"
      ]
     },
     "execution_count": 51,
     "metadata": {},
     "output_type": "execute_result"
    }
   ],
   "execution_count": 51
  },
  {
   "cell_type": "code",
   "metadata": {
    "ExecuteTime": {
     "end_time": "2024-04-17T16:30:43.684562Z",
     "start_time": "2024-04-17T16:30:43.680076Z"
    }
   },
   "source": [
    "mse= mean_squared_error(y_test, y_pred)\n",
    "rmse= np.sqrt(mse)\n",
    "mae= mean_absolute_error(y_test, y_pred)\n",
    "r2= r2_score(y_test, y_pred)"
   ],
   "outputs": [],
   "execution_count": 52
  },
  {
   "cell_type": "code",
   "metadata": {
    "ExecuteTime": {
     "end_time": "2024-04-17T16:30:45.694106Z",
     "start_time": "2024-04-17T16:30:45.691351Z"
    }
   },
   "source": [
    "print(f'MSE:  {mse}')\n",
    "print(f'RMSE:  {rmse}')\n",
    "print(f'MAE:  {mae}')\n",
    "print(f'R2:  {r2}')"
   ],
   "outputs": [
    {
     "name": "stdout",
     "output_type": "stream",
     "text": [
      "MSE:  0.5593626317556111\n",
      "RMSE:  0.7479054965405797\n",
      "MAE:  0.3187772905012709\n",
      "R2:  0.45205076266780475\n"
     ]
    }
   ],
   "execution_count": 53
  },
  {
   "cell_type": "code",
   "metadata": {
    "ExecuteTime": {
     "end_time": "2024-04-17T16:30:49.476862Z",
     "start_time": "2024-04-17T16:30:47.743228Z"
    }
   },
   "source": [
    "model_tree= DecisionTreeRegressor()\n",
    "model_tree.fit(X_train, y_train )\n",
    "y_pred_tree= model_tree.predict(X_test)"
   ],
   "outputs": [],
   "execution_count": 54
  },
  {
   "cell_type": "code",
   "metadata": {
    "ExecuteTime": {
     "end_time": "2024-04-17T16:30:52.113785Z",
     "start_time": "2024-04-17T16:30:52.107783Z"
    }
   },
   "source": [
    "mse_tree= mean_squared_error(y_test, y_pred_tree)\n",
    "rmse_tree= np.sqrt(mse_tree)\n",
    "mae_tree= mean_absolute_error(y_test, y_pred_tree)\n",
    "r2_tree= r2_score(y_test, y_pred_tree)\n",
    "\n",
    "print(f'MSE:  {mse_tree}')\n",
    "print(f'RMSE:  {rmse_tree}')\n",
    "print(f'MAE:  {mae_tree}')\n",
    "print(f'R2:  {r2_tree}')"
   ],
   "outputs": [
    {
     "name": "stdout",
     "output_type": "stream",
     "text": [
      "MSE:  0.007542238705239226\n",
      "RMSE:  0.08684606326851682\n",
      "MAE:  0.0030208105098336125\n",
      "R2:  0.9926116552810434\n"
     ]
    }
   ],
   "execution_count": 55
  },
  {
   "metadata": {
    "ExecuteTime": {
     "end_time": "2024-04-17T16:33:16.905025Z",
     "start_time": "2024-04-17T16:33:16.900311Z"
    }
   },
   "cell_type": "code",
   "source": [
    "joblib.dump(model_tree, '../models/primary/massachusetts_dt.joblib')\n",
    "joblib.dump(model, '../models/primary/massachusetts_lr.joblib')"
   ],
   "outputs": [
    {
     "data": {
      "text/plain": [
       "['../models/primary/massachusetts_lr.joblib']"
      ]
     },
     "execution_count": 57,
     "metadata": {},
     "output_type": "execute_result"
    }
   ],
   "execution_count": 57
  },
  {
   "cell_type": "code",
   "metadata": {
    "ExecuteTime": {
     "end_time": "2024-04-17T16:33:37.040654Z",
     "start_time": "2024-04-17T16:33:37.002141Z"
    }
   },
   "source": "data_NewHampshire= pd.read_csv('/Users/akshatsharma/UPES/Sem 6/AI_Applications/Housing-Price/data/interim/New_Hampshire.csv')",
   "outputs": [],
   "execution_count": 58
  },
  {
   "cell_type": "code",
   "metadata": {
    "ExecuteTime": {
     "end_time": "2024-04-17T16:33:40.471271Z",
     "start_time": "2024-04-17T16:33:40.464829Z"
    }
   },
   "source": [
    "data_NewHampshire.head()"
   ],
   "outputs": [
    {
     "data": {
      "text/plain": [
       "     status  bed      bath  acre_lot         city          state  zip_code  \\\n",
       "0  for_sale  3.0  2.487507     16.50  Fitzwilliam  New Hampshire    3447.0   \n",
       "1  for_sale  3.0  2.487507     12.69  Fitzwilliam  New Hampshire    3447.0   \n",
       "2  for_sale  3.0  2.487507     13.93  Fitzwilliam  New Hampshire    3447.0   \n",
       "3  for_sale  3.0  2.487507     12.17  Fitzwilliam  New Hampshire    3447.0   \n",
       "4  for_sale  3.0  2.487507     20.50     Richmond  New Hampshire    3470.0   \n",
       "\n",
       "    house_size     price  \n",
       "0  2178.735694  199900.0  \n",
       "1  2178.735694  150000.0  \n",
       "2  2178.735694  150000.0  \n",
       "3  2178.735694  131000.0  \n",
       "4  2178.735694   99900.0  "
      ],
      "text/html": [
       "<div>\n",
       "<style scoped>\n",
       "    .dataframe tbody tr th:only-of-type {\n",
       "        vertical-align: middle;\n",
       "    }\n",
       "\n",
       "    .dataframe tbody tr th {\n",
       "        vertical-align: top;\n",
       "    }\n",
       "\n",
       "    .dataframe thead th {\n",
       "        text-align: right;\n",
       "    }\n",
       "</style>\n",
       "<table border=\"1\" class=\"dataframe\">\n",
       "  <thead>\n",
       "    <tr style=\"text-align: right;\">\n",
       "      <th></th>\n",
       "      <th>status</th>\n",
       "      <th>bed</th>\n",
       "      <th>bath</th>\n",
       "      <th>acre_lot</th>\n",
       "      <th>city</th>\n",
       "      <th>state</th>\n",
       "      <th>zip_code</th>\n",
       "      <th>house_size</th>\n",
       "      <th>price</th>\n",
       "    </tr>\n",
       "  </thead>\n",
       "  <tbody>\n",
       "    <tr>\n",
       "      <th>0</th>\n",
       "      <td>for_sale</td>\n",
       "      <td>3.0</td>\n",
       "      <td>2.487507</td>\n",
       "      <td>16.50</td>\n",
       "      <td>Fitzwilliam</td>\n",
       "      <td>New Hampshire</td>\n",
       "      <td>3447.0</td>\n",
       "      <td>2178.735694</td>\n",
       "      <td>199900.0</td>\n",
       "    </tr>\n",
       "    <tr>\n",
       "      <th>1</th>\n",
       "      <td>for_sale</td>\n",
       "      <td>3.0</td>\n",
       "      <td>2.487507</td>\n",
       "      <td>12.69</td>\n",
       "      <td>Fitzwilliam</td>\n",
       "      <td>New Hampshire</td>\n",
       "      <td>3447.0</td>\n",
       "      <td>2178.735694</td>\n",
       "      <td>150000.0</td>\n",
       "    </tr>\n",
       "    <tr>\n",
       "      <th>2</th>\n",
       "      <td>for_sale</td>\n",
       "      <td>3.0</td>\n",
       "      <td>2.487507</td>\n",
       "      <td>13.93</td>\n",
       "      <td>Fitzwilliam</td>\n",
       "      <td>New Hampshire</td>\n",
       "      <td>3447.0</td>\n",
       "      <td>2178.735694</td>\n",
       "      <td>150000.0</td>\n",
       "    </tr>\n",
       "    <tr>\n",
       "      <th>3</th>\n",
       "      <td>for_sale</td>\n",
       "      <td>3.0</td>\n",
       "      <td>2.487507</td>\n",
       "      <td>12.17</td>\n",
       "      <td>Fitzwilliam</td>\n",
       "      <td>New Hampshire</td>\n",
       "      <td>3447.0</td>\n",
       "      <td>2178.735694</td>\n",
       "      <td>131000.0</td>\n",
       "    </tr>\n",
       "    <tr>\n",
       "      <th>4</th>\n",
       "      <td>for_sale</td>\n",
       "      <td>3.0</td>\n",
       "      <td>2.487507</td>\n",
       "      <td>20.50</td>\n",
       "      <td>Richmond</td>\n",
       "      <td>New Hampshire</td>\n",
       "      <td>3470.0</td>\n",
       "      <td>2178.735694</td>\n",
       "      <td>99900.0</td>\n",
       "    </tr>\n",
       "  </tbody>\n",
       "</table>\n",
       "</div>"
      ]
     },
     "execution_count": 59,
     "metadata": {},
     "output_type": "execute_result"
    }
   ],
   "execution_count": 59
  },
  {
   "cell_type": "code",
   "metadata": {
    "ExecuteTime": {
     "end_time": "2024-04-17T16:33:50.917610Z",
     "start_time": "2024-04-17T16:33:50.911230Z"
    }
   },
   "source": [
    "data_NewHampshire['house_size']= StandardScaler().fit_transform(data_NewHampshire['house_size'].values.reshape(len(data_NewHampshire), 1))\n",
    "price_scaler_NewHampshire= StandardScaler().fit(data_NewHampshire['price'].values.reshape(-1, 1))  # Assign to a variable\n",
    "data_NewHampshire['price']= price_scaler_NewHampshire.transform(data_NewHampshire['price'].values.reshape(-1, 1))\n",
    "data_NewHampshire['bath']= MinMaxScaler().fit_transform(data_NewHampshire['bath'].values.reshape(len(data_NewHampshire), 1))\n",
    "data_NewHampshire['bed']= MinMaxScaler().fit_transform(data_NewHampshire['bed'].values.reshape(len(data_NewHampshire), 1))\n",
    "data_NewHampshire['acre_lot']= MinMaxScaler().fit_transform(data_NewHampshire['acre_lot'].values.reshape(len(data_NewHampshire), 1))"
   ],
   "outputs": [],
   "execution_count": 60
  },
  {
   "cell_type": "code",
   "metadata": {
    "ExecuteTime": {
     "end_time": "2024-04-17T16:33:53.599683Z",
     "start_time": "2024-04-17T16:33:53.592658Z"
    }
   },
   "source": [
    "data_NewHampshire.head()"
   ],
   "outputs": [
    {
     "data": {
      "text/plain": [
       "     status       bed      bath  acre_lot         city          state  \\\n",
       "0  for_sale  0.133333  0.053125  0.027484  Fitzwilliam  New Hampshire   \n",
       "1  for_sale  0.133333  0.053125  0.021134  Fitzwilliam  New Hampshire   \n",
       "2  for_sale  0.133333  0.053125  0.023200  Fitzwilliam  New Hampshire   \n",
       "3  for_sale  0.133333  0.053125  0.020267  Fitzwilliam  New Hampshire   \n",
       "4  for_sale  0.133333  0.053125  0.034151     Richmond  New Hampshire   \n",
       "\n",
       "   zip_code  house_size     price  \n",
       "0    3447.0   -0.038605 -0.372857  \n",
       "1    3447.0   -0.038605 -0.439100  \n",
       "2    3447.0   -0.038605 -0.439100  \n",
       "3    3447.0   -0.038605 -0.464323  \n",
       "4    3470.0   -0.038605 -0.505608  "
      ],
      "text/html": [
       "<div>\n",
       "<style scoped>\n",
       "    .dataframe tbody tr th:only-of-type {\n",
       "        vertical-align: middle;\n",
       "    }\n",
       "\n",
       "    .dataframe tbody tr th {\n",
       "        vertical-align: top;\n",
       "    }\n",
       "\n",
       "    .dataframe thead th {\n",
       "        text-align: right;\n",
       "    }\n",
       "</style>\n",
       "<table border=\"1\" class=\"dataframe\">\n",
       "  <thead>\n",
       "    <tr style=\"text-align: right;\">\n",
       "      <th></th>\n",
       "      <th>status</th>\n",
       "      <th>bed</th>\n",
       "      <th>bath</th>\n",
       "      <th>acre_lot</th>\n",
       "      <th>city</th>\n",
       "      <th>state</th>\n",
       "      <th>zip_code</th>\n",
       "      <th>house_size</th>\n",
       "      <th>price</th>\n",
       "    </tr>\n",
       "  </thead>\n",
       "  <tbody>\n",
       "    <tr>\n",
       "      <th>0</th>\n",
       "      <td>for_sale</td>\n",
       "      <td>0.133333</td>\n",
       "      <td>0.053125</td>\n",
       "      <td>0.027484</td>\n",
       "      <td>Fitzwilliam</td>\n",
       "      <td>New Hampshire</td>\n",
       "      <td>3447.0</td>\n",
       "      <td>-0.038605</td>\n",
       "      <td>-0.372857</td>\n",
       "    </tr>\n",
       "    <tr>\n",
       "      <th>1</th>\n",
       "      <td>for_sale</td>\n",
       "      <td>0.133333</td>\n",
       "      <td>0.053125</td>\n",
       "      <td>0.021134</td>\n",
       "      <td>Fitzwilliam</td>\n",
       "      <td>New Hampshire</td>\n",
       "      <td>3447.0</td>\n",
       "      <td>-0.038605</td>\n",
       "      <td>-0.439100</td>\n",
       "    </tr>\n",
       "    <tr>\n",
       "      <th>2</th>\n",
       "      <td>for_sale</td>\n",
       "      <td>0.133333</td>\n",
       "      <td>0.053125</td>\n",
       "      <td>0.023200</td>\n",
       "      <td>Fitzwilliam</td>\n",
       "      <td>New Hampshire</td>\n",
       "      <td>3447.0</td>\n",
       "      <td>-0.038605</td>\n",
       "      <td>-0.439100</td>\n",
       "    </tr>\n",
       "    <tr>\n",
       "      <th>3</th>\n",
       "      <td>for_sale</td>\n",
       "      <td>0.133333</td>\n",
       "      <td>0.053125</td>\n",
       "      <td>0.020267</td>\n",
       "      <td>Fitzwilliam</td>\n",
       "      <td>New Hampshire</td>\n",
       "      <td>3447.0</td>\n",
       "      <td>-0.038605</td>\n",
       "      <td>-0.464323</td>\n",
       "    </tr>\n",
       "    <tr>\n",
       "      <th>4</th>\n",
       "      <td>for_sale</td>\n",
       "      <td>0.133333</td>\n",
       "      <td>0.053125</td>\n",
       "      <td>0.034151</td>\n",
       "      <td>Richmond</td>\n",
       "      <td>New Hampshire</td>\n",
       "      <td>3470.0</td>\n",
       "      <td>-0.038605</td>\n",
       "      <td>-0.505608</td>\n",
       "    </tr>\n",
       "  </tbody>\n",
       "</table>\n",
       "</div>"
      ]
     },
     "execution_count": 61,
     "metadata": {},
     "output_type": "execute_result"
    }
   ],
   "execution_count": 61
  },
  {
   "cell_type": "code",
   "metadata": {
    "ExecuteTime": {
     "end_time": "2024-04-17T16:33:57.015430Z",
     "start_time": "2024-04-17T16:33:56.281742Z"
    }
   },
   "source": [
    "X= data_NewHampshire[['bed', 'bath', 'acre_lot', 'zip_code', 'house_size', 'city', 'state']]\n",
    "X= pd.get_dummies(X, columns=['city', 'state'])\n",
    "y = data_NewHampshire['price']\n",
    "\n",
    "X_train,X_test, y_train, y_test = train_test_split(X, y, test_size=0.25, random_state=42)\n",
    "model=  LinearRegression()\n",
    "model.fit(X_train, y_train )\n",
    "\n",
    "y_pred= model.predict(X_test)\n",
    "y_pred_reshaped= y_pred.reshape(-1, 1)\n",
    "original_price_predictions= price_scaler_NewHampshire.inverse_transform(y_pred_reshaped)\n",
    "absolute_predictions= np.abs(original_price_predictions)\n",
    "absolute_predictions[60]"
   ],
   "outputs": [
    {
     "data": {
      "text/plain": [
       "array([370801.83748778])"
      ]
     },
     "execution_count": 62,
     "metadata": {},
     "output_type": "execute_result"
    }
   ],
   "execution_count": 62
  },
  {
   "cell_type": "code",
   "metadata": {
    "ExecuteTime": {
     "end_time": "2024-04-17T16:34:00.250118Z",
     "start_time": "2024-04-17T16:34:00.239642Z"
    }
   },
   "source": [
    "mse= mean_squared_error(y_test, y_pred)\n",
    "rmse= np.sqrt(mse)\n",
    "mae= mean_absolute_error(y_test, y_pred)\n",
    "r2= r2_score(y_test, y_pred)\n",
    "\n",
    "print(f'MSE:  {mse}')\n",
    "print(f'RMSE:  {rmse}')\n",
    "print(f'MAE:  {mae}')\n",
    "print(f'R2:  {r2}')"
   ],
   "outputs": [
    {
     "name": "stdout",
     "output_type": "stream",
     "text": [
      "MSE:  0.4915712155163244\n",
      "RMSE:  0.7011213985582841\n",
      "MAE:  0.34476279889725914\n",
      "R2:  0.4653349146290511\n"
     ]
    }
   ],
   "execution_count": 63
  },
  {
   "cell_type": "code",
   "metadata": {
    "ExecuteTime": {
     "end_time": "2024-04-17T16:34:04.602536Z",
     "start_time": "2024-04-17T16:34:04.202611Z"
    }
   },
   "source": [
    "model_tree= DecisionTreeRegressor()\n",
    "model_tree.fit(X_train, y_train )\n",
    "y_pred_tree= model_tree.predict(X_test)\n",
    "\n",
    "mse_tree= mean_squared_error(y_test, y_pred_tree)\n",
    "rmse_tree= np.sqrt(mse_tree)\n",
    "mae_tree= mean_absolute_error(y_test, y_pred_tree)\n",
    "r2_tree= r2_score(y_test, y_pred_tree)\n",
    "\n",
    "print(f'MSE:  {mse_tree}')\n",
    "print(f'RMSE:  {rmse_tree}')\n",
    "print(f'MAE:  {mae_tree}')\n",
    "print(f'R2:  {r2_tree}')"
   ],
   "outputs": [
    {
     "name": "stdout",
     "output_type": "stream",
     "text": [
      "MSE:  0.0027408512353859315\n",
      "RMSE:  0.0523531396898594\n",
      "MAE:  0.0029686574486224105\n",
      "R2:  0.9970188704840712\n"
     ]
    }
   ],
   "execution_count": 64
  },
  {
   "metadata": {
    "ExecuteTime": {
     "end_time": "2024-04-17T16:34:26.560684Z",
     "start_time": "2024-04-17T16:34:26.555930Z"
    }
   },
   "cell_type": "code",
   "source": [
    "joblib.dump(model_tree, '../models/primary/newhampshire_dt.joblib')\n",
    "joblib.dump(model, '../models/primary/newhampshire_lr.joblib')"
   ],
   "outputs": [
    {
     "data": {
      "text/plain": [
       "['../models/primary/newhampshire_lr.joblib']"
      ]
     },
     "execution_count": 65,
     "metadata": {},
     "output_type": "execute_result"
    }
   ],
   "execution_count": 65
  },
  {
   "cell_type": "code",
   "metadata": {
    "ExecuteTime": {
     "end_time": "2024-04-17T16:34:40.213671Z",
     "start_time": "2024-04-17T16:34:40.067232Z"
    }
   },
   "source": [
    "data_NewJersey= pd.read_csv('/Users/akshatsharma/UPES/Sem 6/AI_Applications/Housing-Price/data/interim/New_Jersey.csv')\n",
    "data_NewJersey.head()"
   ],
   "outputs": [
    {
     "data": {
      "text/plain": [
       "     status  bed  bath  acre_lot        city       state  zip_code  \\\n",
       "0  for_sale  3.0   3.0      0.07  Burlington  New Jersey    8016.0   \n",
       "1  for_sale  3.0   3.0      0.07  Burlington  New Jersey    8016.0   \n",
       "2  for_sale  3.0   3.0      0.07  Burlington  New Jersey    8016.0   \n",
       "3  for_sale  3.0   3.0      0.07  Burlington  New Jersey    8016.0   \n",
       "4  for_sale  3.0   3.0      0.07  Burlington  New Jersey    8016.0   \n",
       "\n",
       "   house_size     price  \n",
       "0      1500.0  333490.0  \n",
       "1      1500.0  333490.0  \n",
       "2      1500.0  333490.0  \n",
       "3      1500.0  333490.0  \n",
       "4      1500.0  333490.0  "
      ],
      "text/html": [
       "<div>\n",
       "<style scoped>\n",
       "    .dataframe tbody tr th:only-of-type {\n",
       "        vertical-align: middle;\n",
       "    }\n",
       "\n",
       "    .dataframe tbody tr th {\n",
       "        vertical-align: top;\n",
       "    }\n",
       "\n",
       "    .dataframe thead th {\n",
       "        text-align: right;\n",
       "    }\n",
       "</style>\n",
       "<table border=\"1\" class=\"dataframe\">\n",
       "  <thead>\n",
       "    <tr style=\"text-align: right;\">\n",
       "      <th></th>\n",
       "      <th>status</th>\n",
       "      <th>bed</th>\n",
       "      <th>bath</th>\n",
       "      <th>acre_lot</th>\n",
       "      <th>city</th>\n",
       "      <th>state</th>\n",
       "      <th>zip_code</th>\n",
       "      <th>house_size</th>\n",
       "      <th>price</th>\n",
       "    </tr>\n",
       "  </thead>\n",
       "  <tbody>\n",
       "    <tr>\n",
       "      <th>0</th>\n",
       "      <td>for_sale</td>\n",
       "      <td>3.0</td>\n",
       "      <td>3.0</td>\n",
       "      <td>0.07</td>\n",
       "      <td>Burlington</td>\n",
       "      <td>New Jersey</td>\n",
       "      <td>8016.0</td>\n",
       "      <td>1500.0</td>\n",
       "      <td>333490.0</td>\n",
       "    </tr>\n",
       "    <tr>\n",
       "      <th>1</th>\n",
       "      <td>for_sale</td>\n",
       "      <td>3.0</td>\n",
       "      <td>3.0</td>\n",
       "      <td>0.07</td>\n",
       "      <td>Burlington</td>\n",
       "      <td>New Jersey</td>\n",
       "      <td>8016.0</td>\n",
       "      <td>1500.0</td>\n",
       "      <td>333490.0</td>\n",
       "    </tr>\n",
       "    <tr>\n",
       "      <th>2</th>\n",
       "      <td>for_sale</td>\n",
       "      <td>3.0</td>\n",
       "      <td>3.0</td>\n",
       "      <td>0.07</td>\n",
       "      <td>Burlington</td>\n",
       "      <td>New Jersey</td>\n",
       "      <td>8016.0</td>\n",
       "      <td>1500.0</td>\n",
       "      <td>333490.0</td>\n",
       "    </tr>\n",
       "    <tr>\n",
       "      <th>3</th>\n",
       "      <td>for_sale</td>\n",
       "      <td>3.0</td>\n",
       "      <td>3.0</td>\n",
       "      <td>0.07</td>\n",
       "      <td>Burlington</td>\n",
       "      <td>New Jersey</td>\n",
       "      <td>8016.0</td>\n",
       "      <td>1500.0</td>\n",
       "      <td>333490.0</td>\n",
       "    </tr>\n",
       "    <tr>\n",
       "      <th>4</th>\n",
       "      <td>for_sale</td>\n",
       "      <td>3.0</td>\n",
       "      <td>3.0</td>\n",
       "      <td>0.07</td>\n",
       "      <td>Burlington</td>\n",
       "      <td>New Jersey</td>\n",
       "      <td>8016.0</td>\n",
       "      <td>1500.0</td>\n",
       "      <td>333490.0</td>\n",
       "    </tr>\n",
       "  </tbody>\n",
       "</table>\n",
       "</div>"
      ]
     },
     "execution_count": 66,
     "metadata": {},
     "output_type": "execute_result"
    }
   ],
   "execution_count": 66
  },
  {
   "cell_type": "code",
   "metadata": {
    "ExecuteTime": {
     "end_time": "2024-04-17T16:34:48.529072Z",
     "start_time": "2024-04-17T16:34:48.514183Z"
    }
   },
   "source": [
    "data_NewJersey['house_size']= StandardScaler().fit_transform(data_NewJersey['house_size'].values.reshape(len(data_NewJersey), 1))\n",
    "price_scaler_NewJersey= StandardScaler().fit(data_NewJersey['price'].values.reshape(-1, 1))  # Assign to a variable\n",
    "data_NewJersey['price']= price_scaler_NewJersey.transform(data_NewJersey['price'].values.reshape(-1, 1))\n",
    "data_NewJersey['bath']= MinMaxScaler().fit_transform(data_NewJersey['bath'].values.reshape(len(data_NewJersey), 1))\n",
    "data_NewJersey['bed']= MinMaxScaler().fit_transform(data_NewJersey['bed'].values.reshape(len(data_NewJersey), 1))\n",
    "data_NewJersey['acre_lot']= MinMaxScaler().fit_transform(data_NewJersey['acre_lot'].values.reshape(len(data_NewJersey), 1))\n",
    "data_NewJersey.head()"
   ],
   "outputs": [
    {
     "data": {
      "text/plain": [
       "     status       bed      bath      acre_lot        city       state  \\\n",
       "0  for_sale  0.043478  0.052632  7.000000e-07  Burlington  New Jersey   \n",
       "1  for_sale  0.043478  0.052632  7.000000e-07  Burlington  New Jersey   \n",
       "2  for_sale  0.043478  0.052632  7.000000e-07  Burlington  New Jersey   \n",
       "3  for_sale  0.043478  0.052632  7.000000e-07  Burlington  New Jersey   \n",
       "4  for_sale  0.043478  0.052632  7.000000e-07  Burlington  New Jersey   \n",
       "\n",
       "   zip_code  house_size     price  \n",
       "0    8016.0   -0.303212 -0.356667  \n",
       "1    8016.0   -0.303212 -0.356667  \n",
       "2    8016.0   -0.303212 -0.356667  \n",
       "3    8016.0   -0.303212 -0.356667  \n",
       "4    8016.0   -0.303212 -0.356667  "
      ],
      "text/html": [
       "<div>\n",
       "<style scoped>\n",
       "    .dataframe tbody tr th:only-of-type {\n",
       "        vertical-align: middle;\n",
       "    }\n",
       "\n",
       "    .dataframe tbody tr th {\n",
       "        vertical-align: top;\n",
       "    }\n",
       "\n",
       "    .dataframe thead th {\n",
       "        text-align: right;\n",
       "    }\n",
       "</style>\n",
       "<table border=\"1\" class=\"dataframe\">\n",
       "  <thead>\n",
       "    <tr style=\"text-align: right;\">\n",
       "      <th></th>\n",
       "      <th>status</th>\n",
       "      <th>bed</th>\n",
       "      <th>bath</th>\n",
       "      <th>acre_lot</th>\n",
       "      <th>city</th>\n",
       "      <th>state</th>\n",
       "      <th>zip_code</th>\n",
       "      <th>house_size</th>\n",
       "      <th>price</th>\n",
       "    </tr>\n",
       "  </thead>\n",
       "  <tbody>\n",
       "    <tr>\n",
       "      <th>0</th>\n",
       "      <td>for_sale</td>\n",
       "      <td>0.043478</td>\n",
       "      <td>0.052632</td>\n",
       "      <td>7.000000e-07</td>\n",
       "      <td>Burlington</td>\n",
       "      <td>New Jersey</td>\n",
       "      <td>8016.0</td>\n",
       "      <td>-0.303212</td>\n",
       "      <td>-0.356667</td>\n",
       "    </tr>\n",
       "    <tr>\n",
       "      <th>1</th>\n",
       "      <td>for_sale</td>\n",
       "      <td>0.043478</td>\n",
       "      <td>0.052632</td>\n",
       "      <td>7.000000e-07</td>\n",
       "      <td>Burlington</td>\n",
       "      <td>New Jersey</td>\n",
       "      <td>8016.0</td>\n",
       "      <td>-0.303212</td>\n",
       "      <td>-0.356667</td>\n",
       "    </tr>\n",
       "    <tr>\n",
       "      <th>2</th>\n",
       "      <td>for_sale</td>\n",
       "      <td>0.043478</td>\n",
       "      <td>0.052632</td>\n",
       "      <td>7.000000e-07</td>\n",
       "      <td>Burlington</td>\n",
       "      <td>New Jersey</td>\n",
       "      <td>8016.0</td>\n",
       "      <td>-0.303212</td>\n",
       "      <td>-0.356667</td>\n",
       "    </tr>\n",
       "    <tr>\n",
       "      <th>3</th>\n",
       "      <td>for_sale</td>\n",
       "      <td>0.043478</td>\n",
       "      <td>0.052632</td>\n",
       "      <td>7.000000e-07</td>\n",
       "      <td>Burlington</td>\n",
       "      <td>New Jersey</td>\n",
       "      <td>8016.0</td>\n",
       "      <td>-0.303212</td>\n",
       "      <td>-0.356667</td>\n",
       "    </tr>\n",
       "    <tr>\n",
       "      <th>4</th>\n",
       "      <td>for_sale</td>\n",
       "      <td>0.043478</td>\n",
       "      <td>0.052632</td>\n",
       "      <td>7.000000e-07</td>\n",
       "      <td>Burlington</td>\n",
       "      <td>New Jersey</td>\n",
       "      <td>8016.0</td>\n",
       "      <td>-0.303212</td>\n",
       "      <td>-0.356667</td>\n",
       "    </tr>\n",
       "  </tbody>\n",
       "</table>\n",
       "</div>"
      ]
     },
     "execution_count": 67,
     "metadata": {},
     "output_type": "execute_result"
    }
   ],
   "execution_count": 67
  },
  {
   "cell_type": "code",
   "metadata": {
    "ExecuteTime": {
     "end_time": "2024-04-17T16:35:03.813885Z",
     "start_time": "2024-04-17T16:34:53.639107Z"
    }
   },
   "source": [
    "X= data_NewJersey[['bed', 'bath', 'acre_lot', 'zip_code', 'house_size', 'city', 'state']]\n",
    "X= pd.get_dummies(X, columns=['city', 'state'])\n",
    "y = data_NewJersey['price']\n",
    "\n",
    "X_train,X_test, y_train, y_test = train_test_split(X, y, test_size=0.25, random_state=42)\n",
    "model=  LinearRegression()\n",
    "model.fit(X_train, y_train )\n",
    "\n",
    "y_pred= model.predict(X_test)\n",
    "y_pred_reshaped= y_pred.reshape(-1, 1)\n",
    "original_price_predictions= price_scaler_NewJersey.inverse_transform(y_pred_reshaped)\n",
    "absolute_predictions= np.abs(original_price_predictions)\n",
    "absolute_predictions[71]\n"
   ],
   "outputs": [
    {
     "data": {
      "text/plain": [
       "array([615995.07912463])"
      ]
     },
     "execution_count": 68,
     "metadata": {},
     "output_type": "execute_result"
    }
   ],
   "execution_count": 68
  },
  {
   "cell_type": "code",
   "metadata": {
    "ExecuteTime": {
     "end_time": "2024-04-17T16:35:28.135326Z",
     "start_time": "2024-04-17T16:35:28.129685Z"
    }
   },
   "source": [
    "mse= mean_squared_error(y_test, y_pred)\n",
    "rmse= np.sqrt(mse)\n",
    "mae= mean_absolute_error(y_test, y_pred)\n",
    "r2= r2_score(y_test, y_pred)\n",
    "\n",
    "print(f'MSE:  {mse}')\n",
    "print(f'RMSE:  {rmse}')\n",
    "print(f'MAE:  {mae}')\n",
    "print(f'R2:  {r2}')"
   ],
   "outputs": [
    {
     "name": "stdout",
     "output_type": "stream",
     "text": [
      "MSE:  0.39898217122669766\n",
      "RMSE:  0.6316503552019089\n",
      "MAE:  0.29270076559641967\n",
      "R2:  0.5643052663022174\n"
     ]
    }
   ],
   "execution_count": 69
  },
  {
   "cell_type": "code",
   "metadata": {
    "ExecuteTime": {
     "end_time": "2024-04-17T16:35:37.597546Z",
     "start_time": "2024-04-17T16:35:31.515168Z"
    }
   },
   "source": [
    "model_tree= DecisionTreeRegressor()\n",
    "model_tree.fit(X_train, y_train )\n",
    "y_pred_tree= model_tree.predict(X_test)\n",
    "\n",
    "mse_tree= mean_squared_error(y_test, y_pred_tree)\n",
    "rmse_tree= np.sqrt(mse_tree)\n",
    "mae_tree= mean_absolute_error(y_test, y_pred_tree)\n",
    "r2_tree= r2_score(y_test, y_pred_tree)\n",
    "\n",
    "print(f'MSE:  {mse_tree}')\n",
    "print(f'RMSE:  {rmse_tree}')\n",
    "print(f'MAE:  {mae_tree}')\n",
    "print(f'R2:  {r2_tree}')"
   ],
   "outputs": [
    {
     "name": "stdout",
     "output_type": "stream",
     "text": [
      "MSE:  0.034119212335853924\n",
      "RMSE:  0.18471386611690505\n",
      "MAE:  0.029917910851837645\n",
      "R2:  0.962741289699881\n"
     ]
    }
   ],
   "execution_count": 70
  },
  {
   "metadata": {
    "ExecuteTime": {
     "end_time": "2024-04-17T16:36:04.742987Z",
     "start_time": "2024-04-17T16:36:04.736713Z"
    }
   },
   "cell_type": "code",
   "source": [
    "joblib.dump(model_tree, '../models/primary/newjersey_dt.joblib')\n",
    "joblib.dump(model, '../models/primary/newjersey_lr.joblib')"
   ],
   "outputs": [
    {
     "data": {
      "text/plain": [
       "['../models/primary/newjersey_lr.joblib']"
      ]
     },
     "execution_count": 71,
     "metadata": {},
     "output_type": "execute_result"
    }
   ],
   "execution_count": 71
  },
  {
   "cell_type": "code",
   "metadata": {
    "ExecuteTime": {
     "end_time": "2024-04-17T16:46:04.161365Z",
     "start_time": "2024-04-17T16:46:03.822913Z"
    }
   },
   "source": [
    "data_NewYork= pd.read_csv('/Users/akshatsharma/UPES/Sem 6/AI_Applications/Housing-Price/data/interim/New_York.csv')\n",
    "data_NewYork.head()"
   ],
   "outputs": [
    {
     "data": {
      "text/plain": [
       "     status  bed  bath  acre_lot       city     state  zip_code  house_size  \\\n",
       "0  for_sale  3.0   1.0     60.00     Berlin  New York   12022.0      1176.0   \n",
       "1  for_sale  3.0   2.0      2.02  Claverack  New York   12521.0      1600.0   \n",
       "2  for_sale  4.0   2.0      0.24     Copake  New York   12521.0      1239.0   \n",
       "3  for_sale  3.0   3.0      1.90     Copake  New York   12516.0      1800.0   \n",
       "4  for_sale  3.0   2.0      2.00     Copake  New York   12517.0      1482.0   \n",
       "\n",
       "      price  \n",
       "0  175000.0  \n",
       "1  425000.0  \n",
       "2  225000.0  \n",
       "3  419000.0  \n",
       "4  365000.0  "
      ],
      "text/html": [
       "<div>\n",
       "<style scoped>\n",
       "    .dataframe tbody tr th:only-of-type {\n",
       "        vertical-align: middle;\n",
       "    }\n",
       "\n",
       "    .dataframe tbody tr th {\n",
       "        vertical-align: top;\n",
       "    }\n",
       "\n",
       "    .dataframe thead th {\n",
       "        text-align: right;\n",
       "    }\n",
       "</style>\n",
       "<table border=\"1\" class=\"dataframe\">\n",
       "  <thead>\n",
       "    <tr style=\"text-align: right;\">\n",
       "      <th></th>\n",
       "      <th>status</th>\n",
       "      <th>bed</th>\n",
       "      <th>bath</th>\n",
       "      <th>acre_lot</th>\n",
       "      <th>city</th>\n",
       "      <th>state</th>\n",
       "      <th>zip_code</th>\n",
       "      <th>house_size</th>\n",
       "      <th>price</th>\n",
       "    </tr>\n",
       "  </thead>\n",
       "  <tbody>\n",
       "    <tr>\n",
       "      <th>0</th>\n",
       "      <td>for_sale</td>\n",
       "      <td>3.0</td>\n",
       "      <td>1.0</td>\n",
       "      <td>60.00</td>\n",
       "      <td>Berlin</td>\n",
       "      <td>New York</td>\n",
       "      <td>12022.0</td>\n",
       "      <td>1176.0</td>\n",
       "      <td>175000.0</td>\n",
       "    </tr>\n",
       "    <tr>\n",
       "      <th>1</th>\n",
       "      <td>for_sale</td>\n",
       "      <td>3.0</td>\n",
       "      <td>2.0</td>\n",
       "      <td>2.02</td>\n",
       "      <td>Claverack</td>\n",
       "      <td>New York</td>\n",
       "      <td>12521.0</td>\n",
       "      <td>1600.0</td>\n",
       "      <td>425000.0</td>\n",
       "    </tr>\n",
       "    <tr>\n",
       "      <th>2</th>\n",
       "      <td>for_sale</td>\n",
       "      <td>4.0</td>\n",
       "      <td>2.0</td>\n",
       "      <td>0.24</td>\n",
       "      <td>Copake</td>\n",
       "      <td>New York</td>\n",
       "      <td>12521.0</td>\n",
       "      <td>1239.0</td>\n",
       "      <td>225000.0</td>\n",
       "    </tr>\n",
       "    <tr>\n",
       "      <th>3</th>\n",
       "      <td>for_sale</td>\n",
       "      <td>3.0</td>\n",
       "      <td>3.0</td>\n",
       "      <td>1.90</td>\n",
       "      <td>Copake</td>\n",
       "      <td>New York</td>\n",
       "      <td>12516.0</td>\n",
       "      <td>1800.0</td>\n",
       "      <td>419000.0</td>\n",
       "    </tr>\n",
       "    <tr>\n",
       "      <th>4</th>\n",
       "      <td>for_sale</td>\n",
       "      <td>3.0</td>\n",
       "      <td>2.0</td>\n",
       "      <td>2.00</td>\n",
       "      <td>Copake</td>\n",
       "      <td>New York</td>\n",
       "      <td>12517.0</td>\n",
       "      <td>1482.0</td>\n",
       "      <td>365000.0</td>\n",
       "    </tr>\n",
       "  </tbody>\n",
       "</table>\n",
       "</div>"
      ]
     },
     "execution_count": 109,
     "metadata": {},
     "output_type": "execute_result"
    }
   ],
   "execution_count": 109
  },
  {
   "cell_type": "code",
   "metadata": {
    "ExecuteTime": {
     "end_time": "2024-04-17T16:46:06.405418Z",
     "start_time": "2024-04-17T16:46:06.387002Z"
    }
   },
   "source": [
    "data_NewYork['house_size']= StandardScaler().fit_transform(data_NewYork['house_size'].values.reshape(len(data_NewYork), 1))\n",
    "price_scaler_NewYork= StandardScaler().fit(data_NewYork['price'].values.reshape(-1, 1))\n",
    "data_NewYork['price']= price_scaler_NewYork.transform(data_NewYork['price'].values.reshape(-1, 1))\n",
    "data_NewYork['bath']= MinMaxScaler().fit_transform(data_NewYork['bath'].values.reshape(len(data_NewYork), 1))\n",
    "data_NewYork['bed']= MinMaxScaler().fit_transform(data_NewYork['bed'].values.reshape(len(data_NewYork), 1))\n",
    "data_NewYork['acre_lot']= MinMaxScaler().fit_transform(data_NewYork['acre_lot'].values.reshape(len(data_NewYork), 1))\n"
   ],
   "outputs": [],
   "execution_count": 110
  },
  {
   "cell_type": "code",
   "metadata": {
    "ExecuteTime": {
     "end_time": "2024-04-17T16:47:07.628379Z",
     "start_time": "2024-04-17T16:46:08.683317Z"
    }
   },
   "source": [
    "X= data_NewYork[['bed', 'bath', 'acre_lot', 'zip_code', 'house_size', 'city', 'state']]\n",
    "X= pd.get_dummies(X, columns=['city', 'state'])\n",
    "y = data_NewYork['price']\n",
    "\n",
    "X_train,X_test, y_train, y_test = train_test_split(X, y, test_size=0.25, random_state=42)\n",
    "model=  LinearRegression()\n",
    "model.fit(X_train, y_train )\n",
    "\n",
    "y_pred= model.predict(X_test)\n",
    "y_pred_reshaped= y_pred.reshape(-1, 1)\n",
    "original_price_predictions= price_scaler_NewYork.inverse_transform(y_pred_reshaped)\n",
    "absolute_predictions= np.abs(original_price_predictions)\n",
    "absolute_predictions[89]"
   ],
   "outputs": [
    {
     "data": {
      "text/plain": [
       "array([134773.90504416])"
      ]
     },
     "execution_count": 111,
     "metadata": {},
     "output_type": "execute_result"
    }
   ],
   "execution_count": 111
  },
  {
   "cell_type": "code",
   "metadata": {
    "ExecuteTime": {
     "end_time": "2024-04-17T16:47:24.683646Z",
     "start_time": "2024-04-17T16:47:24.674577Z"
    }
   },
   "source": [
    "mse= mean_squared_error(y_test, y_pred)\n",
    "rmse= np.sqrt(mse)\n",
    "mae= mean_absolute_error(y_test, y_pred)\n",
    "r2= r2_score(y_test, y_pred)\n",
    "\n",
    "print(f'MSE:  {mse}')\n",
    "print(f'RMSE:  {rmse}')\n",
    "print(f'MAE:  {mae}')\n",
    "print(f'R2:  {r2}')"
   ],
   "outputs": [
    {
     "name": "stdout",
     "output_type": "stream",
     "text": [
      "MSE:  0.2478637724410383\n",
      "RMSE:  0.4978591893708886\n",
      "MAE:  0.19407176876044474\n",
      "R2:  0.3711574299789214\n"
     ]
    }
   ],
   "execution_count": 112
  },
  {
   "cell_type": "code",
   "metadata": {
    "ExecuteTime": {
     "end_time": "2024-04-17T16:47:44.500009Z",
     "start_time": "2024-04-17T16:47:27.147834Z"
    }
   },
   "source": [
    "model_tree= DecisionTreeRegressor()\n",
    "model_tree.fit(X_train, y_train )\n",
    "y_pred_tree= model_tree.predict(X_test)\n",
    "\n",
    "mse_tree= mean_squared_error(y_test, y_pred_tree)\n",
    "rmse_tree= np.sqrt(mse_tree)\n",
    "mae_tree= mean_absolute_error(y_test, y_pred_tree)\n",
    "r2_tree= r2_score(y_test, y_pred_tree)\n",
    "\n",
    "print(f'MSE:  {mse_tree}')\n",
    "print(f'RMSE:  {rmse_tree}')\n",
    "print(f'MAE:  {mae_tree}')\n",
    "print(f'R2:  {r2_tree}')"
   ],
   "outputs": [
    {
     "name": "stdout",
     "output_type": "stream",
     "text": [
      "MSE:  0.024721734575064457\n",
      "RMSE:  0.15723146814510275\n",
      "MAE:  0.012466552400701592\n",
      "R2:  0.9372797446256065\n"
     ]
    }
   ],
   "execution_count": 113
  },
  {
   "metadata": {
    "ExecuteTime": {
     "end_time": "2024-04-17T16:48:10.784050Z",
     "start_time": "2024-04-17T16:48:10.776949Z"
    }
   },
   "cell_type": "code",
   "source": [
    "joblib.dump(model_tree, '../models/primary/newyork_dt.joblib')\n",
    "joblib.dump(model, '../models/primary/newyork_lr.joblib')"
   ],
   "outputs": [
    {
     "data": {
      "text/plain": [
       "['../models/primary/newyork_lr.joblib']"
      ]
     },
     "execution_count": 114,
     "metadata": {},
     "output_type": "execute_result"
    }
   ],
   "execution_count": 114
  },
  {
   "cell_type": "code",
   "metadata": {
    "ExecuteTime": {
     "end_time": "2024-04-17T16:40:22.549471Z",
     "start_time": "2024-04-17T16:40:22.528742Z"
    }
   },
   "source": [
    "data_Pennsylvania= pd.read_csv('/Users/akshatsharma/UPES/Sem 6/AI_Applications/Housing-Price/data/interim/Pennsylvania.csv')\n",
    "data_Pennsylvania.head()"
   ],
   "outputs": [
    {
     "data": {
      "text/plain": [
       "     status  bed  bath   acre_lot            city         state  zip_code  \\\n",
       "0  for_sale  5.0   5.0   0.920000  Newtown Square  Pennsylvania   19073.0   \n",
       "1  for_sale  5.0   5.0   0.920000  Newtown Square  Pennsylvania   19073.0   \n",
       "2  for_sale  5.0   5.0  32.156834  Newtown Square  Pennsylvania   19073.0   \n",
       "3  for_sale  5.0   5.0   0.920000  Newtown Square  Pennsylvania   19073.0   \n",
       "4  for_sale  5.0   5.0   0.920000  Newtown Square  Pennsylvania   19073.0   \n",
       "\n",
       "    house_size      price  \n",
       "0  4953.000000  1470000.0  \n",
       "1  4953.000000  1445000.0  \n",
       "2  2178.735694  1445000.0  \n",
       "3  4953.000000  1420000.0  \n",
       "4  4953.000000  1445000.0  "
      ],
      "text/html": [
       "<div>\n",
       "<style scoped>\n",
       "    .dataframe tbody tr th:only-of-type {\n",
       "        vertical-align: middle;\n",
       "    }\n",
       "\n",
       "    .dataframe tbody tr th {\n",
       "        vertical-align: top;\n",
       "    }\n",
       "\n",
       "    .dataframe thead th {\n",
       "        text-align: right;\n",
       "    }\n",
       "</style>\n",
       "<table border=\"1\" class=\"dataframe\">\n",
       "  <thead>\n",
       "    <tr style=\"text-align: right;\">\n",
       "      <th></th>\n",
       "      <th>status</th>\n",
       "      <th>bed</th>\n",
       "      <th>bath</th>\n",
       "      <th>acre_lot</th>\n",
       "      <th>city</th>\n",
       "      <th>state</th>\n",
       "      <th>zip_code</th>\n",
       "      <th>house_size</th>\n",
       "      <th>price</th>\n",
       "    </tr>\n",
       "  </thead>\n",
       "  <tbody>\n",
       "    <tr>\n",
       "      <th>0</th>\n",
       "      <td>for_sale</td>\n",
       "      <td>5.0</td>\n",
       "      <td>5.0</td>\n",
       "      <td>0.920000</td>\n",
       "      <td>Newtown Square</td>\n",
       "      <td>Pennsylvania</td>\n",
       "      <td>19073.0</td>\n",
       "      <td>4953.000000</td>\n",
       "      <td>1470000.0</td>\n",
       "    </tr>\n",
       "    <tr>\n",
       "      <th>1</th>\n",
       "      <td>for_sale</td>\n",
       "      <td>5.0</td>\n",
       "      <td>5.0</td>\n",
       "      <td>0.920000</td>\n",
       "      <td>Newtown Square</td>\n",
       "      <td>Pennsylvania</td>\n",
       "      <td>19073.0</td>\n",
       "      <td>4953.000000</td>\n",
       "      <td>1445000.0</td>\n",
       "    </tr>\n",
       "    <tr>\n",
       "      <th>2</th>\n",
       "      <td>for_sale</td>\n",
       "      <td>5.0</td>\n",
       "      <td>5.0</td>\n",
       "      <td>32.156834</td>\n",
       "      <td>Newtown Square</td>\n",
       "      <td>Pennsylvania</td>\n",
       "      <td>19073.0</td>\n",
       "      <td>2178.735694</td>\n",
       "      <td>1445000.0</td>\n",
       "    </tr>\n",
       "    <tr>\n",
       "      <th>3</th>\n",
       "      <td>for_sale</td>\n",
       "      <td>5.0</td>\n",
       "      <td>5.0</td>\n",
       "      <td>0.920000</td>\n",
       "      <td>Newtown Square</td>\n",
       "      <td>Pennsylvania</td>\n",
       "      <td>19073.0</td>\n",
       "      <td>4953.000000</td>\n",
       "      <td>1420000.0</td>\n",
       "    </tr>\n",
       "    <tr>\n",
       "      <th>4</th>\n",
       "      <td>for_sale</td>\n",
       "      <td>5.0</td>\n",
       "      <td>5.0</td>\n",
       "      <td>0.920000</td>\n",
       "      <td>Newtown Square</td>\n",
       "      <td>Pennsylvania</td>\n",
       "      <td>19073.0</td>\n",
       "      <td>4953.000000</td>\n",
       "      <td>1445000.0</td>\n",
       "    </tr>\n",
       "  </tbody>\n",
       "</table>\n",
       "</div>"
      ]
     },
     "execution_count": 77,
     "metadata": {},
     "output_type": "execute_result"
    }
   ],
   "execution_count": 77
  },
  {
   "cell_type": "code",
   "metadata": {
    "ExecuteTime": {
     "end_time": "2024-04-17T16:40:26.106708Z",
     "start_time": "2024-04-17T16:40:26.100310Z"
    }
   },
   "source": [
    "data_Pennsylvania['house_size']= StandardScaler().fit_transform(data_Pennsylvania['house_size'].values.reshape(len(data_Pennsylvania), 1))\n",
    "price_scaler_Pennsylvania= StandardScaler().fit(data_Pennsylvania['price'].values.reshape(-1, 1))\n",
    "data_Pennsylvania['price']= price_scaler_Pennsylvania.transform(data_Pennsylvania['price'].values.reshape(-1, 1))\n",
    "data_Pennsylvania['bath']= MinMaxScaler().fit_transform(data_Pennsylvania['bath'].values.reshape(len(data_Pennsylvania), 1))\n",
    "data_Pennsylvania['bed']= MinMaxScaler().fit_transform(data_Pennsylvania['bed'].values.reshape(len(data_Pennsylvania), 1))\n",
    "data_Pennsylvania['acre_lot']= MinMaxScaler().fit_transform(data_Pennsylvania['acre_lot'].values.reshape(len(data_Pennsylvania), 1))"
   ],
   "outputs": [],
   "execution_count": 78
  },
  {
   "cell_type": "code",
   "metadata": {
    "ExecuteTime": {
     "end_time": "2024-04-17T16:40:29.133081Z",
     "start_time": "2024-04-17T16:40:28.087956Z"
    }
   },
   "source": [
    "X= data_Pennsylvania[['bed', 'bath', 'acre_lot', 'zip_code', 'house_size', 'city', 'state']]\n",
    "X= pd.get_dummies(X, columns=['city', 'state'])\n",
    "y = data_Pennsylvania['price']\n",
    "\n",
    "X_train,X_test, y_train, y_test = train_test_split(X, y, test_size=0.25, random_state=42)\n",
    "model=  LinearRegression()\n",
    "\n",
    "model.fit(X_train, y_train )\n",
    "\n",
    "y_pred= model.predict(X_test)\n",
    "y_pred_reshaped= y_pred.reshape(-1, 1)\n",
    "original_price_predictions= price_scaler_Pennsylvania.inverse_transform(y_pred_reshaped)\n",
    "absolute_predictions= np.abs(original_price_predictions)\n",
    "absolute_predictions[680]"
   ],
   "outputs": [
    {
     "data": {
      "text/plain": [
       "array([1228640.11109349])"
      ]
     },
     "execution_count": 79,
     "metadata": {},
     "output_type": "execute_result"
    }
   ],
   "execution_count": 79
  },
  {
   "cell_type": "code",
   "metadata": {
    "ExecuteTime": {
     "end_time": "2024-04-17T16:40:31.423981Z",
     "start_time": "2024-04-17T16:40:31.419739Z"
    }
   },
   "source": [
    "mse= mean_squared_error(y_test, y_pred)  # seems to be a problem with the prediction\n",
    "rmse= np.sqrt(mse)\n",
    "mae= mean_absolute_error(y_test, y_pred)\n",
    "r2= r2_score(y_test, y_pred)\n",
    "\n",
    "print(f'MSE:  {mse}')\n",
    "print(f'RMSE:  {rmse}')\n",
    "print(f'MAE:  {mae}')\n",
    "print(f'R2:  {r2}')"
   ],
   "outputs": [
    {
     "name": "stdout",
     "output_type": "stream",
     "text": [
      "MSE:  98211572501914.23\n",
      "RMSE:  9910175.200364232\n",
      "MAE:  369840.4316585278\n",
      "R2:  -133296773768215.11\n"
     ]
    }
   ],
   "execution_count": 80
  },
  {
   "cell_type": "code",
   "metadata": {
    "ExecuteTime": {
     "end_time": "2024-04-17T16:40:34.062441Z",
     "start_time": "2024-04-17T16:40:33.950064Z"
    }
   },
   "source": [
    "model_tree= DecisionTreeRegressor()\n",
    "model_tree.fit(X_train, y_train )\n",
    "y_pred_tree= model_tree.predict(X_test)\n",
    "\n",
    "mse_tree= mean_squared_error(y_test, y_pred_tree)\n",
    "rmse_tree= np.sqrt(mse_tree)\n",
    "mae_tree= mean_absolute_error(y_test, y_pred_tree)\n",
    "r2_tree= r2_score(y_test, y_pred_tree)\n",
    "\n",
    "print(f'MSE:  {mse_tree}')\n",
    "print(f'RMSE:  {rmse_tree}')\n",
    "print(f'MAE:  {mae_tree}')\n",
    "print(f'R2:  {r2_tree}')"
   ],
   "outputs": [
    {
     "name": "stdout",
     "output_type": "stream",
     "text": [
      "MSE:  0.16518868000233652\n",
      "RMSE:  0.4064341029027172\n",
      "MAE:  0.06735857535885445\n",
      "R2:  0.775799149261025\n"
     ]
    }
   ],
   "execution_count": 81
  },
  {
   "metadata": {
    "ExecuteTime": {
     "end_time": "2024-04-17T16:41:35.893072Z",
     "start_time": "2024-04-17T16:41:35.887243Z"
    }
   },
   "cell_type": "code",
   "source": [
    "joblib.dump(model_tree, '../models/primary/pennsylvania_dt.joblib')\n",
    "joblib.dump(model, '../models/primary/pennsylvania_lr.joblib')"
   ],
   "outputs": [
    {
     "data": {
      "text/plain": [
       "['../models/primary/pennsylvania_lr.joblib']"
      ]
     },
     "execution_count": 82,
     "metadata": {},
     "output_type": "execute_result"
    }
   ],
   "execution_count": 82
  },
  {
   "cell_type": "code",
   "metadata": {
    "ExecuteTime": {
     "end_time": "2024-04-17T16:41:55.710345Z",
     "start_time": "2024-04-17T16:41:55.687929Z"
    }
   },
   "source": [
    "data_PuertoRico= pd.read_csv('/Users/akshatsharma/UPES/Sem 6/AI_Applications/Housing-Price/data/interim/Puerto_Rico.csv')\n",
    "data_PuertoRico.head()"
   ],
   "outputs": [
    {
     "data": {
      "text/plain": [
       "     status  bed  bath  acre_lot        city        state  zip_code  \\\n",
       "0  for_sale  3.0   2.0      0.12    Adjuntas  Puerto Rico     601.0   \n",
       "1  for_sale  4.0   2.0      0.08    Adjuntas  Puerto Rico     601.0   \n",
       "2  for_sale  2.0   1.0      0.15  Juana Diaz  Puerto Rico     795.0   \n",
       "3  for_sale  4.0   2.0      0.10       Ponce  Puerto Rico     731.0   \n",
       "4  for_sale  6.0   2.0      0.05    Mayaguez  Puerto Rico     680.0   \n",
       "\n",
       "    house_size     price  \n",
       "0   920.000000  105000.0  \n",
       "1  1527.000000   80000.0  \n",
       "2   748.000000   67000.0  \n",
       "3  1800.000000  145000.0  \n",
       "4  2178.735694   65000.0  "
      ],
      "text/html": [
       "<div>\n",
       "<style scoped>\n",
       "    .dataframe tbody tr th:only-of-type {\n",
       "        vertical-align: middle;\n",
       "    }\n",
       "\n",
       "    .dataframe tbody tr th {\n",
       "        vertical-align: top;\n",
       "    }\n",
       "\n",
       "    .dataframe thead th {\n",
       "        text-align: right;\n",
       "    }\n",
       "</style>\n",
       "<table border=\"1\" class=\"dataframe\">\n",
       "  <thead>\n",
       "    <tr style=\"text-align: right;\">\n",
       "      <th></th>\n",
       "      <th>status</th>\n",
       "      <th>bed</th>\n",
       "      <th>bath</th>\n",
       "      <th>acre_lot</th>\n",
       "      <th>city</th>\n",
       "      <th>state</th>\n",
       "      <th>zip_code</th>\n",
       "      <th>house_size</th>\n",
       "      <th>price</th>\n",
       "    </tr>\n",
       "  </thead>\n",
       "  <tbody>\n",
       "    <tr>\n",
       "      <th>0</th>\n",
       "      <td>for_sale</td>\n",
       "      <td>3.0</td>\n",
       "      <td>2.0</td>\n",
       "      <td>0.12</td>\n",
       "      <td>Adjuntas</td>\n",
       "      <td>Puerto Rico</td>\n",
       "      <td>601.0</td>\n",
       "      <td>920.000000</td>\n",
       "      <td>105000.0</td>\n",
       "    </tr>\n",
       "    <tr>\n",
       "      <th>1</th>\n",
       "      <td>for_sale</td>\n",
       "      <td>4.0</td>\n",
       "      <td>2.0</td>\n",
       "      <td>0.08</td>\n",
       "      <td>Adjuntas</td>\n",
       "      <td>Puerto Rico</td>\n",
       "      <td>601.0</td>\n",
       "      <td>1527.000000</td>\n",
       "      <td>80000.0</td>\n",
       "    </tr>\n",
       "    <tr>\n",
       "      <th>2</th>\n",
       "      <td>for_sale</td>\n",
       "      <td>2.0</td>\n",
       "      <td>1.0</td>\n",
       "      <td>0.15</td>\n",
       "      <td>Juana Diaz</td>\n",
       "      <td>Puerto Rico</td>\n",
       "      <td>795.0</td>\n",
       "      <td>748.000000</td>\n",
       "      <td>67000.0</td>\n",
       "    </tr>\n",
       "    <tr>\n",
       "      <th>3</th>\n",
       "      <td>for_sale</td>\n",
       "      <td>4.0</td>\n",
       "      <td>2.0</td>\n",
       "      <td>0.10</td>\n",
       "      <td>Ponce</td>\n",
       "      <td>Puerto Rico</td>\n",
       "      <td>731.0</td>\n",
       "      <td>1800.000000</td>\n",
       "      <td>145000.0</td>\n",
       "    </tr>\n",
       "    <tr>\n",
       "      <th>4</th>\n",
       "      <td>for_sale</td>\n",
       "      <td>6.0</td>\n",
       "      <td>2.0</td>\n",
       "      <td>0.05</td>\n",
       "      <td>Mayaguez</td>\n",
       "      <td>Puerto Rico</td>\n",
       "      <td>680.0</td>\n",
       "      <td>2178.735694</td>\n",
       "      <td>65000.0</td>\n",
       "    </tr>\n",
       "  </tbody>\n",
       "</table>\n",
       "</div>"
      ]
     },
     "execution_count": 83,
     "metadata": {},
     "output_type": "execute_result"
    }
   ],
   "execution_count": 83
  },
  {
   "cell_type": "code",
   "metadata": {
    "ExecuteTime": {
     "end_time": "2024-04-17T16:42:02.736851Z",
     "start_time": "2024-04-17T16:42:02.730364Z"
    }
   },
   "source": [
    "data_PuertoRico['house_size']= StandardScaler().fit_transform(data_PuertoRico['house_size'].values.reshape(len(data_PuertoRico), 1))\n",
    "price_scaler_PuertoRico= StandardScaler().fit(data_PuertoRico['price'].values.reshape(-1, 1))\n",
    "data_PuertoRico['price']= price_scaler_PuertoRico.transform(data_PuertoRico['price'].values.reshape(-1, 1))\n",
    "data_PuertoRico['bath']= MinMaxScaler().fit_transform(data_PuertoRico['bath'].values.reshape(len(data_PuertoRico), 1))\n",
    "data_PuertoRico['bed']= MinMaxScaler().fit_transform(data_PuertoRico['bed'].values.reshape(len(data_PuertoRico), 1))\n",
    "data_PuertoRico['acre_lot']= MinMaxScaler().fit_transform(data_PuertoRico['acre_lot'].values.reshape(len(data_PuertoRico), 1))"
   ],
   "outputs": [],
   "execution_count": 84
  },
  {
   "cell_type": "code",
   "metadata": {
    "ExecuteTime": {
     "end_time": "2024-04-17T16:42:05.260027Z",
     "start_time": "2024-04-17T16:42:05.085276Z"
    }
   },
   "source": [
    "X= data_PuertoRico[['bed', 'bath', 'acre_lot', 'zip_code', 'house_size', 'city', 'state']]\n",
    "X= pd.get_dummies(X, columns=['city', 'state'])\n",
    "y = data_PuertoRico['price']\n",
    "\n",
    "X_train,X_test, y_train, y_test = train_test_split(X, y, test_size=0.25, random_state=42)\n",
    "model=  LinearRegression()\n",
    "model.fit(X_train, y_train )\n",
    "\n",
    "y_pred= model.predict(X_test)\n",
    "y_pred_reshaped= y_pred.reshape(-1, 1)\n",
    "original_price_predictions= price_scaler_PuertoRico.inverse_transform(y_pred_reshaped)\n",
    "absolute_predictions= np.abs(original_price_predictions)\n",
    "absolute_predictions[621]"
   ],
   "outputs": [
    {
     "data": {
      "text/plain": [
       "array([348604.45960788])"
      ]
     },
     "execution_count": 85,
     "metadata": {},
     "output_type": "execute_result"
    }
   ],
   "execution_count": 85
  },
  {
   "cell_type": "code",
   "metadata": {
    "ExecuteTime": {
     "end_time": "2024-04-17T16:42:08.580524Z",
     "start_time": "2024-04-17T16:42:08.571987Z"
    }
   },
   "source": [
    "mse= mean_squared_error(y_test, y_pred)  \n",
    "rmse= np.sqrt(mse)\n",
    "mae= mean_absolute_error(y_test, y_pred)\n",
    "r2= r2_score(y_test, y_pred)\n",
    "\n",
    "print(f'MSE:  {mse}')\n",
    "print(f'RMSE:  {rmse}')\n",
    "print(f'MAE:  {mae}')\n",
    "print(f'R2:  {r2}')"
   ],
   "outputs": [
    {
     "name": "stdout",
     "output_type": "stream",
     "text": [
      "MSE:  6.962377063872717\n",
      "RMSE:  2.63863166506292\n",
      "MAE:  0.36463972838340347\n",
      "R2:  -6.226864155399053\n"
     ]
    }
   ],
   "execution_count": 86
  },
  {
   "cell_type": "code",
   "metadata": {
    "ExecuteTime": {
     "end_time": "2024-04-17T16:42:13.078594Z",
     "start_time": "2024-04-17T16:42:12.969018Z"
    }
   },
   "source": [
    "model_tree= DecisionTreeRegressor()\n",
    "model_tree.fit(X_train, y_train )\n",
    "y_pred_tree= model_tree.predict(X_test)\n",
    "\n",
    "mse_tree= mean_squared_error(y_test, y_pred_tree)\n",
    "rmse_tree= np.sqrt(mse_tree)\n",
    "mae_tree= mean_absolute_error(y_test, y_pred_tree)\n",
    "r2_tree= r2_score(y_test, y_pred_tree)\n",
    "\n",
    "print(f'MSE:  {mse_tree}')\n",
    "print(f'RMSE:  {rmse_tree}')\n",
    "print(f'MAE:  {mae_tree}')\n",
    "print(f'R2:  {r2_tree}')"
   ],
   "outputs": [
    {
     "name": "stdout",
     "output_type": "stream",
     "text": [
      "MSE:  0.18716180658352094\n",
      "RMSE:  0.4326220135216433\n",
      "MAE:  0.03081761663609676\n",
      "R2:  0.805728282330946\n"
     ]
    }
   ],
   "execution_count": 87
  },
  {
   "metadata": {
    "ExecuteTime": {
     "end_time": "2024-04-17T16:42:39.071483Z",
     "start_time": "2024-04-17T16:42:39.066736Z"
    }
   },
   "cell_type": "code",
   "source": [
    "joblib.dump(model_tree, '../models/primary/puertorico_dt.joblib')\n",
    "joblib.dump(model, '../models/primary/puertorico_lr.joblib')"
   ],
   "outputs": [
    {
     "data": {
      "text/plain": [
       "['../models/primary/puertorico_lr.joblib']"
      ]
     },
     "execution_count": 88,
     "metadata": {},
     "output_type": "execute_result"
    }
   ],
   "execution_count": 88
  },
  {
   "cell_type": "code",
   "metadata": {
    "ExecuteTime": {
     "end_time": "2024-04-17T16:42:56.725420Z",
     "start_time": "2024-04-17T16:42:56.703162Z"
    }
   },
   "source": [
    "data_RhodeIsland= pd.read_csv('/Users/akshatsharma/UPES/Sem 6/AI_Applications/Housing-Price/data/interim/Rhode_Island.csv')\n",
    "data_RhodeIsland.head()"
   ],
   "outputs": [
    {
     "data": {
      "text/plain": [
       "     status  bed  bath   acre_lot              city         state  zip_code  \\\n",
       "0  for_sale  4.0   2.0   2.020000      Burrillville  Rhode Island    2830.0   \n",
       "1  for_sale  3.0   3.0   0.210000        Woonsocket  Rhode Island    2895.0   \n",
       "2  for_sale  4.0   2.0   0.090000  North Smithfield  Rhode Island    2896.0   \n",
       "3  for_sale  3.0   3.0   0.530000      Burrillville  Rhode Island    2830.0   \n",
       "4  for_sale  3.0   1.0  32.156834        Woonsocket  Rhode Island    2895.0   \n",
       "\n",
       "   house_size     price  \n",
       "0      1512.0  350000.0  \n",
       "1      3419.0  399000.0  \n",
       "2      3154.0  329000.0  \n",
       "3      1642.0  399000.0  \n",
       "4      1224.0  159900.0  "
      ],
      "text/html": [
       "<div>\n",
       "<style scoped>\n",
       "    .dataframe tbody tr th:only-of-type {\n",
       "        vertical-align: middle;\n",
       "    }\n",
       "\n",
       "    .dataframe tbody tr th {\n",
       "        vertical-align: top;\n",
       "    }\n",
       "\n",
       "    .dataframe thead th {\n",
       "        text-align: right;\n",
       "    }\n",
       "</style>\n",
       "<table border=\"1\" class=\"dataframe\">\n",
       "  <thead>\n",
       "    <tr style=\"text-align: right;\">\n",
       "      <th></th>\n",
       "      <th>status</th>\n",
       "      <th>bed</th>\n",
       "      <th>bath</th>\n",
       "      <th>acre_lot</th>\n",
       "      <th>city</th>\n",
       "      <th>state</th>\n",
       "      <th>zip_code</th>\n",
       "      <th>house_size</th>\n",
       "      <th>price</th>\n",
       "    </tr>\n",
       "  </thead>\n",
       "  <tbody>\n",
       "    <tr>\n",
       "      <th>0</th>\n",
       "      <td>for_sale</td>\n",
       "      <td>4.0</td>\n",
       "      <td>2.0</td>\n",
       "      <td>2.020000</td>\n",
       "      <td>Burrillville</td>\n",
       "      <td>Rhode Island</td>\n",
       "      <td>2830.0</td>\n",
       "      <td>1512.0</td>\n",
       "      <td>350000.0</td>\n",
       "    </tr>\n",
       "    <tr>\n",
       "      <th>1</th>\n",
       "      <td>for_sale</td>\n",
       "      <td>3.0</td>\n",
       "      <td>3.0</td>\n",
       "      <td>0.210000</td>\n",
       "      <td>Woonsocket</td>\n",
       "      <td>Rhode Island</td>\n",
       "      <td>2895.0</td>\n",
       "      <td>3419.0</td>\n",
       "      <td>399000.0</td>\n",
       "    </tr>\n",
       "    <tr>\n",
       "      <th>2</th>\n",
       "      <td>for_sale</td>\n",
       "      <td>4.0</td>\n",
       "      <td>2.0</td>\n",
       "      <td>0.090000</td>\n",
       "      <td>North Smithfield</td>\n",
       "      <td>Rhode Island</td>\n",
       "      <td>2896.0</td>\n",
       "      <td>3154.0</td>\n",
       "      <td>329000.0</td>\n",
       "    </tr>\n",
       "    <tr>\n",
       "      <th>3</th>\n",
       "      <td>for_sale</td>\n",
       "      <td>3.0</td>\n",
       "      <td>3.0</td>\n",
       "      <td>0.530000</td>\n",
       "      <td>Burrillville</td>\n",
       "      <td>Rhode Island</td>\n",
       "      <td>2830.0</td>\n",
       "      <td>1642.0</td>\n",
       "      <td>399000.0</td>\n",
       "    </tr>\n",
       "    <tr>\n",
       "      <th>4</th>\n",
       "      <td>for_sale</td>\n",
       "      <td>3.0</td>\n",
       "      <td>1.0</td>\n",
       "      <td>32.156834</td>\n",
       "      <td>Woonsocket</td>\n",
       "      <td>Rhode Island</td>\n",
       "      <td>2895.0</td>\n",
       "      <td>1224.0</td>\n",
       "      <td>159900.0</td>\n",
       "    </tr>\n",
       "  </tbody>\n",
       "</table>\n",
       "</div>"
      ]
     },
     "execution_count": 89,
     "metadata": {},
     "output_type": "execute_result"
    }
   ],
   "execution_count": 89
  },
  {
   "cell_type": "code",
   "metadata": {
    "ExecuteTime": {
     "end_time": "2024-04-17T16:43:02.666417Z",
     "start_time": "2024-04-17T16:43:02.659477Z"
    }
   },
   "source": [
    "data_RhodeIsland['house_size']= StandardScaler().fit_transform(data_RhodeIsland['house_size'].values.reshape(len(data_RhodeIsland), 1))\n",
    "price_scaler_RhodeIsland= StandardScaler().fit(data_RhodeIsland['price'].values.reshape(-1, 1))\n",
    "data_RhodeIsland['price']= price_scaler_RhodeIsland.transform(data_RhodeIsland['price'].values.reshape(-1, 1))\n",
    "data_RhodeIsland['bath']= MinMaxScaler().fit_transform(data_RhodeIsland['bath'].values.reshape(len(data_RhodeIsland), 1))\n",
    "data_RhodeIsland['bed']= MinMaxScaler().fit_transform(data_RhodeIsland['bed'].values.reshape(len(data_RhodeIsland), 1))\n",
    "data_RhodeIsland['acre_lot']= MinMaxScaler().fit_transform(data_RhodeIsland['acre_lot'].values.reshape(len(data_RhodeIsland), 1))"
   ],
   "outputs": [],
   "execution_count": 90
  },
  {
   "cell_type": "code",
   "metadata": {
    "ExecuteTime": {
     "end_time": "2024-04-17T16:43:06.714703Z",
     "start_time": "2024-04-17T16:43:06.110292Z"
    }
   },
   "source": [
    "X= data_RhodeIsland[['bed', 'bath', 'acre_lot', 'zip_code', 'house_size', 'city', 'state']]\n",
    "X= pd.get_dummies(X, columns=['city', 'state'])\n",
    "y = data_RhodeIsland['price']\n",
    "\n",
    "X_train,X_test, y_train, y_test = train_test_split(X, y, test_size=0.25, random_state=42)\n",
    "model=  LinearRegression()\n",
    "model.fit(X_train, y_train )\n",
    "\n",
    "y_pred= model.predict(X_test)\n",
    "y_pred_reshaped= y_pred.reshape(-1, 1)\n",
    "original_price_predictions= price_scaler_RhodeIsland.inverse_transform(y_pred_reshaped)\n",
    "absolute_predictions= np.abs(original_price_predictions)\n",
    "absolute_predictions[990]"
   ],
   "outputs": [
    {
     "data": {
      "text/plain": [
       "array([323194.91609527])"
      ]
     },
     "execution_count": 91,
     "metadata": {},
     "output_type": "execute_result"
    }
   ],
   "execution_count": 91
  },
  {
   "cell_type": "code",
   "metadata": {
    "ExecuteTime": {
     "end_time": "2024-04-17T16:43:09.239655Z",
     "start_time": "2024-04-17T16:43:09.234948Z"
    }
   },
   "source": [
    "mse= mean_squared_error(y_test, y_pred)  \n",
    "rmse= np.sqrt(mse)\n",
    "mae= mean_absolute_error(y_test, y_pred)\n",
    "r2= r2_score(y_test, y_pred)\n",
    "\n",
    "print(f'MSE:  {mse}')\n",
    "print(f'RMSE:  {rmse}')\n",
    "print(f'MAE:  {mae}')\n",
    "print(f'R2:  {r2}')"
   ],
   "outputs": [
    {
     "name": "stdout",
     "output_type": "stream",
     "text": [
      "MSE:  0.5178219712233484\n",
      "RMSE:  0.7195984791697022\n",
      "MAE:  0.38653619460644156\n",
      "R2:  0.4637004841688679\n"
     ]
    }
   ],
   "execution_count": 92
  },
  {
   "cell_type": "code",
   "metadata": {
    "ExecuteTime": {
     "end_time": "2024-04-17T16:43:11.589849Z",
     "start_time": "2024-04-17T16:43:11.506443Z"
    }
   },
   "source": [
    "model_tree= DecisionTreeRegressor()\n",
    "model_tree.fit(X_train, y_train )\n",
    "y_pred_tree= model_tree.predict(X_test)\n",
    "\n",
    "mse_tree= mean_squared_error(y_test, y_pred_tree)\n",
    "rmse_tree= np.sqrt(mse_tree)\n",
    "mae_tree= mean_absolute_error(y_test, y_pred_tree)\n",
    "r2_tree= r2_score(y_test, y_pred_tree)\n",
    "\n",
    "print(f'MSE:  {mse_tree}')\n",
    "print(f'RMSE:  {rmse_tree}')\n",
    "print(f'MAE:  {mae_tree}')\n",
    "print(f'R2:  {r2_tree}')"
   ],
   "outputs": [
    {
     "name": "stdout",
     "output_type": "stream",
     "text": [
      "MSE:  0.08077301982967579\n",
      "RMSE:  0.2842059461546781\n",
      "MAE:  0.013032019415507015\n",
      "R2:  0.9163447404046337\n"
     ]
    }
   ],
   "execution_count": 93
  },
  {
   "metadata": {
    "ExecuteTime": {
     "end_time": "2024-04-17T16:43:33.806034Z",
     "start_time": "2024-04-17T16:43:33.800601Z"
    }
   },
   "cell_type": "code",
   "source": [
    "joblib.dump(model_tree, '../models/primary/rhodeisland_dt.joblib')\n",
    "joblib.dump(model, '../models/primary/rhodeisland_lr.joblib')"
   ],
   "outputs": [
    {
     "data": {
      "text/plain": [
       "['../models/primary/rhodeisland_lr.joblib']"
      ]
     },
     "execution_count": 95,
     "metadata": {},
     "output_type": "execute_result"
    }
   ],
   "execution_count": 95
  },
  {
   "cell_type": "code",
   "metadata": {
    "ExecuteTime": {
     "end_time": "2024-04-17T16:43:53.143152Z",
     "start_time": "2024-04-17T16:43:53.111735Z"
    }
   },
   "source": [
    "data_Vermont= pd.read_csv('/Users/akshatsharma/UPES/Sem 6/AI_Applications/Housing-Price/data/interim/Vermont.csv')\n",
    "data_Vermont.head()"
   ],
   "outputs": [
    {
     "data": {
      "text/plain": [
       "     status  bed      bath  acre_lot        city    state  zip_code  \\\n",
       "0  for_sale  3.0  2.487507     48.80   Readsboro  Vermont    5350.0   \n",
       "1  for_sale  3.0  2.487507     48.80   Readsboro  Vermont    5350.0   \n",
       "2  for_sale  3.0  2.487507     10.00  Whitingham  Vermont    5361.0   \n",
       "3  for_sale  3.0  1.000000      3.40    Guilford  Vermont    5301.0   \n",
       "4  for_sale  6.0  3.000000      2.56      Vernon  Vermont    5354.0   \n",
       "\n",
       "    house_size     price  \n",
       "0  2178.735694  109900.0  \n",
       "1  2178.735694  109900.0  \n",
       "2  2178.735694   39900.0  \n",
       "3  1335.000000  200000.0  \n",
       "4  3108.000000  515000.0  "
      ],
      "text/html": [
       "<div>\n",
       "<style scoped>\n",
       "    .dataframe tbody tr th:only-of-type {\n",
       "        vertical-align: middle;\n",
       "    }\n",
       "\n",
       "    .dataframe tbody tr th {\n",
       "        vertical-align: top;\n",
       "    }\n",
       "\n",
       "    .dataframe thead th {\n",
       "        text-align: right;\n",
       "    }\n",
       "</style>\n",
       "<table border=\"1\" class=\"dataframe\">\n",
       "  <thead>\n",
       "    <tr style=\"text-align: right;\">\n",
       "      <th></th>\n",
       "      <th>status</th>\n",
       "      <th>bed</th>\n",
       "      <th>bath</th>\n",
       "      <th>acre_lot</th>\n",
       "      <th>city</th>\n",
       "      <th>state</th>\n",
       "      <th>zip_code</th>\n",
       "      <th>house_size</th>\n",
       "      <th>price</th>\n",
       "    </tr>\n",
       "  </thead>\n",
       "  <tbody>\n",
       "    <tr>\n",
       "      <th>0</th>\n",
       "      <td>for_sale</td>\n",
       "      <td>3.0</td>\n",
       "      <td>2.487507</td>\n",
       "      <td>48.80</td>\n",
       "      <td>Readsboro</td>\n",
       "      <td>Vermont</td>\n",
       "      <td>5350.0</td>\n",
       "      <td>2178.735694</td>\n",
       "      <td>109900.0</td>\n",
       "    </tr>\n",
       "    <tr>\n",
       "      <th>1</th>\n",
       "      <td>for_sale</td>\n",
       "      <td>3.0</td>\n",
       "      <td>2.487507</td>\n",
       "      <td>48.80</td>\n",
       "      <td>Readsboro</td>\n",
       "      <td>Vermont</td>\n",
       "      <td>5350.0</td>\n",
       "      <td>2178.735694</td>\n",
       "      <td>109900.0</td>\n",
       "    </tr>\n",
       "    <tr>\n",
       "      <th>2</th>\n",
       "      <td>for_sale</td>\n",
       "      <td>3.0</td>\n",
       "      <td>2.487507</td>\n",
       "      <td>10.00</td>\n",
       "      <td>Whitingham</td>\n",
       "      <td>Vermont</td>\n",
       "      <td>5361.0</td>\n",
       "      <td>2178.735694</td>\n",
       "      <td>39900.0</td>\n",
       "    </tr>\n",
       "    <tr>\n",
       "      <th>3</th>\n",
       "      <td>for_sale</td>\n",
       "      <td>3.0</td>\n",
       "      <td>1.000000</td>\n",
       "      <td>3.40</td>\n",
       "      <td>Guilford</td>\n",
       "      <td>Vermont</td>\n",
       "      <td>5301.0</td>\n",
       "      <td>1335.000000</td>\n",
       "      <td>200000.0</td>\n",
       "    </tr>\n",
       "    <tr>\n",
       "      <th>4</th>\n",
       "      <td>for_sale</td>\n",
       "      <td>6.0</td>\n",
       "      <td>3.000000</td>\n",
       "      <td>2.56</td>\n",
       "      <td>Vernon</td>\n",
       "      <td>Vermont</td>\n",
       "      <td>5354.0</td>\n",
       "      <td>3108.000000</td>\n",
       "      <td>515000.0</td>\n",
       "    </tr>\n",
       "  </tbody>\n",
       "</table>\n",
       "</div>"
      ]
     },
     "execution_count": 96,
     "metadata": {},
     "output_type": "execute_result"
    }
   ],
   "execution_count": 96
  },
  {
   "cell_type": "code",
   "metadata": {
    "ExecuteTime": {
     "end_time": "2024-04-17T16:44:00.895557Z",
     "start_time": "2024-04-17T16:44:00.889927Z"
    }
   },
   "source": [
    "data_Vermont['house_size']= StandardScaler().fit_transform(data_Vermont['house_size'].values.reshape(len(data_Vermont), 1))\n",
    "price_scaler_Vermont= StandardScaler().fit(data_Vermont['price'].values.reshape(-1, 1))\n",
    "data_Vermont['price']= price_scaler_Vermont.transform(data_Vermont['price'].values.reshape(-1, 1))\n",
    "data_Vermont['bath']= MinMaxScaler().fit_transform(data_Vermont['bath'].values.reshape(len(data_Vermont), 1))\n",
    "data_Vermont['bed']= MinMaxScaler().fit_transform(data_Vermont['bed'].values.reshape(len(data_Vermont), 1))\n",
    "data_Vermont['acre_lot']= MinMaxScaler().fit_transform(data_Vermont['acre_lot'].values.reshape(len(data_Vermont), 1))"
   ],
   "outputs": [],
   "execution_count": 97
  },
  {
   "cell_type": "code",
   "metadata": {
    "ExecuteTime": {
     "end_time": "2024-04-17T16:44:03.122827Z",
     "start_time": "2024-04-17T16:44:03.116902Z"
    }
   },
   "source": [
    "data_Vermont.head()"
   ],
   "outputs": [
    {
     "data": {
      "text/plain": [
       "     status       bed      bath  acre_lot        city    state  zip_code  \\\n",
       "0  for_sale  0.074074  0.053125  0.051348   Readsboro  Vermont    5350.0   \n",
       "1  for_sale  0.074074  0.053125  0.051348   Readsboro  Vermont    5350.0   \n",
       "2  for_sale  0.074074  0.053125  0.010505  Whitingham  Vermont    5361.0   \n",
       "3  for_sale  0.074074  0.000000  0.003558    Guilford  Vermont    5301.0   \n",
       "4  for_sale  0.185185  0.071429  0.002674      Vernon  Vermont    5354.0   \n",
       "\n",
       "   house_size     price  \n",
       "0   -0.091578 -0.494546  \n",
       "1   -0.091578 -0.494546  \n",
       "2   -0.091578 -0.594871  \n",
       "3   -0.735346 -0.365413  \n",
       "4    0.617448  0.086050  "
      ],
      "text/html": [
       "<div>\n",
       "<style scoped>\n",
       "    .dataframe tbody tr th:only-of-type {\n",
       "        vertical-align: middle;\n",
       "    }\n",
       "\n",
       "    .dataframe tbody tr th {\n",
       "        vertical-align: top;\n",
       "    }\n",
       "\n",
       "    .dataframe thead th {\n",
       "        text-align: right;\n",
       "    }\n",
       "</style>\n",
       "<table border=\"1\" class=\"dataframe\">\n",
       "  <thead>\n",
       "    <tr style=\"text-align: right;\">\n",
       "      <th></th>\n",
       "      <th>status</th>\n",
       "      <th>bed</th>\n",
       "      <th>bath</th>\n",
       "      <th>acre_lot</th>\n",
       "      <th>city</th>\n",
       "      <th>state</th>\n",
       "      <th>zip_code</th>\n",
       "      <th>house_size</th>\n",
       "      <th>price</th>\n",
       "    </tr>\n",
       "  </thead>\n",
       "  <tbody>\n",
       "    <tr>\n",
       "      <th>0</th>\n",
       "      <td>for_sale</td>\n",
       "      <td>0.074074</td>\n",
       "      <td>0.053125</td>\n",
       "      <td>0.051348</td>\n",
       "      <td>Readsboro</td>\n",
       "      <td>Vermont</td>\n",
       "      <td>5350.0</td>\n",
       "      <td>-0.091578</td>\n",
       "      <td>-0.494546</td>\n",
       "    </tr>\n",
       "    <tr>\n",
       "      <th>1</th>\n",
       "      <td>for_sale</td>\n",
       "      <td>0.074074</td>\n",
       "      <td>0.053125</td>\n",
       "      <td>0.051348</td>\n",
       "      <td>Readsboro</td>\n",
       "      <td>Vermont</td>\n",
       "      <td>5350.0</td>\n",
       "      <td>-0.091578</td>\n",
       "      <td>-0.494546</td>\n",
       "    </tr>\n",
       "    <tr>\n",
       "      <th>2</th>\n",
       "      <td>for_sale</td>\n",
       "      <td>0.074074</td>\n",
       "      <td>0.053125</td>\n",
       "      <td>0.010505</td>\n",
       "      <td>Whitingham</td>\n",
       "      <td>Vermont</td>\n",
       "      <td>5361.0</td>\n",
       "      <td>-0.091578</td>\n",
       "      <td>-0.594871</td>\n",
       "    </tr>\n",
       "    <tr>\n",
       "      <th>3</th>\n",
       "      <td>for_sale</td>\n",
       "      <td>0.074074</td>\n",
       "      <td>0.000000</td>\n",
       "      <td>0.003558</td>\n",
       "      <td>Guilford</td>\n",
       "      <td>Vermont</td>\n",
       "      <td>5301.0</td>\n",
       "      <td>-0.735346</td>\n",
       "      <td>-0.365413</td>\n",
       "    </tr>\n",
       "    <tr>\n",
       "      <th>4</th>\n",
       "      <td>for_sale</td>\n",
       "      <td>0.185185</td>\n",
       "      <td>0.071429</td>\n",
       "      <td>0.002674</td>\n",
       "      <td>Vernon</td>\n",
       "      <td>Vermont</td>\n",
       "      <td>5354.0</td>\n",
       "      <td>0.617448</td>\n",
       "      <td>0.086050</td>\n",
       "    </tr>\n",
       "  </tbody>\n",
       "</table>\n",
       "</div>"
      ]
     },
     "execution_count": 98,
     "metadata": {},
     "output_type": "execute_result"
    }
   ],
   "execution_count": 98
  },
  {
   "cell_type": "code",
   "metadata": {
    "ExecuteTime": {
     "end_time": "2024-04-17T16:44:11.367748Z",
     "start_time": "2024-04-17T16:44:10.866973Z"
    }
   },
   "source": [
    "X= data_Vermont[['bed', 'bath', 'acre_lot', 'zip_code', 'house_size', 'city', 'state']]\n",
    "X= pd.get_dummies(X, columns=['city', 'state'])\n",
    "y = data_Vermont['price']\n",
    "\n",
    "X_train,X_test, y_train, y_test = train_test_split(X, y, test_size=0.25, random_state=42)\n",
    "model=  LinearRegression()\n",
    "model.fit(X_train, y_train )\n",
    "\n",
    "y_pred= model.predict(X_test)\n",
    "y_pred_reshaped= y_pred.reshape(-1, 1)\n",
    "original_price_predictions= price_scaler_Vermont.inverse_transform(y_pred_reshaped)\n",
    "absolute_predictions= np.abs(original_price_predictions)\n",
    "absolute_predictions[4561]"
   ],
   "outputs": [
    {
     "data": {
      "text/plain": [
       "array([472747.72258154])"
      ]
     },
     "execution_count": 99,
     "metadata": {},
     "output_type": "execute_result"
    }
   ],
   "execution_count": 99
  },
  {
   "cell_type": "code",
   "metadata": {
    "ExecuteTime": {
     "end_time": "2024-04-17T16:44:13.807726Z",
     "start_time": "2024-04-17T16:44:13.803419Z"
    }
   },
   "source": [
    "mse= mean_squared_error(y_test, y_pred)\n",
    "rmse= np.sqrt(mse)\n",
    "mae= mean_absolute_error(y_test, y_pred)\n",
    "r2= r2_score(y_test, y_pred)\n",
    "\n",
    "print(f'MSE:  {mse}')\n",
    "print(f'RMSE:  {rmse}')\n",
    "print(f'MAE:  {mae}')\n",
    "print(f'R2:  {r2}')"
   ],
   "outputs": [
    {
     "name": "stdout",
     "output_type": "stream",
     "text": [
      "MSE:  0.5577122247717182\n",
      "RMSE:  0.746801328849727\n",
      "MAE:  0.4027222239239513\n",
      "R2:  0.4684744632411558\n"
     ]
    }
   ],
   "execution_count": 100
  },
  {
   "cell_type": "code",
   "metadata": {
    "ExecuteTime": {
     "end_time": "2024-04-17T16:44:16.620937Z",
     "start_time": "2024-04-17T16:44:16.349389Z"
    }
   },
   "source": [
    "model_tree= DecisionTreeRegressor()\n",
    "model_tree.fit(X_train, y_train )\n",
    "y_pred_tree= model_tree.predict(X_test)\n",
    "\n",
    "mse_tree= mean_squared_error(y_test, y_pred_tree)\n",
    "rmse_tree= np.sqrt(mse_tree)\n",
    "mae_tree= mean_absolute_error(y_test, y_pred_tree)\n",
    "r2_tree= r2_score(y_test, y_pred_tree)\n",
    "\n",
    "print(f'MSE:  {mse_tree}')\n",
    "print(f'RMSE:  {rmse_tree}')\n",
    "print(f'MAE:  {mae_tree}')\n",
    "print(f'R2:  {r2_tree}')"
   ],
   "outputs": [
    {
     "name": "stdout",
     "output_type": "stream",
     "text": [
      "MSE:  0.0015408668148492685\n",
      "RMSE:  0.039253876430860535\n",
      "MAE:  0.005365840944470717\n",
      "R2:  0.9985314826814637\n"
     ]
    }
   ],
   "execution_count": 101
  },
  {
   "metadata": {
    "ExecuteTime": {
     "end_time": "2024-04-17T16:44:31.969819Z",
     "start_time": "2024-04-17T16:44:31.964727Z"
    }
   },
   "cell_type": "code",
   "source": [
    "joblib.dump(model_tree, '../models/primary/vermont_dt.joblib')\n",
    "joblib.dump(model, '../models/primary/vermont_lr.joblib')"
   ],
   "outputs": [
    {
     "data": {
      "text/plain": [
       "['../models/primary/vermont_lr.joblib']"
      ]
     },
     "execution_count": 102,
     "metadata": {},
     "output_type": "execute_result"
    }
   ],
   "execution_count": 102
  },
  {
   "cell_type": "code",
   "metadata": {
    "ExecuteTime": {
     "end_time": "2024-04-17T16:44:46.791146Z",
     "start_time": "2024-04-17T16:44:46.781993Z"
    }
   },
   "source": [
    "data_VirginIslands = pd.read_csv('/Users/akshatsharma/UPES/Sem 6/AI_Applications/Housing-Price/data/interim/Virgin_Islands.csv')\n",
    "data_VirginIslands.head()"
   ],
   "outputs": [
    {
     "data": {
      "text/plain": [
       "     status  bed  bath   acre_lot          city           state  zip_code  \\\n",
       "0  for_sale  5.0   2.0   0.210000  Saint Thomas  Virgin Islands     802.0   \n",
       "1  for_sale  9.0   5.0   0.040000  Saint Thomas  Virgin Islands     802.0   \n",
       "2  for_sale  4.0   6.0   1.040000  Saint Thomas  Virgin Islands     802.0   \n",
       "3  for_sale  3.0   1.0  32.156834  Saint Thomas  Virgin Islands     802.0   \n",
       "4  for_sale  3.0   5.0   0.810000  Saint Thomas  Virgin Islands     802.0   \n",
       "\n",
       "   house_size      price  \n",
       "0      1140.0   175000.0  \n",
       "1      3120.0   100000.0  \n",
       "2      6760.0  1599000.0  \n",
       "3       235.0   115000.0  \n",
       "4      4500.0   925000.0  "
      ],
      "text/html": [
       "<div>\n",
       "<style scoped>\n",
       "    .dataframe tbody tr th:only-of-type {\n",
       "        vertical-align: middle;\n",
       "    }\n",
       "\n",
       "    .dataframe tbody tr th {\n",
       "        vertical-align: top;\n",
       "    }\n",
       "\n",
       "    .dataframe thead th {\n",
       "        text-align: right;\n",
       "    }\n",
       "</style>\n",
       "<table border=\"1\" class=\"dataframe\">\n",
       "  <thead>\n",
       "    <tr style=\"text-align: right;\">\n",
       "      <th></th>\n",
       "      <th>status</th>\n",
       "      <th>bed</th>\n",
       "      <th>bath</th>\n",
       "      <th>acre_lot</th>\n",
       "      <th>city</th>\n",
       "      <th>state</th>\n",
       "      <th>zip_code</th>\n",
       "      <th>house_size</th>\n",
       "      <th>price</th>\n",
       "    </tr>\n",
       "  </thead>\n",
       "  <tbody>\n",
       "    <tr>\n",
       "      <th>0</th>\n",
       "      <td>for_sale</td>\n",
       "      <td>5.0</td>\n",
       "      <td>2.0</td>\n",
       "      <td>0.210000</td>\n",
       "      <td>Saint Thomas</td>\n",
       "      <td>Virgin Islands</td>\n",
       "      <td>802.0</td>\n",
       "      <td>1140.0</td>\n",
       "      <td>175000.0</td>\n",
       "    </tr>\n",
       "    <tr>\n",
       "      <th>1</th>\n",
       "      <td>for_sale</td>\n",
       "      <td>9.0</td>\n",
       "      <td>5.0</td>\n",
       "      <td>0.040000</td>\n",
       "      <td>Saint Thomas</td>\n",
       "      <td>Virgin Islands</td>\n",
       "      <td>802.0</td>\n",
       "      <td>3120.0</td>\n",
       "      <td>100000.0</td>\n",
       "    </tr>\n",
       "    <tr>\n",
       "      <th>2</th>\n",
       "      <td>for_sale</td>\n",
       "      <td>4.0</td>\n",
       "      <td>6.0</td>\n",
       "      <td>1.040000</td>\n",
       "      <td>Saint Thomas</td>\n",
       "      <td>Virgin Islands</td>\n",
       "      <td>802.0</td>\n",
       "      <td>6760.0</td>\n",
       "      <td>1599000.0</td>\n",
       "    </tr>\n",
       "    <tr>\n",
       "      <th>3</th>\n",
       "      <td>for_sale</td>\n",
       "      <td>3.0</td>\n",
       "      <td>1.0</td>\n",
       "      <td>32.156834</td>\n",
       "      <td>Saint Thomas</td>\n",
       "      <td>Virgin Islands</td>\n",
       "      <td>802.0</td>\n",
       "      <td>235.0</td>\n",
       "      <td>115000.0</td>\n",
       "    </tr>\n",
       "    <tr>\n",
       "      <th>4</th>\n",
       "      <td>for_sale</td>\n",
       "      <td>3.0</td>\n",
       "      <td>5.0</td>\n",
       "      <td>0.810000</td>\n",
       "      <td>Saint Thomas</td>\n",
       "      <td>Virgin Islands</td>\n",
       "      <td>802.0</td>\n",
       "      <td>4500.0</td>\n",
       "      <td>925000.0</td>\n",
       "    </tr>\n",
       "  </tbody>\n",
       "</table>\n",
       "</div>"
      ]
     },
     "execution_count": 103,
     "metadata": {},
     "output_type": "execute_result"
    }
   ],
   "execution_count": 103
  },
  {
   "cell_type": "code",
   "metadata": {
    "ExecuteTime": {
     "end_time": "2024-04-17T16:44:57.273343Z",
     "start_time": "2024-04-17T16:44:57.268164Z"
    }
   },
   "source": [
    "data_VirginIslands['house_size']= StandardScaler().fit_transform(data_VirginIslands['house_size'].values.reshape(len(data_VirginIslands), 1))\n",
    "price_scaler_VirginIslands= StandardScaler().fit(data_VirginIslands['price'].values.reshape(-1, 1))\n",
    "data_VirginIslands['price']= price_scaler_VirginIslands.transform(data_VirginIslands['price'].values.reshape(-1, 1))\n",
    "data_VirginIslands['bath']= MinMaxScaler().fit_transform(data_VirginIslands['bath'].values.reshape(len(data_VirginIslands), 1))\n",
    "data_VirginIslands['bed']= MinMaxScaler().fit_transform(data_VirginIslands['bed'].values.reshape(len(data_VirginIslands), 1))\n",
    "data_VirginIslands['acre_lot']= MinMaxScaler().fit_transform(data_VirginIslands['acre_lot'].values.reshape(len(data_VirginIslands), 1))"
   ],
   "outputs": [],
   "execution_count": 104
  },
  {
   "cell_type": "code",
   "metadata": {
    "ExecuteTime": {
     "end_time": "2024-04-17T16:44:59.462993Z",
     "start_time": "2024-04-17T16:44:59.452724Z"
    }
   },
   "source": [
    "X= data_VirginIslands[['bed', 'bath', 'acre_lot', 'zip_code', 'house_size', 'city', 'state']]\n",
    "X= pd.get_dummies(X, columns=['city', 'state'])\n",
    "y = data_VirginIslands['price']\n",
    "\n",
    "X_train,X_test, y_train, y_test = train_test_split(X, y, test_size=0.25, random_state=42)\n",
    "model=  LinearRegression()\n",
    "model.fit(X_train, y_train )\n",
    "\n",
    "y_pred= model.predict(X_test)\n",
    "y_pred_reshaped= y_pred.reshape(-1, 1)\n",
    "original_price_predictions= price_scaler_VirginIslands.inverse_transform(y_pred_reshaped)\n",
    "absolute_predictions= np.abs(original_price_predictions)\n",
    "absolute_predictions[410]"
   ],
   "outputs": [
    {
     "data": {
      "text/plain": [
       "array([392271.2048091])"
      ]
     },
     "execution_count": 105,
     "metadata": {},
     "output_type": "execute_result"
    }
   ],
   "execution_count": 105
  },
  {
   "cell_type": "code",
   "metadata": {
    "ExecuteTime": {
     "end_time": "2024-04-17T16:45:02.046926Z",
     "start_time": "2024-04-17T16:45:02.043320Z"
    }
   },
   "source": [
    "mse= mean_squared_error(y_test, y_pred)\n",
    "rmse= np.sqrt(mse)\n",
    "mae= mean_absolute_error(y_test, y_pred)\n",
    "r2= r2_score(y_test, y_pred)\n",
    "\n",
    "print(f'MSE:  {mse}')\n",
    "print(f'RMSE:  {rmse}')\n",
    "print(f'MAE:  {mae}')\n",
    "print(f'R2:  {r2}')"
   ],
   "outputs": [
    {
     "name": "stdout",
     "output_type": "stream",
     "text": [
      "MSE:  0.7554249730747764\n",
      "RMSE:  0.8691518699713972\n",
      "MAE:  0.3006605045441261\n",
      "R2:  -0.1548348603126084\n"
     ]
    }
   ],
   "execution_count": 106
  },
  {
   "cell_type": "code",
   "metadata": {
    "ExecuteTime": {
     "end_time": "2024-04-17T16:45:05.370487Z",
     "start_time": "2024-04-17T16:45:05.362061Z"
    }
   },
   "source": [
    "model_tree= DecisionTreeRegressor()\n",
    "model_tree.fit(X_train, y_train )\n",
    "y_pred_tree= model_tree.predict(X_test)\n",
    "\n",
    "mse_tree= mean_squared_error(y_test, y_pred_tree)\n",
    "rmse_tree= np.sqrt(mse_tree)\n",
    "mae_tree= mean_absolute_error(y_test, y_pred_tree)\n",
    "r2_tree= r2_score(y_test, y_pred_tree)\n",
    "\n",
    "print(f'MSE:  {mse_tree}')\n",
    "print(f'RMSE:  {rmse_tree}')\n",
    "print(f'MAE:  {mae_tree}')\n",
    "print(f'R2:  {r2_tree}')"
   ],
   "outputs": [
    {
     "name": "stdout",
     "output_type": "stream",
     "text": [
      "MSE:  0.005157453204365332\n",
      "RMSE:  0.07181541063285325\n",
      "MAE:  0.02209870794209465\n",
      "R2:  0.992115687244771\n"
     ]
    }
   ],
   "execution_count": 107
  },
  {
   "cell_type": "code",
   "metadata": {
    "ExecuteTime": {
     "end_time": "2024-04-17T16:45:29.782914Z",
     "start_time": "2024-04-17T16:45:29.778749Z"
    }
   },
   "source": [
    "joblib.dump(model_tree, '../models/primary/virginislands_dt.joblib')\n",
    "joblib.dump(model, '../models/primary/virginislands_lr.joblib')"
   ],
   "outputs": [
    {
     "data": {
      "text/plain": [
       "['../models/primary/virginislands_lr.joblib']"
      ]
     },
     "execution_count": 108,
     "metadata": {},
     "output_type": "execute_result"
    }
   ],
   "execution_count": 108
  }
 ],
 "metadata": {
  "kernelspec": {
   "display_name": "Python 3",
   "language": "python",
   "name": "python3"
  },
  "language_info": {
   "codemirror_mode": {
    "name": "ipython",
    "version": 3
   },
   "file_extension": ".py",
   "mimetype": "text/x-python",
   "name": "python",
   "nbconvert_exporter": "python",
   "pygments_lexer": "ipython3",
   "version": "3.10.6"
  }
 },
 "nbformat": 4,
 "nbformat_minor": 2
}
