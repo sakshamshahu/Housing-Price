{
 "cells": [
  {
   "cell_type": "code",
   "execution_count": 2,
   "metadata": {},
   "outputs": [],
   "source": [
    "import numpy as np\n",
    "import pandas as pd"
   ]
  },
  {
   "cell_type": "code",
   "execution_count": 3,
   "metadata": {},
   "outputs": [
    {
     "name": "stdout",
     "output_type": "stream",
     "text": [
      "Data shape :  (1401066, 10)\n"
     ]
    }
   ],
   "source": [
    "data = pd.read_csv('../data/raw/whole_data/realtor-data.zip.csv');\n",
    "print(\"Data shape : \" , data.shape)"
   ]
  },
  {
   "cell_type": "code",
   "execution_count": 4,
   "metadata": {},
   "outputs": [
    {
     "name": "stdout",
     "output_type": "stream",
     "text": [
      "Data info :\n",
      "<class 'pandas.core.frame.DataFrame'>\n",
      "RangeIndex: 1401066 entries, 0 to 1401065\n",
      "Data columns (total 10 columns):\n",
      " #   Column          Non-Null Count    Dtype  \n",
      "---  ------          --------------    -----  \n",
      " 0   status          1401066 non-null  object \n",
      " 1   bed             1184538 non-null  float64\n",
      " 2   bath            1206853 non-null  float64\n",
      " 3   acre_lot        1043599 non-null  float64\n",
      " 4   city            1400875 non-null  object \n",
      " 5   state           1401066 non-null  object \n",
      " 6   zip_code        1400587 non-null  float64\n",
      " 7   house_size      950954 non-null   float64\n",
      " 8   prev_sold_date  714773 non-null   object \n",
      " 9   price           1400958 non-null  float64\n",
      "dtypes: float64(6), object(4)\n",
      "memory usage: 106.9+ MB\n"
     ]
    }
   ],
   "source": [
    "print(\"Data info :\")\n",
    "data.info()"
   ]
  },
  {
   "cell_type": "code",
   "execution_count": 5,
   "metadata": {},
   "outputs": [
    {
     "name": "stdout",
     "output_type": "stream",
     "text": [
      "\n",
      "Possible no of values for :  status\n",
      "for_sale          1399134\n",
      "ready_to_build       1932\n",
      "Name: count, dtype: int64\n",
      "\n",
      "\n",
      " Possible no value for :  city\n",
      "New York City      61299\n",
      "New York           55543\n",
      "Brooklyn           33491\n",
      "Boston             31551\n",
      "Bronx              22666\n",
      "                   ...  \n",
      "Carversville           1\n",
      "Furlong                1\n",
      "Sangerville            1\n",
      "Willow Grove           1\n",
      "Northeast Carry        1\n",
      "Name: count, Length: 3512, dtype: int64\n",
      "\n",
      "\n",
      " Possible no value for :  state\n",
      "New York          653061\n",
      "New Jersey        256551\n",
      "Massachusetts     177170\n",
      "Connecticut        98816\n",
      "New Hampshire      51394\n",
      "Vermont            48230\n",
      "Maine              36650\n",
      "Rhode Island       29610\n",
      "Puerto Rico        24679\n",
      "Pennsylvania       20060\n",
      "Virgin Islands      2573\n",
      "Delaware            2135\n",
      "Georgia               50\n",
      "Virginia              31\n",
      "South Carolina        25\n",
      "Tennessee             20\n",
      "West Virginia          5\n",
      "Wyoming                3\n",
      "Louisiana              3\n",
      "Name: count, dtype: int64\n"
     ]
    }
   ],
   "source": [
    "print(\"\\nPossible no of values for : \", data['status'].value_counts())\n",
    "\n",
    "print(\"\\n\\n Possible no value for : \", data['city'].value_counts())\n",
    "\n",
    "print(\"\\n\\n Possible no value for : \", data['state'].value_counts())\n"
   ]
  },
  {
   "cell_type": "code",
   "execution_count": 6,
   "metadata": {},
   "outputs": [
    {
     "name": "stdout",
     "output_type": "stream",
     "text": [
      "Checking for null values : \n"
     ]
    },
    {
     "data": {
      "text/plain": [
       "status                 0\n",
       "bed               216528\n",
       "bath              194213\n",
       "acre_lot          357467\n",
       "city                 191\n",
       "state                  0\n",
       "zip_code             479\n",
       "house_size        450112\n",
       "prev_sold_date    686293\n",
       "price                108\n",
       "dtype: int64"
      ]
     },
     "execution_count": 6,
     "metadata": {},
     "output_type": "execute_result"
    }
   ],
   "source": [
    "print(\"Checking for null values : \")\n",
    "data.isnull().sum()"
   ]
  },
  {
   "cell_type": "code",
   "execution_count": 7,
   "metadata": {},
   "outputs": [
    {
     "data": {
      "text/plain": [
       "status                 0\n",
       "bed                    0\n",
       "bath                   0\n",
       "acre_lot               0\n",
       "city                   0\n",
       "state                  0\n",
       "zip_code               0\n",
       "house_size             0\n",
       "prev_sold_date    685717\n",
       "price                  0\n",
       "dtype: int64"
      ]
     },
     "execution_count": 7,
     "metadata": {},
     "output_type": "execute_result"
    }
   ],
   "source": [
    "data.dropna(subset=['price', 'city' ,'zip_code'], inplace=True)\n",
    "data['bed'].fillna(data['bed'].median(), inplace=True)\n",
    "data['bath'].fillna(data['bath'].mean(), inplace=True)\n",
    "data['acre_lot'].fillna(data['acre_lot'].mean(), inplace=True)\n",
    "data['house_size'].fillna(data['house_size'].mean(), inplace=True)\n",
    "\n",
    "data.isnull().sum()"
   ]
  },
  {
   "cell_type": "code",
   "execution_count": 8,
   "metadata": {},
   "outputs": [
    {
     "data": {
      "text/plain": [
       "status                 0\n",
       "bed                    0\n",
       "bath                   0\n",
       "acre_lot               0\n",
       "city                   0\n",
       "state                  0\n",
       "zip_code               0\n",
       "house_size             0\n",
       "prev_sold_date    685717\n",
       "price                  0\n",
       "dtype: int64"
      ]
     },
     "execution_count": 8,
     "metadata": {},
     "output_type": "execute_result"
    }
   ],
   "source": [
    "data.isnull().sum()"
   ]
  },
  {
   "cell_type": "code",
   "execution_count": 14,
   "metadata": {},
   "outputs": [],
   "source": [
    "states, count = np.unique(data['state'], return_counts=True)"
   ]
  },
  {
   "cell_type": "code",
   "execution_count": 15,
   "metadata": {},
   "outputs": [
    {
     "name": "stdout",
     "output_type": "stream",
     "text": [
      "States :  ['Connecticut' 'Delaware' 'Georgia' 'Maine' 'Massachusetts'\n",
      " 'New Hampshire' 'New Jersey' 'New York' 'Pennsylvania' 'Puerto Rico'\n",
      " 'Rhode Island' 'South Carolina' 'Tennessee' 'Vermont' 'Virgin Islands'\n",
      " 'Virginia' 'West Virginia' 'Wyoming']\n",
      "Count :  [ 98812   2129     50  36650 177156  51394 256468 652730  20041  24550\n",
      "  29610     25     20  48230   2522     31      5      3]\n"
     ]
    }
   ],
   "source": [
    "print(\"States : \", states)\n",
    "print(\"Count : \", count)"
   ]
  },
  {
   "cell_type": "code",
   "execution_count": null,
   "metadata": {},
   "outputs": [],
   "source": []
  }
 ],
 "metadata": {
  "kernelspec": {
   "display_name": "Python 3",
   "language": "python",
   "name": "python3"
  },
  "language_info": {
   "codemirror_mode": {
    "name": "ipython",
    "version": 3
   },
   "file_extension": ".py",
   "mimetype": "text/x-python",
   "name": "python",
   "nbconvert_exporter": "python",
   "pygments_lexer": "ipython3",
   "version": "3.10.13"
  }
 },
 "nbformat": 4,
 "nbformat_minor": 2
}
